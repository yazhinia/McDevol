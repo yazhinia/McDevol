{
 "cells": [
  {
   "cell_type": "code",
   "execution_count": 10,
   "metadata": {},
   "outputs": [],
   "source": [
    "import numpy as np\n",
    "\n",
    "def np_relu(x):\n",
    "    \n",
    "    return np.maximum(0,x)\n",
    "\n",
    "\n",
    "def initialize_Z(W, X):\n",
    "    \n",
    "    W_t = np.transpose(W)\n",
    "    lmda = 0.1\n",
    "    inverse_term = np.linalg.inv(np.eye(W.shape[1]) + (lmda ** -1) * np.matmul(W_t,W))\n",
    "    woodbury = (lmda ** -1) * np.eye(W.shape[0]) - np.matmul((lmda ** -2) * W , np.matmul(inverse_term, W_t))\n",
    "    Z = np_relu(np.matmul(np.matmul(woodbury, W), X.T))\n",
    "    \n",
    "    return Z\n",
    "\n",
    "\n",
    "def maximize_function(w, z, x):\n",
    "    \n",
    "    mean = np.matmul(z.T, w)\n",
    "    mean = 1e-10 + np_relu(mean)\n",
    "    negative_log_likelihood = (- mean + np.multiply(x, np.log(mean))).sum()\n",
    "\n",
    "    return negative_log_likelihood\n",
    "\n",
    "\n",
    "def calc_aic(w, z, x):\n",
    "\n",
    "    mean = np.matmul(z.T, w)\n",
    "    mean = 1e-10 + np_relu(mean)\n",
    "    log_likelihood = (- mean + np.multiply(x, np.log(mean))).sum()\n",
    "    AIC = log_likelihood - np.count_nonzero(np_relu(w) > 1e-05) - np.count_nonzero(np_relu(z) > 1e-05)\n",
    "    \n",
    "    return AIC\n",
    "\n",
    "\n",
    "\"\"\" Multiplicative Updates \"\"\"\n",
    "\n",
    "def multiplicative_updates(W, Z, X, n, method):\n",
    "    \n",
    "    lw = 0.0\n",
    "    lz = 0.8\n",
    "    beta = 0.5\n",
    "    convergence_criteria = np.exp(-15)\n",
    "    epsilon_reg = 1e-08\n",
    "    loss_values = []\n",
    "\n",
    "    if method == 0:\n",
    "        for i in range(n):\n",
    "            print(i)\n",
    "            mean = np.matmul(Z.T, W)\n",
    "            mean = 1e-10 + np_relu(mean)\n",
    "            X_by_mean = X / mean\n",
    "            \n",
    "            W = np.multiply(W, np_relu(np.matmul(Z, X_by_mean)))\n",
    "            W = W / np.array([W.sum(axis = 1)]).T\n",
    "            Z = np.multiply(Z, np_relu(np.matmul(W, X_by_mean.T)))\n",
    "\n",
    "            LL = maximize_function(W, Z, X)\n",
    "            print(LL, i, flush=True)\n",
    "            loss_values.append(LL)\n",
    "            \n",
    "            if len(loss_values) >= 10 :\n",
    "                \n",
    "                if ((loss_values[i] - loss_values[i-10]) / loss_values[i]) < convergence_criteria:\n",
    "                    AIC = calc_aic(W, Z, X)\n",
    "                    print(\"Function is converged\")\n",
    "                    break\n",
    "                else:\n",
    "                    raise RuntimeError(f'function not converged') \n",
    "        print(AIC, \"within method mul update\")\n",
    "    \n",
    "        return  Z, loss_values, AIC\n",
    "    \n",
    "    raise ValueError(f'method must be 0, 1, 2, got {method}')\n"
   ]
  },
  {
   "cell_type": "markdown",
   "metadata": {},
   "source": []
  },
  {
   "cell_type": "code",
   "execution_count": 11,
   "metadata": {},
   "outputs": [
    {
     "name": "stdout",
     "output_type": "stream",
     "text": [
      "/big/work/metadevol/cami2_datasets/marine/pooled_assembly/all_alignment/tmp/\n"
     ]
    }
   ],
   "source": [
    "import pandas as pd\n",
    "import numpy as np\n",
    "import bin_assignments as assign\n",
    "import nmf_connected_components_modified as nmf\n",
    "def assign_shortcontigs(working_dir, sel_inds, Rc_reads, contigs, bins_):\n",
    "    contig_names = contigs[:,1]\n",
    "    contig_length = contigs[:,2].astype(int)\n",
    "    fractional_counts = pd.read_csv(working_dir + \"total_readcount\", header=None,sep=' ', engine=\"pyarrow\")\n",
    "    read_counts = fractional_counts.pivot_table(index = 1, columns = 0, values = 2)\n",
    "    del(fractional_counts)\n",
    "\n",
    "    read_counts = read_counts.to_numpy().T\n",
    "    read_counts_sel =  read_counts[sel_inds]\n",
    "\n",
    "    read_counts_n = np.delete(read_counts, sel_inds, axis=0)\n",
    "    del(read_counts)\n",
    "\n",
    "    bins_ = bins_.T\n",
    "\n",
    "    Rc_reads_bins = Rc_reads[bins_[:,0]]\n",
    "\n",
    "    if np.min(Rc_reads_bins) == 0:\n",
    "        \n",
    "        bins_withRc = np.column_stack((bins_, Rc_reads_bins.T)).astype(int)\n",
    "        bins_withRc = pd.DataFrame(bins_withRc)\n",
    "        bins_withRc.columns = ['ind','bin','Rc']\n",
    "        bin_selectedinds = bins_withRc.loc[bins_withRc.groupby('bin').Rc.idxmax()]['ind']\n",
    "\n",
    "        W_bins = read_counts_sel[bin_selectedinds] / read_counts_sel[bin_selectedinds].sum(axis=1, keepdims=True)\n",
    "        \n",
    "        Z = initialize_Z(W_bins, read_counts_n)\n",
    "\n",
    "        contig_length_n =np.delete(contig_length, sel_inds)\n",
    "        contig_names_n = np.delete(contig_names, sel_inds)\n",
    "        contig_names = contig_names[sel_inds]\n",
    "\n",
    "        Z_parts = np.array_split(Z, 10, axis=1)\n",
    "        read_counts_npart = np.array_split(read_counts_n, 10, axis=0)\n",
    "        Z_optimized = []\n",
    "        AIC_values = []\n",
    "        \n",
    "        for f in range(10):\n",
    "            Z_opt, AIC = nmf.multiplicative_updates(W_bins, Z_parts[f], read_counts_npart[f], 1000, 0)\n",
    "            Z_optimized.append(Z_opt)\n",
    "            AIC_values.append(AIC)\n",
    "\n",
    "        Z_optimized = np.concatenate(Z_optimized, axis=1)\n",
    "        bin_assign, bin_m_assign = assign.assignment(Z_optimized, contig_length_n, 0)\n",
    "        initial_bins = np.stack((contig_names[bins_[0]], bins_[1])).T\n",
    "        short_addedbins = np.stack((contig_names_n[bin_assign[0]], bin_assign[1])).T\n",
    "        total_bins = np.vstack([initial_bins, short_addedbins])\n",
    "\n",
    "        return total_bins\n",
    "\n",
    "    else:\n",
    "        \n",
    "        raise RuntimeError(\"some contigs may have zero total count. Filter them before processing\")"
   ]
  },
  {
   "cell_type": "code",
   "execution_count": 12,
   "metadata": {},
   "outputs": [
    {
     "name": "stdout",
     "output_type": "stream",
     "text": [
      "0\n"
     ]
    },
    {
     "ename": "KeyboardInterrupt",
     "evalue": "",
     "output_type": "error",
     "traceback": [
      "\u001b[0;31m---------------------------------------------------------------------------\u001b[0m",
      "\u001b[0;31mKeyboardInterrupt\u001b[0m                         Traceback (most recent call last)",
      "\u001b[1;32m/big/work/metadevol/scripts/add_shortercontigs.ipynb Cell 3\u001b[0m in \u001b[0;36m<cell line: 1>\u001b[0;34m()\u001b[0m\n\u001b[0;32m----> <a href='vscode-notebook-cell:/big/work/metadevol/scripts/add_shortercontigs.ipynb#W2sZmlsZQ%3D%3D?line=0'>1</a>\u001b[0m Z_opt, loss_values, AIC \u001b[39m=\u001b[39m multiplicative_updates(W_bins, Z, read_counts_n, \u001b[39m1000\u001b[39;49m, \u001b[39m0\u001b[39;49m)\n",
      "\u001b[1;32m/big/work/metadevol/scripts/add_shortercontigs.ipynb Cell 3\u001b[0m in \u001b[0;36mmultiplicative_updates\u001b[0;34m(W, Z, X, n, method)\u001b[0m\n\u001b[1;32m     <a href='vscode-notebook-cell:/big/work/metadevol/scripts/add_shortercontigs.ipynb#W2sZmlsZQ%3D%3D?line=55'>56</a>\u001b[0m W \u001b[39m=\u001b[39m np\u001b[39m.\u001b[39mmultiply(W, np_relu(np\u001b[39m.\u001b[39mmatmul(Z, X_by_mean)))\n\u001b[1;32m     <a href='vscode-notebook-cell:/big/work/metadevol/scripts/add_shortercontigs.ipynb#W2sZmlsZQ%3D%3D?line=56'>57</a>\u001b[0m W \u001b[39m=\u001b[39m W \u001b[39m/\u001b[39m np\u001b[39m.\u001b[39marray([W\u001b[39m.\u001b[39msum(axis \u001b[39m=\u001b[39m \u001b[39m1\u001b[39m)])\u001b[39m.\u001b[39mT\n\u001b[0;32m---> <a href='vscode-notebook-cell:/big/work/metadevol/scripts/add_shortercontigs.ipynb#W2sZmlsZQ%3D%3D?line=57'>58</a>\u001b[0m Z \u001b[39m=\u001b[39m np\u001b[39m.\u001b[39mmultiply(Z, np_relu(np\u001b[39m.\u001b[39;49mmatmul(W, X_by_mean\u001b[39m.\u001b[39;49mT)))\n\u001b[1;32m     <a href='vscode-notebook-cell:/big/work/metadevol/scripts/add_shortercontigs.ipynb#W2sZmlsZQ%3D%3D?line=59'>60</a>\u001b[0m LL \u001b[39m=\u001b[39m maximize_function(W, Z, X)\n\u001b[1;32m     <a href='vscode-notebook-cell:/big/work/metadevol/scripts/add_shortercontigs.ipynb#W2sZmlsZQ%3D%3D?line=60'>61</a>\u001b[0m \u001b[39mprint\u001b[39m(LL, i, flush\u001b[39m=\u001b[39m\u001b[39mTrue\u001b[39;00m)\n",
      "\u001b[1;32m/big/work/metadevol/scripts/add_shortercontigs.ipynb Cell 3\u001b[0m in \u001b[0;36mnp_relu\u001b[0;34m(x)\u001b[0m\n\u001b[1;32m      <a href='vscode-notebook-cell:/big/work/metadevol/scripts/add_shortercontigs.ipynb#W2sZmlsZQ%3D%3D?line=2'>3</a>\u001b[0m \u001b[39mdef\u001b[39;00m \u001b[39mnp_relu\u001b[39m(x):\n\u001b[0;32m----> <a href='vscode-notebook-cell:/big/work/metadevol/scripts/add_shortercontigs.ipynb#W2sZmlsZQ%3D%3D?line=4'>5</a>\u001b[0m     \u001b[39mreturn\u001b[39;00m np\u001b[39m.\u001b[39;49mmaximum(\u001b[39m0\u001b[39;49m,x)\n",
      "\u001b[0;31mKeyboardInterrupt\u001b[0m: "
     ]
    }
   ],
   "source": [
    "Z_opt, loss_values, AIC = multiplicative_updates(W_bins, Z, read_counts_n, 1000, 0)"
   ]
  },
  {
   "cell_type": "code",
   "execution_count": 34,
   "metadata": {},
   "outputs": [
    {
     "data": {
      "text/plain": [
       "(241414, 2)"
      ]
     },
     "execution_count": 34,
     "metadata": {},
     "output_type": "execute_result"
    }
   ],
   "source": [
    "np.shape(np.vstack([bins_,bins_]))"
   ]
  },
  {
   "cell_type": "code",
   "execution_count": null,
   "metadata": {},
   "outputs": [
    {
     "ename": "NameError",
     "evalue": "name 'W_bins' is not defined",
     "output_type": "error",
     "traceback": [
      "\u001b[0;31m---------------------------------------------------------------------------\u001b[0m",
      "\u001b[0;31mNameError\u001b[0m                                 Traceback (most recent call last)",
      "\u001b[1;32m/big/work/metadevol/scripts/add_shortercontigs.ipynb Cell 8\u001b[0m in \u001b[0;36m<cell line: 1>\u001b[0;34m()\u001b[0m\n\u001b[0;32m----> <a href='vscode-notebook-cell:/big/work/metadevol/scripts/add_shortercontigs.ipynb#X34sZmlsZQ%3D%3D?line=0'>1</a>\u001b[0m multiplicative_updates(W_bins, Z_parts[\u001b[39m1\u001b[39m], read_counts_n[\u001b[39m1\u001b[39m], \u001b[39m1000\u001b[39m, \u001b[39m0\u001b[39m)\n",
      "\u001b[0;31mNameError\u001b[0m: name 'W_bins' is not defined"
     ]
    }
   ],
   "source": [
    "multiplicative_updates(W_bins, Z_parts[1], read_counts_n[1], 1000, 0)"
   ]
  },
  {
   "cell_type": "code",
   "execution_count": 35,
   "metadata": {},
   "outputs": [
    {
     "data": {
      "text/plain": [
       "(120707, 2)"
      ]
     },
     "execution_count": 35,
     "metadata": {},
     "output_type": "execute_result"
    }
   ],
   "source": [
    "np.shape(bins_)"
   ]
  },
  {
   "cell_type": "code",
   "execution_count": 24,
   "metadata": {},
   "outputs": [
    {
     "data": {
      "text/plain": [
       "[<matplotlib.lines.Line2D at 0x7f11b64b5070>]"
      ]
     },
     "execution_count": 24,
     "metadata": {},
     "output_type": "execute_result"
    },
    {
     "data": {
      "image/png": "[encoded data removed]",
      "text/plain": [
       "<Figure size 432x288 with 1 Axes>"
      ]
     },
     "metadata": {
      "needs_background": "light"
     },
     "output_type": "display_data"
    }
   ],
   "source": [
    "import matplotlib.pyplot as plt \n",
    "\n",
    "plt.plot(LL[1])"
   ]
  },
  {
   "cell_type": "code",
   "execution_count": null,
   "metadata": {},
   "outputs": [],
   "source": [
    "np.argmax(contig_length_n[(np.where(Rc_reads_n==0))])\n",
    "contig_length_n = np.delete(contig_length_n, np.where(Rc_reads_n==0)[0])\n",
    "contig_names_n = np.delete(contig_names_n, np.where(Rc_reads_n==0)[0])\n",
    "read_counts_n = np.delete(read_counts, sel_ind, axis=0)\n",
    "read_counts_n = np.delete(read_counts_n, np.where(Rc_reads_n==0)[0], axis=0)\n",
    "Z = initialize_Z(W_bins, read_counts_n)"
   ]
  },
  {
   "cell_type": "code",
   "execution_count": null,
   "metadata": {},
   "outputs": [],
   "source": []
  },
  {
   "cell_type": "code",
   "execution_count": null,
   "metadata": {},
   "outputs": [
    {
     "name": "stdout",
     "output_type": "stream",
     "text": [
      "0\n",
      "9108744.970415434 0\n",
      "1\n",
      "9875817.518626403 1\n",
      "2\n",
      "10348163.031736145 2\n",
      "3\n",
      "10628758.927983038 3\n",
      "4\n",
      "10801734.376173705 4\n",
      "5\n",
      "10913605.639439274 5\n",
      "6\n",
      "10988867.597564237 6\n",
      "7\n",
      "11041084.926887581 7\n",
      "8\n",
      "11078238.926847832 8\n",
      "9\n",
      "11105257.761477567 9\n",
      "Function is converged\n",
      "-403473174.2385224 within method mul update\n"
     ]
    }
   ],
   "source": [
    "Z_opt, loss_values, AIC = multiplicative_updates(W_bins, Z, read_counts_n, 1000, 0)"
   ]
  },
  {
   "cell_type": "code",
   "execution_count": null,
   "metadata": {},
   "outputs": [
    {
     "name": "stderr",
     "output_type": "stream",
     "text": [
      "/big/work/metadevol/scripts/bin_assignments.py:17: RuntimeWarning: invalid value encountered in divide\n",
      "  weights = Z_bc ** 5 / Rc ** 4\n"
     ]
    }
   ],
   "source": [
    "import bin_assignments as assign\n",
    "\n",
    "bin_assign, bin_m_assign = assign.assignment(Z_opt, contig_length_n, 0)"
   ]
  },
  {
   "cell_type": "code",
   "execution_count": null,
   "metadata": {},
   "outputs": [
    {
     "data": {
      "text/plain": [
       "585259"
      ]
     },
     "execution_count": 87,
     "metadata": {},
     "output_type": "execute_result"
    }
   ],
   "source": [
    "len(read_counts_n)"
   ]
  },
  {
   "cell_type": "code",
   "execution_count": null,
   "metadata": {},
   "outputs": [
    {
     "name": "stdout",
     "output_type": "stream",
     "text": [
      "87 number of bins\n",
      "197 just max\n"
     ]
    }
   ],
   "source": [
    "# argmax = np.argmax(Z_opt, axis=0)\n",
    "\n",
    "# \"\"\" Assignment \"\"\"\n",
    "Z_assign = Z_opt\n",
    "Rc_c  = np.sum(Z_assign, axis=0)\n",
    "pb_c  = Z_assign / Rc_c\n",
    "cov_b = np.sum(Z_assign, axis=1) / np.sum((np.array(contig_length_n) * Z_assign) / Rc_c, axis=1)\n",
    "pb_min = 0.8 * (cov_b.reshape(len(cov_b),1) * np.sum(np.square(pb_c), axis=0) \\\n",
    "                / np.sum(cov_b.reshape(len(cov_b),1) * pb_c, axis=0))\n",
    "pb_min[pb_min > 0.5] = 0.5\n",
    "contig_assign0 = np.argmax(pb_c/pb_min, axis=0)\n",
    "\n",
    "print(len(set(contig_assign0)), \"number of bins\")\n",
    "print(len(set(np.argmax(Z_assign, axis=0))), \"just max\")"
   ]
  },
  {
   "cell_type": "code",
   "execution_count": null,
   "metadata": {},
   "outputs": [
    {
     "name": "stdout",
     "output_type": "stream",
     "text": [
      "0 length of selected_inds\n",
      "[ 2524.92373532  2491.88181018  6076.85362016 ...  9461.07770518\n",
      " 15007.08959204 11486.08551772]\n"
     ]
    }
   ],
   "source": [
    "import bin_assignments as assign\n",
    "# bins_, bins_m = assign.assignment(Z_opt, contig_length_n, 0)\n",
    "bins_1, bins_m1 = assign.assignment(Z_opt, contig_length_n, 1)"
   ]
  },
  {
   "cell_type": "code",
   "execution_count": null,
   "metadata": {},
   "outputs": [],
   "source": [
    "np.savetxt(working_dir + \"/bin_assignments_shortcontigs_single\", np.stack((contig_names_n, bin_assign)).T, fmt='%s\\t%d')"
   ]
  },
  {
   "cell_type": "code",
   "execution_count": null,
   "metadata": {},
   "outputs": [],
   "source": [
    "np.savetxt(working_dir + \"try/length_2500/bin_assignments_shortcontigs_multi\", np.vstack((contig_names_n[bin_m_assign[1]], bin_m_assign[0])).T, fmt='%s\\t%d')"
   ]
  },
  {
   "cell_type": "code",
   "execution_count": null,
   "metadata": {},
   "outputs": [],
   "source": [
    "np.savetxt(working_dir + \"try/length_2500/bin_assignments_shortcontigs_argmax\", np.vstack((contig_names_n, argmax)).T, fmt='%s\\t%d')"
   ]
  },
  {
   "cell_type": "code",
   "execution_count": null,
   "metadata": {},
   "outputs": [],
   "source": [
    "np.savetxt(working_dir + \"/bin_assignments_shortcontigs_single\", np.stack((contig_names_n, bins_)).T, fmt='%s\\t%d')"
   ]
  },
  {
   "cell_type": "code",
   "execution_count": null,
   "metadata": {},
   "outputs": [
    {
     "data": {
      "text/plain": [
       "array([1641, 1425, 1499, ..., 1008, 1672, 1446])"
      ]
     },
     "execution_count": 100,
     "metadata": {},
     "output_type": "execute_result"
    }
   ],
   "source": [
    "bins_1"
   ]
  },
  {
   "cell_type": "code",
   "execution_count": null,
   "metadata": {},
   "outputs": [
    {
     "data": {
      "text/plain": [
       "array([439, 635, 804, ..., 202,  78, 299])"
      ]
     },
     "execution_count": 101,
     "metadata": {},
     "output_type": "execute_result"
    }
   ],
   "source": [
    "bins_"
   ]
  },
  {
   "cell_type": "code",
   "execution_count": null,
   "metadata": {},
   "outputs": [
    {
     "data": {
      "text/plain": [
       "array([1641, 1425, 1499, ..., 1008, 1672, 1446])"
      ]
     },
     "execution_count": 103,
     "metadata": {},
     "output_type": "execute_result"
    }
   ],
   "source": [
    "bins_1"
   ]
  },
  {
   "cell_type": "code",
   "execution_count": null,
   "metadata": {},
   "outputs": [],
   "source": [
    "np.savetxt(working_dir + \"/bin_assignments_shortcontigs_single1\", np.stack((contig_names_n, bins_1)).T, fmt='%s\\t%d')"
   ]
  },
  {
   "cell_type": "code",
   "execution_count": null,
   "metadata": {},
   "outputs": [],
   "source": []
  }
 ],
 "metadata": {
  "kernelspec": {
   "display_name": "Python 3",
   "language": "python",
   "name": "python3"
  },
  "language_info": {
   "codemirror_mode": {
    "name": "ipython",
    "version": 3
   },
   "file_extension": ".py",
   "mimetype": "text/x-python",
   "name": "python",
   "nbconvert_exporter": "python",
   "pygments_lexer": "ipython3",
   "version": "3.8.10"
  },
  "orig_nbformat": 4
 },
 "nbformat": 4,
 "nbformat_minor": 2
}
