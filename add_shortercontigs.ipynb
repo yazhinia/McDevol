{
 "cells": [
  {
   "cell_type": "code",
   "execution_count": 3,
   "metadata": {},
   "outputs": [],
   "source": [
    "import pandas as pd\n",
    "import numpy as np\n",
    "import bin_assignments as assign\n",
    "import nmf_connected_components as nmf\n",
    "\n",
    "def multiplicative_updates(W, Z, X, n, method):\n",
    "    \n",
    "    lw = 0.0\n",
    "    lz = 0.8\n",
    "    beta = 0.5\n",
    "    convergence_criteria = np.exp(-15)\n",
    "    epsilon_reg = 1e-05\n",
    "    loss_values = []\n",
    "\n",
    "    if method == 0:\n",
    "        \n",
    "        for i in range(n):\n",
    "            \n",
    "            mean = np.matmul(Z.T, W)\n",
    "            mean = 1e-10 + nmf.np_relu(mean)\n",
    "            X_by_mean = X / mean\n",
    "            \n",
    "            W = np.multiply(W, nmf.np_relu(np.matmul(Z, X_by_mean)))\n",
    "            W = W / np.array([W.sum(axis = 1)]).T\n",
    "            Z = np.multiply(Z, nmf.np_relu(np.matmul(W, X_by_mean.T)))\n",
    "\n",
    "            loss_values.append(nmf.maximize_function(W, Z, X))\n",
    "            \n",
    "            if len(loss_values) >= 10 :\n",
    "                \n",
    "                if ((loss_values[i] - loss_values[i-10]) / loss_values[i]) < convergence_criteria:\n",
    "                    AIC = nmf.calc_aic(W, Z, X)\n",
    "                    # print(\"Function is converged\")\n",
    "                    break\n",
    "                else:\n",
    "                    raise RuntimeError(f'function not converged') \n",
    "        print(AIC, \"within method mul update\")\n",
    "        return  Z, AIC\n",
    "    else:\n",
    "        raise Exception(\"\")\n",
    "\n",
    "def assign_shortcontigs(working_dir, sel_inds, Rc_reads, contigs, bins_):\n",
    "    contig_names = contigs[:,1]\n",
    "    contig_length = contigs[:,2].astype(int)\n",
    "    fractional_counts = pd.read_csv(working_dir + \"total_readcount\", header=None,sep=' ', engine=\"pyarrow\")\n",
    "    read_counts = fractional_counts.pivot_table(index = 1, columns = 0, values = 2)\n",
    "    del(fractional_counts)\n",
    "\n",
    "    read_counts = read_counts.to_numpy().T\n",
    "    read_counts_sel =  read_counts[sel_inds]\n",
    "\n",
    "    read_counts_n = np.delete(read_counts, sel_inds, axis=0)\n",
    "    del(read_counts)\n",
    "\n",
    "    bins_ = bins_.T\n",
    "\n",
    "    print(bins_, np.shape(bins_), np.shape(Rc_reads))\n",
    "    Rc_reads_bins = Rc_reads[bins_[:,0]]\n",
    "    print(np.shape(Rc_reads_bins), np.min(Rc_reads_bins))\n",
    "    \n",
    "    if np.min(Rc_reads_bins) != 0.0:\n",
    "        \n",
    "        bins_withRc = np.column_stack((bins_, Rc_reads_bins.T)).astype(int)\n",
    "        bins_withRc = pd.DataFrame(bins_withRc)\n",
    "        bins_withRc.columns = ['ind','bin','Rc']\n",
    "        bin_selectedinds = bins_withRc.loc[bins_withRc.groupby('bin').Rc.idxmax()]['ind']\n",
    "\n",
    "        W_bins = read_counts_sel[bin_selectedinds] / read_counts_sel[bin_selectedinds].sum(axis=1, keepdims=True)\n",
    "        \n",
    "        Z = nmf.initialize_Z(W_bins, read_counts_n)\n",
    "\n",
    "        contig_length_n =np.delete(contig_length, sel_inds)\n",
    "        contig_names_n = np.delete(contig_names, sel_inds)\n",
    "        contig_names = contig_names[sel_inds]\n",
    "\n",
    "        split_count = 3\n",
    "        Z_parts = np.array_split(Z, split_count, axis=1)\n",
    "        read_counts_npart = np.array_split(read_counts_n, split_count, axis=0)\n",
    "        Z_optimized = []\n",
    "        AIC_values = []\n",
    "        \n",
    "        for f in range(split_count):\n",
    "            Z_opt, AIC = multiplicative_updates(W_bins, Z_parts[f], read_counts_npart[f], 1000, 0)\n",
    "            Z_optimized.append(Z_opt)\n",
    "            AIC_values.append(AIC)\n",
    "\n",
    "        print(np.shape(np.concatenate(Z_optimized, axis=1)), len(Z_optimized))\n",
    "        Z_optimized = np.concatenate(Z_optimized, axis=1)\n",
    "        # print(np.shape(Z_optimized))\n",
    "        # bin_assign = assign.assignment(Z_optimized, contig_length_n, contig_names_n, 0, short=True)\n",
    "        # initial_bins = np.stack((contig_names[bins_[0]], bins_[1]))\n",
    "        # print(initial_bins)\n",
    "        # total_bins = np.vstack([initial_bins, bin_assign])\n",
    "        # print(total_bins)\n",
    "        return Z_optimized, contig_length_n, contig_names_n\n",
    "\n",
    "    else:\n",
    "        \n",
    "        raise RuntimeError(\"some contigs may have zero total count. Filter them before processing\")"
   ]
  },
  {
   "cell_type": "code",
   "execution_count": 1,
   "metadata": {},
   "outputs": [
    {
     "name": "stdout",
     "output_type": "stream",
     "text": [
      "707974 shape 0\n",
      "(122715,) 122715 (122715, 10)\n"
     ]
    }
   ],
   "source": [
    "import numpy as np\n",
    "import pandas as pd\n",
    "\n",
    "working_dir = '/big/work/metadevol/cami2_datasets/marine/pooled_assembly/all_alignment/tmp/'\n",
    "\n",
    "bins_ = np.loadtxt(working_dir + 'bin_assignments_density_inds', dtype=int)\n",
    "\n",
    "contigs = pd.read_csv(working_dir + 'selected_contigs', header=None, sep=' ').to_numpy()\n",
    "\n",
    "fractional_counts = pd.read_csv(working_dir + \"total_readcount\", header=None,sep=' ')\n",
    "read_counts = fractional_counts.pivot_table(index = 1, columns = 0, values = 2)\n",
    "del(fractional_counts)\n",
    "contig_length = contigs[:,2].astype(int)\n",
    "read_counts = read_counts.to_numpy().T\n",
    "total_contigs_source = read_counts.shape[0]\n",
    "print(total_contigs_source, \"shape 0\")\n",
    "\n",
    "long_contigs = np.nonzero(contig_length>=2500)[0]\n",
    "read_counts = read_counts[long_contigs]\n",
    "\n",
    "\"\"\" process high read counts \"\"\"\n",
    "Rc_reads = read_counts.sum(axis=1)\n",
    "\n",
    "print(np.shape(Rc_reads), len(long_contigs), np.shape(read_counts))"
   ]
  },
  {
   "cell_type": "code",
   "execution_count": null,
   "metadata": {},
   "outputs": [],
   "source": []
  },
  {
   "cell_type": "code",
   "execution_count": 4,
   "metadata": {},
   "outputs": [
    {
     "name": "stdout",
     "output_type": "stream",
     "text": [
      "[[ 57841      1]\n",
      " [ 93491      1]\n",
      " [ 33135      2]\n",
      " ...\n",
      " [121930   3890]\n",
      " [122008   3891]\n",
      " [122360   3892]] (122715, 2) (122715,)\n",
      "(122715,) 5.48333\n",
      "-441761135.76450735 within method mul update\n",
      "-442672140.1069196 within method mul update\n",
      "(3892, 585259) 2\n"
     ]
    }
   ],
   "source": [
    "Z_opt, contig_length_n, contig_names_n = assign_shortcontigs(working_dir, long_contigs, Rc_reads, contigs, bins_)"
   ]
  },
  {
   "cell_type": "code",
   "execution_count": 5,
   "metadata": {},
   "outputs": [
    {
     "data": {
      "text/plain": [
       "(3892, 585259)"
      ]
     },
     "execution_count": 5,
     "metadata": {},
     "output_type": "execute_result"
    }
   ],
   "source": [
    "np.shape(Z_opt)"
   ]
  },
  {
   "cell_type": "code",
   "execution_count": 47,
   "metadata": {},
   "outputs": [
    {
     "data": {
      "text/plain": [
       "0.5"
      ]
     },
     "execution_count": 47,
     "metadata": {},
     "output_type": "execute_result"
    }
   ],
   "source": [
    "fractional_counts = pd.read_csv(working_dir + \"total_readcount\", header=None,sep=' ')\n",
    "read_counts = fractional_counts.pivot_table(index = 1, columns = 0, values = 2)\n",
    "read_counts = read_counts.to_numpy().T\n",
    "\n",
    "np.min(read_counts.sum(axis=1))"
   ]
  },
  {
   "cell_type": "code",
   "execution_count": 7,
   "metadata": {},
   "outputs": [],
   "source": [
    "import numpy as np\n",
    "\n",
    "def get_binindex(bins):\n",
    "    \n",
    "    sequential_index = dict(np.vstack([np.unique(bins),np.arange(len(np.unique(bins)))]).T)\n",
    "    bins = [sequential_index[x] for x in bins]\n",
    "\n",
    "    return np.array(bins)\n",
    "\n",
    "\n",
    "\n",
    "def assignment(Z_bc, contig_length, mode):\n",
    "    \n",
    "    Rc  = np.sum(Z_bc, axis=0)\n",
    "    print(\"here\")\n",
    "    if mode == 0:\n",
    "\n",
    "        weights = Z_bc ** 5 / Rc ** 4\n",
    "        cov_b1 = np.sum(weights  * (Z_bc / contig_length) , axis = 1)\n",
    "        cov_b2 = weights.sum(axis=1)\n",
    "        cov_b = cov_b1 / cov_b2\n",
    "        pi_bc = (Z_bc / cov_b[:,None]) / (Z_bc / cov_b[:,None]).sum(axis = 0)\n",
    "        pi_bc[pi_bc < 0.5] = 0.0\n",
    "        poorprob_inds = np.nonzero(pi_bc.sum(axis=0)==0)[0]\n",
    "        print(len(poorprob_inds), np.shape(pi_bc), flush=True)\n",
    "        pi_bc = np.delete(pi_bc, poorprob_inds, axis=1)\n",
    "        print(np.shape(pi_bc))\n",
    "        bins = np.argmax(pi_bc, axis=0)\n",
    "        bins = get_binindex(bins)\n",
    "        # bins_m = np.nonzero(pi_bc >= np.max(pi_bc, axis=0) * 0.6)\n",
    "    \n",
    "    else:\n",
    "\n",
    "        weights = Z_bc / Rc\n",
    "        selected_inds = np.nonzero(weights>0.95)[1]\n",
    "        print(len(selected_inds), \"length of selected_inds\")\n",
    "        \n",
    "        if selected_inds.size != 0:\n",
    "\n",
    "            cov_b1 = (Z_bc[:,selected_inds] / contig_length[selected_inds]).sum(axis=1)\n",
    "            cov_b2 = Z_bc[:,selected_inds].sum(axis=1)\n",
    "        \n",
    "        else:\n",
    "\n",
    "            cov_b1 = (Z_bc ** 2 / contig_length).sum(axis=1)\n",
    "            cov_b2 = Z_bc.sum(axis=1)\n",
    "\n",
    "        cov_b = cov_b1 / cov_b2\n",
    "        pi_bc = (Z_bc / cov_b[:,None]) / (Z_bc / cov_b[:,None]).sum(axis = 0)\n",
    "\n",
    "        print(np.max(pi_bc),np.max(pi_bc, axis=0))\n",
    "        pi_bc1 = pi_bc\n",
    "        pi_bc1[pi_bc1 < 0.7] = 0.0\n",
    "        poorprob_inds = np.nonzero(pi_bc1.sum(axis=0)==0)[0]\n",
    "\n",
    "        bins = np.argmax(pi_bc, axis=0)\n",
    "        bins = get_binindex(bins)\n",
    "\n",
    "        # bins_m = np.nonzero(pi_bc >= np.max(pi_bc, axis=0) * 0.6)\n",
    "\n",
    "    return bins, poorprob_inds"
   ]
  },
  {
   "cell_type": "code",
   "execution_count": 8,
   "metadata": {},
   "outputs": [
    {
     "name": "stdout",
     "output_type": "stream",
     "text": [
      "here\n",
      "0 length of selected_inds\n"
     ]
    }
   ],
   "source": [
    "# short_bins_0, poorprob_inds = assignment(Z_opt, contig_length_n, mode=1)"
   ]
  },
  {
   "cell_type": "code",
   "execution_count": 29,
   "metadata": {},
   "outputs": [],
   "source": [
    "Rc  = np.sum(Z_opt, axis=0)\n",
    "weights = Z_opt / Rc\n",
    "\n",
    "cov_b1 = (Z_opt ** 2 / contig_length).sum(axis=1)\n",
    "cov_b2 = Z_opt.sum(axis=1)\n",
    "\n",
    "cov_b = cov_b1 / cov_b2\n",
    "pi_bc = (Z_opt / cov_b[:,None]) / (Z_opt / cov_b[:,None]).sum(axis = 0)\n",
    "\n",
    "# print(np.max(pi_bc),np.max(pi_bc, axis=0))\n",
    "# pi_bc1 = pi_bc\n",
    "# pi_bc1[pi_bc1 < 0.7] = 0.0\n",
    "# poorprob_inds = np.nonzero(pi_bc1.sum(axis=0)==0)[0]\n",
    "\n",
    "bins = np.argmax(pi_bc, axis=0)\n",
    "bins = get_binindex(bins)\n",
    "\n"
   ]
  },
  {
   "cell_type": "code",
   "execution_count": 42,
   "metadata": {},
   "outputs": [
    {
     "ename": "ValueError",
     "evalue": "setting an array element with a sequence. The requested array has an inhomogeneous shape after 1 dimensions. The detected shape was (3,) + inhomogeneous part.",
     "output_type": "error",
     "traceback": [
      "\u001b[0;31m---------------------------------------------------------------------------\u001b[0m",
      "\u001b[0;31mValueError\u001b[0m                                Traceback (most recent call last)",
      "\u001b[1;32m/big/work/metadevol/scripts/add_shortercontigs.ipynb Cell 9\u001b[0m in \u001b[0;36m<cell line: 2>\u001b[0;34m()\u001b[0m\n\u001b[1;32m      <a href='vscode-notebook-cell:/big/work/metadevol/scripts/add_shortercontigs.ipynb#X10sZmlsZQ%3D%3D?line=0'>1</a>\u001b[0m x \u001b[39m=\u001b[39m [np\u001b[39m.\u001b[39marray([[\u001b[39m0\u001b[39m,\u001b[39m1\u001b[39m,\u001b[39m3\u001b[39m],[\u001b[39m1\u001b[39m,\u001b[39m2\u001b[39m,\u001b[39m3\u001b[39m]]),np\u001b[39m.\u001b[39marray([[\u001b[39m0\u001b[39m,\u001b[39m1\u001b[39m,\u001b[39m3\u001b[39m]]),np\u001b[39m.\u001b[39marray([[\u001b[39m0\u001b[39m,\u001b[39m1\u001b[39m,\u001b[39m3\u001b[39m],[\u001b[39m1\u001b[39m,\u001b[39m2\u001b[39m,\u001b[39m3\u001b[39m]])]\n\u001b[0;32m----> <a href='vscode-notebook-cell:/big/work/metadevol/scripts/add_shortercontigs.ipynb#X10sZmlsZQ%3D%3D?line=1'>2</a>\u001b[0m np\u001b[39m.\u001b[39;49msavetxt(\u001b[39m\"\u001b[39;49m\u001b[39mx\u001b[39;49m\u001b[39m\"\u001b[39;49m,x)\n",
      "File \u001b[0;32m<__array_function__ internals>:200\u001b[0m, in \u001b[0;36msavetxt\u001b[0;34m(*args, **kwargs)\u001b[0m\n",
      "File \u001b[0;32m~/.local/lib/python3.8/site-packages/numpy/lib/npyio.py:1551\u001b[0m, in \u001b[0;36msavetxt\u001b[0;34m(fname, X, fmt, delimiter, newline, header, footer, comments, encoding)\u001b[0m\n\u001b[1;32m   1548\u001b[0m     \u001b[39mraise\u001b[39;00m \u001b[39mValueError\u001b[39;00m(\u001b[39m'\u001b[39m\u001b[39mfname must be a string or file handle\u001b[39m\u001b[39m'\u001b[39m)\n\u001b[1;32m   1550\u001b[0m \u001b[39mtry\u001b[39;00m:\n\u001b[0;32m-> 1551\u001b[0m     X \u001b[39m=\u001b[39m np\u001b[39m.\u001b[39;49masarray(X)\n\u001b[1;32m   1553\u001b[0m     \u001b[39m# Handle 1-dimensional arrays\u001b[39;00m\n\u001b[1;32m   1554\u001b[0m     \u001b[39mif\u001b[39;00m X\u001b[39m.\u001b[39mndim \u001b[39m==\u001b[39m \u001b[39m0\u001b[39m \u001b[39mor\u001b[39;00m X\u001b[39m.\u001b[39mndim \u001b[39m>\u001b[39m \u001b[39m2\u001b[39m:\n",
      "\u001b[0;31mValueError\u001b[0m: setting an array element with a sequence. The requested array has an inhomogeneous shape after 1 dimensions. The detected shape was (3,) + inhomogeneous part."
     ]
    }
   ],
   "source": [
    "x = [np.array([[0,1,3],[1,2,3]]),np.array([[0,1,3]]),np.array([[0,1,3],[1,2,3]])]\n",
    "np.savetxt(\"x\",x)"
   ]
  },
  {
   "cell_type": "code",
   "execution_count": 32,
   "metadata": {},
   "outputs": [],
   "source": [
    "cov1_b1 = (Z_opt ** 2 / contig_length_n).sum(axis=1)\n",
    "cov1_b2 = Z_opt.sum(axis=1)\n",
    "\n",
    "cov1_b = cov1_b1 / cov1_b2\n",
    "pi_bc1 = (Z_opt / cov1_b[:,None]) / (Z_opt / cov1_b[:,None]).sum(axis = 0)\n"
   ]
  },
  {
   "cell_type": "code",
   "execution_count": 33,
   "metadata": {},
   "outputs": [
    {
     "data": {
      "text/plain": [
       "0.20968806541088583"
      ]
     },
     "execution_count": 33,
     "metadata": {},
     "output_type": "execute_result"
    }
   ],
   "source": [
    "np.max(pi_bc1)"
   ]
  },
  {
   "cell_type": "code",
   "execution_count": null,
   "metadata": {},
   "outputs": [
    {
     "name": "stderr",
     "output_type": "stream",
     "text": [
      "/big/work/metadevol/scripts/bin_assignments.py:17: RuntimeWarning: invalid value encountered in divide\n",
      "  weights = Z_bc ** 5 / Rc ** 4\n"
     ]
    }
   ],
   "source": [
    "import bin_assignments as assign\n",
    "\n",
    "bin_assign, bin_m_assign = assign.assignment(Z_opt, contig_length_n, 0)"
   ]
  },
  {
   "cell_type": "code",
   "execution_count": null,
   "metadata": {},
   "outputs": [
    {
     "name": "stdout",
     "output_type": "stream",
     "text": [
      "87 number of bins\n",
      "197 just max\n"
     ]
    }
   ],
   "source": [
    "# argmax = np.argmax(Z_opt, axis=0)\n",
    "\n",
    "# \"\"\" Assignment \"\"\"\n",
    "Z_assign = Z_opt\n",
    "Rc_c  = np.sum(Z_assign, axis=0)\n",
    "pb_c  = Z_assign / Rc_c\n",
    "cov_b = np.sum(Z_assign, axis=1) / np.sum((np.array(contig_length_n) * Z_assign) / Rc_c, axis=1)\n",
    "pb_min = 0.8 * (cov_b.reshape(len(cov_b),1) * np.sum(np.square(pb_c), axis=0) \\\n",
    "                / np.sum(cov_b.reshape(len(cov_b),1) * pb_c, axis=0))\n",
    "pb_min[pb_min > 0.5] = 0.5\n",
    "contig_assign0 = np.argmax(pb_c/pb_min, axis=0)\n",
    "\n",
    "print(len(set(contig_assign0)), \"number of bins\")\n",
    "print(len(set(np.argmax(Z_assign, axis=0))), \"just max\")"
   ]
  },
  {
   "cell_type": "code",
   "execution_count": 81,
   "metadata": {},
   "outputs": [
    {
     "ename": "TypeError",
     "evalue": "assignment() takes 3 positional arguments but 4 were given",
     "output_type": "error",
     "traceback": [
      "\u001b[0;31m---------------------------------------------------------------------------\u001b[0m",
      "\u001b[0;31mTypeError\u001b[0m                                 Traceback (most recent call last)",
      "\u001b[1;32m/big/work/metadevol/scripts/add_shortercontigs.ipynb Cell 14\u001b[0m in \u001b[0;36m<cell line: 3>\u001b[0;34m()\u001b[0m\n\u001b[1;32m      <a href='vscode-notebook-cell:/big/work/metadevol/scripts/add_shortercontigs.ipynb#X21sZmlsZQ%3D%3D?line=0'>1</a>\u001b[0m \u001b[39mimport\u001b[39;00m \u001b[39mbin_assignments\u001b[39;00m \u001b[39mas\u001b[39;00m \u001b[39massign\u001b[39;00m\n\u001b[1;32m      <a href='vscode-notebook-cell:/big/work/metadevol/scripts/add_shortercontigs.ipynb#X21sZmlsZQ%3D%3D?line=1'>2</a>\u001b[0m \u001b[39m# bins_, bins_m = assign.assignment(Z_opt, contig_length_n, 0)\u001b[39;00m\n\u001b[0;32m----> <a href='vscode-notebook-cell:/big/work/metadevol/scripts/add_shortercontigs.ipynb#X21sZmlsZQ%3D%3D?line=2'>3</a>\u001b[0m bins_1, bins_m1 \u001b[39m=\u001b[39m assign\u001b[39m.\u001b[39;49massignment(Z_opt, contig_length_n, contig_names_n, \u001b[39m1\u001b[39;49m)\n",
      "\u001b[0;31mTypeError\u001b[0m: assignment() takes 3 positional arguments but 4 were given"
     ]
    }
   ],
   "source": [
    "import bin_assignments as assign\n",
    "# bins_, bins_m = assign.assignment(Z_opt, contig_length_n, 0)\n",
    "bins_1, bins_m1 = assign.assignment(Z_opt, contig_length_n, contig_names_n, 0)"
   ]
  },
  {
   "cell_type": "code",
   "execution_count": 19,
   "metadata": {},
   "outputs": [],
   "source": [
    "np.savetxt(working_dir + \"/bin_assignments_shortcontigs_single_check\", np.stack((contig_names_n, short_bins_0)).T, fmt='%s\\t%d')"
   ]
  },
  {
   "cell_type": "code",
   "execution_count": null,
   "metadata": {},
   "outputs": [],
   "source": [
    "np.savetxt(working_dir + \"try/length_2500/bin_assignments_shortcontigs_multi\", np.vstack((contig_names_n[bin_m_assign[1]], bin_m_assign[0])).T, fmt='%s\\t%d')"
   ]
  },
  {
   "cell_type": "code",
   "execution_count": null,
   "metadata": {},
   "outputs": [],
   "source": [
    "np.savetxt(working_dir + \"try/length_2500/bin_assignments_shortcontigs_argmax\", np.vstack((contig_names_n, argmax)).T, fmt='%s\\t%d')"
   ]
  },
  {
   "cell_type": "code",
   "execution_count": null,
   "metadata": {},
   "outputs": [],
   "source": [
    "np.savetxt(working_dir + \"/bin_assignments_shortcontigs_single\", np.stack((contig_names_n, bins_)).T, fmt='%s\\t%d')"
   ]
  },
  {
   "cell_type": "code",
   "execution_count": null,
   "metadata": {},
   "outputs": [
    {
     "data": {
      "text/plain": [
       "array([1641, 1425, 1499, ..., 1008, 1672, 1446])"
      ]
     },
     "execution_count": 100,
     "metadata": {},
     "output_type": "execute_result"
    }
   ],
   "source": [
    "bins_1"
   ]
  },
  {
   "cell_type": "code",
   "execution_count": null,
   "metadata": {},
   "outputs": [
    {
     "data": {
      "text/plain": [
       "array([439, 635, 804, ..., 202,  78, 299])"
      ]
     },
     "execution_count": 101,
     "metadata": {},
     "output_type": "execute_result"
    }
   ],
   "source": [
    "bins_"
   ]
  },
  {
   "cell_type": "code",
   "execution_count": null,
   "metadata": {},
   "outputs": [
    {
     "data": {
      "text/plain": [
       "array([1641, 1425, 1499, ..., 1008, 1672, 1446])"
      ]
     },
     "execution_count": 103,
     "metadata": {},
     "output_type": "execute_result"
    }
   ],
   "source": [
    "bins_1"
   ]
  },
  {
   "cell_type": "code",
   "execution_count": null,
   "metadata": {},
   "outputs": [],
   "source": [
    "np.savetxt(working_dir + \"/bin_assignments_shortcontigs_single1\", np.stack((contig_names_n, bins_1)).T, fmt='%s\\t%d')"
   ]
  },
  {
   "cell_type": "code",
   "execution_count": 68,
   "metadata": {},
   "outputs": [
    {
     "data": {
      "text/plain": [
       "array([1, 2])"
      ]
     },
     "execution_count": 68,
     "metadata": {},
     "output_type": "execute_result"
    }
   ],
   "source": [
    "xx = np.array([[0,0.2,0.5],[0.0,0.9,0], [0.0,0.5,0.7]])\n",
    "\n",
    "xx[xx < 0.3] = 0.0\n",
    "\n",
    "yy = np.argmax(xx, axis=0)\n",
    "\n",
    "np.nonzero(yy)[0]"
   ]
  },
  {
   "cell_type": "code",
   "execution_count": 78,
   "metadata": {},
   "outputs": [],
   "source": [
    "inds = np.nonzero(xx.sum(axis=0)==0)[0]"
   ]
  },
  {
   "cell_type": "code",
   "execution_count": 75,
   "metadata": {},
   "outputs": [
    {
     "data": {
      "text/plain": [
       "array([0. , 1.4, 1.2])"
      ]
     },
     "execution_count": 75,
     "metadata": {},
     "output_type": "execute_result"
    }
   ],
   "source": [
    "xx.sum(axis=0)"
   ]
  },
  {
   "cell_type": "code",
   "execution_count": 79,
   "metadata": {},
   "outputs": [
    {
     "data": {
      "text/plain": [
       "array([[0. , 0.5],\n",
       "       [0.9, 0. ],\n",
       "       [0.5, 0.7]])"
      ]
     },
     "execution_count": 79,
     "metadata": {},
     "output_type": "execute_result"
    }
   ],
   "source": [
    "np.delete(xx, inds, axis=1)"
   ]
  },
  {
   "cell_type": "code",
   "execution_count": null,
   "metadata": {},
   "outputs": [],
   "source": []
  }
 ],
 "metadata": {
  "kernelspec": {
   "display_name": "Python 3",
   "language": "python",
   "name": "python3"
  },
  "language_info": {
   "codemirror_mode": {
    "name": "ipython",
    "version": 3
   },
   "file_extension": ".py",
   "mimetype": "text/x-python",
   "name": "python",
   "nbconvert_exporter": "python",
   "pygments_lexer": "ipython3",
   "version": "3.8.10"
  },
  "orig_nbformat": 4
 },
 "nbformat": 4,
 "nbformat_minor": 2
}
