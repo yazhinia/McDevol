{
 "cells": [
  {
   "attachments": {},
   "cell_type": "markdown",
   "metadata": {
    "slideshow": {
     "slide_type": "notes"
    }
   },
   "source": [
    "### DEFINITIONS FOR AMBER ASSESSMENT MEASURES\n",
    "\n",
    "\n",
    "\n",
    "## 1) MAPPING\n",
    "\n",
    "Type 1 (map genome to a bin to best represent bin): map every bin to a genome based on the most abundant genome assigned to that bin in terms of base pairs (length). Default in AMBER method \n",
    "\n",
    "Type 2 (map genome to a bin that best represent genome): map every to a genome whose largest fraction of base pairs to that bin in terms of base pairs. \n",
    "\n",
    "## 2) PURITY (bp)\n",
    "The ratio of base pairs belong to mapped genome (TP) / total base pairs of bin (TP + FP)    note: base pairs = summed length of contigs\n",
    "\n",
    "Contamination = 1 - purity\n",
    "\n",
    "\n",
    "Average purity = sum purity over all bins / total number of bins (averaged over bins)\n",
    "\n",
    "\n",
    "## 3) COMPLETENESS (bp)\n",
    "The ratio of base pairs belong to mapped genome (TP) / total base pairs of mapped genome (TP + FN)\n",
    "\n",
    "Average completeness =  sum completeness over all genomes / (number of bins + number of unmapped genomes)\n",
    "\n",
    "## 4) ACCURACY (bp)\n",
    "Average assignment quality per base pair over the entire dataset\n",
    "\n",
    "sum TP over all bins / (summed length of all bins +  U)\n",
    "\n",
    "where U is the number of unassigned base pairs\n",
    "\n",
    "## 5) ADJUSTED RAND INDEX (bp)\n",
    "Assess clustering of entire assigned portion\n",
    "\n",
    "term1 = number of true pairs considering both bins and genomes\n",
    "\n",
    "term2 = (number of all pairs in bins * number of all pairs in genomes) / number of all pairs in dataset\n",
    "\n",
    "term3 = 0.5 * (all pairs in bins + all pairs in genomes)\n",
    "\n",
    "ARI = (term1 - term2) / (term3 - term2)\n",
    "\n",
    "note: number of all pairs = nucleotide pairs in the sequence (base pairs)\n"
   ]
  },
  {
   "cell_type": "code",
   "execution_count": null,
   "metadata": {},
   "outputs": [],
   "source": []
  }
 ],
 "metadata": {
  "kernelspec": {
   "display_name": ".venv",
   "language": "python",
   "name": "python3"
  },
  "language_info": {
   "codemirror_mode": {
    "name": "ipython",
    "version": 3
   },
   "file_extension": ".py",
   "mimetype": "text/x-python",
   "name": "python",
   "nbconvert_exporter": "python",
   "pygments_lexer": "ipython3",
   "version": "3.8.10"
  },
  "orig_nbformat": 4
 },
 "nbformat": 4,
 "nbformat_minor": 2
}
