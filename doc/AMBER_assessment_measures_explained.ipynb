{
 "cells": [
  {
   "attachments": {},
   "cell_type": "markdown",
   "metadata": {
    "slideshow": {
     "slide_type": "notes"
    }
   },
   "source": [
    "### AMBER ASSESSMENT MEASURES DEFINITION\n",
    "\n",
    "\n",
    "\n",
    "## 1) MAPPING\n",
    "\n",
    "Type 1: Assign every bin to a genome based on the most abundant genome assigned to that bin in terms of base pairs (length).\n",
    "Type 2: Assign every to a genome whose largest fraction of base pairs to that bin in terms of base pairs. \n",
    "\n",
    "## PURITY\n",
    "\n"
   ]
  },
  {
   "cell_type": "code",
   "execution_count": null,
   "metadata": {},
   "outputs": [],
   "source": []
  }
 ],
 "metadata": {
  "kernelspec": {
   "display_name": ".venv",
   "language": "python",
   "name": "python3"
  },
  "language_info": {
   "codemirror_mode": {
    "name": "ipython",
    "version": 3
   },
   "file_extension": ".py",
   "mimetype": "text/x-python",
   "name": "python",
   "nbconvert_exporter": "python",
   "pygments_lexer": "ipython3",
   "version": "3.8.10"
  },
  "orig_nbformat": 4
 },
 "nbformat": 4,
 "nbformat_minor": 2
}
