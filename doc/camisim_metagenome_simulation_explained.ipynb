{
 "cells": [
  {
   "attachments": {},
   "cell_type": "markdown",
   "metadata": {
    "slideshow": {
     "slide_type": "notes"
    }
   },
   "source": [
    "# CAMISIM simulation\n",
    "\n",
    "What CAMISIM offers?\n",
    "1) Simulation of community\n",
    "2) Simulation of metagenome sequence data\n",
    "3) Postprocessing to provide gold-standard files"
   ]
  },
  {
   "attachments": {},
   "cell_type": "markdown",
   "metadata": {},
   "source": [
    "## 1. Simulation of community\n",
    "\n",
    "Abundance profiles of genomes in the community (P<sub>out</sub>) is created.\n",
    "\n",
    "\n",
    "P<sub>in/sub>"
   ]
  },
  {
   "cell_type": "markdown",
   "metadata": {},
   "source": []
  }
 ],
 "metadata": {
  "language_info": {
   "name": "python"
  },
  "orig_nbformat": 4
 },
 "nbformat": 4,
 "nbformat_minor": 2
}
