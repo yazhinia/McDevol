{
 "cells": [
  {
   "attachments": {},
   "cell_type": "markdown",
   "metadata": {
    "slideshow": {
     "slide_type": "notes"
    }
   },
   "source": [
    "# CAMISIM simulation\n",
    "\n",
    "What CAMISIM offers?\n",
    "1) Simulation of community\n",
    "2) Simulation of metagenome sequence data\n",
    "3) Postprocessing to provide gold-standard files"
   ]
  },
  {
   "attachments": {},
   "cell_type": "markdown",
   "metadata": {},
   "source": [
    "## 1. Simulation of community\n",
    "\n",
    "Two ways to simulate community:\\\n",
    "_de novo_ - sampling of available genome sequences in their default directory. \\\n",
    "_user given taxonomic profile_ - input is a list of NCBI complete genomes (bacteria, archaeal, eukaryotes and viruses) in biom format.\n",
    "\n",
    "\n",
    "Input: P<sub>in</sub> specifies pairs of every genome _t_ and its abundance _ab<sub>t</sub>_\n",
    "\n",
    "Output: \n",
    "Abundance profiles of genomes in the community (P<sub>out</sub>) is created.\\\n",
    "Genome sequence collection in P<sub>out</sub> is generated.\n",
    "\n",
    "Algorithm for P<sub>in</sub> to P<sub>out</sub>:\n",
    "1) Map genome set to taxonomic set (F)\n",
    "2) Use input F as P<sub>in</sub> along with maximum strains per F, highest taxonomic rank for similarity \n",
    "3) Check for a given F, find a set of all available complete genome sequences in its taxonomic lineage. If not found raise exclude from the community simulation, otherwise proceed to next step\n",
    "4) Decide on number of genomes to be selected based on truncated geometric distribution (G<sub>i</sub>)\n",
    "5) Generate random number from Lognormal($\\mu$=1,$\\sigma$=2) for each selected genome and obtain ab<sub>i</sub> by multiply random value with ab<sub>t</sub> given in P<sub>in</sub> divided by sum of random numbers generated for all selected genomes\n",
    "6) Return P<sub>out</sub> as pairs of G<sub>i</sub> and ab<sub>i</sub>\n",
    "\n",
    "\n",
    "For _de novo_ community simulation, additional parameters are:\n",
    "g<sub>real</sub>\n",
    "g<sub>tot</sub>\n",
    "if g<sub>tot</sub> > g<sub>real</sub>, sgEvolver is used to simulate strain genomes. The number is genomes to be simulated is determined from geometric distribution ($\\mu$=0.3<sup>-1</sup>)\n"
   ]
  },
  {
   "cell_type": "markdown",
   "metadata": {},
   "source": []
  }
 ],
 "metadata": {
  "language_info": {
   "name": "python"
  },
  "orig_nbformat": 4
 },
 "nbformat": 4,
 "nbformat_minor": 2
}
