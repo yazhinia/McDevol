{
 "cells": [
  {
   "cell_type": "code",
   "execution_count": 1,
   "id": "cf3840f9",
   "metadata": {},
   "outputs": [],
   "source": [
    "%load_ext autoreload\n",
    "%autoreload 2\n",
    "# %debug magic\n",
    "\n",
    "import os\n",
    "import time\n",
    "import subprocess\n",
    "import gc\n",
    "import numpy as np\n",
    "import pandas as pd\n",
    "import optimize_parameters as opt\n",
    "from multiprocessing.pool import Pool\n",
    "from nmf_connected_components import nmf_connected_components\n",
    "import bam2counts"
   ]
  },
  {
   "cell_type": "code",
   "execution_count": 26,
   "id": "6d412d84",
   "metadata": {},
   "outputs": [
    {
     "name": "stdout",
     "output_type": "stream",
     "text": [
      "/big/work/metadevol/benchmark_dataset1/bamfiles/tmp/\n",
      "obtained alpha parameter for read counts 8.458754467078345 in 1.9746041297912598 seconds\n",
      "processing kmer frequencies\n"
     ]
    }
   ],
   "source": [
    "working_dir = '/big/work/metadevol/benchmark_dataset1/bamfiles/tmp/'\n",
    "s = time.time()\n",
    "print(working_dir)\n",
    "\n",
    "\n",
    "\"\"\" obtain read counts \"\"\"\n",
    "# calcreadcounts(input_dir, working_dir, args.minlength)\n",
    "\n",
    "\"\"\" clustering parameters (default) \"\"\"\n",
    "d0 = 1.0\n",
    "d1 = d0\n",
    "min_shared_contigs = 20\n",
    "\n",
    "\"\"\" load contig read counts \"\"\"\n",
    "contig_length = pd.read_csv(working_dir + '../../contigs_umap_hoverdata1', header=None, usecols=[3],sep=' ')\n",
    "contig_length = contig_length.to_numpy().ravel()\n",
    "fractional_counts = pd.read_csv(working_dir + \"total_count\", header=None,sep=' ', engine=\"pyarrow\")\n",
    "read_counts = fractional_counts.pivot_table(index = 1, columns = 0, values = 2)\n",
    "# read_counts = pd.read_pickle(working_dir + 'X_pickle')\n",
    "del(fractional_counts)\n",
    "\n",
    "\n",
    "read_counts = read_counts.to_numpy(dtype=np.float32).T\n",
    "total_contigs, n_size = np.shape(read_counts)\n",
    "\n",
    "# Rc_reads = np.sum(read_counts, axis=1, keepdims=True)\n",
    "\n",
    "R_max = 1e5\n",
    "# read_counts_scaled = np.multiply(read_counts, R_max/(R_max + Rc_reads))\n",
    "Rc_reads = read_counts.sum(axis=1)\n",
    "Rn_reads = read_counts.sum(axis=0)\n",
    "\n",
    "ss = time.time()\n",
    "dirichlet_prior = opt.optimize_alpha(read_counts, Rc_reads, Rn_reads, n_size)\n",
    "print('obtained alpha parameter for read counts', dirichlet_prior, 'in' ,time.time()-ss,'seconds')\n",
    "ss = time.time()\n",
    "dirichlet_prior_persamples  = dirichlet_prior * Rn_reads / Rn_reads.sum()\n",
    "\n",
    "\n",
    "\n",
    "kmer_counts = pd.read_csv(working_dir + \"kmer_counts\", header=None, engine=\"pyarrow\")\n",
    "kmer_counts = kmer_counts.to_numpy(np.float32)\n",
    "kmer_counts = kmer_counts.reshape(total_contigs, 256) # convert 1D array to a 2D array with {total_contigs, all 4-mers} shape  \n",
    "kmer_counts = (kmer_counts / 2)\n",
    "# kmer_counts = kmer_counts[fivesp_index]\n",
    "\n",
    "print(\"processing kmer frequencies\")\n",
    "\n",
    "GC_fractions = pd.read_csv(working_dir + \"GC_fractionof_contigs\", header=None)\n",
    "GC_fractions = GC_fractions.to_numpy()\n",
    "# GC_fractions = GC_fractions[fivesp_index]\n",
    "GC_tetramer = np.array([0, 0, 1, 1, 0, 0, 1, 1, 1, 1, 2, 2, 1, 1, 2, 2, 0, 0, 1, 1, 0, 0, 1, 1, 1, 1,\n",
    "                        2, 2, 1, 1, 2, 2, 1, 1, 2, 2, 1, 1, 2, 2, 2, 2, 3, 3, 2, 2, 3, 3, 1, 1, 2, 2,\n",
    "                        1, 1, 2, 2, 2, 2, 3, 3, 2, 2, 3, 3, 0, 0, 1, 1, 0, 0, 1, 1, 1, 1, 2, 2, 1, 1,\n",
    "                        2, 2, 0, 0, 1, 1, 0, 0, 1, 1, 1, 1, 2, 2, 1, 1, 2, 2, 1, 1, 2, 2, 1, 1, 2, 2,\n",
    "                        2, 2, 3, 3, 2, 2, 3, 3, 1, 1, 2, 2, 1, 1, 2, 2, 2, 2, 3, 3, 2, 2, 3, 3, 1, 1,\n",
    "                        2, 2, 1, 1, 2, 2, 2, 2, 3, 3, 2, 2, 3, 3, 1, 1, 2, 2, 1, 1, 2, 2, 2, 2, 3, 3,\n",
    "                        2, 2, 3, 3, 2, 2, 3, 3, 2, 2, 3, 3, 3, 3, 4, 4, 3, 3, 4, 4, 2, 2, 3, 3, 2, 2,\n",
    "                        3, 3, 3, 3, 4, 4, 3, 3, 4, 4, 1, 1, 2, 2, 1, 1, 2, 2, 2, 2, 3, 3, 2, 2, 3, 3,\n",
    "                        1, 1, 2, 2, 1, 1, 2, 2, 2, 2, 3, 3, 2, 2, 3, 3, 2, 2, 3, 3, 2, 2, 3, 3, 3, 3,\n",
    "                        4, 4, 3, 3, 4, 4, 2, 2, 3, 3, 2, 2, 3, 3, 3, 3, 4, 4, 3, 3, 4, 4])\n",
    "\n",
    "\"\"\" process repeat regions \"\"\"\n",
    "fGC_tGC = GC_fractions ** GC_tetramer\n",
    "fAT_tAT = (1 - GC_fractions) ** (4 - GC_tetramer)\n",
    "ekmer_counts = (np.tile((contig_length - 3)[:, None], (1,256)) * fAT_tAT * fGC_tGC)/16\n",
    "repeat_index = np.nonzero((kmer_counts / ekmer_counts)>3)\n",
    "setind_zero = np.vstack((np.repeat(repeat_index[0],4),\\\n",
    "    np.repeat(repeat_index[1] // 4  * 4, 4) + np.tile([0, 1, 2, 3], np.shape(repeat_index[1]))))\n",
    "kmer_counts[setind_zero[0],setind_zero[1]] = 0\n",
    "del(ekmer_counts, GC_fractions, setind_zero, repeat_index)"
   ]
  },
  {
   "cell_type": "code",
   "execution_count": 27,
   "id": "6093083d",
   "metadata": {},
   "outputs": [],
   "source": [
    "clusters_reads_sum = np.load(working_dir + 'cluster_centroids_read.npy')\n",
    "\n",
    "clusters_kmers_sum = np.load(working_dir + 'cluster_centroids_kmer.npy')"
   ]
  },
  {
   "cell_type": "code",
   "execution_count": 32,
   "id": "32f74f59",
   "metadata": {},
   "outputs": [
    {
     "data": {
      "text/plain": [
       "array([ 13873. ,  10438. ,  26131. ,  20714. ,   7952.5,   8882. ,\n",
       "        20653.5,  23257.5,  37446. ,  23237.5,  36220. ,  43879.5,\n",
       "        26740.5,  24772. ,  39386. ,  27784. ,   7928. ,   7611. ,\n",
       "        11423. ,  14074.5,   5900.5,  10479. ,  22312. ,  22051. ,\n",
       "        31496. ,  23688. ,  39988.5,  46939. ,  34810. ,  32776. ,\n",
       "        58443. ,  40368. ,  31579. ,  32920.5,  27307.5,  31492. ,\n",
       "        14652.5,  24783. ,  24361. ,  23991.5,  33260. ,  31891. ,\n",
       "        24837. ,  46438. ,  48267.5,  33636. ,  62054.5,  44601.5,\n",
       "        23931. ,  23754.5,  28097.5,  27533.5,   9141. ,  23354.5,\n",
       "        29544.5,  25749.5,  43673. ,  30360. ,  49360. ,  58801.5,\n",
       "        37020.5,  31891. ,  53236. ,  25886. ,   7489.5,   5900.5,\n",
       "        10384. ,  10051.5,   4137. ,   7952.5,  12826.5,  16118. ,\n",
       "        11520.5,   9141. ,   9735.5,  14961.5,  15454. ,  14652.5,\n",
       "        26540.5,  20538. ,   4752. ,   7928. ,   5841.5,  15291.5,\n",
       "         7468. ,  13864.5,  26021. ,  23770.5,  29438. ,  23918.5,\n",
       "        27977.5,  47766.5,  34880. ,  31551.5,  54070. ,  37340. ,\n",
       "        34825.5,  34877.5,  29714. ,  34002.5,  15450.5,  26740.5,\n",
       "        29905. ,  31226.5,  39821. ,  37020.5,  32667. ,  56957. ,\n",
       "        46829. ,  48137.5,  77707. ,  61043. ,  29357.5,  31477. ,\n",
       "        36247.5,  36391. ,  11444.5,  37446. ,  39630.5,  34042.5,\n",
       "        53991. ,  43078.5,  47290.5,  76384.5,  39821. ,  33260. ,\n",
       "        50763. ,  27973.5,  23478. ,  21715.5,  66786.5,  42616.5,\n",
       "        15770. ,  22752.5,  62179. ,  61611. ,  34278.5,  25749.5,\n",
       "        36153. ,  48546.5,  31242. ,  23991.5,  65661. ,  42370.5,\n",
       "        15291.5,  14074.5,  23269.5,  24534. ,  10021. ,  20737. ,\n",
       "        44175. ,  43363. ,  36512. ,  27542.5,  44043. ,  54034.5,\n",
       "        34139. ,  31536.5,  61990. ,  35589.5,  37415.5,  40594.5,\n",
       "        38219.5,  35589.5,  20538. ,  27793. ,  57325. ,  42370.5,\n",
       "        27973.5,  25886. ,  19908.5,  46349.5,  61233.5,  44625. ,\n",
       "        90691.5,  56422. ,  47725. ,  47015.5,  85554. ,  53989.5,\n",
       "        14955.5,  44137.5,  80906. ,  48512. ,  77459.5,  58801.5,\n",
       "        87896. , 100845. ,  56957. ,  46438. , 103235.5,  46349.5,\n",
       "        26079. ,  22272. ,  36290.5,  44168.5,  12741.5,  20516. ,\n",
       "        44336. ,  63152.5,  39826. ,  29516. ,  54002.5,  80906. ,\n",
       "        29916. ,  24361. ,  50597. ,  57325. ,   5842. ,  11423. ,\n",
       "         4817. ,  23272. ,  10222.5,  25799. ,  35531.5,  66786.5,\n",
       "        36303.5,  28066. ,  54183.5,  85554. ,  29825.5,  27347.5,\n",
       "        49347.5,  38219.5,  54081.5,  58660.5,  49224. ,  61834.5,\n",
       "        26540.5,  39403. ,  50597. ,  65661. ,  50763. ,  53236. ,\n",
       "        42708. , 103235.5,  77979.5,  62094. ,  94229. ,  90691.5,\n",
       "        27994. ,  40148. ,  54242.5,  44055. ,   9735.5,  36486. ,\n",
       "        54054. ,  36153. ,  47962.5,  49360. ,  64728. ,  87896. ,\n",
       "        32667. ,  24837. ,  42708. ,  19908.5], dtype=float32)"
      ]
     },
     "execution_count": 32,
     "metadata": {},
     "output_type": "execute_result"
    }
   ],
   "source": [
    "clusters_kmers_sum[0]"
   ]
  },
  {
   "cell_type": "code",
   "execution_count": 33,
   "id": "779dfeb8",
   "metadata": {},
   "outputs": [
    {
     "data": {
      "text/plain": [
       "array([ 13873. ,  10438. ,  26131. ,  20714. ,   7952.5,   8882. ,\n",
       "        20653.5,  23257.5,  37446. ,  23237.5,  36220. ,  43879.5,\n",
       "        26740.5,  24772. ,  39386. ,  27784. ,   7928. ,   7611. ,\n",
       "        11423. ,  14074.5,   5900.5,  10479. ,  22312. ,  22051. ,\n",
       "        31496. ,  23688. ,  39988.5,  46939. ,  34810. ,  32776. ,\n",
       "        58443. ,  40368. ,  31579. ,  32920.5,  27307.5,  31492. ,\n",
       "        14652.5,  24783. ,  24361. ,  23991.5,  33260. ,  31891. ,\n",
       "        24837. ,  46438. ,  48267.5,  33636. ,  62054.5,  44601.5,\n",
       "        23931. ,  23754.5,  28097.5,  27533.5,   9141. ,  23354.5,\n",
       "        29544.5,  25749.5,  43673. ,  30360. ,  49360. ,  58801.5,\n",
       "        37020.5,  31891. ,  53236. ,  25886. ,   7489.5,   5900.5,\n",
       "        10384. ,  10051.5,   4137. ,   7952.5,  12826.5,  16118. ,\n",
       "        11520.5,   9141. ,   9735.5,  14961.5,  15454. ,  14652.5,\n",
       "        26540.5,  20538. ,   4752. ,   7928. ,   5841.5,  15291.5,\n",
       "         7468. ,  13864.5,  26021. ,  23770.5,  29438. ,  23918.5,\n",
       "        27977.5,  47766.5,  34880. ,  31551.5,  54070. ,  37340. ,\n",
       "        34825.5,  34877.5,  29714. ,  34002.5,  15450.5,  26740.5,\n",
       "        29905. ,  31226.5,  39821. ,  37020.5,  32667. ,  56957. ,\n",
       "        46829. ,  48137.5,  77707. ,  61043. ,  29357.5,  31477. ,\n",
       "        36247.5,  36391. ,  11444.5,  37446. ,  39630.5,  34042.5,\n",
       "        53991. ,  43078.5,  47290.5,  76384.5,  39821. ,  33260. ,\n",
       "        50763. ,  27973.5,  23478. ,  21715.5,  66786.5,  42616.5,\n",
       "        15770. ,  22752.5,  62179. ,  61611. ,  34278.5,  25749.5,\n",
       "        36153. ,  48546.5,  31242. ,  23991.5,  65661. ,  42370.5,\n",
       "        15291.5,  14074.5,  23269.5,  24534. ,  10021. ,  20737. ,\n",
       "        44175. ,  43363. ,  36512. ,  27542.5,  44043. ,  54034.5,\n",
       "        34139. ,  31536.5,  61990. ,  35589.5,  37415.5,  40594.5,\n",
       "        38219.5,  35589.5,  20538. ,  27793. ,  57325. ,  42370.5,\n",
       "        27973.5,  25886. ,  19908.5,  46349.5,  61233.5,  44625. ,\n",
       "        90691.5,  56422. ,  47725. ,  47015.5,  85554. ,  53989.5,\n",
       "        14955.5,  44137.5,  80906. ,  48512. ,  77459.5,  58801.5,\n",
       "        87896. , 100845. ,  56957. ,  46438. , 103235.5,  46349.5,\n",
       "        26079. ,  22272. ,  36290.5,  44168.5,  12741.5,  20516. ,\n",
       "        44336. ,  63152.5,  39826. ,  29516. ,  54002.5,  80906. ,\n",
       "        29916. ,  24361. ,  50597. ,  57325. ,   5842. ,  11423. ,\n",
       "         4817. ,  23272. ,  10222.5,  25799. ,  35531.5,  66786.5,\n",
       "        36303.5,  28066. ,  54183.5,  85554. ,  29825.5,  27347.5,\n",
       "        49347.5,  38219.5,  54081.5,  58660.5,  49224. ,  61834.5,\n",
       "        26540.5,  39403. ,  50597. ,  65661. ,  50763. ,  53236. ,\n",
       "        42708. , 103235.5,  77979.5,  62094. ,  94229. ,  90691.5,\n",
       "        27994. ,  40148. ,  54242.5,  44055. ,   9735.5,  36486. ,\n",
       "        54054. ,  36153. ,  47962.5,  49360. ,  64728. ,  87896. ,\n",
       "        32667. ,  24837. ,  42708. ,  19908.5], dtype=float32)"
      ]
     },
     "execution_count": 33,
     "metadata": {},
     "output_type": "execute_result"
    }
   ],
   "source": [
    "cluster_members = pd.read_csv(working_dir + 'cluster_assigned_checkcc', header=None, sep=' ')\n",
    "\n",
    "kmer_counts[np.array(cluster_members[cluster_members[1]==0][0])].sum(axis=0)"
   ]
  },
  {
   "cell_type": "code",
   "execution_count": 23,
   "id": "1ea3fb5e",
   "metadata": {},
   "outputs": [
    {
     "data": {
      "text/plain": [
       "45759    3583\n",
       "Name: 0, dtype: int64"
      ]
     },
     "execution_count": 23,
     "metadata": {},
     "output_type": "execute_result"
    }
   ],
   "source": [
    "cluster_members[cluster_members[1]==36][0]"
   ]
  },
  {
   "cell_type": "code",
   "execution_count": 24,
   "id": "b225428f",
   "metadata": {},
   "outputs": [
    {
     "data": {
      "text/plain": [
       "0         0\n",
       "1         0\n",
       "2         0\n",
       "3         0\n",
       "4         0\n",
       "         ..\n",
       "45755    35\n",
       "45756    35\n",
       "45757    35\n",
       "45758    35\n",
       "45759    36\n",
       "Name: 1, Length: 45760, dtype: int64"
      ]
     },
     "execution_count": 24,
     "metadata": {},
     "output_type": "execute_result"
    }
   ],
   "source": [
    "cluster_members[1]"
   ]
  },
  {
   "cell_type": "code",
   "execution_count": 62,
   "id": "465e12b1",
   "metadata": {},
   "outputs": [],
   "source": [
    "import pandas as pd\n",
    "working_dir = \"/big/work/metadevol/cami2_datasets/marine/bowtie_bamfiles/tmp/\"\n",
    "a = pd.read_csv(working_dir + '20sp_check/bin_assignments_old_cc_m1', header=None, sep='\\t')"
   ]
  },
  {
   "cell_type": "code",
   "execution_count": 63,
   "id": "36b7d1b9",
   "metadata": {},
   "outputs": [],
   "source": [
    "labels = pd.read_csv(working_dir + '20sp_check/20spcontigs_labels', header=None, sep=' ')\n",
    "\n",
    "labels.merge(a,left_on = 3,right_on = 0)[[6,'1_y']].to_csv(working_dir + '20sp_check/20sp_bins_m1', header=None, sep='\\t')\n",
    "    "
   ]
  },
  {
   "cell_type": "code",
   "execution_count": 57,
   "id": "c623729f",
   "metadata": {},
   "outputs": [
    {
     "data": {
      "text/html": [
       "<div>\n",
       "<style scoped>\n",
       "    .dataframe tbody tr th:only-of-type {\n",
       "        vertical-align: middle;\n",
       "    }\n",
       "\n",
       "    .dataframe tbody tr th {\n",
       "        vertical-align: top;\n",
       "    }\n",
       "\n",
       "    .dataframe thead th {\n",
       "        text-align: right;\n",
       "    }\n",
       "</style>\n",
       "<table border=\"1\" class=\"dataframe\">\n",
       "  <thead>\n",
       "    <tr style=\"text-align: right;\">\n",
       "      <th></th>\n",
       "      <th>0_x</th>\n",
       "      <th>1_x</th>\n",
       "      <th>2</th>\n",
       "      <th>3</th>\n",
       "      <th>4</th>\n",
       "      <th>5</th>\n",
       "      <th>6</th>\n",
       "      <th>0_y</th>\n",
       "      <th>1_y</th>\n",
       "    </tr>\n",
       "  </thead>\n",
       "  <tbody>\n",
       "    <tr>\n",
       "      <th>526</th>\n",
       "      <td>8072</td>\n",
       "      <td>8072</td>\n",
       "      <td>181465</td>\n",
       "      <td>S0C181465</td>\n",
       "      <td>8072</td>\n",
       "      <td>3583</td>\n",
       "      <td>Otu30.0</td>\n",
       "      <td>S0C181465</td>\n",
       "      <td>12</td>\n",
       "    </tr>\n",
       "  </tbody>\n",
       "</table>\n",
       "</div>"
      ],
      "text/plain": [
       "      0_x   1_x       2          3     4     5        6        0_y  1_y\n",
       "526  8072  8072  181465  S0C181465  8072  3583  Otu30.0  S0C181465   12"
      ]
     },
     "execution_count": 57,
     "metadata": {},
     "output_type": "execute_result"
    }
   ],
   "source": [
    "intrmd_check = labels.merge(a, left_on=3, right_on=0)\n",
    "\n",
    "\n",
    "intrmd_check[(intrmd_check[6]=='Otu30.0')&(intrmd_check['1_y']==12)]"
   ]
  },
  {
   "cell_type": "code",
   "execution_count": 64,
   "id": "14b536c0",
   "metadata": {},
   "outputs": [],
   "source": [
    "contig_labels = pd.read_csv(working_dir + 'examine_cluster', header=None, sep = ' ')"
   ]
  },
  {
   "cell_type": "code",
   "execution_count": 74,
   "id": "1f8290ba",
   "metadata": {},
   "outputs": [],
   "source": [
    "sp10_labels = contig_labels[contig_labels[5].isin([\"RNODE_166_length_2298_cov_14.88049\",\"RNODE_279_length_3658_cov_27.56711\",\"Otu137.0\",\"Otu186.0\",\"Otu235.0\",\"Otu12.0\",\"Otu2.0\",\"Otu3.1\",\"Otu453\",\"Otu78\"])]\n",
    "\n",
    "\n",
    "\n"
   ]
  },
  {
   "cell_type": "code",
   "execution_count": 90,
   "id": "783d10f9",
   "metadata": {},
   "outputs": [],
   "source": [
    "sp10_labels.to_csv(working_dir + '10sp_check/10spcontig_labels', header=None, index=False)"
   ]
  },
  {
   "cell_type": "code",
   "execution_count": 86,
   "id": "dff05d73",
   "metadata": {},
   "outputs": [
    {
     "data": {
      "text/plain": [
       "6629"
      ]
     },
     "execution_count": 86,
     "metadata": {},
     "output_type": "execute_result"
    }
   ],
   "source": [
    "len(contig_labels[contig_labels[5]=='Otu78'])"
   ]
  },
  {
   "cell_type": "code",
   "execution_count": 119,
   "id": "f4e7f8df",
   "metadata": {},
   "outputs": [
    {
     "data": {
      "text/plain": [
       "array([[ 51.35858088, 214.87882548,  41.30543784, ..., 442.59722918,\n",
       "         39.78472073,  20.01840737],\n",
       "       [282.09524221, 324.12400559, 213.77422407, ..., 485.02290892,\n",
       "        210.53411197, 155.52618208],\n",
       "       [ 28.86397193,  55.79455888,  17.87162077, ..., 430.75111685,\n",
       "         54.78198185,  29.91039035],\n",
       "       ...,\n",
       "       [ 18.89833745,  29.07630937,  15.29564232, ...,  27.00702961,\n",
       "         12.88795705,   9.22982012],\n",
       "       [ 27.05223049,  28.92243163,  17.24778955, ...,  19.48683552,\n",
       "          9.56407076,   7.7658144 ],\n",
       "       [ 21.35367671,  21.93381241,  15.42486312, ...,  28.41348191,\n",
       "         15.7184804 ,  13.02759923]])"
      ]
     },
     "execution_count": 119,
     "metadata": {},
     "output_type": "execute_result"
    }
   ],
   "source": [
    "import numpy as np\n",
    "dist_scp = np.load(working_dir + '10sp_check/distance_list_scp.npy')\n",
    "\n",
    "dist = np.load(working_dir + '10sp_check/distance_list.npy')\n",
    "\n",
    "dist\n"
   ]
  },
  {
   "cell_type": "code",
   "execution_count": 129,
   "id": "37e015fb",
   "metadata": {},
   "outputs": [
    {
     "name": "stdout",
     "output_type": "stream",
     "text": [
      "121 0\n"
     ]
    }
   ],
   "source": [
    "print(np.count_nonzero(dist[573]<1.0),np.count_nonzero(dist_scp[573]<1.0))"
   ]
  },
  {
   "cell_type": "code",
   "execution_count": 164,
   "id": "a12fecf8",
   "metadata": {},
   "outputs": [
    {
     "data": {
      "text/plain": [
       "(array([16349, 18042, 18760, 20267, 22063]),)"
      ]
     },
     "execution_count": 164,
     "metadata": {},
     "output_type": "execute_result"
    }
   ],
   "source": [
    "np.where(abs(dist[0,]-dist_scp[0,])>0.06)"
   ]
  },
  {
   "cell_type": "code",
   "execution_count": 140,
   "id": "965e1d33",
   "metadata": {},
   "outputs": [
    {
     "data": {
      "text/plain": [
       "64872.677142123626"
      ]
     },
     "execution_count": 140,
     "metadata": {},
     "output_type": "execute_result"
    }
   ],
   "source": [
    "dist[0,140]"
   ]
  },
  {
   "cell_type": "code",
   "execution_count": 141,
   "id": "0c195b1c",
   "metadata": {},
   "outputs": [
    {
     "data": {
      "text/plain": [
       "64872.70280627539"
      ]
     },
     "execution_count": 141,
     "metadata": {},
     "output_type": "execute_result"
    }
   ],
   "source": [
    "dist_scp[0,140]"
   ]
  },
  {
   "cell_type": "code",
   "execution_count": 142,
   "id": "707bef49",
   "metadata": {},
   "outputs": [
    {
     "data": {
      "text/html": [
       "<div>\n",
       "<style scoped>\n",
       "    .dataframe tbody tr th:only-of-type {\n",
       "        vertical-align: middle;\n",
       "    }\n",
       "\n",
       "    .dataframe tbody tr th {\n",
       "        vertical-align: top;\n",
       "    }\n",
       "\n",
       "    .dataframe thead th {\n",
       "        text-align: right;\n",
       "    }\n",
       "</style>\n",
       "<table border=\"1\" class=\"dataframe\">\n",
       "  <thead>\n",
       "    <tr style=\"text-align: right;\">\n",
       "      <th></th>\n",
       "      <th>0</th>\n",
       "      <th>1</th>\n",
       "      <th>2</th>\n",
       "      <th>3</th>\n",
       "      <th>4</th>\n",
       "      <th>5</th>\n",
       "    </tr>\n",
       "  </thead>\n",
       "  <tbody>\n",
       "    <tr>\n",
       "      <th>4</th>\n",
       "      <td>4</td>\n",
       "      <td>120</td>\n",
       "      <td>S0C120</td>\n",
       "      <td>4</td>\n",
       "      <td>1868</td>\n",
       "      <td>RNODE_166_length_2298_cov_14.88049</td>\n",
       "    </tr>\n",
       "    <tr>\n",
       "      <th>18</th>\n",
       "      <td>18</td>\n",
       "      <td>482</td>\n",
       "      <td>S0C482</td>\n",
       "      <td>18</td>\n",
       "      <td>2448</td>\n",
       "      <td>Otu137.0</td>\n",
       "    </tr>\n",
       "    <tr>\n",
       "      <th>19</th>\n",
       "      <td>19</td>\n",
       "      <td>489</td>\n",
       "      <td>S0C489</td>\n",
       "      <td>19</td>\n",
       "      <td>1613</td>\n",
       "      <td>Otu235.0</td>\n",
       "    </tr>\n",
       "    <tr>\n",
       "      <th>32</th>\n",
       "      <td>32</td>\n",
       "      <td>774</td>\n",
       "      <td>S0C774</td>\n",
       "      <td>32</td>\n",
       "      <td>2609</td>\n",
       "      <td>Otu235.0</td>\n",
       "    </tr>\n",
       "    <tr>\n",
       "      <th>107</th>\n",
       "      <td>107</td>\n",
       "      <td>2389</td>\n",
       "      <td>S0C2389</td>\n",
       "      <td>107</td>\n",
       "      <td>1793</td>\n",
       "      <td>Otu137.0</td>\n",
       "    </tr>\n",
       "    <tr>\n",
       "      <th>...</th>\n",
       "      <td>...</td>\n",
       "      <td>...</td>\n",
       "      <td>...</td>\n",
       "      <td>...</td>\n",
       "      <td>...</td>\n",
       "      <td>...</td>\n",
       "    </tr>\n",
       "    <tr>\n",
       "      <th>701845</th>\n",
       "      <td>701845</td>\n",
       "      <td>18052927</td>\n",
       "      <td>S9C1583157</td>\n",
       "      <td>701845</td>\n",
       "      <td>1744</td>\n",
       "      <td>Otu78</td>\n",
       "    </tr>\n",
       "    <tr>\n",
       "      <th>701855</th>\n",
       "      <td>701855</td>\n",
       "      <td>18053215</td>\n",
       "      <td>S9C1583445</td>\n",
       "      <td>701855</td>\n",
       "      <td>3182</td>\n",
       "      <td>Otu78</td>\n",
       "    </tr>\n",
       "    <tr>\n",
       "      <th>701881</th>\n",
       "      <td>701881</td>\n",
       "      <td>18054038</td>\n",
       "      <td>S9C1584268</td>\n",
       "      <td>701881</td>\n",
       "      <td>3577</td>\n",
       "      <td>RNODE_279_length_3658_cov_27.56711</td>\n",
       "    </tr>\n",
       "    <tr>\n",
       "      <th>701887</th>\n",
       "      <td>701887</td>\n",
       "      <td>18054133</td>\n",
       "      <td>S9C1584363</td>\n",
       "      <td>701887</td>\n",
       "      <td>2403</td>\n",
       "      <td>Otu78</td>\n",
       "    </tr>\n",
       "    <tr>\n",
       "      <th>701956</th>\n",
       "      <td>701956</td>\n",
       "      <td>18055793</td>\n",
       "      <td>S9C1586023</td>\n",
       "      <td>701956</td>\n",
       "      <td>1732</td>\n",
       "      <td>Otu78</td>\n",
       "    </tr>\n",
       "  </tbody>\n",
       "</table>\n",
       "<p>22935 rows × 6 columns</p>\n",
       "</div>"
      ],
      "text/plain": [
       "             0         1           2       3     4  \\\n",
       "4            4       120      S0C120       4  1868   \n",
       "18          18       482      S0C482      18  2448   \n",
       "19          19       489      S0C489      19  1613   \n",
       "32          32       774      S0C774      32  2609   \n",
       "107        107      2389     S0C2389     107  1793   \n",
       "...        ...       ...         ...     ...   ...   \n",
       "701845  701845  18052927  S9C1583157  701845  1744   \n",
       "701855  701855  18053215  S9C1583445  701855  3182   \n",
       "701881  701881  18054038  S9C1584268  701881  3577   \n",
       "701887  701887  18054133  S9C1584363  701887  2403   \n",
       "701956  701956  18055793  S9C1586023  701956  1732   \n",
       "\n",
       "                                         5  \n",
       "4       RNODE_166_length_2298_cov_14.88049  \n",
       "18                                Otu137.0  \n",
       "19                                Otu235.0  \n",
       "32                                Otu235.0  \n",
       "107                               Otu137.0  \n",
       "...                                    ...  \n",
       "701845                               Otu78  \n",
       "701855                               Otu78  \n",
       "701881  RNODE_279_length_3658_cov_27.56711  \n",
       "701887                               Otu78  \n",
       "701956                               Otu78  \n",
       "\n",
       "[22935 rows x 6 columns]"
      ]
     },
     "execution_count": 142,
     "metadata": {},
     "output_type": "execute_result"
    }
   ],
   "source": [
    "sp10_labels"
   ]
  },
  {
   "cell_type": "code",
   "execution_count": 148,
   "id": "c28314a6",
   "metadata": {},
   "outputs": [
    {
     "data": {
      "text/plain": [
       "array([[12.    ,  8.    , 11.    , ..., 27.    , 21.    , 22.    ],\n",
       "       [50.    ,  0.    , 42.    , ...,  7.    , 37.    , 22.    ],\n",
       "       [29.    ,  0.    ,  4.    , ...,  4.    ,  5.    ,  0.    ],\n",
       "       ...,\n",
       "       [ 0.    ,  4.    ,  0.    , ..., 19.    ,  9.    , 23.    ],\n",
       "       [53.    , 11.    , 34.    , ..., 17.    , 14.    , 18.    ],\n",
       "       [31.8333, 27.8333, 26.    , ..., 22.8333, 16.6667, 42.75  ]])"
      ]
     },
     "execution_count": 148,
     "metadata": {},
     "output_type": "execute_result"
    }
   ],
   "source": [
    "fractional_counts = pd.read_csv(working_dir + \"total_count\", header=None,sep=' ', engine=\"pyarrow\")\n",
    "read_counts = fractional_counts.pivot_table(index = 1, columns = 0, values = 2)\n",
    "read_counts = read_counts.to_numpy().T\n",
    "read_counts\n"
   ]
  },
  {
   "cell_type": "code",
   "execution_count": 152,
   "id": "442aa96e",
   "metadata": {},
   "outputs": [],
   "source": [
    "read_counts_10spsubset = read_counts[sp10_labels[0]]\n",
    "\n",
    "\n"
   ]
  },
  {
   "cell_type": "code",
   "execution_count": 155,
   "id": "dc405689",
   "metadata": {},
   "outputs": [
    {
     "data": {
      "text/plain": [
       "array([172.583, 180.583, 207.75 , 172.267, 320.15 , 289.9  , 240.767,\n",
       "       407.117, 356.333, 421.767])"
      ]
     },
     "execution_count": 155,
     "metadata": {},
     "output_type": "execute_result"
    }
   ],
   "source": [
    "read_counts_10spsubset[141]"
   ]
  },
  {
   "cell_type": "code",
   "execution_count": 327,
   "id": "e3a0cf48",
   "metadata": {},
   "outputs": [],
   "source": [
    "import distance_calculations as dd\n",
    "import metadevol_distance as md\n",
    "\n",
    "dirichlet_prior_persamples = np.array([3.2069691,2.43203358,2.65355495,2.55374723,2.21106783,3.69042702,2.5254087,3.03202709,3.2940621,3.33652754])\n",
    "dirichlet_prior = np.array([28.935825136429212])\n",
    "\n",
    "dist_dc = dd.distance(read_counts_10spsubset[22105], read_counts_10spsubset, read_counts_10spsubset[22105].sum(), read_counts_10spsubset.sum(axis=1), dirichlet_prior_persamples, dirichlet_prior, 0)\n",
    "dist_dc1 = dd.distance(read_counts_10spsubset[20369], read_counts_10spsubset, read_counts_10spsubset[20369].sum(), read_counts_10spsubset.sum(axis=1), dirichlet_prior_persamples, dirichlet_prior, 0)\n",
    "dist_d = dd.distance(read_counts_10spsubset[7762], read_counts_10spsubset, read_counts_10spsubset[7762].sum(), read_counts_10spsubset.sum(axis=1), dirichlet_prior_persamples, dirichlet_prior, 0)\n",
    "dist_d1 = dd.distance(read_counts_10spsubset[18760], read_counts_10spsubset, read_counts_10spsubset[18760].sum(), read_counts_10spsubset.sum(axis=1), dirichlet_prior_persamples, dirichlet_prior, 0)\n",
    "\n"
   ]
  },
  {
   "cell_type": "code",
   "execution_count": 326,
   "id": "1502b88e",
   "metadata": {},
   "outputs": [],
   "source": [
    "dist_mc = md.compute_readcountdist(22105, read_counts_10spsubset, read_counts_10spsubset.sum(axis=1), dirichlet_prior, dirichlet_prior_persamples)\n",
    "dist_mc1 = md.compute_readcountdist(20369, read_counts_10spsubset, read_counts_10spsubset.sum(axis=1), dirichlet_prior, dirichlet_prior_persamples)\n",
    "dist_m = md.compute_readcountdist(7762, read_counts_10spsubset, read_counts_10spsubset.sum(axis=1), dirichlet_prior, dirichlet_prior_persamples)\n",
    "dist_m1= md.compute_readcountdist(18760, read_counts_10spsubset, read_counts_10spsubset.sum(axis=1), dirichlet_prior, dirichlet_prior_persamples)\n",
    "\n",
    "\n"
   ]
  },
  {
   "cell_type": "code",
   "execution_count": 197,
   "id": "764c0de2",
   "metadata": {},
   "outputs": [
    {
     "data": {
      "text/plain": [
       "array([], dtype=int64)"
      ]
     },
     "execution_count": 197,
     "metadata": {},
     "output_type": "execute_result"
    }
   ],
   "source": [
    "np.setdiff1d(np.nonzero(dist_d < 1.0)[0], np.nonzero(dist_m < 1.0)[0])"
   ]
  },
  {
   "cell_type": "code",
   "execution_count": 293,
   "id": "20bc1a3f",
   "metadata": {},
   "outputs": [
    {
     "data": {
      "text/plain": [
       "array([1.04554143e-11, 2.28517205e-11, 9.99769172e-01, 2.24311680e-11])"
      ]
     },
     "execution_count": 293,
     "metadata": {},
     "output_type": "execute_result"
    }
   ],
   "source": [
    "dist_m[[7762,18760,13904,22105]]"
   ]
  },
  {
   "cell_type": "code",
   "execution_count": 294,
   "id": "4e436175",
   "metadata": {},
   "outputs": [
    {
     "data": {
      "text/plain": [
       "array([1.04606129e-11, 2.25897630e-11, 1.00007245e+00, 2.26873565e-11])"
      ]
     },
     "execution_count": 294,
     "metadata": {},
     "output_type": "execute_result"
    }
   ],
   "source": [
    "dist_d[[7762,18760,13904,22105]]"
   ]
  },
  {
   "cell_type": "code",
   "execution_count": 251,
   "id": "276fc1df",
   "metadata": {},
   "outputs": [
    {
     "data": {
      "text/plain": [
       "array([8712])"
      ]
     },
     "execution_count": 251,
     "metadata": {},
     "output_type": "execute_result"
    }
   ],
   "source": [
    "np.setdiff1d(np.nonzero(dist_m[iterate_inds]<1.0)[0], np.nonzero(dist_d[iterate_inds]< 1.0)[0])"
   ]
  },
  {
   "cell_type": "code",
   "execution_count": 295,
   "id": "9eb7060c",
   "metadata": {},
   "outputs": [
    {
     "data": {
      "text/plain": [
       "array([2.26873565e-11, 1.18942677e+00, 2.99045105e-18])"
      ]
     },
     "execution_count": 295,
     "metadata": {},
     "output_type": "execute_result"
    }
   ],
   "source": [
    "dist_dc[[7762,18760,22105]]"
   ]
  },
  {
   "cell_type": "code",
   "execution_count": 296,
   "id": "9cd1d619",
   "metadata": {},
   "outputs": [
    {
     "data": {
      "text/plain": [
       "array([2.24311680e-11, 1.20757942e+00, 0.00000000e+00])"
      ]
     },
     "execution_count": 296,
     "metadata": {},
     "output_type": "execute_result"
    }
   ],
   "source": [
    "dist_mc[[7762,18760,22105]]"
   ]
  },
  {
   "cell_type": "code",
   "execution_count": 329,
   "id": "e757c4b1",
   "metadata": {},
   "outputs": [
    {
     "name": "stdout",
     "output_type": "stream",
     "text": [
      "center 1 [2.24311680e-11 1.20757942e+00 0.00000000e+00 0.00000000e+00] [2.26873565e-11 1.18942677e+00 2.99045105e-18 3.25396863e-18]\n",
      "center 2 [2.15649720e-11 2.45017132e-01 0.00000000e+00 0.00000000e+00] [2.17953649e-11 2.40112845e-01 3.25396863e-18 3.01714563e-18]\n",
      "1st member 7762 [1.04554143e-11 2.28517205e-11 2.24311680e-11 2.15649720e-11] [1.04606129e-11 2.25897630e-11 2.26873565e-11 2.17953649e-11]\n",
      "2nd member 18760 [2.28517205e-11 0.00000000e+00 1.20757942e+00 2.45017132e-01] [2.25897630e-11 4.05555171e-18 1.18942677e+00 2.40112845e-01]\n"
     ]
    }
   ],
   "source": [
    "print(\"center 1\", dist_mc[[7762,18760,22105,20369]],dist_dc[[7762,18760,22105,20369]])\n",
    "print(\"center 2\", dist_mc1[[7762,18760,22105,20369]],dist_dc1[[7762,18760,22105,20369]])\n",
    "\n",
    "print(\"1st member 7762\", dist_m[[7762,18760,22105,20369]],dist_d[[7762,18760,22105,20369]])\n",
    "\n",
    "print(\"2nd member 18760\", dist_m1[[7762,18760,22105,20369]],dist_d1[[7762,18760,22105,20369]])"
   ]
  },
  {
   "cell_type": "code",
   "execution_count": 331,
   "id": "a5c2a949",
   "metadata": {},
   "outputs": [
    {
     "data": {
      "text/plain": [
       "array([  71360.7, 1890706.2, 2040818.2, 2035412. ])"
      ]
     },
     "execution_count": 331,
     "metadata": {},
     "output_type": "execute_result"
    }
   ],
   "source": [
    "read_counts_10spsubset.sum(axis=1)[[7762,18760,22105,20369]]"
   ]
  },
  {
   "cell_type": "code",
   "execution_count": 344,
   "id": "76a535ac",
   "metadata": {},
   "outputs": [],
   "source": [
    "centroid_list = np.load(working_dir + '10sp_check/clustercentroids_list_md.npy')\n",
    "centroid_list_md = np.load(working_dir + '10sp_check/clustercentroids_list_md.npy')"
   ]
  },
  {
   "cell_type": "code",
   "execution_count": 349,
   "id": "31093422",
   "metadata": {},
   "outputs": [
    {
     "data": {
      "text/plain": [
       "array([], dtype=int64)"
      ]
     },
     "execution_count": 349,
     "metadata": {},
     "output_type": "execute_result"
    }
   ],
   "source": [
    "np.setdiff1d(np.nonzero(dist_m[centroid_list]<1.0)[0],np.nonzero(dist_d[centroid_list]<1.0)[0])"
   ]
  },
  {
   "cell_type": "code",
   "execution_count": 323,
   "id": "3d879379",
   "metadata": {},
   "outputs": [
    {
     "data": {
      "text/plain": [
       "array([   20,    21,    22, ..., 12512, 12760, 12995])"
      ]
     },
     "execution_count": 323,
     "metadata": {},
     "output_type": "execute_result"
    }
   ],
   "source": [
    "np.nonzero(dist_d[centroid_list]<1.0)[0]"
   ]
  },
  {
   "cell_type": "code",
   "execution_count": 310,
   "id": "dee3eea8",
   "metadata": {},
   "outputs": [
    {
     "data": {
      "text/plain": [
       "1104"
      ]
     },
     "execution_count": 310,
     "metadata": {},
     "output_type": "execute_result"
    }
   ],
   "source": [
    "len(np.nonzero(dist_m[centroid_list]<1.0)[0])"
   ]
  },
  {
   "cell_type": "code",
   "execution_count": 339,
   "id": "33e0f2ef",
   "metadata": {},
   "outputs": [
    {
     "data": {
      "text/plain": [
       "20369"
      ]
     },
     "execution_count": 339,
     "metadata": {},
     "output_type": "execute_result"
    }
   ],
   "source": [
    "centroid_list[21]"
   ]
  },
  {
   "cell_type": "code",
   "execution_count": 342,
   "id": "85ecf532",
   "metadata": {},
   "outputs": [
    {
     "data": {
      "text/plain": [
       "0"
      ]
     },
     "execution_count": 342,
     "metadata": {},
     "output_type": "execute_result"
    }
   ],
   "source": [
    "len(centroid_list) - len(centroid_list_md)"
   ]
  },
  {
   "cell_type": "code",
   "execution_count": 348,
   "id": "83e1796f",
   "metadata": {},
   "outputs": [
    {
     "data": {
      "text/plain": [
       "917"
      ]
     },
     "execution_count": 348,
     "metadata": {},
     "output_type": "execute_result"
    }
   ],
   "source": [
    "len(centroid_list_md)"
   ]
  },
  {
   "cell_type": "code",
   "execution_count": 347,
   "id": "5dd672d7",
   "metadata": {},
   "outputs": [
    {
     "data": {
      "text/plain": [
       "917"
      ]
     },
     "execution_count": 347,
     "metadata": {},
     "output_type": "execute_result"
    }
   ],
   "source": [
    "len(centroid_list)"
   ]
  },
  {
   "cell_type": "code",
   "execution_count": 361,
   "id": "ab470aec",
   "metadata": {},
   "outputs": [],
   "source": [
    "centroid_labels = sp10_labels.iloc[centroid_list]\n",
    "\n",
    "centroid_labels[centroid_labels[5]=='Otu235.0'].to_csv(working_dir + '10sp_check/centroid235_list', header=None, sep=' ')"
   ]
  },
  {
   "cell_type": "code",
   "execution_count": 362,
   "id": "81dfd545",
   "metadata": {},
   "outputs": [
    {
     "data": {
      "text/html": [
       "<div>\n",
       "<style scoped>\n",
       "    .dataframe tbody tr th:only-of-type {\n",
       "        vertical-align: middle;\n",
       "    }\n",
       "\n",
       "    .dataframe tbody tr th {\n",
       "        vertical-align: top;\n",
       "    }\n",
       "\n",
       "    .dataframe thead th {\n",
       "        text-align: right;\n",
       "    }\n",
       "</style>\n",
       "<table border=\"1\" class=\"dataframe\">\n",
       "  <thead>\n",
       "    <tr style=\"text-align: right;\">\n",
       "      <th></th>\n",
       "      <th>0</th>\n",
       "      <th>1</th>\n",
       "      <th>2</th>\n",
       "      <th>3</th>\n",
       "      <th>4</th>\n",
       "      <th>5</th>\n",
       "    </tr>\n",
       "  </thead>\n",
       "  <tbody>\n",
       "    <tr>\n",
       "      <th>309759</th>\n",
       "      <td>309759</td>\n",
       "      <td>7432401</td>\n",
       "      <td>S4C168190</td>\n",
       "      <td>309759</td>\n",
       "      <td>4079421</td>\n",
       "      <td>Otu2.0</td>\n",
       "    </tr>\n",
       "    <tr>\n",
       "      <th>85751</th>\n",
       "      <td>85751</td>\n",
       "      <td>1947777</td>\n",
       "      <td>S1C471805</td>\n",
       "      <td>85751</td>\n",
       "      <td>3176231</td>\n",
       "      <td>Otu3.1</td>\n",
       "    </tr>\n",
       "    <tr>\n",
       "      <th>651415</th>\n",
       "      <td>651415</td>\n",
       "      <td>16828304</td>\n",
       "      <td>S9C358534</td>\n",
       "      <td>651415</td>\n",
       "      <td>4324276</td>\n",
       "      <td>Otu186.0</td>\n",
       "    </tr>\n",
       "    <tr>\n",
       "      <th>457959</th>\n",
       "      <td>457959</td>\n",
       "      <td>11850417</td>\n",
       "      <td>S6C1049674</td>\n",
       "      <td>457959</td>\n",
       "      <td>4324272</td>\n",
       "      <td>Otu186.0</td>\n",
       "    </tr>\n",
       "    <tr>\n",
       "      <th>519981</th>\n",
       "      <td>519981</td>\n",
       "      <td>13561755</td>\n",
       "      <td>S7C805213</td>\n",
       "      <td>519981</td>\n",
       "      <td>3523337</td>\n",
       "      <td>Otu12.0</td>\n",
       "    </tr>\n",
       "    <tr>\n",
       "      <th>...</th>\n",
       "      <td>...</td>\n",
       "      <td>...</td>\n",
       "      <td>...</td>\n",
       "      <td>...</td>\n",
       "      <td>...</td>\n",
       "      <td>...</td>\n",
       "    </tr>\n",
       "    <tr>\n",
       "      <th>214512</th>\n",
       "      <td>214512</td>\n",
       "      <td>4815163</td>\n",
       "      <td>S2C1552955</td>\n",
       "      <td>214512</td>\n",
       "      <td>1545</td>\n",
       "      <td>Otu453</td>\n",
       "    </tr>\n",
       "    <tr>\n",
       "      <th>366353</th>\n",
       "      <td>366353</td>\n",
       "      <td>9180025</td>\n",
       "      <td>S5C255259</td>\n",
       "      <td>366353</td>\n",
       "      <td>1516</td>\n",
       "      <td>Otu453</td>\n",
       "    </tr>\n",
       "    <tr>\n",
       "      <th>209087</th>\n",
       "      <td>209087</td>\n",
       "      <td>4697797</td>\n",
       "      <td>S2C1435589</td>\n",
       "      <td>209087</td>\n",
       "      <td>1551</td>\n",
       "      <td>Otu453</td>\n",
       "    </tr>\n",
       "    <tr>\n",
       "      <th>233362</th>\n",
       "      <td>233362</td>\n",
       "      <td>5274734</td>\n",
       "      <td>S3C226574</td>\n",
       "      <td>233362</td>\n",
       "      <td>1503</td>\n",
       "      <td>Otu453</td>\n",
       "    </tr>\n",
       "    <tr>\n",
       "      <th>29294</th>\n",
       "      <td>29294</td>\n",
       "      <td>660536</td>\n",
       "      <td>S0C660536</td>\n",
       "      <td>29294</td>\n",
       "      <td>1559</td>\n",
       "      <td>Otu453</td>\n",
       "    </tr>\n",
       "  </tbody>\n",
       "</table>\n",
       "<p>917 rows × 6 columns</p>\n",
       "</div>"
      ],
      "text/plain": [
       "             0         1           2       3        4         5\n",
       "309759  309759   7432401   S4C168190  309759  4079421    Otu2.0\n",
       "85751    85751   1947777   S1C471805   85751  3176231    Otu3.1\n",
       "651415  651415  16828304   S9C358534  651415  4324276  Otu186.0\n",
       "457959  457959  11850417  S6C1049674  457959  4324272  Otu186.0\n",
       "519981  519981  13561755   S7C805213  519981  3523337   Otu12.0\n",
       "...        ...       ...         ...     ...      ...       ...\n",
       "214512  214512   4815163  S2C1552955  214512     1545    Otu453\n",
       "366353  366353   9180025   S5C255259  366353     1516    Otu453\n",
       "209087  209087   4697797  S2C1435589  209087     1551    Otu453\n",
       "233362  233362   5274734   S3C226574  233362     1503    Otu453\n",
       "29294    29294    660536   S0C660536   29294     1559    Otu453\n",
       "\n",
       "[917 rows x 6 columns]"
      ]
     },
     "execution_count": 362,
     "metadata": {},
     "output_type": "execute_result"
    }
   ],
   "source": [
    "centroid_labels"
   ]
  },
  {
   "cell_type": "code",
   "execution_count": 367,
   "id": "5e665e27",
   "metadata": {},
   "outputs": [],
   "source": [
    "sp10_labels.reset_index(inplace=True)"
   ]
  },
  {
   "cell_type": "code",
   "execution_count": 373,
   "id": "b907acb7",
   "metadata": {},
   "outputs": [],
   "source": [
    "centroid_labels = sp10_labels.iloc[centroid_list]"
   ]
  },
  {
   "cell_type": "code",
   "execution_count": 382,
   "id": "34fdf8e0",
   "metadata": {},
   "outputs": [
    {
     "ename": "IndexError",
     "evalue": "index 22971 is out of bounds for axis 0 with size 22935",
     "output_type": "error",
     "traceback": [
      "\u001b[0;31m---------------------------------------------------------------------------\u001b[0m",
      "\u001b[0;31mIndexError\u001b[0m                                Traceback (most recent call last)",
      "Input \u001b[0;32mIn [382]\u001b[0m, in \u001b[0;36m<cell line: 1>\u001b[0;34m()\u001b[0m\n\u001b[0;32m----> 1\u001b[0m \u001b[43mdist_m\u001b[49m\u001b[43m[\u001b[49m\u001b[43mcentroid_labels\u001b[49m\u001b[38;5;241;43m.\u001b[39;49m\u001b[43msort_index\u001b[49m\u001b[43m(\u001b[49m\u001b[43m)\u001b[49m\u001b[43m[\u001b[49m\u001b[38;5;124;43m'\u001b[39;49m\u001b[38;5;124;43mindex\u001b[39;49m\u001b[38;5;124;43m'\u001b[39;49m\u001b[43m]\u001b[49m\u001b[43m]\u001b[49m\n",
      "\u001b[0;31mIndexError\u001b[0m: index 22971 is out of bounds for axis 0 with size 22935"
     ]
    }
   ],
   "source": [
    "dist_m[centroid_labels.sort_index()['index']]"
   ]
  },
  {
   "cell_type": "code",
   "execution_count": 402,
   "id": "2e55df93",
   "metadata": {},
   "outputs": [
    {
     "data": {
      "text/plain": [
       "array([30.19967518])"
      ]
     },
     "execution_count": 402,
     "metadata": {},
     "output_type": "execute_result"
    }
   ],
   "source": [
    "dist_m[np.nonzero(dist_d1[centroid_labels.sort_index().index]<1.0)[0]]"
   ]
  },
  {
   "cell_type": "code",
   "execution_count": 396,
   "id": "f9ff0896",
   "metadata": {},
   "outputs": [
    {
     "data": {
      "text/plain": [
       "index        457959\n",
       "0            457959\n",
       "1          11850417\n",
       "2        S6C1049674\n",
       "3            457959\n",
       "4           4324272\n",
       "5          Otu186.0\n",
       "Name: 18760, dtype: object"
      ]
     },
     "execution_count": 396,
     "metadata": {},
     "output_type": "execute_result"
    }
   ],
   "source": [
    "centroid_labels.sort_index().loc[centroid_labels.sort_index().index[715]]"
   ]
  },
  {
   "cell_type": "code",
   "execution_count": null,
   "id": "57be39a9",
   "metadata": {},
   "outputs": [],
   "source": []
  }
 ],
 "metadata": {
  "kernelspec": {
   "display_name": "Python 3 (ipykernel)",
   "language": "python",
   "name": "python3"
  },
  "language_info": {
   "codemirror_mode": {
    "name": "ipython",
    "version": 3
   },
   "file_extension": ".py",
   "mimetype": "text/x-python",
   "name": "python",
   "nbconvert_exporter": "python",
   "pygments_lexer": "ipython3",
   "version": "3.8.10"
  }
 },
 "nbformat": 4,
 "nbformat_minor": 5
}
