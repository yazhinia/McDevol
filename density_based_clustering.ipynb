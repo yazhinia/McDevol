{
 "cells": [
  {
   "cell_type": "code",
   "execution_count": 3,
   "metadata": {},
   "outputs": [],
   "source": [
    "import numpy as np\n",
    "import time\n",
    "import gc\n",
    "import metadevol_distance as calc_distance\n",
    "from alive_progress import alive_bar\n",
    "\n",
    "def cluster_by_centroids(argv):\n",
    "    read_counts = argv[0]\n",
    "    Rc_reads = argv[1]\n",
    "    contig_length = argv[2]\n",
    "    total_contigs = argv[3]\n",
    "    dirichlet_prior = argv[4]\n",
    "    dirichlet_prior_persamples = argv[5]\n",
    "    kmer_counts = argv[6]\n",
    "    Rc_kmers = argv[7]\n",
    "    dirichlet_prior_kmers = argv[8]\n",
    "    dirichlet_prior_perkmers = argv[9].flatten()\n",
    "    d0 = argv[10]\n",
    "    d1 = argv[11]\n",
    "    tmp_dir = argv[13]\n",
    "    members = []\n",
    "    cluster_curr = 0\n",
    "    cluster_assigned = np.zeros(total_contigs, dtype=int) - 1\n",
    "    dist_to_assigned = np.zeros(total_contigs, dtype=float) + d0\n",
    "    \n",
    "    cluster_centroids_read = []\n",
    "    cluster_centroids_kmer = []\n",
    "    \n",
    "    print(cluster_assigned.shape[0], \"contigs are being clustered\")\n",
    "    neighbors = np.empty((total_contigs, 0)).tolist()\n",
    "    s = time.time()\n",
    "    iterate_ind = np.argsort(Rc_reads)[::-1]\n",
    "    print(\"entering iterative distance_calculation\", flush=True)\n",
    "    clustercentroids_list = []\n",
    "\n",
    "    with alive_bar(total_contigs, title='contigs processed', spinner=False, theme='classic') as bar:\n",
    "    \n",
    "        for c in iterate_ind:\n",
    "        \n",
    "            if cluster_assigned[c] < 0 :\n",
    "                distance = calc_distance.compute_dist(c, read_counts, kmer_counts, Rc_reads, Rc_kmers, dirichlet_prior, dirichlet_prior_persamples, dirichlet_prior_kmers, dirichlet_prior_perkmers)\n",
    "                clustercentroids_list.append(c)\n",
    "\n",
    "                inds = np.nonzero(distance < dist_to_assigned)[0] # \" there could be empty list \"\n",
    "                \n",
    "                if len(inds) > 0 :\n",
    "\n",
    "                    if distance[c] > d0:\n",
    "                        inds = np.append(inds, c)\n",
    "\n",
    "                    dist_to_assigned[inds] = distance[inds]\n",
    "                    cluster_assigned[inds] = cluster_curr\n",
    "\n",
    "                    for n in np.nonzero(distance < d1)[0]:\n",
    "                        neighbors[n].append(cluster_curr)\n",
    "\n",
    "                    cluster_curr += 1\n",
    "            bar()\n",
    "\n",
    "    for k in range(cluster_curr):\n",
    "        if len(np.nonzero(cluster_assigned==k)[0]) > 0:\n",
    "            members.append(np.nonzero(cluster_assigned==k)[0])\n",
    "\n",
    "    for c in np.nonzero(cluster_assigned < 0)[0]:\n",
    "        cluster_assigned[c] = cluster_curr\n",
    "        members.append([c])\n",
    "        neighbors[c].append(cluster_curr)\n",
    "        cluster_curr += 1\n",
    "\n",
    "    np.savetxt(tmp_dir + \"/cluster_assigned_bothsummed_again\", cluster_assigned, fmt='%d')\n",
    "\n",
    "    print(len(members), cluster_curr)\n",
    "\n",
    "    cluster_length = []\n",
    "\n",
    "    for k in members:\n",
    "        if len(k) == 0:\n",
    "            print(\"check again\")\n",
    "        cluster_centroids_read.append(read_counts[k].sum(axis=0))\n",
    "        cluster_centroids_kmer.append(kmer_counts[k].sum(axis=0))\n",
    "        cluster_length.append(sum(contig_length[k]))\n",
    "    \n",
    "    cluster_length = np.array(cluster_length)\n",
    "    \n",
    "    cluster_centroids_read = np.array(cluster_centroids_read)\n",
    "    cluster_centroids_kmer = np.array(cluster_centroids_kmer)\n",
    "\n",
    "    print(cluster_curr, len(members))\n",
    "\n",
    "    print(\"Obtained {} clusters from initial clustering\".format(len(members)))\n",
    "    print(\"Initial clustering took:\", time.time() - s,\"seconds\")\n",
    "\n",
    "    gc.collect()\n",
    "\n",
    "    return members, cluster_centroids_read, cluster_centroids_kmer, cluster_length\n",
    "\n",
    "\n",
    "def density_based_clustering(cluster_parameters, cluster_centroids_read, cluster_centroids_kmer, cluster_length):\n",
    "    \n",
    "    K = cluster_centroids_read.shape[0]\n",
    "    dirichlet_prior = cluster_parameters[4]\n",
    "    dirichlet_prior_persamples = cluster_parameters[5]\n",
    "    dirichlet_prior_kmers = cluster_parameters[8]\n",
    "    dirichlet_prior_perkmers = cluster_parameters[9].flatten()\n",
    "    Rc_reads = np.sum(cluster_centroids_read,axis=1)\n",
    "    Rc_kmers = cluster_centroids_kmer.reshape(-1,64,4).sum(axis=2)\n",
    "    density = np.zeros(K, dtype=int)\n",
    "    d1 = 4.0\n",
    "    nearest = np.zeros(K, dtype=int)\n",
    "    separation_dist = np.zeros(K) + 1e30\n",
    "    \n",
    "\n",
    "    for k in range(K):\n",
    "        distance = calc_distance.compute_connectedcomponentdist(k, cluster_centroids_read, cluster_centroids_kmer, Rc_reads, Rc_kmers, dirichlet_prior, dirichlet_prior_persamples, dirichlet_prior_kmers, dirichlet_prior_perkmers)\n",
    "        inds = np.nonzero(distance < d1)[0]\n",
    "        nearest[k] = k\n",
    "        \n",
    "        if distance[k] > d1:\n",
    "            inds = np.append(inds, k)\n",
    "        \n",
    "        density[k] = sum(cluster_length[inds])\n",
    "\n",
    "        if len(np.nonzero(distance >= 1e30)[0]) > 0:\n",
    "            raise RuntimeError(\"distance is far from 1e30\")\n",
    "        \n",
    "        for k_p in range(k):\n",
    "\n",
    "            if distance[k_p] < separation_dist[k] and density[k_p] > density[k]:\n",
    "                nearest[k] = k_p\n",
    "                separation_dist[k] = distance[k_p]\n",
    "\n",
    "            elif distance[k_p] < separation_dist[k_p] and density[k_p] < density[k]:\n",
    "                nearest[k_p] = k\n",
    "                separation_dist[k_p] = distance[k_p]\n",
    "\n",
    "    \n",
    "    if len(np.nonzero(separation_dist==1e30)[0]) > 0:\n",
    "        print(nearest[np.nonzero(separation_dist==1e30)[0]])\n",
    "        print(separation_dist[np.nonzero(separation_dist==1e30)[0]])\n",
    "        breakpoint()\n",
    "        \n",
    "    return density, separation_dist, nearest\n",
    "\n",
    "\n",
    "def obtain_clusters(density, separation_dist, nearest):\n",
    "\n",
    "    denssep_threshold = 1000\n",
    "    sep_min = 4.0\n",
    "\n",
    "    if density.size != separation_dist.size:\n",
    "        raise RuntimeError(f'density size and separation distance size doesn\\'t match')\n",
    "    \n",
    "    cluster_centers = np.nonzero((separation_dist > sep_min) & ((density * separation_dist) > denssep_threshold))[0]\n",
    "    cluster_curr = cluster_centers.size\n",
    "    nearest[cluster_centers] = cluster_centers\n",
    "\n",
    "    nearest_prev = np.zeros(nearest.size, dtype=int) - 1\n",
    "\n",
    "    while (nearest != nearest_prev).any():\n",
    "        print('yes')\n",
    "        nearest_prev = nearest\n",
    "        nearest = nearest[nearest[nearest[nearest[:]]]]\n",
    "\n",
    "    components = []\n",
    "    print(len(set(nearest)), \"set value\", cluster_curr, len(cluster_centers))\n",
    "\n",
    "    for k in range(cluster_curr):\n",
    "\n",
    "        if len((np.argwhere(nearest == cluster_centers[k])[0])) > 0:\n",
    "            components.append(np.nonzero(nearest == cluster_centers[k])[0])\n",
    "\n",
    "        else:\n",
    "            print(k, cluster_centers[k], nearest[k], flush=True)\n",
    "        \n",
    "    print(len(components),len(np.concatenate(components).ravel()), \" elements in components\")\n",
    "    return components\n",
    "\n",
    "def merge_members_by_connnected_components(components, members):\n",
    "    K = len(components)\n",
    "    print(len(np.concatenate(members).ravel()), flush=True)\n",
    "    print(K, len(members), flush=True)\n",
    "    clusters = [[] for i in range(K)]\n",
    "    numclust_incomponents = []\n",
    "    for k in np.arange(K):\n",
    "        numclust_incomponents.append(len(components[k]))\n",
    "        for c in components[k]:\n",
    "            clusters[k].extend(members[c])\n",
    "            \n",
    "    return clusters, numclust_incomponents\n",
    "        \n",
    "\n",
    "def cluster_by_connecting_centroids(cluster_parameters):\n",
    "    print(\"computing cluster_by_connecting_centroids\", flush=True)\n",
    "    s = time.time()\n",
    "    argv = cluster_parameters\n",
    "    tmp_dir = argv[12]\n",
    "    members, cluster_centroids_read, cluster_centroids_kmer, cluster_length = cluster_by_centroids(cluster_parameters)\n",
    "    ss = time.time()\n",
    "    density, separation_dist, nearest = density_based_clustering(cluster_parameters, cluster_centroids_read, cluster_centroids_kmer, cluster_length)\n",
    "    print(\"density based clustering took\", time.time() - ss, \"seconds\")\n",
    "    components = obtain_clusters(density, separation_dist, nearest)\n",
    "    print(len(separation_dist), len(nearest), len(density))\n",
    "    clusters, numclust_incomponents = merge_members_by_connnected_components(components, members)\n",
    "    print(\"count_by_connecting_centroids took \", time.time() - s, \"seconds\")\n",
    "    return clusters, numclust_incomponents\n",
    "\n"
   ]
  },
  {
   "cell_type": "code",
   "execution_count": 152,
   "metadata": {},
   "outputs": [],
   "source": [
    "def density_based_clustering(cluster_parameters, cluster_centroids_read, cluster_centroids_kmer, cluster_length):\n",
    "    \n",
    "    K = cluster_centroids_read.shape[0]\n",
    "    dirichlet_prior = cluster_parameters[4]\n",
    "    dirichlet_prior_persamples = cluster_parameters[5]\n",
    "    dirichlet_prior_kmers = cluster_parameters[8]\n",
    "    dirichlet_prior_perkmers = cluster_parameters[9].flatten()\n",
    "    Rc_reads = np.sum(cluster_centroids_read,axis=1)\n",
    "    Rc_kmers = cluster_centroids_kmer.reshape(-1,64,4).sum(axis=2)\n",
    "    density = np.zeros(K, dtype=int)\n",
    "    d1 = 2.0\n",
    "    nearest = np.zeros(K, dtype=int)\n",
    "    separation_dist = np.zeros(K) + 1e30\n",
    "    \n",
    "\n",
    "    for k in range(K):\n",
    "        distance = calc_distance.compute_connectedcomponentdist(k, cluster_centroids_read, cluster_centroids_kmer, Rc_reads, Rc_kmers, dirichlet_prior, dirichlet_prior_persamples, dirichlet_prior_kmers, dirichlet_prior_perkmers)\n",
    "       \n",
    "        inds = np.nonzero(distance < d1)[0]\n",
    "        nearest[k] = k\n",
    "        \n",
    "        if distance[k] > d1:\n",
    "            inds = np.append(inds, k)\n",
    "        \n",
    "        density[k] = sum(cluster_length[inds])\n",
    "\n",
    "        if len(np.nonzero(distance >= 1e30)[0]) > 0:\n",
    "            raise RuntimeError(\"distance is far from 1e30\")\n",
    "        \n",
    "        for k_p in range(k):\n",
    "\n",
    "            if distance[k_p] < separation_dist[k] and density[k_p] > density[k]:\n",
    "                nearest[k] = k_p\n",
    "                separation_dist[k] = distance[k_p]\n",
    "\n",
    "            elif distance[k_p] < separation_dist[k_p] and density[k_p] < density[k]:\n",
    "                nearest[k_p] = k\n",
    "                separation_dist[k_p] = distance[k_p]\n",
    "\n",
    "    \n",
    "    if len(np.nonzero(separation_dist==1e30)[0]) > 0:\n",
    "        print(nearest[np.nonzero(separation_dist==1e30)[0]])\n",
    "        print(separation_dist[np.nonzero(separation_dist==1e30)[0]])\n",
    "        breakpoint()\n",
    "        \n",
    "    return density, separation_dist, nearest"
   ]
  },
  {
   "cell_type": "code",
   "execution_count": 135,
   "metadata": {},
   "outputs": [],
   "source": [
    "# densitytest, separation_disttest, nearesttest = density_based_clustering(cluster_parameters, cluster_centroids_read, cluster_centroids_kmer, cluster_length)"
   ]
  },
  {
   "cell_type": "code",
   "execution_count": 270,
   "metadata": {},
   "outputs": [
    {
     "name": "stdout",
     "output_type": "stream",
     "text": [
      "122715\n",
      "784 6059\n"
     ]
    }
   ],
   "source": [
    "clusters, numclust_incomponents = merge_members_by_connnected_components(components, members)"
   ]
  },
  {
   "cell_type": "code",
   "execution_count": 2,
   "metadata": {},
   "outputs": [
    {
     "ename": "NameError",
     "evalue": "name 'cluster_by_centroids' is not defined",
     "output_type": "error",
     "traceback": [
      "\u001b[0;31m---------------------------------------------------------------------------\u001b[0m",
      "\u001b[0;31mNameError\u001b[0m                                 Traceback (most recent call last)",
      "\u001b[1;32m/big/work/metadevol/scripts/density_based_clustering.ipynb Cell 3\u001b[0m in \u001b[0;36m<cell line: 1>\u001b[0;34m()\u001b[0m\n\u001b[0;32m----> <a href='vscode-notebook-cell:/big/work/metadevol/scripts/density_based_clustering.ipynb#X32sZmlsZQ%3D%3D?line=0'>1</a>\u001b[0m members, cluster_centroids_read, cluster_centroids_kmer, cluster_length \u001b[39m=\u001b[39m cluster_by_centroids(cluster_parameters)\n",
      "\u001b[0;31mNameError\u001b[0m: name 'cluster_by_centroids' is not defined"
     ]
    }
   ],
   "source": [
    "members, cluster_centroids_read, cluster_centroids_kmer, cluster_length = cluster_by_centroids(cluster_parameters)"
   ]
  },
  {
   "cell_type": "code",
   "execution_count": 273,
   "metadata": {},
   "outputs": [],
   "source": [
    "with open(\"/big/work/metadevol/cami2_datasets/marine/pooled_assembly/all_alignment/tmp/connected_componentsfromdensity\", 'w+') as file:\n",
    "    for f in range(len(clusters)):\n",
    "        for q in clusters[f]:\n",
    "            file.write(str(q) + \" \" + str(f) + \"\\n\")"
   ]
  },
  {
   "cell_type": "code",
   "execution_count": 278,
   "metadata": {},
   "outputs": [
    {
     "name": "stdout",
     "output_type": "stream",
     "text": [
      "The autoreload extension is already loaded. To reload it, use:\n",
      "  %reload_ext autoreload\n"
     ]
    }
   ],
   "source": [
    "%load_ext autoreload\n",
    "%autoreload 2\n",
    "import nmf_connected_components_modified as nmfm"
   ]
  },
  {
   "cell_type": "code",
   "execution_count": 281,
   "metadata": {},
   "outputs": [],
   "source": [
    "np.savetxt(\"/big/work/metadevol/cami2_datasets/marine/pooled_assembly/all_alignment/tmp/bin_assignments_bothsummed_density\", np.stack((contig_names[bins_[0]], bins_[1])).T, fmt='%s\\t%d')"
   ]
  },
  {
   "cell_type": "code",
   "execution_count": 1,
   "metadata": {},
   "outputs": [],
   "source": [
    "import nmf_connected_components_modified as nmfm\n",
    "# bins_ = nmfm.nmf_connected_components(read_counts, contig_length, clusters, numclust_incomponents, dirichlet_prior_persamples, dirichlet_prior)\n"
   ]
  },
  {
   "cell_type": "code",
   "execution_count": 4,
   "metadata": {},
   "outputs": [
    {
     "name": "stdout",
     "output_type": "stream",
     "text": [
      "obtained alpha parameter for read counts 5.63579799687585 in 1.2706897258758545 seconds\n",
      "processing kmer frequencies\n",
      "obtained alpha parameters for kmer counts in 5.517370939254761 seconds\n"
     ]
    }
   ],
   "source": [
    "import optimize_parameters as opt\n",
    "import numpy as np\n",
    "import time\n",
    "import pandas as pd\n",
    "from multiprocessing.pool import Pool\n",
    "\n",
    "def optimize_prior_fortrimers(kmer_counts, Rc_kmers, trimercountsper_nt):\n",
    "\n",
    "    with Pool() as pool:\n",
    "        awa_values = pool.starmap(opt.obtain_optimized_alphas, \\\n",
    "                                [(np.take(kmer_counts,[c*4, (c*4)+1, (c*4)+2, (c*4)+3], axis=1),\\\n",
    "                                np.take(Rc_kmers, c, axis=1), trimercountsper_nt[c]) for c in range(64)])\n",
    "    awa_values = np.array(awa_values)\n",
    "    alpha_values = awa_values.sum(axis=1)\n",
    "\n",
    "    return alpha_values, awa_values\n",
    "\n",
    "tmp_dir = '/big/work/metadevol/cami2_datasets/marine/pooled_assembly/all_alignment/tmp/'\n",
    "\n",
    "\"\"\" clustering parameters (default) \"\"\"\n",
    "d0 = 1.0\n",
    "d1 = d0\n",
    "min_shared_contigs = 20\n",
    "\n",
    "\"\"\" load contig read counts \"\"\"\n",
    "contigs = pd.read_csv(tmp_dir + 'selected_contigs', header=None, sep=' ').to_numpy()\n",
    "contig_names = contigs[:,1]\n",
    "contig_length = contigs[:,2].astype(int)\n",
    "# contig_length = pd.read_csv(working_dir + '../../contigs_umap_hoverdata1', header=None, usecols=[3],sep=' ')\n",
    "# contig_length = contig_length.to_numpy().ravel()\n",
    "fractional_counts = pd.read_csv(tmp_dir + \"total_readcount\", header=None,sep=' ', engine=\"pyarrow\")\n",
    "read_counts = fractional_counts.pivot_table(index = 1, columns = 0, values = 2)\n",
    "read_counts = read_counts.to_numpy().T\n",
    "total_contigs_source = read_counts.shape[0]\n",
    "long_contigs = np.nonzero(contig_length>=2500)[0]\n",
    "read_counts = read_counts[long_contigs]\n",
    "total_contigs, n_size = np.shape(read_counts)\n",
    "\n",
    "\"\"\" process high read counts \"\"\"\n",
    "Rc_reads = read_counts.sum(axis=1)\n",
    "Rn_reads = read_counts.sum(axis=0)\n",
    "\n",
    "ss = time.time()\n",
    "dirichlet_prior = opt.optimize_alpha(read_counts, Rc_reads, Rn_reads, n_size)\n",
    "print('obtained alpha parameter for read counts', dirichlet_prior, 'in' ,time.time()-ss,'seconds')\n",
    "ss = time.time()\n",
    "dirichlet_prior_persamples  = dirichlet_prior * Rn_reads / Rn_reads.sum()\n",
    "\n",
    "kmer_counts = pd.read_csv(tmp_dir + \"kmer_counts\", header=None)\n",
    "kmer_counts = kmer_counts.to_numpy()\n",
    "kmer_counts = kmer_counts.reshape(total_contigs_source, 256) # convert 1D array to a 2D array with {total_contigs, all 4-mers} shape  \n",
    "kmer_counts = (kmer_counts / 2)\n",
    "\n",
    "# kmer_counts = kmer_counts[longer_contig_inds]\n",
    "\n",
    "print(\"processing kmer frequencies\")\n",
    "\n",
    "GC_fractions = pd.read_csv(tmp_dir + \"GC_fractionof_contigs\", header=None)\n",
    "GC_fractions = GC_fractions.to_numpy()\n",
    "\n",
    "GC_tetramer = np.array([0, 0, 1, 1, 0, 0, 1, 1, 1, 1, 2, 2, 1, 1, 2, 2, 0, 0, 1, 1, 0, 0, 1, 1, 1, 1,\n",
    "                        2, 2, 1, 1, 2, 2, 1, 1, 2, 2, 1, 1, 2, 2, 2, 2, 3, 3, 2, 2, 3, 3, 1, 1, 2, 2,\n",
    "                        1, 1, 2, 2, 2, 2, 3, 3, 2, 2, 3, 3, 0, 0, 1, 1, 0, 0, 1, 1, 1, 1, 2, 2, 1, 1,\n",
    "                        2, 2, 0, 0, 1, 1, 0, 0, 1, 1, 1, 1, 2, 2, 1, 1, 2, 2, 1, 1, 2, 2, 1, 1, 2, 2,\n",
    "                        2, 2, 3, 3, 2, 2, 3, 3, 1, 1, 2, 2, 1, 1, 2, 2, 2, 2, 3, 3, 2, 2, 3, 3, 1, 1,\n",
    "                        2, 2, 1, 1, 2, 2, 2, 2, 3, 3, 2, 2, 3, 3, 1, 1, 2, 2, 1, 1, 2, 2, 2, 2, 3, 3,\n",
    "                        2, 2, 3, 3, 2, 2, 3, 3, 2, 2, 3, 3, 3, 3, 4, 4, 3, 3, 4, 4, 2, 2, 3, 3, 2, 2,\n",
    "                        3, 3, 3, 3, 4, 4, 3, 3, 4, 4, 1, 1, 2, 2, 1, 1, 2, 2, 2, 2, 3, 3, 2, 2, 3, 3,\n",
    "                        1, 1, 2, 2, 1, 1, 2, 2, 2, 2, 3, 3, 2, 2, 3, 3, 2, 2, 3, 3, 2, 2, 3, 3, 3, 3,\n",
    "                        4, 4, 3, 3, 4, 4, 2, 2, 3, 3, 2, 2, 3, 3, 3, 3, 4, 4, 3, 3, 4, 4])\n",
    "\n",
    "\"\"\" process repeat regions \"\"\"\n",
    "fGC_tGC = GC_fractions ** GC_tetramer\n",
    "fAT_tAT = (1 - GC_fractions) ** (4 - GC_tetramer)\n",
    "ekmer_counts = (np.tile((contig_length - 3)[:, None], (1,256)) * fAT_tAT * fGC_tGC)/16\n",
    "repeat_index = np.nonzero((kmer_counts / ekmer_counts)>3) # theory suggested z-score but we use ratio for detecting repeat index \n",
    "setind_zero = np.vstack((np.repeat(repeat_index[0],4),\\\n",
    "    np.repeat(repeat_index[1] // 4  * 4, 4) + np.tile([0, 1, 2, 3], np.shape(repeat_index[1]))))\n",
    "kmer_counts[setind_zero[0],setind_zero[1]] = 0\n",
    "del(ekmer_counts, GC_fractions, setind_zero, repeat_index)\n",
    "\n",
    "\n",
    "\"\"\" process high kmer counts \"\"\"\n",
    "kmer_counts = kmer_counts[long_contigs]\n",
    "# scale_down_kmer = R_max / (R_max + kmer_counts.reshape(-1,64,4).sum(axis=2))\n",
    "# kmer_counts = np.multiply(kmer_counts, np.repeat(scale_down_kmer, 4, axis=1))\n",
    "\n",
    "\n",
    "trimercountsper_nt = kmer_counts.reshape(-1,64,4).sum(axis=0)\n",
    "Rc_kmers = kmer_counts.reshape(-1,64,4).sum(axis=2)\n",
    "\n",
    "ss = time.time()\n",
    "dirichlet_prior_kmers, dirichlet_prior_perkmers = optimize_prior_fortrimers(kmer_counts, Rc_kmers, trimercountsper_nt)\n",
    "print('obtained alpha parameters for kmer counts in', time.time()-ss,'seconds')\n",
    "del(trimercountsper_nt)\n",
    "\n",
    "contig_length = contig_length[long_contigs]\n",
    "contig_names = contig_names[long_contigs]\n",
    "\n",
    "cluster_parameters = list([read_counts, Rc_reads, contig_length, total_contigs, \\\n",
    "                        dirichlet_prior, dirichlet_prior_persamples, kmer_counts, Rc_kmers, \\\n",
    "                        dirichlet_prior_kmers, dirichlet_prior_perkmers.flatten(), \\\n",
    "                        d0, d1, min_shared_contigs, tmp_dir])   \n",
    "# clusters, numclust_incomponents = cluster_by_connecting_centroids(cluster_parameters)\n",
    "# ccm.cluster_by_connecting_centroids(cluster_parameters)\n",
    "# clusters, numclust_incomponents = cluster_by_connecting_centroids(cluster_parameters)\n"
   ]
  },
  {
   "cell_type": "code",
   "execution_count": 101,
   "metadata": {},
   "outputs": [
    {
     "name": "stdout",
     "output_type": "stream",
     "text": [
      "[350]\n",
      "[1.e+30]\n"
     ]
    }
   ],
   "source": [
    "density1, separation_dist1, nearest1 = density_based_clustering(cluster_parameters, cluster_centroids_read, cluster_centroids_kmer, cluster_length)"
   ]
  },
  {
   "cell_type": "code",
   "execution_count": 132,
   "metadata": {},
   "outputs": [
    {
     "name": "stdout",
     "output_type": "stream",
     "text": [
      "122715 contigs are being clustered\n",
      "entering iterative distance_calculation\n",
      "contigs processed [========================================] 122715/122715 [100%] in 13:27.3 (152.01/s) \n",
      "11377 11377\n",
      "11377 11377\n",
      "Obtained 11377 clusters from initial clustering\n",
      "Initial clustering took: 809.4228265285492 seconds\n"
     ]
    }
   ],
   "source": [
    "d0 = 0.5\n",
    "cluster_parameters = list([read_counts, Rc_reads, contig_length, total_contigs, \\\n",
    "                        dirichlet_prior, dirichlet_prior_persamples, kmer_counts, Rc_kmers, \\\n",
    "                        dirichlet_prior_kmers, dirichlet_prior_perkmers.flatten(), \\\n",
    "                        d0, d1, min_shared_contigs, tmp_dir])   \n",
    "members_05, cluster_centroids_read_05, cluster_centroids_kmer_05, cluster_length_05 = cluster_by_centroids(cluster_parameters)"
   ]
  },
  {
   "cell_type": "code",
   "execution_count": 153,
   "metadata": {},
   "outputs": [
    {
     "name": "stdout",
     "output_type": "stream",
     "text": [
      "[9687]\n",
      "[1.e+30]\n"
     ]
    }
   ],
   "source": [
    "density_052, separation_dist_052, nearest_052 = density_based_clustering(cluster_parameters, cluster_centroids_read_05, cluster_centroids_kmer_05, cluster_length_05)\n",
    "# components = obtain_clusters(density, separation_dist, nearest)\n",
    "# print(len(separation_dist), len(nearest), len(density))\n",
    "# clusters = merge_members_by_connnected_components(components, members)\n"
   ]
  },
  {
   "cell_type": "code",
   "execution_count": 17,
   "metadata": {},
   "outputs": [
    {
     "name": "stdout",
     "output_type": "stream",
     "text": [
      "[6071]\n",
      "[1.e+30]\n"
     ]
    }
   ],
   "source": [
    "density_c, separation_dist_c, nearest_c = density_based_clustering(cluster_parameters, cluster_parameters[0], cluster_parameters[6], cluster_parameters[2])"
   ]
  },
  {
   "cell_type": "code",
   "execution_count": 122,
   "metadata": {},
   "outputs": [
    {
     "data": {
      "text/plain": [
       "array([ 4148248,  1972850,  3181676, ..., 22558715,  3298161, 22675873])"
      ]
     },
     "execution_count": 122,
     "metadata": {},
     "output_type": "execute_result"
    }
   ],
   "source": [
    "density[np.nonzero(separation_dist<6)[0]]\n"
   ]
  },
  {
   "cell_type": "code",
   "execution_count": 156,
   "metadata": {},
   "outputs": [
    {
     "data": {
      "image/png": "[encoded data removed]",
      "text/plain": [
       "<Figure size 432x288 with 1 Axes>"
      ]
     },
     "metadata": {
      "needs_background": "light"
     },
     "output_type": "display_data"
    }
   ],
   "source": [
    "import matplotlib.pyplot as plt\n",
    "\n",
    "\n",
    "plt.scatter(np.log(density_051),np.log(separation_dist_051), color='navy', alpha=0.4, s=0.2)\n",
    "plt.ylim(0,10)\n",
    "plt.xlabel('density')\n",
    "plt.ylabel('separation distance')\n",
    "# plt.title('Density-based clustering of contigs')\n",
    "plt.title('Density-based clustering of clusters')\n",
    "plt.savefig(\"/big/work/metadevol/cami2_datasets/marine/pooled_assembly/all_alignment/tmp/density_clusters_logd0_051.png\", dpi=600,bbox_inches='tight')\n"
   ]
  },
  {
   "cell_type": "code",
   "execution_count": 106,
   "metadata": {},
   "outputs": [
    {
     "data": {
      "text/plain": [
       "(0.0, 50.0)"
      ]
     },
     "execution_count": 106,
     "metadata": {},
     "output_type": "execute_result"
    },
    {
     "data": {
      "image/png": "[encoded data removed]",
      "text/plain": [
       "<Figure size 432x288 with 1 Axes>"
      ]
     },
     "metadata": {
      "needs_background": "light"
     },
     "output_type": "display_data"
    }
   ],
   "source": [
    "plt.plot(np.log(density1 * separation_dist1), color='navy', alpha=0.4)\n",
    "plt.ylim(0,50)"
   ]
  },
  {
   "cell_type": "code",
   "execution_count": 112,
   "metadata": {},
   "outputs": [
    {
     "data": {
      "text/plain": [
       "1998.1958951041172"
      ]
     },
     "execution_count": 112,
     "metadata": {},
     "output_type": "execute_result"
    }
   ],
   "source": [
    "np.exp(7.6)"
   ]
  },
  {
   "cell_type": "code",
   "execution_count": 264,
   "metadata": {},
   "outputs": [
    {
     "name": "stdout",
     "output_type": "stream",
     "text": [
      "computing cluster_by_connecting_centroids\n",
      "122715 contigs are being clustered\n",
      "entering iterative distance_calculation\n",
      "contigs processed [========================================] 122715/122715 [100%] in 4:27.4 (458.98/s) \n",
      "6059 6059\n",
      "6059 6059\n",
      "Obtained 6059 clusters from initial clustering\n",
      "Initial clustering took: 268.5625946521759 seconds\n",
      "[5834]\n",
      "[1.e+30]\n",
      "density based clustering took 36.84760355949402 seconds\n",
      "yes\n",
      "yes\n",
      "yes\n",
      "784 set value 784 784\n",
      "784 6059  elements in components\n",
      "6059 6059 6059\n",
      "122715\n",
      "784 6059\n"
     ]
    },
    {
     "ename": "IndexError",
     "evalue": "list assignment index out of range",
     "output_type": "error",
     "traceback": [
      "\u001b[0;31m---------------------------------------------------------------------------\u001b[0m",
      "\u001b[0;31mIndexError\u001b[0m                                Traceback (most recent call last)",
      "\u001b[1;32m/big/work/metadevol/scripts/density_based_clustering.ipynb Cell 9\u001b[0m in \u001b[0;36m<cell line: 1>\u001b[0;34m()\u001b[0m\n\u001b[0;32m----> <a href='vscode-notebook-cell:/big/work/metadevol/scripts/density_based_clustering.ipynb#X16sZmlsZQ%3D%3D?line=0'>1</a>\u001b[0m clusters, numclust_incomponents \u001b[39m=\u001b[39m cluster_by_connecting_centroids(cluster_parameters)\n",
      "\u001b[1;32m/big/work/metadevol/scripts/density_based_clustering.ipynb Cell 9\u001b[0m in \u001b[0;36mcluster_by_connecting_centroids\u001b[0;34m(cluster_parameters)\u001b[0m\n\u001b[1;32m    <a href='vscode-notebook-cell:/big/work/metadevol/scripts/density_based_clustering.ipynb#X16sZmlsZQ%3D%3D?line=200'>201</a>\u001b[0m components \u001b[39m=\u001b[39m obtain_clusters(density, separation_dist, nearest)\n\u001b[1;32m    <a href='vscode-notebook-cell:/big/work/metadevol/scripts/density_based_clustering.ipynb#X16sZmlsZQ%3D%3D?line=201'>202</a>\u001b[0m \u001b[39mprint\u001b[39m(\u001b[39mlen\u001b[39m(separation_dist), \u001b[39mlen\u001b[39m(nearest), \u001b[39mlen\u001b[39m(density))\n\u001b[0;32m--> <a href='vscode-notebook-cell:/big/work/metadevol/scripts/density_based_clustering.ipynb#X16sZmlsZQ%3D%3D?line=202'>203</a>\u001b[0m clusters, numclust_incomponents \u001b[39m=\u001b[39m merge_members_by_connnected_components(components, members)\n\u001b[1;32m    <a href='vscode-notebook-cell:/big/work/metadevol/scripts/density_based_clustering.ipynb#X16sZmlsZQ%3D%3D?line=203'>204</a>\u001b[0m \u001b[39mprint\u001b[39m(\u001b[39m\"\u001b[39m\u001b[39mcount_by_connecting_centroids took \u001b[39m\u001b[39m\"\u001b[39m, time\u001b[39m.\u001b[39mtime() \u001b[39m-\u001b[39m s, \u001b[39m\"\u001b[39m\u001b[39mseconds\u001b[39m\u001b[39m\"\u001b[39m)\n\u001b[1;32m    <a href='vscode-notebook-cell:/big/work/metadevol/scripts/density_based_clustering.ipynb#X16sZmlsZQ%3D%3D?line=204'>205</a>\u001b[0m \u001b[39mreturn\u001b[39;00m clusters, numclust_incomponents\n",
      "\u001b[1;32m/big/work/metadevol/scripts/density_based_clustering.ipynb Cell 9\u001b[0m in \u001b[0;36mmerge_members_by_connnected_components\u001b[0;34m(components, members)\u001b[0m\n\u001b[1;32m    <a href='vscode-notebook-cell:/big/work/metadevol/scripts/density_based_clustering.ipynb#X16sZmlsZQ%3D%3D?line=182'>183</a>\u001b[0m numclust_incomponents \u001b[39m=\u001b[39m []\n\u001b[1;32m    <a href='vscode-notebook-cell:/big/work/metadevol/scripts/density_based_clustering.ipynb#X16sZmlsZQ%3D%3D?line=183'>184</a>\u001b[0m \u001b[39mfor\u001b[39;00m k \u001b[39min\u001b[39;00m np\u001b[39m.\u001b[39marange(K):\n\u001b[0;32m--> <a href='vscode-notebook-cell:/big/work/metadevol/scripts/density_based_clustering.ipynb#X16sZmlsZQ%3D%3D?line=184'>185</a>\u001b[0m     numclust_incomponents[k] \u001b[39m=\u001b[39m \u001b[39mlen\u001b[39m(components[k])\n\u001b[1;32m    <a href='vscode-notebook-cell:/big/work/metadevol/scripts/density_based_clustering.ipynb#X16sZmlsZQ%3D%3D?line=185'>186</a>\u001b[0m     \u001b[39mfor\u001b[39;00m c \u001b[39min\u001b[39;00m components[k]:\n\u001b[1;32m    <a href='vscode-notebook-cell:/big/work/metadevol/scripts/density_based_clustering.ipynb#X16sZmlsZQ%3D%3D?line=186'>187</a>\u001b[0m         clusters[k]\u001b[39m.\u001b[39mextend(members[c])\n",
      "\u001b[0;31mIndexError\u001b[0m: list assignment index out of range"
     ]
    }
   ],
   "source": [
    "clusters, numclust_incomponents = cluster_by_connecting_centroids(cluster_parameters)"
   ]
  },
  {
   "cell_type": "code",
   "execution_count": 140,
   "metadata": {},
   "outputs": [
    {
     "name": "stdout",
     "output_type": "stream",
     "text": [
      "[5802 3672 5342 ... 5809 6057 5820]\n",
      "[5802 3672 5342 ... 5809 6057 5820] 6059\n"
     ]
    }
   ],
   "source": [
    "denssep_threshold = 1000\n",
    "sep_min = 4.0\n",
    "\n",
    "if density.size != separation_dist.size:\n",
    "    raise RuntimeError(f'density size and separation distance size doesn\\'t match')\n",
    "nearest1 = nearest\n",
    "cluster_centers = np.nonzero((separation_dist > sep_min) & ((density * separation_dist) > denssep_threshold))[0]\n",
    "cluster_curr = cluster_centers.size\n",
    "nearest1[cluster_centers] = cluster_centers\n",
    "\n",
    "nearest_prev = np.zeros(nearest.size, dtype=int) - 1\n",
    "\n",
    "while (nearest_prev != nearest).all():\n",
    "    nearest_prev = nearest\n",
    "    print(nearest)\n",
    "    nearest = nearest[nearest[nearest[nearest[:]]]]\n",
    "    print(nearest, len(nearest))\n",
    "\n",
    "components = []\n",
    "\n",
    "for k in range(cluster_curr):\n",
    "    components.append(np.nonzero(nearest == cluster_centers[k])[0])\n",
    "\n"
   ]
  },
  {
   "cell_type": "code",
   "execution_count": 100,
   "metadata": {},
   "outputs": [
    {
     "data": {
      "text/plain": [
       "98985"
      ]
     },
     "execution_count": 100,
     "metadata": {},
     "output_type": "execute_result"
    }
   ],
   "source": [
    "len(np.concatenate(clusters).ravel())"
   ]
  },
  {
   "cell_type": "code",
   "execution_count": 101,
   "metadata": {},
   "outputs": [
    {
     "data": {
      "text/plain": [
       "122715"
      ]
     },
     "execution_count": 101,
     "metadata": {},
     "output_type": "execute_result"
    }
   ],
   "source": [
    "len(np.concatenate(members).ravel())"
   ]
  },
  {
   "cell_type": "code",
   "execution_count": 30,
   "metadata": {},
   "outputs": [
    {
     "data": {
      "text/plain": [
       "(0.0, 100.0)"
      ]
     },
     "execution_count": 30,
     "metadata": {},
     "output_type": "execute_result"
    },
    {
     "data": {
      "image/png": "[encoded data removed]",
      "text/plain": [
       "<Figure size 432x288 with 1 Axes>"
      ]
     },
     "metadata": {
      "needs_background": "light"
     },
     "output_type": "display_data"
    }
   ],
   "source": [
    "import matplotlib.pyplot as plt\n",
    "plt.scatter(density, separation_dist)\n",
    "plt.ylim(0,100)"
   ]
  },
  {
   "cell_type": "code",
   "execution_count": 62,
   "metadata": {},
   "outputs": [
    {
     "name": "stdout",
     "output_type": "stream",
     "text": [
      "0 -1\n",
      "1 -1\n",
      "2 -1\n",
      "6 -1\n"
     ]
    },
    {
     "data": {
      "text/plain": [
       "[[0], [1], [2], [6]]"
      ]
     },
     "execution_count": 62,
     "metadata": {},
     "output_type": "execute_result"
    }
   ],
   "source": [
    "cluster_assigned = np.array([-1,-1,-1,0,1,2,-1,3,5])\n",
    "\n",
    "members=[]\n",
    "for f in np.nonzero(cluster_assigned<0)[0]:\n",
    "\n",
    "    members.append([f])\n",
    "    print(f,cluster_assigned[f])\n",
    "    \n",
    "members"
   ]
  },
  {
   "cell_type": "code",
   "execution_count": 98,
   "metadata": {},
   "outputs": [
    {
     "ename": "KeyboardInterrupt",
     "evalue": "",
     "output_type": "error",
     "traceback": [
      "\u001b[0;31m---------------------------------------------------------------------------\u001b[0m",
      "\u001b[0;31mKeyboardInterrupt\u001b[0m                         Traceback (most recent call last)",
      "\u001b[1;32m/big/work/metadevol/scripts/density_based_clustering.ipynb Cell 9\u001b[0m in \u001b[0;36m<cell line: 5>\u001b[0;34m()\u001b[0m\n\u001b[1;32m      <a href='vscode-notebook-cell:/big/work/metadevol/scripts/density_based_clustering.ipynb#X13sZmlsZQ%3D%3D?line=4'>5</a>\u001b[0m \u001b[39mwhile\u001b[39;00m (nearest_prev \u001b[39m!=\u001b[39m nearest)\u001b[39m.\u001b[39mall():\n\u001b[1;32m      <a href='vscode-notebook-cell:/big/work/metadevol/scripts/density_based_clustering.ipynb#X13sZmlsZQ%3D%3D?line=5'>6</a>\u001b[0m     nearest_prev \u001b[39m=\u001b[39m nearest\n\u001b[0;32m----> <a href='vscode-notebook-cell:/big/work/metadevol/scripts/density_based_clustering.ipynb#X13sZmlsZQ%3D%3D?line=6'>7</a>\u001b[0m     nearest \u001b[39m=\u001b[39m np\u001b[39m.\u001b[39;49mroll(nearest,\u001b[39m-\u001b[39;49m\u001b[39m3\u001b[39;49m)\n\u001b[1;32m      <a href='vscode-notebook-cell:/big/work/metadevol/scripts/density_based_clustering.ipynb#X13sZmlsZQ%3D%3D?line=8'>9</a>\u001b[0m nearest\n",
      "File \u001b[0;32m<__array_function__ internals>:200\u001b[0m, in \u001b[0;36mroll\u001b[0;34m(*args, **kwargs)\u001b[0m\n",
      "File \u001b[0;32m~/.local/lib/python3.8/site-packages/numpy/core/numeric.py:1226\u001b[0m, in \u001b[0;36mroll\u001b[0;34m(a, shift, axis)\u001b[0m\n\u001b[1;32m   1224\u001b[0m a \u001b[39m=\u001b[39m asanyarray(a)\n\u001b[1;32m   1225\u001b[0m \u001b[39mif\u001b[39;00m axis \u001b[39mis\u001b[39;00m \u001b[39mNone\u001b[39;00m:\n\u001b[0;32m-> 1226\u001b[0m     \u001b[39mreturn\u001b[39;00m roll(a\u001b[39m.\u001b[39;49mravel(), shift, \u001b[39m0\u001b[39;49m)\u001b[39m.\u001b[39mreshape(a\u001b[39m.\u001b[39mshape)\n\u001b[1;32m   1228\u001b[0m \u001b[39melse\u001b[39;00m:\n\u001b[1;32m   1229\u001b[0m     axis \u001b[39m=\u001b[39m normalize_axis_tuple(axis, a\u001b[39m.\u001b[39mndim, allow_duplicate\u001b[39m=\u001b[39m\u001b[39mTrue\u001b[39;00m)\n",
      "File \u001b[0;32m<__array_function__ internals>:177\u001b[0m, in \u001b[0;36mroll\u001b[0;34m(*args, **kwargs)\u001b[0m\n",
      "File \u001b[0;32m_pydevd_bundle/pydevd_cython.pyx:1363\u001b[0m, in \u001b[0;36m_pydevd_bundle.pydevd_cython.SafeCallWrapper.__call__\u001b[0;34m()\u001b[0m\n",
      "File \u001b[0;32m_pydevd_bundle/pydevd_cython.pyx:1664\u001b[0m, in \u001b[0;36m_pydevd_bundle.pydevd_cython.ThreadTracer.__call__\u001b[0;34m()\u001b[0m\n",
      "File \u001b[0;32m~/.local/lib/python3.8/site-packages/debugpy/_vendored/pydevd/_pydev_bundle/pydev_is_thread_alive.py:9\u001b[0m, in \u001b[0;36mis_thread_alive\u001b[0;34m(t)\u001b[0m\n\u001b[1;32m      6\u001b[0m _temp \u001b[39m=\u001b[39m threading\u001b[39m.\u001b[39mThread()\n\u001b[1;32m      7\u001b[0m \u001b[39mif\u001b[39;00m \u001b[39mhasattr\u001b[39m(_temp, \u001b[39m'\u001b[39m\u001b[39m_is_stopped\u001b[39m\u001b[39m'\u001b[39m):  \u001b[39m# Python 3.x has this\u001b[39;00m\n\u001b[0;32m----> 9\u001b[0m     \u001b[39mdef\u001b[39;00m \u001b[39mis_thread_alive\u001b[39m(t):\n\u001b[1;32m     10\u001b[0m         \u001b[39mreturn\u001b[39;00m \u001b[39mnot\u001b[39;00m t\u001b[39m.\u001b[39m_is_stopped\n\u001b[1;32m     12\u001b[0m \u001b[39melif\u001b[39;00m \u001b[39mhasattr\u001b[39m(_temp, \u001b[39m'\u001b[39m\u001b[39m_Thread__stopped\u001b[39m\u001b[39m'\u001b[39m):  \u001b[39m# Python 2.x has this\u001b[39;00m\n",
      "\u001b[0;31mKeyboardInterrupt\u001b[0m: "
     ]
    }
   ],
   "source": [
    "nearest = np.array([2,3,4,5,6,7], dtype=np.int32)\n",
    "\n",
    "nearest_prev = np.zeros(nearest.size, dtype=np.int32) - 1\n",
    "\n",
    "while (nearest_prev != nearest).all():\n",
    "    nearest_prev = nearest\n",
    "    nearest = np.roll(nearest,-3)\n",
    "\n",
    "nearest\n",
    "\n"
   ]
  },
  {
   "cell_type": "code",
   "execution_count": 97,
   "metadata": {},
   "outputs": [
    {
     "data": {
      "text/plain": [
       "True"
      ]
     },
     "execution_count": 97,
     "metadata": {},
     "output_type": "execute_result"
    }
   ],
   "source": [
    "(nearest_prev != nearest).all()"
   ]
  },
  {
   "cell_type": "code",
   "execution_count": 51,
   "metadata": {},
   "outputs": [],
   "source": [
    "nearest = np.array([2,3,4,5,0,3], dtype=np.int32)\n",
    "\n",
    "# print(nearest)\n",
    "\n",
    "# nearest[np.array([2,4,5])] = nearest[np.array([2,4,5])]\n",
    "\n",
    "# print(nearest)"
   ]
  },
  {
   "cell_type": "code",
   "execution_count": 130,
   "metadata": {},
   "outputs": [
    {
     "data": {
      "text/plain": [
       "162754.79141900392"
      ]
     },
     "execution_count": 130,
     "metadata": {},
     "output_type": "execute_result"
    }
   ],
   "source": [
    "np.exp(12)"
   ]
  },
  {
   "cell_type": "code",
   "execution_count": 158,
   "metadata": {},
   "outputs": [
    {
     "data": {
      "text/plain": [
       "[1, 2, 3, 3, 5, 6, 6, 7, 8, 9, 0]"
      ]
     },
     "execution_count": 158,
     "metadata": {},
     "output_type": "execute_result"
    }
   ],
   "source": [
    "list=[[1,2,3],[3,5,6],[6,7,8,9,0]]\n",
    "\n",
    "sum(list,[])"
   ]
  },
  {
   "cell_type": "code",
   "execution_count": null,
   "metadata": {},
   "outputs": [],
   "source": []
  }
 ],
 "metadata": {
  "kernelspec": {
   "display_name": "Python 3",
   "language": "python",
   "name": "python3"
  },
  "language_info": {
   "codemirror_mode": {
    "name": "ipython",
    "version": 3
   },
   "file_extension": ".py",
   "mimetype": "text/x-python",
   "name": "python",
   "nbconvert_exporter": "python",
   "pygments_lexer": "ipython3",
   "version": "3.8.10"
  },
  "orig_nbformat": 4
 },
 "nbformat": 4,
 "nbformat_minor": 2
}
