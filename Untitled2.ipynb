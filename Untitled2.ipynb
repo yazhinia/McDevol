{
 "cells": [
  {
   "cell_type": "code",
   "execution_count": 1,
   "id": "a68f2025",
   "metadata": {},
   "outputs": [],
   "source": [
    "%load_ext autoreload\n",
    "%autoreload 2\n",
    "# %debug magic\n",
    "\n",
    "import os\n",
    "import time\n",
    "import subprocess\n",
    "import gc\n",
    "import numpy as np\n",
    "import pandas as pd\n",
    "import optimize_parameters as opt\n",
    "from multiprocessing.pool import Pool\n",
    "from nmf_connected_components import nmf_connected_components\n",
    "import bam2counts"
   ]
  },
  {
   "cell_type": "code",
   "execution_count": 2,
   "id": "09f1cbad",
   "metadata": {},
   "outputs": [
    {
     "name": "stdout",
     "output_type": "stream",
     "text": [
      "/big/work/metadevol/cami2_datasets/marine/bowtie_bamfiles/tmp/\n",
      "obtained alpha parameter for read counts 17.696683761938658 in 0.45082736015319824 seconds\n",
      "dirichlet_prior_persamples [1.77417099 1.52123651 1.57004106 1.46923825 1.78121749 2.02644641\n",
      " 1.6624796  1.9367352  1.85315873 2.10195953] in 0.00012373924255371094 seconds\n"
     ]
    }
   ],
   "source": [
    "input_dir = '/big/work/metadevol/cami2_datasets/marine/bowtie_bamfiles/tmp/'\n",
    "# input_dir = '/big/work/metadevol/benchmark_dataset1/bamfiles/tmp/'\n",
    "working_dir = input_dir\n",
    "s = time.time()\n",
    "print(working_dir)\n",
    "\n",
    "\n",
    "\"\"\" obtain read counts \"\"\"\n",
    "# calcreadcounts(input_dir, working_dir, args.minlength)\n",
    "\n",
    "\"\"\" clustering parameters (default) \"\"\"\n",
    "d0 = 1.0\n",
    "d1 = d0\n",
    "min_shared_contigs = 20\n",
    "\n",
    "\"\"\" load contig read counts \"\"\"\n",
    "contigs = pd.read_csv(working_dir + 'contigs_labels', header=None, sep=' ').to_numpy()\n",
    "contig_names = contigs[:,1]\n",
    "contig_length = contigs[:,2].astype(int)\n",
    "# contig_length = pd.read_csv(working_dir + '../../contigs_umap_hoverdata1', header=None, usecols=[3],sep=' ')\n",
    "# contig_length = contig_length.to_numpy().ravel()\n",
    "fractional_counts = pd.read_csv(working_dir + \"total_count\", header=None,sep=' ', engine=\"pyarrow\")\n",
    "read_counts = fractional_counts.pivot_table(index = 1, columns = 0, values = 2)\n",
    "# read_counts = pd.read_pickle(working_dir + 'X_pickle')\n",
    "del(fractional_counts)\n",
    "\n",
    "\n",
    "read_counts = read_counts.to_numpy().T\n",
    "\n",
    "sp20_inds = np.loadtxt(working_dir + '20sp_check/20sp_inds', dtype=int)\n",
    "read_counts = read_counts[sp20_inds]\n",
    "\n",
    "total_contigs, n_size = np.shape(read_counts)\n",
    "\n",
    "# Rc_reads = np.sum(read_counts, axis=1, keepdims=True)\n",
    "\n",
    "R_max = 1e5\n",
    "# read_counts_scaled = np.multiply(read_counts, R_max/(R_max + Rc_reads))\n",
    "Rc_reads = read_counts.sum(axis=1)\n",
    "Rn_reads = read_counts.sum(axis=0)\n",
    "\n",
    "ss = time.time()\n",
    "dirichlet_prior = opt.optimize_alpha(read_counts, Rc_reads, Rn_reads, n_size)\n",
    "print('obtained alpha parameter for read counts', dirichlet_prior, 'in' ,time.time()-ss,'seconds')\n",
    "ss = time.time()\n",
    "dirichlet_prior_persamples  = dirichlet_prior * Rn_reads / Rn_reads.sum()\n",
    "print('dirichlet_prior_persamples', dirichlet_prior_persamples, 'in' ,time.time()-ss,'seconds')"
   ]
  },
  {
   "cell_type": "code",
   "execution_count": 3,
   "id": "c9b494c2",
   "metadata": {},
   "outputs": [
    {
     "data": {
      "text/plain": [
       "'/big/work/metadevol/cami2_datasets/marine/bowtie_bamfiles/tmp/'"
      ]
     },
     "execution_count": 3,
     "metadata": {},
     "output_type": "execute_result"
    }
   ],
   "source": [
    "working_dir"
   ]
  },
  {
   "cell_type": "code",
   "execution_count": 29,
   "id": "62738747",
   "metadata": {},
   "outputs": [
    {
     "data": {
      "text/plain": [
       "array([16186,  4745, 11365, 18306, 35685, 35526, 17176, 31689, 18642,\n",
       "       24253, 28355, 27644, 33678, 35575, 35286, 36537, 32318,  2097,\n",
       "        2648, 21307, 19676, 17377, 26928,  5420, 32686, 35089,  5951,\n",
       "       31267, 29556,  1712, 35337,  4975,  1162, 33035, 30775,  5233,\n",
       "        8109, 29589, 29913,   413,  6760, 28688, 17467, 32987,  6367,\n",
       "       15320, 35581,  3521, 24906, 36739, 26046, 31667, 18099, 15542,\n",
       "       29099, 29916, 11420, 29863, 17890,  3008, 34663, 15755, 20624,\n",
       "       26554, 30470, 32532, 26852, 34578,  1055, 27692, 14673, 18208,\n",
       "       17405, 31146, 23852, 36384,  2740, 30364,  9062,  7862, 19630,\n",
       "       12687, 14438, 34275, 11710, 34935,  6725, 35662,  2427, 26146,\n",
       "       22264, 18584,  7047, 22765, 14155, 15842, 18652, 26110,  7115,\n",
       "       34834, 10305, 30028, 25115, 33310, 24371, 31141, 20151,  1260,\n",
       "       35190, 28861, 15761,  1244,  2470, 24666, 20585, 36246,  4633,\n",
       "        8429, 23970, 14064, 25650, 26821, 15599, 24412, 25980,  5579,\n",
       "       36891, 25099, 26517, 24674,  6261,  5818,  8494, 23012, 22216,\n",
       "       21943,  4930, 26303, 23120, 13882,   115, 15259, 23188,  1890,\n",
       "       19739, 12449, 27742, 27700, 22929, 20917, 27761,  2662, 25382,\n",
       "       20051, 36019, 22360, 11861, 20915, 27025, 23037,  5756, 25308,\n",
       "        4260, 25195, 20746, 35507, 24585,   175, 26039, 30157,  6143,\n",
       "          87, 16696, 27459,   915,  9350, 23638, 23985,  5472, 29864,\n",
       "       20597, 31695, 24930, 18958,  1852, 22822,  2602, 31206, 14621,\n",
       "       29376, 10723, 25676, 23855, 26103, 24467, 30689, 36857, 23089,\n",
       "       25905, 23937, 20846,  8201, 13685, 36448, 20182, 34465,  4493,\n",
       "       33260, 23996, 21638, 25420, 36729, 36266, 14709, 13084, 23518,\n",
       "        1267,  3395, 21629, 34882, 36222, 27265, 27698, 24518, 23442,\n",
       "       26724, 26666, 25419,  7496, 19108, 23159, 31363,  8113, 21744,\n",
       "       26073, 25518, 36609, 21239, 28879, 18830, 30526, 30005, 29247,\n",
       "       22369, 23339,  1128,  3923, 23265,  1651, 22927, 23274, 33704,\n",
       "       31254, 15680, 24288,  8469,  3351, 21128, 13191,  4539, 26745,\n",
       "       13263, 31700, 27967, 12211,  5386,  2392, 26874, 22494, 20447,\n",
       "       25674, 33766, 32568,  1881, 32192, 28767,  8446, 21146, 15441,\n",
       "       31721, 24307, 36558, 20590,  3109,   498, 27592, 21882, 24440,\n",
       "       23671, 33428, 36355, 27138, 12485,  2508, 22286, 20006, 11987,\n",
       "       25141, 29024, 25584, 21832])"
      ]
     },
     "execution_count": 29,
     "metadata": {},
     "output_type": "execute_result"
    }
   ],
   "source": [
    "centroid_list = np.load(working_dir + '20sp_check/clustercentroids_list.npy')\n",
    "\n",
    "centroid_list"
   ]
  },
  {
   "cell_type": "code",
   "execution_count": 42,
   "id": "d0938548",
   "metadata": {},
   "outputs": [
    {
     "data": {
      "text/plain": [
       "array([0., 0., 0., 0., 0., 0., 0., 0., 0., 0., 0., 0., 0., 0., 0., 0., 0.,\n",
       "       0., 0., 0., 0., 0., 0., 0., 0., 0., 0., 0., 0., 0., 0., 0., 0., 0.,\n",
       "       0., 0., 0., 0., 0., 0., 0., 0., 0., 0., 0., 0., 0., 0., 0., 0., 0.,\n",
       "       0., 0., 0., 0., 0., 0., 0., 0., 0., 0., 0., 0., 0., 0., 0., 0., 0.,\n",
       "       0., 0., 0., 0., 0., 0., 0., 0., 0., 0., 0., 0., 0., 0., 0., 0., 0.,\n",
       "       0., 0., 0., 0., 0., 0., 0., 0., 0., 0., 0., 0., 0., 0., 0., 0., 0.,\n",
       "       0., 0., 0., 0., 0., 0., 0., 0., 0., 0., 0., 0., 0., 0., 0., 0., 0.,\n",
       "       0., 0., 0., 0., 0., 0., 0., 0., 0., 0., 0., 0., 0., 0., 0., 0., 0.,\n",
       "       0., 0., 0., 0., 0., 0., 0., 0., 0., 0., 0., 0., 0., 0., 0., 0., 0.,\n",
       "       0., 0., 0., 0., 0., 0., 0., 0., 0., 0., 0., 0., 0., 0., 0., 0., 0.,\n",
       "       0., 0., 0., 0., 0., 0., 0., 0., 0., 0., 0., 0., 0., 0., 0., 0., 0.,\n",
       "       0., 0., 0., 0., 0., 0., 0., 0., 0., 0., 0., 0., 0., 0., 0., 0., 0.,\n",
       "       0., 0., 0., 0., 0., 0., 0., 0., 0., 0., 0., 0., 0., 0., 0., 0., 0.,\n",
       "       0., 0., 0., 0., 0., 0., 0., 0., 0., 0., 0., 0., 0., 0., 0., 0., 0.,\n",
       "       0., 0., 0., 0., 0., 0., 0., 0., 0., 0., 0., 0., 0., 0., 0., 0., 0.,\n",
       "       0., 0., 0., 0., 0., 0., 0., 0., 0., 0., 0., 0., 0., 0., 0., 0., 0.,\n",
       "       0., 0., 0., 0., 0., 0., 0., 0., 0., 0., 0., 0., 0., 0., 0., 0., 0.,\n",
       "       0., 0., 0., 0., 0., 0., 0., 0., 0., 0., 0., 0.])"
      ]
     },
     "execution_count": 42,
     "metadata": {},
     "output_type": "execute_result"
    }
   ],
   "source": [
    "import metadevol_distance as md\n",
    "\n",
    "import distance_calculations as dd\n",
    "\n",
    "md.compute_readcountdist(25141, read_counts[centroid_list], Rc_reads[centroid_list], dirichlet_prior, dirichlet_prior_persamples)\n",
    "\n",
    "# dd.distance_connected_component(read_counts[21832], read_counts[centroid_list], Rc_reads[21832], Rc_reads[centroid_list], dirichlet_prior_persamples,dirichlet_prior, 0)\n",
    "\n"
   ]
  },
  {
   "cell_type": "code",
   "execution_count": 45,
   "id": "13050bb7",
   "metadata": {},
   "outputs": [
    {
     "data": {
      "text/plain": [
       "(301, 10)"
      ]
     },
     "execution_count": 45,
     "metadata": {},
     "output_type": "execute_result"
    }
   ],
   "source": [
    "np.shape(read_counts[centroid_list])"
   ]
  },
  {
   "cell_type": "code",
   "execution_count": null,
   "id": "febb657f",
   "metadata": {},
   "outputs": [],
   "source": []
  }
 ],
 "metadata": {
  "kernelspec": {
   "display_name": "Python 3 (ipykernel)",
   "language": "python",
   "name": "python3"
  },
  "language_info": {
   "codemirror_mode": {
    "name": "ipython",
    "version": 3
   },
   "file_extension": ".py",
   "mimetype": "text/x-python",
   "name": "python",
   "nbconvert_exporter": "python",
   "pygments_lexer": "ipython3",
   "version": "3.8.10"
  }
 },
 "nbformat": 4,
 "nbformat_minor": 5
}
