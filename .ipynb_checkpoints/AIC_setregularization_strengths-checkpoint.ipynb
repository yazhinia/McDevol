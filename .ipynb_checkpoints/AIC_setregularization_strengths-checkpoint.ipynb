{
 "cells": [
  {
   "cell_type": "code",
   "execution_count": 2,
   "id": "2a763b88",
   "metadata": {},
   "outputs": [
    {
     "name": "stdout",
     "output_type": "stream",
     "text": [
      "clustering initiated\n",
      "\n",
      "alpha optimized is: 8.445274503124452 and took 0.9447112083435059 seconds\n",
      "\n",
      "Obtained 28 clusters\n",
      "\n",
      "clustering took: 8.160696506500244 seconds\n",
      "\n",
      "(28, 20)\n",
      "[18.67723285 10.81979179 17.86080945  9.49022124  6.01940764 21.04242414\n",
      "  9.54465679  5.94098321  9.43825088  8.14201765 16.59250913  9.18815985\n",
      "  6.87595065 16.54167368 10.16269841  6.90705944 11.08413972 10.81815906\n",
      " 14.8277356   5.66688693  8.6200363  10.93814815  7.67528554  3.59872107\n",
      "  7.92725617  6.49516227 10.63391837  5.35504014]\n",
      "Initializing W and Z matrices took: 0.07557010650634766 seconds\n",
      "\n",
      "Optimizing W and Z matrices\n",
      "\n"
     ]
    },
    {
     "name": "stderr",
     "output_type": "stream",
     "text": [
      "2022-11-21 19:32:32.601050: W tensorflow/stream_executor/platform/default/dso_loader.cc:64] Could not load dynamic library 'libcudnn.so.8'; dlerror: libcudnn.so.8: cannot open shared object file: No such file or directory\n",
      "2022-11-21 19:32:32.601096: W tensorflow/core/common_runtime/gpu/gpu_device.cc:1850] Cannot dlopen some GPU libraries. Please make sure the missing libraries mentioned above are installed properly if you would like to use GPU. Follow the guide at https://www.tensorflow.org/install/gpu for how to download and setup the required libraries for your platform.\n",
      "Skipping registering GPU devices...\n",
      "2022-11-21 19:32:32.604396: I tensorflow/core/platform/cpu_feature_guard.cc:193] This TensorFlow binary is optimized with oneAPI Deep Neural Network Library (oneDNN) to use the following CPU instructions in performance-critical operations:  AVX2 FMA\n",
      "To enable them in other operations, rebuild TensorFlow with the appropriate compiler flags.\n"
     ]
    },
    {
     "name": "stdout",
     "output_type": "stream",
     "text": [
      "28 new assignment at iteration 49\n",
      "28 old assignment at iteration 49\n"
     ]
    },
    {
     "ename": "KeyboardInterrupt",
     "evalue": "",
     "output_type": "error",
     "traceback": [
      "\u001b[0;31m---------------------------------------------------------------------------\u001b[0m",
      "\u001b[0;31mKeyboardInterrupt\u001b[0m                         Traceback (most recent call last)",
      "\u001b[1;32m/big/work/metadevol/scripts/AIC_setregularization_strengths.ipynb Cell 1\u001b[0m in \u001b[0;36m<cell line: 75>\u001b[0;34m()\u001b[0m\n\u001b[1;32m    <a href='vscode-notebook-cell:/big/work/metadevol/scripts/AIC_setregularization_strengths.ipynb#W0sZmlsZQ%3D%3D?line=259'>260</a>\u001b[0m             \u001b[39m# np.savetxt(tmp_dir + \"count_plot/contig_bins_\" + str(i+1) + \"trial\", bins0, delimiter = \",\", fmt=['%d','%f','%d'])\u001b[39;00m\n\u001b[1;32m    <a href='vscode-notebook-cell:/big/work/metadevol/scripts/AIC_setregularization_strengths.ipynb#W0sZmlsZQ%3D%3D?line=260'>261</a>\u001b[0m     \u001b[39m# np.savetxt(tmp_dir + \"count_plot/contig_68448_1209_Zbc_trial\",contig_68448_1209_Zbc, fmt=\"%f\")\u001b[39;00m\n\u001b[1;32m    <a href='vscode-notebook-cell:/big/work/metadevol/scripts/AIC_setregularization_strengths.ipynb#W0sZmlsZQ%3D%3D?line=261'>262</a>\u001b[0m     \u001b[39m# np.savetxt(tmp_dir + \"count_plot/contig_68448_1209_pbc_trial\",contig_68448_1209_pbc, fmt=\"%f\")\u001b[39;00m\n\u001b[1;32m    <a href='vscode-notebook-cell:/big/work/metadevol/scripts/AIC_setregularization_strengths.ipynb#W0sZmlsZQ%3D%3D?line=262'>263</a>\u001b[0m     \u001b[39m# np.savetxt(tmp_dir + \"count_plot/contig_103650_3899_Zbc_trial\",contig_103650_3899_Zbc, fmt=\"%f\")\u001b[39;00m\n\u001b[1;32m    <a href='vscode-notebook-cell:/big/work/metadevol/scripts/AIC_setregularization_strengths.ipynb#W0sZmlsZQ%3D%3D?line=263'>264</a>\u001b[0m     \u001b[39m# np.savetxt(tmp_dir + \"count_plot/contig_103650_3899_pbc_trial\",contig_103650_3899_pbc, fmt=\"%f\")\u001b[39;00m\n\u001b[1;32m    <a href='vscode-notebook-cell:/big/work/metadevol/scripts/AIC_setregularization_strengths.ipynb#W0sZmlsZQ%3D%3D?line=265'>266</a>\u001b[0m     \u001b[39mreturn\u001b[39;00m W, Z\n\u001b[0;32m--> <a href='vscode-notebook-cell:/big/work/metadevol/scripts/AIC_setregularization_strengths.ipynb#W0sZmlsZQ%3D%3D?line=267'>268</a>\u001b[0m W1, Z1 \u001b[39m=\u001b[39m nmf_with_adam(np\u001b[39m.\u001b[39;49mtranspose(W_t), Z_matrix, dat, num_iterations, revert_flag, convergence_criterion, Lw, Lz, Lzp, AIC_check_value)\n\u001b[1;32m    <a href='vscode-notebook-cell:/big/work/metadevol/scripts/AIC_setregularization_strengths.ipynb#W0sZmlsZQ%3D%3D?line=269'>270</a>\u001b[0m \u001b[39m\"\"\" *** END *** \"\"\"\u001b[39;00m\n\u001b[1;32m    <a href='vscode-notebook-cell:/big/work/metadevol/scripts/AIC_setregularization_strengths.ipynb#W0sZmlsZQ%3D%3D?line=271'>272</a>\u001b[0m \u001b[39mprint\u001b[39m(\u001b[39m\"\u001b[39m\u001b[39mObtained optimized W and Z matrices\u001b[39m\u001b[39m\"\u001b[39m)\n",
      "\u001b[1;32m/big/work/metadevol/scripts/AIC_setregularization_strengths.ipynb Cell 1\u001b[0m in \u001b[0;36mnmf_with_adam\u001b[0;34m(W, Z, X, n, revert_flag, convergence_criterion, Lw, Lz, Lzp, AIC_check_value)\u001b[0m\n\u001b[1;32m    <a href='vscode-notebook-cell:/big/work/metadevol/scripts/AIC_setregularization_strengths.ipynb#W0sZmlsZQ%3D%3D?line=253'>254</a>\u001b[0m         Bz_bc \u001b[39m=\u001b[39m[]\n\u001b[1;32m    <a href='vscode-notebook-cell:/big/work/metadevol/scripts/AIC_setregularization_strengths.ipynb#W0sZmlsZQ%3D%3D?line=254'>255</a>\u001b[0m         \u001b[39mfor\u001b[39;00m f \u001b[39min\u001b[39;00m \u001b[39mrange\u001b[39m(np\u001b[39m.\u001b[39mshape(Z)[\u001b[39m1\u001b[39m]):\n\u001b[0;32m--> <a href='vscode-notebook-cell:/big/work/metadevol/scripts/AIC_setregularization_strengths.ipynb#W0sZmlsZQ%3D%3D?line=255'>256</a>\u001b[0m             Bz_bc\u001b[39m.\u001b[39mappend(Z[contig_assign0[f],f])\n\u001b[1;32m    <a href='vscode-notebook-cell:/big/work/metadevol/scripts/AIC_setregularization_strengths.ipynb#W0sZmlsZQ%3D%3D?line=256'>257</a>\u001b[0m         bins0 \u001b[39m=\u001b[39m np\u001b[39m.\u001b[39mc_[contig_assign0, np\u001b[39m.\u001b[39marray(Bz_bc)\u001b[39m.\u001b[39mreshape(\u001b[39mlen\u001b[39m(Bz_bc),\u001b[39m1\u001b[39m), np\u001b[39m.\u001b[39marray(contig_names)]\n\u001b[1;32m    <a href='vscode-notebook-cell:/big/work/metadevol/scripts/AIC_setregularization_strengths.ipynb#W0sZmlsZQ%3D%3D?line=257'>258</a>\u001b[0m \u001b[39m#         bins0 = bins0[np.lexsort((bins0[:,1], bins0[:,0]))]\u001b[39;00m\n",
      "File \u001b[0;32m~/.local/lib/python3.8/site-packages/tensorflow/python/ops/array_ops.py:1351\u001b[0m, in \u001b[0;36m_SliceHelperVar\u001b[0;34m(var, slice_spec)\u001b[0m\n\u001b[1;32m   1308\u001b[0m \u001b[39mdef\u001b[39;00m \u001b[39m_SliceHelperVar\u001b[39m(var, slice_spec):\n\u001b[1;32m   1309\u001b[0m   \u001b[39m\"\"\"Creates a slice helper object given a variable.\u001b[39;00m\n\u001b[1;32m   1310\u001b[0m \n\u001b[1;32m   1311\u001b[0m \u001b[39m  This allows creating a sub-tensor from part of the current contents\u001b[39;00m\n\u001b[0;32m   (...)\u001b[0m\n\u001b[1;32m   1348\u001b[0m \n\u001b[1;32m   1349\u001b[0m \u001b[39m  \"\"\"\u001b[39;00m\n\u001b[0;32m-> 1351\u001b[0m   \u001b[39mreturn\u001b[39;00m _slice_helper(var\u001b[39m.\u001b[39;49mvalue(), slice_spec, var)\n",
      "File \u001b[0;32m~/.local/lib/python3.8/site-packages/tensorflow/python/util/traceback_utils.py:150\u001b[0m, in \u001b[0;36mfilter_traceback.<locals>.error_handler\u001b[0;34m(*args, **kwargs)\u001b[0m\n\u001b[1;32m    148\u001b[0m filtered_tb \u001b[39m=\u001b[39m \u001b[39mNone\u001b[39;00m\n\u001b[1;32m    149\u001b[0m \u001b[39mtry\u001b[39;00m:\n\u001b[0;32m--> 150\u001b[0m   \u001b[39mreturn\u001b[39;00m fn(\u001b[39m*\u001b[39;49margs, \u001b[39m*\u001b[39;49m\u001b[39m*\u001b[39;49mkwargs)\n\u001b[1;32m    151\u001b[0m \u001b[39mexcept\u001b[39;00m \u001b[39mException\u001b[39;00m \u001b[39mas\u001b[39;00m e:\n\u001b[1;32m    152\u001b[0m   filtered_tb \u001b[39m=\u001b[39m _process_traceback_frames(e\u001b[39m.\u001b[39m__traceback__)\n",
      "File \u001b[0;32m~/.local/lib/python3.8/site-packages/tensorflow/python/util/dispatch.py:1082\u001b[0m, in \u001b[0;36madd_dispatch_support.<locals>.decorator.<locals>.op_dispatch_handler\u001b[0;34m(*args, **kwargs)\u001b[0m\n\u001b[1;32m   1080\u001b[0m \u001b[39m# Fallback dispatch system (dispatch v1):\u001b[39;00m\n\u001b[1;32m   1081\u001b[0m \u001b[39mtry\u001b[39;00m:\n\u001b[0;32m-> 1082\u001b[0m   \u001b[39mreturn\u001b[39;00m dispatch_target(\u001b[39m*\u001b[39;49margs, \u001b[39m*\u001b[39;49m\u001b[39m*\u001b[39;49mkwargs)\n\u001b[1;32m   1083\u001b[0m \u001b[39mexcept\u001b[39;00m (\u001b[39mTypeError\u001b[39;00m, \u001b[39mValueError\u001b[39;00m):\n\u001b[1;32m   1084\u001b[0m   \u001b[39m# Note: convert_to_eager_tensor currently raises a ValueError, not a\u001b[39;00m\n\u001b[1;32m   1085\u001b[0m   \u001b[39m# TypeError, when given unexpected types.  So we need to catch both.\u001b[39;00m\n\u001b[1;32m   1086\u001b[0m   result \u001b[39m=\u001b[39m dispatch(op_dispatch_handler, args, kwargs)\n",
      "File \u001b[0;32m~/.local/lib/python3.8/site-packages/tensorflow/python/ops/array_ops.py:1097\u001b[0m, in \u001b[0;36m_slice_helper\u001b[0;34m(tensor, slice_spec, var)\u001b[0m\n\u001b[1;32m   1095\u001b[0m   var_empty \u001b[39m=\u001b[39m constant([], dtype\u001b[39m=\u001b[39mdtypes\u001b[39m.\u001b[39mint32)\n\u001b[1;32m   1096\u001b[0m   packed_begin \u001b[39m=\u001b[39m packed_end \u001b[39m=\u001b[39m packed_strides \u001b[39m=\u001b[39m var_empty\n\u001b[0;32m-> 1097\u001b[0m \u001b[39mreturn\u001b[39;00m strided_slice(\n\u001b[1;32m   1098\u001b[0m     tensor,\n\u001b[1;32m   1099\u001b[0m     packed_begin,\n\u001b[1;32m   1100\u001b[0m     packed_end,\n\u001b[1;32m   1101\u001b[0m     packed_strides,\n\u001b[1;32m   1102\u001b[0m     begin_mask\u001b[39m=\u001b[39;49mbegin_mask,\n\u001b[1;32m   1103\u001b[0m     end_mask\u001b[39m=\u001b[39;49mend_mask,\n\u001b[1;32m   1104\u001b[0m     shrink_axis_mask\u001b[39m=\u001b[39;49mshrink_axis_mask,\n\u001b[1;32m   1105\u001b[0m     new_axis_mask\u001b[39m=\u001b[39;49mnew_axis_mask,\n\u001b[1;32m   1106\u001b[0m     ellipsis_mask\u001b[39m=\u001b[39;49mellipsis_mask,\n\u001b[1;32m   1107\u001b[0m     var\u001b[39m=\u001b[39;49mvar,\n\u001b[1;32m   1108\u001b[0m     name\u001b[39m=\u001b[39;49mname)\n",
      "File \u001b[0;32m~/.local/lib/python3.8/site-packages/tensorflow/python/util/traceback_utils.py:150\u001b[0m, in \u001b[0;36mfilter_traceback.<locals>.error_handler\u001b[0;34m(*args, **kwargs)\u001b[0m\n\u001b[1;32m    148\u001b[0m filtered_tb \u001b[39m=\u001b[39m \u001b[39mNone\u001b[39;00m\n\u001b[1;32m    149\u001b[0m \u001b[39mtry\u001b[39;00m:\n\u001b[0;32m--> 150\u001b[0m   \u001b[39mreturn\u001b[39;00m fn(\u001b[39m*\u001b[39;49margs, \u001b[39m*\u001b[39;49m\u001b[39m*\u001b[39;49mkwargs)\n\u001b[1;32m    151\u001b[0m \u001b[39mexcept\u001b[39;00m \u001b[39mException\u001b[39;00m \u001b[39mas\u001b[39;00m e:\n\u001b[1;32m    152\u001b[0m   filtered_tb \u001b[39m=\u001b[39m _process_traceback_frames(e\u001b[39m.\u001b[39m__traceback__)\n",
      "File \u001b[0;32m~/.local/lib/python3.8/site-packages/tensorflow/python/util/dispatch.py:1082\u001b[0m, in \u001b[0;36madd_dispatch_support.<locals>.decorator.<locals>.op_dispatch_handler\u001b[0;34m(*args, **kwargs)\u001b[0m\n\u001b[1;32m   1080\u001b[0m \u001b[39m# Fallback dispatch system (dispatch v1):\u001b[39;00m\n\u001b[1;32m   1081\u001b[0m \u001b[39mtry\u001b[39;00m:\n\u001b[0;32m-> 1082\u001b[0m   \u001b[39mreturn\u001b[39;00m dispatch_target(\u001b[39m*\u001b[39;49margs, \u001b[39m*\u001b[39;49m\u001b[39m*\u001b[39;49mkwargs)\n\u001b[1;32m   1083\u001b[0m \u001b[39mexcept\u001b[39;00m (\u001b[39mTypeError\u001b[39;00m, \u001b[39mValueError\u001b[39;00m):\n\u001b[1;32m   1084\u001b[0m   \u001b[39m# Note: convert_to_eager_tensor currently raises a ValueError, not a\u001b[39;00m\n\u001b[1;32m   1085\u001b[0m   \u001b[39m# TypeError, when given unexpected types.  So we need to catch both.\u001b[39;00m\n\u001b[1;32m   1086\u001b[0m   result \u001b[39m=\u001b[39m dispatch(op_dispatch_handler, args, kwargs)\n",
      "File \u001b[0;32m~/.local/lib/python3.8/site-packages/tensorflow/python/ops/array_ops.py:1285\u001b[0m, in \u001b[0;36mstrided_slice\u001b[0;34m(input_, begin, end, strides, begin_mask, end_mask, ellipsis_mask, new_axis_mask, shrink_axis_mask, var, name)\u001b[0m\n\u001b[1;32m   1282\u001b[0m parent_name \u001b[39m=\u001b[39m name\n\u001b[1;32m   1284\u001b[0m \u001b[39mif\u001b[39;00m var \u001b[39mis\u001b[39;00m \u001b[39mnot\u001b[39;00m \u001b[39mNone\u001b[39;00m:\n\u001b[0;32m-> 1285\u001b[0m   \u001b[39mdef\u001b[39;00m \u001b[39massign\u001b[39m(val, name\u001b[39m=\u001b[39m\u001b[39mNone\u001b[39;00m):\n\u001b[1;32m   1286\u001b[0m     \u001b[39m\"\"\"Closure that holds all the arguments to create an assignment.\"\"\"\u001b[39;00m\n\u001b[1;32m   1288\u001b[0m     \u001b[39mif\u001b[39;00m name \u001b[39mis\u001b[39;00m \u001b[39mNone\u001b[39;00m:\n",
      "\u001b[0;31mKeyboardInterrupt\u001b[0m: "
     ]
    }
   ],
   "source": [
    "\n",
    "import time\n",
    "import numpy as np\n",
    "import pandas as pd\n",
    "import tensorflow as tf\n",
    "from sklearn import cluster\n",
    "import matplotlib.pyplot as plt\n",
    "from optimize_alpha import optimize_alpha\n",
    "from distance_calculations import distance\n",
    "\n",
    "\n",
    "def initialize_Z(W_t, dat):\n",
    "    \n",
    "    W = np.transpose(W_t)\n",
    "    lmda = 0.1\n",
    "    inverse_term = np.linalg.inv(np.eye(W.shape[0]) + (lmda ** -1) * np.matmul(W,W_t))\n",
    "    woodbury = (lmda ** -1) * np.eye(W.shape[1]) - np.matmul((lmda ** -2) * W_t , np.matmul(inverse_term, W))\n",
    "    print(np.matmul(W_t,dat)[:,11977])\n",
    "    return np.matmul(woodbury, np.matmul(W_t,dat))\n",
    "\n",
    "\n",
    "# def maximize_function(w, z, x, qt):\n",
    "    \n",
    "#     mean = tf.matmul(w, z)\n",
    "#     mean = tf.math.maximum(0.1 * qt * x, 1e-20 + tf.nn.relu(mean))\n",
    "#     W_term = Lw * tf.reduce_sum(tf.abs(w))\n",
    "#     Z_term = Lz * tf.reduce_sum(tf.abs(z))\n",
    "#     block_penalty = Lzp * np.sqrt(sum(lc) / len(lc)) * sum(tf.norm(z / np.sqrt(lc), axis = 1))\n",
    "#     R = - W_term - Z_term - block_penalty\n",
    "#     negative_log_likelihood = - (tf.reduce_sum(- mean + tf.multiply(x, tf.math.log(mean))) + R)\n",
    "#     # negative_log_likelihood = - tf.reduce_sum(- mean + tf.multiply(x, tf.math.log(mean))) \n",
    "        \n",
    "#     return negative_log_likelihood\n",
    "\n",
    "\n",
    "def maximize_regularizedfunction(w, z, x, qt):\n",
    "    mean = tf.matmul(w, z)\n",
    "    mean = tf.math.maximum(0.1 * qt * x, 1e-20 + tf.nn.relu(mean))\n",
    "\n",
    "    \"\"\" L1 norm \"\"\"\n",
    "    W_term = Lw * tf.reduce_sum(tf.abs(w))\n",
    "    Rc = tf.reduce_sum(z, axis=0)\n",
    "    Z_term = Lz * tf.reduce_sum(tf.abs(z)/Rc)\n",
    "\n",
    "    \"\"\" block penalty \"\"\"\n",
    "    W_bterm = Lwp * tf.reduce_sum(tf.norm(w, axis=0))\n",
    "    Z_bterm = Lzp * tf.reduce_sum(tf.norm(z/Rc, axis=1))\n",
    "    R = - W_term - Z_term - W_bterm - Z_bterm\n",
    "\n",
    "    negative_log_likelihood = - (tf.reduce_sum(- mean + tf.multiply(x, tf.math.log(mean))) + R)\n",
    "        \n",
    "    return negative_log_likelihood\n",
    "\n",
    "\n",
    "def optimize_wz(W, Z, X, qt, opt):\n",
    "        \n",
    "    with tf.GradientTape() as tape:\n",
    "        loss = maximize_regularizedfunction(W, Z, X, qt)\n",
    "        LL1.append(loss)\n",
    "    optimized = opt.minimize(loss, [W, Z], tape = tape)\n",
    "    \n",
    "    return optimized\n",
    "\n",
    "\n",
    "def calc_aic(w, z, x, qt):\n",
    "\n",
    "    mean = tf.matmul(w, z)\n",
    "    mean = tf.math.maximum(0.1 * qt * x, 1e-20 + tf.nn.relu(mean))\n",
    "    log_likelihood = tf.reduce_sum(- mean + tf.multiply(x, tf.math.log(mean)))\n",
    "    AIC_score = log_likelihood - tf.math.count_nonzero(tf.nn.relu(w), dtype=\"float64\") - tf.math.count_nonzero(tf.nn.relu(z), dtype=\"float64\")\n",
    "    \n",
    "    return AIC_score\n",
    "\n",
    "\n",
    "s = time.time()\n",
    "if __name__ ==  \"__main__\":\n",
    "    print(\"clustering initiated\"+'\\n')\n",
    "    # tmp_dir = \"/big/work/metadevol/scripts/bamtools_api/build/\"\n",
    "    # tmp_dir = \"/big/work/metadevol/new_simdata/metabat2_bamfiles/\"\n",
    "    tmp_dir = \"/big/work/metadevol/benchmark_dataset1/\"\n",
    "    dat = pd.read_pickle(tmp_dir + 'X_pickle')\n",
    "    # dat = pd.read_hdf(\"/big/work/metadevol/new_simdata/eachsamreads_allcontigs_allalign/coco_correction/X.h5\")\n",
    "    # label = pd.read_csv(tmp_dir + 'contigs_refid_genomeid_withcrossmappeddata', sep =' ', usecols=[0,3], header = None)\n",
    "    label = pd.read_csv(tmp_dir + 'contigs_ids_distindex', sep =' ', header = None)\n",
    "    # dat = pd.read_csv('/big/work/metadevol/count_calc/count_abs', index_col = 0)\n",
    "\n",
    "    lc = label[3]\n",
    "\n",
    "    contig_names = dat.columns\n",
    "    dat = dat.to_numpy()\n",
    "    N, C = np.shape(dat)\n",
    "\n",
    "    Rc    = dat.sum(axis=0)\n",
    "    Rn    = dat.sum(axis=1)\n",
    "\n",
    "    cluster_centers = np.empty((0,N))\n",
    "    cluster_members = []\n",
    "    cluster_members_count = []\n",
    "\n",
    "    s1 = time.time()\n",
    "    a     = optimize_alpha(dat, Rc, Rn, N)\n",
    "    an    = a * Rn / Rn.sum()\n",
    "    alpha = an.sum()\n",
    "\n",
    "    print(\"alpha optimized is:\",a, \"and took\", time.time() - s1, \"seconds\\n\")\n",
    "    \n",
    "    s1 = time.time()\n",
    "    cc = 0\n",
    "    for c in np.arange(C):\n",
    "\n",
    "        best_k = -1\n",
    "\n",
    "        if cluster_centers.size > 0 :\n",
    "\n",
    "            dist = distance(dat[:,c], cluster_centers.T, Rc[c], cluster_centers.sum(axis=1), N, an, alpha)\n",
    "            if (np.min(dist) < 5):\n",
    "                best_k = np.argmin(dist)\n",
    "\n",
    "        if best_k == -1:\n",
    "\n",
    "            cluster_centers = np.vstack((cluster_centers, dat[:,c]))\n",
    "            cluster_members.append([dat[:,c]])\n",
    "            cluster_members_count.append(dat[:,c])\n",
    "            with open(tmp_dir + \"initial_clusters\", \"a\") as f:\n",
    "                f.write(str(contig_names[c]) + \" \" + str(cc) + \"\\n\")\n",
    "            cc = cc + 1 \n",
    "\n",
    "        else:\n",
    "\n",
    "            cluster_members[best_k].append(dat[:,c])\n",
    "            cluster_members_count[best_k] = np.add(cluster_members_count[best_k], dat[:,c])\n",
    "            with open(tmp_dir + \"initial_clusters\", \"a\") as f:\n",
    "                f.write(str(contig_names[c]) + \" \" + str(best_k) + \"\\n\")\n",
    "    \n",
    "    cluster_members_count = np.array(cluster_members_count)\n",
    "    print(\"Obtained {} clusters\".format(len(cluster_centers))+'\\n')\n",
    "    print(\"clustering took:\", time.time()-s1,\"seconds\"+'\\n')\n",
    "\n",
    "    s1 = time.time()\n",
    "    W_t = cluster_members_count/cluster_members_count.sum(axis=1,keepdims=1)\n",
    "    print(np.shape(W_t))\n",
    "    Z_matrix = initialize_Z(W_t, dat)\n",
    "    print(\"Initializing W and Z matrices took:\",time.time()-s1,'seconds\\n')\n",
    "\n",
    "    print(\"Optimizing W and Z matrices\"+'\\n')\n",
    "\n",
    "    s1 = time.time()\n",
    "    \n",
    "\n",
    "    Lw = Lz = 1\n",
    "    Lwp = 2 * Lw\n",
    "    Lzp = 2 * Lw\n",
    "    \n",
    "    AIC_check_value = 0.0\n",
    "\n",
    "    convergence_criterion = 0.001\n",
    "    \n",
    "    revert_flag = 0\n",
    "\n",
    "    num_iterations = 1000\n",
    "\n",
    "    \"\"\" W and Z optimization using SGD with automatic differentiation in Adam \"\"\"\n",
    "\n",
    "    LL1 = []\n",
    "    W_nzcount = []\n",
    "    Z_nzcount = []\n",
    "\n",
    "    # contig_68448_1209_Zbc = []\n",
    "    # contig_68448_1209_pbc = []\n",
    "\n",
    "    # contig_103650_3899_Zbc = []\n",
    "    # contig_103650_3899_pbc = []\n",
    "\n",
    "    def nmf_with_adam(W, Z, X, n, revert_flag, convergence_criterion, Lw, Lz, Lzp, AIC_check_value):\n",
    "        opt = tf.keras.optimizers.Adam(learning_rate=0.1, beta_1=0.9, beta_2=0.999, epsilon=1e-07)\n",
    "        X = tf.convert_to_tensor(X)\n",
    "        X = tf.Variable(X, trainable = False)\n",
    "        W = tf.Variable(W, trainable = True)\n",
    "        Z = tf.Variable(Z, trainable = True)\n",
    "        W_prebest = tf.Variable(W, trainable = False)\n",
    "        Z_prebest = tf.Variable(Z, trainable = False)\n",
    "\n",
    "\n",
    "        # contig_68448_1209_Zbc = []\n",
    "        # contig_68448_1209_pbc = []\n",
    "\n",
    "        # contig_103650_3899_Zbc = []\n",
    "        # contig_103650_3899_pbc = []\n",
    "\n",
    "        for i in range(n):\n",
    "            qt = np.exp(-i/10)\n",
    "            optimize = optimize_wz(W, Z, X, qt, opt)\n",
    "            # if len(LL1) >= 150:\n",
    "            #     if abs((LL1[-1] - LL1[-100])/ LL1[-1]) < convergence_criterion and abs((LL1[-50] - LL1[-150])/ LL1[-50]) < convergence_criterion and revert_flag == 0:\n",
    "            #         AIC_score = calc_aic(W, Z, X, qt)\n",
    "            #         if AIC_score > AIC_check_value:\n",
    "            #             # opt = tf.keras.optimizers.Adam(learning_rate=0.1, beta_1=0.9, beta_2=0.999, epsilon=1e-07)\n",
    "            #             print(AIC_score, \"new AIC is higher than the old one\", AIC_check_value, i+1)\n",
    "            #             Lz = 2 * Lz\n",
    "            #             Lzp = 2 * Lzp\n",
    "            #             W_prebest.assign(W)\n",
    "            #             Z_prebest.assign(Z)\n",
    "            #             AIC_check_value = AIC_score\n",
    "            #             print(W_prebest[0][0], W[0][0], \" is set at\",  i+1)\n",
    "            #             print(Z_prebest[0][0], Z[0][0], \" is set at\",  i+1)\n",
    "            #             # revert_flag = 0\n",
    "\n",
    "            #         else:\n",
    "            #             W.assign(W_prebest)\n",
    "            #             print(\"else condition\", i)\n",
    "            # #             print(W_prebest[0][0], W[0][0], \"iteration \", i)\n",
    "            # #             print(Z_prebest[0][0], Z[0][0], \"iteration before correction\", i)\n",
    "            #             # Z.assign(tf.Variable(initialize_Z(tf.transpose(W), X)))\n",
    "            # #             # print(Z[0][0], \"iteration after correction\", i)\n",
    "            # #             # print(initialize_Z(tf.transpose(W), X))\n",
    "            #             Z.assign(Z_prebest)\n",
    "            #             Lz = Lz / 2\n",
    "            #             Lzp = Lzp / 2\n",
    "            #             revert_flag = 1\n",
    "\n",
    "            #     if revert_flag == 1:\n",
    "            #         if abs((LL1[-1] - LL1[-100])/ LL1[-1]) < convergence_criterion * 0.01 and abs((LL1[-50] - LL1[-150])/ LL1[-50]) < convergence_criterion * 0.01:\n",
    "            #             break\n",
    "\n",
    "            W.assign(tf.nn.relu(W))\n",
    "            W.assign(W / tf.reduce_sum(W, axis = 0))\n",
    "            Z.assign(tf.nn.relu(Z))\n",
    "\n",
    "            W_nzcount.append(tf.math.count_nonzero(W>0.01))\n",
    "            Z_nzcount.append(tf.math.count_nonzero(Z>0.01))\n",
    "\n",
    "\n",
    "            # contig_68448_1209_Zbc.append(Z[:,1209])\n",
    "            # contig_68448_1209_pbc.append((Z/tf.reduce_sum(Z,axis=0))[:,1209])\n",
    "            # contig_103650_3899_Zbc.append(Z[:,3899])\n",
    "            # contig_103650_3899_pbc.append((Z/tf.reduce_sum(Z,axis=0))[:,3899])\n",
    "\n",
    "            if (i+1 == 50 or i+1 == 100 or i+1 == 500 or i+1 == 1000 or i+1 == 9000 or i+1 == 10000):\n",
    "        #     if (i == 9550 or i == 9582):\n",
    "        #         print(np.count_nonzero(W>0.01, axis=0), \"W matrix at iteration\", i)\n",
    "        #         print(np.count_nonzero(Z>0.01, axis=1), \"Z matrix at iteration\", i)\n",
    "        #         np.save(\"/big/work/metadevol/scripts/bamtools_api/build/count_plot/W_matrix_trial\"+ str(i+1), W)\n",
    "        #         np.save(\"/big/work/metadevol/scripts/bamtools_api/build/count_plot/Z_matrix_trial\"+ str(i+1), Z)\n",
    "\n",
    "                Rc_c  = np.sum(Z, axis=0)\n",
    "                pb_c  = Z / Rc_c\n",
    "                cov_b = np.sum(Z, axis=1) / np.sum((np.array(lc) * Z) / Rc_c, axis=1)\n",
    "                # np.savetxt(tmp_dir + \"count_plot/bin_coverage_trial\"+ str(num_iterations),cov_b.reshape(len(cov_b),1), fmt=\"%f\")\n",
    "                pb_min = 0.8 * (cov_b.reshape(len(cov_b),1) * np.sum(np.square(pb_c), axis=0) \\\n",
    "                                / np.sum(cov_b.reshape(len(cov_b),1) * pb_c, axis=0))\n",
    "                pb_min[pb_min > 0.5] = 0.5\n",
    "                contig_assign0 = tf.argmax(pb_c/pb_min, axis=0).numpy()\n",
    "                print(len(set(contig_assign0)), \"new assignment at iteration\", i)\n",
    "                print(len(set(tf.argmax(pb_c, axis=0).numpy())), \"old assignment at iteration\", i)\n",
    "                Bz_bc =[]\n",
    "                for f in range(np.shape(Z)[1]):\n",
    "                    Bz_bc.append(Z[contig_assign0[f],f])\n",
    "                bins0 = np.c_[contig_assign0, np.array(Bz_bc).reshape(len(Bz_bc),1), np.array(contig_names)]\n",
    "        #         bins0 = bins0[np.lexsort((bins0[:,1], bins0[:,0]))]\n",
    "                print(\"Number of total bins \", len(set(bins0[:,0])), \" from new assignment automatic differentiation \\n\")\n",
    "                # np.savetxt(tmp_dir + \"count_plot/contig_bins_\" + str(i+1) + \"trial\", bins0, delimiter = \",\", fmt=['%d','%f','%d'])\n",
    "        # np.savetxt(tmp_dir + \"count_plot/contig_68448_1209_Zbc_trial\",contig_68448_1209_Zbc, fmt=\"%f\")\n",
    "        # np.savetxt(tmp_dir + \"count_plot/contig_68448_1209_pbc_trial\",contig_68448_1209_pbc, fmt=\"%f\")\n",
    "        # np.savetxt(tmp_dir + \"count_plot/contig_103650_3899_Zbc_trial\",contig_103650_3899_Zbc, fmt=\"%f\")\n",
    "        # np.savetxt(tmp_dir + \"count_plot/contig_103650_3899_pbc_trial\",contig_103650_3899_pbc, fmt=\"%f\")\n",
    "\n",
    "        return W, Z\n",
    "\n",
    "    W1, Z1 = nmf_with_adam(np.transpose(W_t), Z_matrix, dat, num_iterations, revert_flag, convergence_criterion, Lw, Lz, Lzp, AIC_check_value)\n",
    "\n",
    "    \"\"\" *** END *** \"\"\"\n",
    "    \n",
    "    print(\"Obtained optimized W and Z matrices\")\n",
    "    \n",
    "    print(\"Optimization took:\", time.time() - s1, \"seconds\\n\")"
   ]
  },
  {
   "cell_type": "code",
   "execution_count": 49,
   "id": "f1dec423",
   "metadata": {},
   "outputs": [
    {
     "data": {
      "text/plain": [
       "[<matplotlib.lines.Line2D at 0x7f404e97b520>]"
      ]
     },
     "execution_count": 49,
     "metadata": {},
     "output_type": "execute_result"
    },
    {
     "data": {
      "image/png": "[encoded data removed]",
      "text/plain": [
       "<Figure size 432x288 with 1 Axes>"
      ]
     },
     "metadata": {
      "needs_background": "light"
     },
     "output_type": "display_data"
    }
   ],
   "source": [
    "plt.plot(LL1)"
   ]
  },
  {
   "cell_type": "code",
   "execution_count": 39,
   "id": "0c8e9aa0",
   "metadata": {},
   "outputs": [
    {
     "name": "stdout",
     "output_type": "stream",
     "text": [
      "Number of total bins  6  from new assignment automatic differentiation \n",
      "\n"
     ]
    }
   ],
   "source": [
    "#     \"\"\" Assignment of contigs to bins automatic ADAM \"\"\"\n",
    "label = pd.read_csv(tmp_dir + 'contigs_ids', sep =' ', header = None)\n",
    "    # dat = pd.read_csv('/big/work/metadevol/count_calc/count_abs', index_col = 0)\n",
    "    \n",
    "Rc_c  = np.sum(Z1, axis=0)\n",
    "pb_c  = Z1 / Rc_c\n",
    "cov_b = np.sum(Z1, axis=1) / np.sum((np.array(label[3]) * Z1) / Rc_c, axis=1)\n",
    "np.savetxt(tmp_dir + \"bin_coverage0_\"+ str(num_iterations),cov_b.reshape(len(cov_b),1), fmt=\"%f\")\n",
    "pb_min = 0.8 * (cov_b.reshape(len(cov_b),1) * np.sum(np.square(pb_c), axis=0) \\\n",
    "                / np.sum(cov_b.reshape(len(cov_b),1) * pb_c, axis=0))\n",
    "pb_min[pb_min > 0.5] = 0.5\n",
    "contig_assign0 = tf.argmax(pb_c/pb_min, axis=0).numpy()\n",
    "Bz_bc =[]\n",
    "for f in range(np.shape(Z1)[1]):\n",
    "    Bz_bc.append(Z1[contig_assign0[f],f])\n",
    "bins0 = np.c_[contig_assign0, np.array(Bz_bc).reshape(len(Bz_bc),1), np.array(contig_names)]\n",
    "# bins0 = bins0[np.lexsort((bins0[:,1], bins0[:,0]))]\n",
    "print(\"Number of total bins \", len(set(bins0[:,0])), \" from new assignment automatic differentiation \\n\")\n",
    "np.savetxt(tmp_dir + \"contig_bins_\" + str(num_iterations) + \"iter_newadam\", bins0, delimiter = \" \", fmt=['%d','%f','%d'])\n",
    "\n",
    "    \n",
    "#     \"\"\" Assignment of contigs to bins apply gradients \"\"\"\n",
    "    \n",
    "#     Rc_c  = np.sum(Z2, axis=0)\n",
    "#     pb_c  = Z2 / Rc_c\n",
    "#     cov_b = np.sum(Z2, axis=1) / np.sum((np.array(label[3]) * Z2) / Rc_c, axis=1)\n",
    "#     np.savetxt(tmp_dir + \"new_result/bin_coverage1_\"+ str(num_iterations),cov_b.reshape(len(cov_b),1), fmt=\"%f\")\n",
    "#     pb_min = 0.8 * (cov_b.reshape(len(cov_b),1) * np.sum(np.square(pb_c), axis=0) / np.sum(cov_b.reshape(len(cov_b),1) * pb_c, axis=0))\n",
    "#     pb_min[pb_min >2] =2\n",
    "#     contig_assign1 = tf.argmax(pb_c/pb_min, axis=0).numpy()\n",
    "#     Bz_bc =[]\n",
    "#     for f in range(np.shape(Z2)[1]):\n",
    "#         Bz_bc.append(Z2[contig_assign1[f],f])\n",
    "#     bins1 = np.c_[contig_assign1, np.array(Bz_bc).reshape(len(Bz_bc),1), np.array(contig_names)]\n",
    "#     bins1 = bins1[np.lexsort((bins1[:,1], bins1[:,0]))]\n",
    "#     print(\"Number of total bins \", len(set(bins1[:,0])), \" from new assignment apply gradients \\n\")\n",
    "#     np.savetxt(tmp_dir + \"new_result/contig_bins_\" + str(num_iterations) + \"iter_newag\", bins1, delimiter = \",\", fmt=['%d','%f','%s'])\n",
    "    \n",
    "#     contig_assign2 = tf.argmax(Z1/tf.reduce_sum(Z1, axis = 0), axis=0).numpy()\n",
    "#     Bz_bc =[]\n",
    "#     for f in range(np.shape(Z1)[1]):\n",
    "#         Bz_bc.append(Z1[contig_assign2[f],f])\n",
    "#     bins2 = np.c_[contig_assign2, np.array(Bz_bc).reshape(len(Bz_bc),1), np.array(contig_names)]\n",
    "#     bins2 = bins2[np.lexsort((bins2[:,1], bins2[:,0]))]\n",
    "#     print(\"Number of total bins \", len(set(bins2[:,0])), \" from automatic differentiation \\n\")\n",
    "#     np.savetxt(tmp_dir + \"new_result/contig_bins_\" + str(num_iterations) + \"iter_auto\", bins2, delimiter = \",\", fmt=['%d','%f','%s'])\n",
    "\n",
    "#     contig_assign3 = tf.argmax(Z2/tf.reduce_sum(Z2, axis = 0), axis=0).numpy()\n",
    "#     Bz_bc =[]\n",
    "#     for f in range(np.shape(Z2)[1]):\n",
    "#         Bz_bc.append(Z2[contig_assign3[f],f])\n",
    "#     bins3 = np.c_[contig_assign3, np.array(Bz_bc).reshape(len(Bz_bc),1), np.array(contig_names)]\n",
    "#     bins3 = bins3[np.lexsort((bins3[:,1], bins3[:,0]))]\n",
    "#     print(\"Number of total bins \", len(set(bins3[:,0])), \" from apply gradients \\n\")\n",
    "#     np.savetxt(tmp_dir + \"new_result/contig_bins_\" + str(num_iterations) + \"iter_ag\", bins3, delimiter = \",\", fmt=['%d','%f','%s'])\n",
    "\n",
    "#     fig, ax = plt.subplots(1)\n",
    "#     ax[0].plot(LL1, color=\"grey\") # adam\n",
    "#     ax[1].plot(LL2, color=\"r\") # apply gradient\n",
    "#     plt.subplots_adjust(left=0.1,\n",
    "#                         bottom=0.1, \n",
    "#                         right=0.9, \n",
    "#                         top=0.9, \n",
    "#                         wspace=0.4, \n",
    "#                         hspace=0.4)\n",
    "\n",
    "#     plt.savefig(tmp_dir + \"new_result/contig_bins_\" + str(num_iterations) + \"iter.png\",dpt=300,format=\"png\",bbox_inches=\"tight\")\n"
   ]
  },
  {
   "cell_type": "code",
   "execution_count": 37,
   "id": "8f0b3b0e",
   "metadata": {},
   "outputs": [
    {
     "data": {
      "text/plain": [
       "{0, 1, 2, 3, 4, 5}"
      ]
     },
     "execution_count": 37,
     "metadata": {},
     "output_type": "execute_result"
    }
   ],
   "source": [
    "set(tf.argmax(Z1/tf.reduce_sum(Z1, axis = 0), axis=0).numpy())"
   ]
  },
  {
   "cell_type": "code",
   "execution_count": null,
   "id": "474047d8",
   "metadata": {},
   "outputs": [],
   "source": [
    "\n",
    "\n",
    "plt.plot(LL1)\n",
    "plt.xlabel(\"iterations\")\n",
    "plt.ylabel(\"negative log likelihood\")\n",
    "plt.savefig(tmp_dir + \"count_plot/LLplot\" + str(num_iterations) + \"iter.png\",dpt=600,format=\"png\",bbox_inches=\"tight\")"
   ]
  },
  {
   "cell_type": "code",
   "execution_count": null,
   "id": "568ee361",
   "metadata": {},
   "outputs": [],
   "source": [
    "plt.plot(W_nzcount)\n",
    "plt.xlabel(\"iterations\")\n",
    "plt.ylabel(\"non-zero elements in W (>0.01)\")\n",
    "plt.savefig(tmp_dir + \"count_plot/W_nzcount\" + str(num_iterations) + \"iter.png\",dpt=600,format=\"png\",bbox_inches=\"tight\")"
   ]
  },
  {
   "cell_type": "code",
   "execution_count": null,
   "id": "0f13ac3c",
   "metadata": {},
   "outputs": [],
   "source": [
    "plt.plot(Z_nzcount)\n",
    "plt.xlabel(\"iterations\")\n",
    "plt.ylabel(\"non-zero elements in Z (>0.01)\")\n",
    "# plt.savefig(tmp_dir + \"count_plot/Z_nzcount\" + str(num_iterations) + \"iter.png\",dpt=600,format=\"png\",bbox_inches=\"tight\")"
   ]
  },
  {
   "cell_type": "code",
   "execution_count": null,
   "id": "49b1d13f",
   "metadata": {},
   "outputs": [],
   "source": [
    "import numpy as np\n",
    "tmp_dir = \"/big/work/metadevol/scripts/bamtools_api/build/\"\n",
    "xx = np.load(tmp_dir + \"count_plot/W_matrix_trial9551.npy\")\n",
    "xx1 = np.load(tmp_dir + \"count_plot/W_matrix_trial9583.npy\")"
   ]
  },
  {
   "cell_type": "code",
   "execution_count": 10,
   "id": "cb7ad9d6",
   "metadata": {},
   "outputs": [
    {
     "data": {
      "text/plain": [
       "0.01831563888873418"
      ]
     },
     "execution_count": 10,
     "metadata": {},
     "output_type": "execute_result"
    }
   ],
   "source": [
    "import math\n",
    "import numpy as np\n",
    "math.exp(-4)"
   ]
  },
  {
   "cell_type": "code",
   "execution_count": null,
   "id": "6b8e1789",
   "metadata": {},
   "outputs": [],
   "source": [
    "np.load(tmp_dir + \"count_plot/W_matrix_trial9583.npy\")"
   ]
  },
  {
   "cell_type": "code",
   "execution_count": 11,
   "id": "8f71a3c5",
   "metadata": {},
   "outputs": [
    {
     "data": {
      "text/plain": [
       "0.01831563888873418"
      ]
     },
     "execution_count": 11,
     "metadata": {},
     "output_type": "execute_result"
    }
   ],
   "source": [
    "np.exp(-4)"
   ]
  },
  {
   "cell_type": "code",
   "execution_count": null,
   "id": "b8183cc1",
   "metadata": {},
   "outputs": [],
   "source": [
    "np.savetxt(tmp_dir + \"count_plot/Z_nzcount20000\",Z_nzcount)"
   ]
  },
  {
   "cell_type": "code",
   "execution_count": null,
   "id": "15aa8b0a",
   "metadata": {},
   "outputs": [],
   "source": [
    "plt.plot(Z_nzcount)\n",
    "# plt.plot(Z_nzcount1)\n",
    "# plt.xlim(10,5000)\n",
    "# plt.ylim(190000, 190200)\n",
    "# plt.savefig(\"/big/work/metadevol/scripts/bamtools_api/build/count_plot/Z_noncount_112_oldreg.png\", dpi=600,format=\"png\",bbox_inches=\"tight\")"
   ]
  },
  {
   "cell_type": "code",
   "execution_count": null,
   "id": "7342ba8d",
   "metadata": {},
   "outputs": [],
   "source": [
    "xx = np.loadtxt(\"/big/work/metadevol/scripts/bamtools_api/build/count_plot/W_matrix_112at1000\")\n",
    "xx1 = np.loadtxt(\"/big/work/metadevol/scripts/bamtools_api/build/count_plot/W_matrix_112at5000\")"
   ]
  },
  {
   "cell_type": "code",
   "execution_count": null,
   "id": "dbe56159",
   "metadata": {},
   "outputs": [],
   "source": [
    "np.count_nonzero(xx > 0.01, axis=0)"
   ]
  },
  {
   "cell_type": "code",
   "execution_count": null,
   "id": "c7e49691",
   "metadata": {},
   "outputs": [],
   "source": [
    "Z_nzcount"
   ]
  },
  {
   "cell_type": "code",
   "execution_count": null,
   "id": "b7808569",
   "metadata": {},
   "outputs": [],
   "source": [
    "label[label[0] == 215041]"
   ]
  },
  {
   "cell_type": "code",
   "execution_count": null,
   "id": "4241046e",
   "metadata": {},
   "outputs": [],
   "source": [
    "label"
   ]
  },
  {
   "cell_type": "code",
   "execution_count": null,
   "id": "9e0c2731",
   "metadata": {},
   "outputs": [],
   "source": [
    "np.shape(cluster_centers)"
   ]
  },
  {
   "cell_type": "code",
   "execution_count": null,
   "id": "180d545a",
   "metadata": {},
   "outputs": [],
   "source": []
  }
 ],
 "metadata": {
  "kernelspec": {
   "display_name": "Python 3 (ipykernel)",
   "language": "python",
   "name": "python3"
  },
  "language_info": {
   "codemirror_mode": {
    "name": "ipython",
    "version": 3
   },
   "file_extension": ".py",
   "mimetype": "text/x-python",
   "name": "python",
   "nbconvert_exporter": "python",
   "pygments_lexer": "ipython3",
   "version": "3.8.10"
  },
  "vscode": {
   "interpreter": {
    "hash": "31f2aee4e71d21fbe5cf8b01ff0e069b9275f58929596ceb00d14d90e3e16cd6"
   }
  }
 },
 "nbformat": 4,
 "nbformat_minor": 5
}
