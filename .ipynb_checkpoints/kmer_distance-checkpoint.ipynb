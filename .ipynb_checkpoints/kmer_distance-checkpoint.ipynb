{
 "cells": [
  {
   "cell_type": "code",
   "execution_count": 1,
   "metadata": {},
   "outputs": [],
   "source": [
    "%load_ext autoreload\n",
    "%autoreload 2"
   ]
  },
  {
   "cell_type": "code",
   "execution_count": 28,
   "metadata": {},
   "outputs": [
    {
     "ename": "ValueError",
     "evalue": "operands could not be broadcast together with shapes (256,) (64,4) ",
     "output_type": "error",
     "traceback": [
      "\u001b[0;31m---------------------------------------------------------------------------\u001b[0m",
      "\u001b[0;31mValueError\u001b[0m                                Traceback (most recent call last)",
      "Input \u001b[0;32mIn [28]\u001b[0m, in \u001b[0;36m<cell line: 24>\u001b[0;34m()\u001b[0m\n\u001b[1;32m     41\u001b[0m     awa_values \u001b[38;5;241m=\u001b[39m np\u001b[38;5;241m.\u001b[39marray(awa_values)\n\u001b[1;32m     42\u001b[0m     alpha_values \u001b[38;5;241m=\u001b[39m awa_values\u001b[38;5;241m.\u001b[39msum(axis\u001b[38;5;241m=\u001b[39m\u001b[38;5;241m1\u001b[39m)\n\u001b[0;32m---> 43\u001b[0m     dist \u001b[38;5;241m=\u001b[39m \u001b[43mdistance\u001b[49m\u001b[43m(\u001b[49m\u001b[43mtetramer_counts\u001b[49m\u001b[43m[\u001b[49m\u001b[43m:\u001b[49m\u001b[43m,\u001b[49m\u001b[38;5;241;43m0\u001b[39;49m\u001b[43m]\u001b[49m\u001b[43m,\u001b[49m\u001b[43m \u001b[49m\u001b[43mtetramer_counts\u001b[49m\u001b[43m,\u001b[49m\u001b[43m \u001b[49m\u001b[43mRc\u001b[49m\u001b[43m[\u001b[49m\u001b[43m:\u001b[49m\u001b[43m,\u001b[49m\u001b[38;5;241;43m0\u001b[39;49m\u001b[43m]\u001b[49m\u001b[43m,\u001b[49m\u001b[43m \u001b[49m\u001b[43mRc\u001b[49m\u001b[43m,\u001b[49m\u001b[43m \u001b[49m\u001b[38;5;241;43m256\u001b[39;49m\u001b[43m,\u001b[49m\u001b[43m \u001b[49m\u001b[43mawa_values\u001b[49m\u001b[43m,\u001b[49m\u001b[43m \u001b[49m\u001b[43malpha_values\u001b[49m\u001b[43m,\u001b[49m\u001b[43m \u001b[49m\u001b[38;5;241;43m1\u001b[39;49m\u001b[43m)\u001b[49m\n\u001b[1;32m     44\u001b[0m     \u001b[38;5;28mprint\u001b[39m(dist)\n\u001b[1;32m     45\u001b[0m \u001b[38;5;66;03m#     \u001b[39;00m\n\u001b[1;32m     46\u001b[0m     \n\u001b[1;32m     47\u001b[0m \n\u001b[0;32m   (...)\u001b[0m\n\u001b[1;32m     70\u001b[0m \n\u001b[1;32m     71\u001b[0m     \u001b[38;5;66;03m# np.save(tmp_dir + \"X_kmerdist_parallelized.npy\",np.array(dist_matrix))\u001b[39;00m\n",
      "File \u001b[0;32m/big/work/metadevol/scripts/distance_calculations.py:63\u001b[0m, in \u001b[0;36mdistance\u001b[0;34m(*argv)\u001b[0m\n\u001b[1;32m     60\u001b[0m     q \u001b[38;5;241m=\u001b[39m \u001b[38;5;241m0.2\u001b[39m\n\u001b[1;32m     61\u001b[0m pq \u001b[38;5;241m=\u001b[39m np\u001b[38;5;241m.\u001b[39mlog((\u001b[38;5;241m1.0\u001b[39m \u001b[38;5;241m-\u001b[39m q)\u001b[38;5;241m/\u001b[39m q)\n\u001b[0;32m---> 63\u001b[0m R_and_Xnterm \u001b[38;5;241m=\u001b[39m R_alpha(Rc, Rc_p, alpha, flag) \u001b[38;5;241m+\u001b[39m \u001b[43mxn_alpha\u001b[49m\u001b[43m(\u001b[49m\u001b[43mxc\u001b[49m\u001b[43m,\u001b[49m\u001b[43m \u001b[49m\u001b[43mxc_p\u001b[49m\u001b[43m,\u001b[49m\u001b[43m \u001b[49m\u001b[43man\u001b[49m\u001b[43m,\u001b[49m\u001b[43m \u001b[49m\u001b[43mflag\u001b[49m\u001b[43m)\u001b[49m\n\u001b[1;32m     64\u001b[0m \u001b[38;5;28;01mif\u001b[39;00m flag \u001b[38;5;241m==\u001b[39m \u001b[38;5;241m1\u001b[39m:\n\u001b[1;32m     65\u001b[0m     dist \u001b[38;5;241m=\u001b[39m np\u001b[38;5;241m.\u001b[39mlogaddexp(np\u001b[38;5;241m.\u001b[39mlog(\u001b[38;5;241m1\u001b[39m), pq \u001b[38;5;241m+\u001b[39m R_and_Xnterm\u001b[38;5;241m.\u001b[39msum(axis\u001b[38;5;241m=\u001b[39m\u001b[38;5;241m1\u001b[39m))\n",
      "File \u001b[0;32m/big/work/metadevol/scripts/distance_calculations.py:29\u001b[0m, in \u001b[0;36mxn_alpha\u001b[0;34m(x, x_prime, an, flag)\u001b[0m\n\u001b[1;32m     28\u001b[0m \u001b[38;5;28;01mdef\u001b[39;00m \u001b[38;5;21mxn_alpha\u001b[39m(x, x_prime, an, flag):\n\u001b[0;32m---> 29\u001b[0m     kk1 \u001b[38;5;241m=\u001b[39m log_gamma(\u001b[43mx\u001b[49m\u001b[43m \u001b[49m\u001b[38;5;241;43m+\u001b[39;49m\u001b[43m \u001b[49m\u001b[43man\u001b[49m)  \u001b[38;5;241m+\u001b[39m log_gamma(x_prime \u001b[38;5;241m+\u001b[39m an)\n\u001b[1;32m     30\u001b[0m     kk2 \u001b[38;5;241m=\u001b[39m log_gamma(an)  \u001b[38;5;241m+\u001b[39m log_gamma(x \u001b[38;5;241m+\u001b[39m x_prime \u001b[38;5;241m+\u001b[39m an)\n\u001b[1;32m     31\u001b[0m     xn_alpha \u001b[38;5;241m=\u001b[39m kk1 \u001b[38;5;241m-\u001b[39m kk2\n",
      "\u001b[0;31mValueError\u001b[0m: operands could not be broadcast together with shapes (256,) (64,4) "
     ]
    }
   ],
   "source": [
    "from multiprocessing.pool import Pool\n",
    "from optimize_alpha import optimize_alpha\n",
    "from distance_calculations import distance\n",
    "import scipy.special as sp\n",
    "import numpy as np\n",
    "import pandas as pd\n",
    "import time\n",
    "import simdefy as sm\n",
    "\n",
    "sm.init()\n",
    "\n",
    "tmp_dir = \"/big/work/metadevol/benchmark_dataset1/\"\n",
    "\n",
    "def obtain_optimized_alpha(*argv):\n",
    "    w_mat = np.array(argv[0])\n",
    "    counts = np.array(argv[1])\n",
    "    Rc = w_mat.sum(axis=0)\n",
    "    Rn = w_mat.sum(axis=1)\n",
    "    aw = optimize_alpha(w_mat, Rc, Rn, 4)\n",
    "    aw = aw * counts / counts.sum()\n",
    "    return aw\n",
    "\n",
    "\n",
    "if __name__ == '__main__':\n",
    "        \n",
    "    s = time.time()\n",
    "\n",
    "    dat = pd.read_csv(tmp_dir + \"kmer_counts\", header=None)\n",
    "    dat = dat.to_numpy()\n",
    "\n",
    "    tetramer_counts = dat.reshape(45760,256)\n",
    "    tetramer_counts = (tetramer_counts / 2).transpose()\n",
    "    trimercountsper_nt = np.split(tetramer_counts.sum(axis=1), 64)\n",
    "\n",
    "    trimer_submatrices = np.vsplit(tetramer_counts, 64)\n",
    "    Rc = np.array(trimer_submatrices).sum(axis=1)\n",
    "    awa_values = np.array([])\n",
    "    \n",
    "    with Pool() as pool:\n",
    "        awa_values = pool.starmap(obtain_optimized_alpha, [(x, y) for x, y in zip(trimer_submatrices, trimercountsper_nt)])\n",
    "    awa_values = np.array(awa_values)\n",
    "    alpha_values = awa_values.sum(axis=1)\n",
    "    awa_values = awa_values.flatten()\n",
    "    dist = distance(tetramer_counts[:,0], tetramer_counts, Rc[:,0], Rc, 256, awa_values, alpha_values, 1)\n",
    "    print(dist)\n",
    "#     \n",
    "    \n",
    "\n",
    "#     Rc = np.array(trimer_submatrices).sum(axis=1)\n",
    "    \n",
    "#     Rc = np.ascontiguousarray(Rc.T)\n",
    "#     # alpha_values = np.sum(awa_values) # only for 256 tetramer being a separate sample\n",
    "#     # Rc = tetramer_counts.sum(axis=0)  # only for 256 tetramer being a separate sample\n",
    "    \n",
    "#     dist = distance(tetramer_counts[:,0], tetramer_counts, Rc[:,0].ravel(), Rc[0:], 256, awa_values, alpha_values,1)\n",
    "#     print(dist)\n",
    "    #     dist_matrix = []\n",
    "    \n",
    "    # def obtain_distancebykmers(c):\n",
    "    #     R_alpha_term = get_gammavalue(Rc[:,[c]], Rc[:,c:], alpha_values, 1)\n",
    "    #     dist = distance(tetramer_counts[:,[c]], tetramer_counts[:,c:], 256, awa_values, R_alpha_term, 1)\n",
    "    #     return dist\n",
    "\n",
    "    # with Pool() as pool:\n",
    "    #     dist_matrix = pool.map(obtain_distancebykmers, [c for c in np.arange(np.shape(tetramer_counts)[1])])\n",
    "        \n",
    "    # # for c in np.arange(np.shape(tetramer_counts)[1]):\n",
    "    # #     dist = distance(tetramer_counts[:,[c]], tetramer_counts[:,c:], Rc[:,[c]], Rc[:,c:], 256, awa_values, alpha_values)\n",
    "    #     # dist = distance(tetramer_counts[:,c], tetramer_counts[:,c:], Rc[c], Rc[c:], 256, awa_values, alpha_values)\n",
    "    #     # dist_matrix.append(dist)\n",
    "\n",
    "    # np.save(tmp_dir + \"X_kmerdist_parallelized.npy\",np.array(dist_matrix))\n",
    "    print(\"total time took: \", time.time() - s, \"seconds\")\n",
    "\n"
   ]
  },
  {
   "cell_type": "code",
   "execution_count": 17,
   "metadata": {},
   "outputs": [
    {
     "data": {
      "text/plain": [
       "(4, 64)"
      ]
     },
     "execution_count": 17,
     "metadata": {},
     "output_type": "execute_result"
    }
   ],
   "source": [
    "np.shape(np.ascontiguousarray(np.array(trimer_submatrices).T).sum(axis=0))"
   ]
  },
  {
   "cell_type": "code",
   "execution_count": 24,
   "metadata": {},
   "outputs": [
    {
     "data": {
      "text/plain": [
       "(64, 45760)"
      ]
     },
     "execution_count": 24,
     "metadata": {},
     "output_type": "execute_result"
    }
   ],
   "source": [
    "np.shape(np.array(trimer_submatrices).sum(axis=1))"
   ]
  },
  {
   "cell_type": "code",
   "execution_count": null,
   "metadata": {},
   "outputs": [],
   "source": [
    "from multiprocessing.pool import Pool\n",
    "\n",
    "__doc__ = \"optimize alpha value using maximum likelihood estimation\"\n",
    "\n",
    "from scipy.optimize import minimize_scalar\n",
    "import numpy as np\n",
    "from scipy import special\n",
    "import time\n",
    "import simdefy\n",
    "import pandas as pd\n",
    "\n",
    "simdefy.init()\n",
    "\n",
    "log_gamma = simdefy.log_gamma #special.gammaln \n",
    "\n",
    "def factorial(x):\n",
    "    return log_gamma(x + 1)\n",
    "\n",
    "def train_alpha(a, *argv):\n",
    "\n",
    "    xn_factorial = factorial(argv[0]).sum(axis=1)\n",
    "    Rc_factorial = factorial(argv[1])\n",
    "    first_term = Rc_factorial - xn_factorial\n",
    "    an = np.exp(a) * argv[2] / argv[2].sum()\n",
    "    second_term = log_gamma(an.sum()) - log_gamma(an).sum()\n",
    "    third_term = log_gamma(argv[0] + an).sum(axis=1) - log_gamma(argv[1] + an.sum())\n",
    "    maximize_term = first_term + second_term + third_term\n",
    "    return -maximize_term.sum()\n",
    "\n",
    "def optimize_alpha(*argv):\n",
    "    fun = lambda a: train_alpha(a, *argv)\n",
    "    optimize_alpha = minimize_scalar(fun, method = 'brent')\n",
    "    return np.exp(optimize_alpha.x)\n",
    "\n",
    "\n",
    "def obtain_optimized_alpha(*argv):\n",
    "    w_mat = np.array(argv[0])\n",
    "    Rc = argv[1]\n",
    "    counts = np.array(argv[2])\n",
    "    aw = optimize_alpha(w_mat, Rc, counts, 4)\n",
    "    aw = aw * counts / counts.sum()\n",
    "    return aw\n",
    "\n",
    "ss = time.time()\n",
    "tmp_dir = \"/big/work/metadevol/benchmark_dataset1/\"\n",
    "dat = pd.read_csv(tmp_dir + \"kmer_counts\", header=None)\n",
    "dat = dat.to_numpy()\n",
    "\n",
    "tetramer_counts = dat.reshape(45760,256)\n",
    "tetramer_counts = (tetramer_counts / 2)\n",
    "\n",
    "trimer_submatrices = np.ascontiguousarray(np.hsplit(tetramer_counts,64))\n",
    "trimercountsper_nt = np.array(trimer_submatrices.sum(axis=1))\n",
    "Rc = trimer_submatrices.sum(axis=2) # tetramer_counts.reshape(-1,64,4).sum(axis=2)\n",
    "\n",
    "with Pool() as pool:\n",
    "    awa_values = pool.starmap(obtain_optimized_alpha, [(trimer_submatrices[c], Rc[c], trimercountsper_nt[c]) for c in np.arange(64)])\n",
    "\n",
    "print(time.time()-ss, 'seconds')"
   ]
  },
  {
   "cell_type": "code",
   "execution_count": 9,
   "metadata": {},
   "outputs": [
    {
     "data": {
      "text/plain": [
       "  C_CONTIGUOUS : True\n",
       "  F_CONTIGUOUS : False\n",
       "  OWNDATA : False\n",
       "  WRITEABLE : True\n",
       "  ALIGNED : True\n",
       "  WRITEBACKIFCOPY : False"
      ]
     },
     "execution_count": 9,
     "metadata": {},
     "output_type": "execute_result"
    }
   ],
   "source": [
    "trimer_submatrices[0].flags"
   ]
  },
  {
   "cell_type": "code",
   "execution_count": 15,
   "metadata": {},
   "outputs": [
    {
     "data": {
      "text/plain": [
       "  C_CONTIGUOUS : True\n",
       "  F_CONTIGUOUS : False\n",
       "  OWNDATA : True\n",
       "  WRITEABLE : True\n",
       "  ALIGNED : True\n",
       "  WRITEBACKIFCOPY : False"
      ]
     },
     "execution_count": 15,
     "metadata": {},
     "output_type": "execute_result"
    }
   ],
   "source": [
    "tetramer_counts.reshape(-1,64,4).sum(axis=2).flags"
   ]
  },
  {
   "cell_type": "code",
   "execution_count": 107,
   "metadata": {},
   "outputs": [
    {
     "data": {
      "text/plain": [
       "(45760, 4)"
      ]
     },
     "execution_count": 107,
     "metadata": {},
     "output_type": "execute_result"
    }
   ],
   "source": [
    "np.shape(trimer_submatrices[0])"
   ]
  },
  {
   "cell_type": "code",
   "execution_count": null,
   "metadata": {},
   "outputs": [
    {
     "data": {
      "text/plain": [
       "array([[ 151.5, 1888.5,  361.5, ..., 2120. ,  138. ,  423.5],\n",
       "       [ 158.5, 1885. ,  485.5, ..., 2159.5,  101.5,  395.5],\n",
       "       [ 412.5, 5450. ,  120. , ..., 4002. ,  387.5,  725.5],\n",
       "       [ 442. , 5862.5,  177. , ..., 4058. ,  406.5,  747. ]])"
      ]
     },
     "execution_count": 101,
     "metadata": {},
     "output_type": "execute_result"
    }
   ],
   "source": [
    "tetramer_counts = dat.reshape(45760,256)\n",
    "tetramer_counts = tetramer_counts / 2 \n",
    "trimer_counts = tetramer_counts.reshape(-1,64,4).sum(axis=2)\n",
    "np.array((trimer_counts[:, 0::4].sum(axis=1),\n",
    "                        trimer_counts[:, 1::4].sum(axis=1),\n",
    "                        trimer_counts[:, 2::4].sum(axis=1),\n",
    "                        trimer_counts[:, 3::4].sum(axis=1)))"
   ]
  },
  {
   "cell_type": "code",
   "execution_count": 16,
   "metadata": {},
   "outputs": [
    {
     "data": {
      "text/plain": [
       "array([[1.0000e+00, 0.0000e+00, 8.5000e+00, ..., 4.9000e+01, 1.1000e+02,\n",
       "        7.2500e+01],\n",
       "       [2.3000e+01, 1.5000e+01, 1.5100e+02, ..., 5.4950e+02, 1.6135e+03,\n",
       "        1.1155e+03],\n",
       "       [1.1650e+02, 1.1000e+02, 5.4000e+01, ..., 2.8000e+01, 1.0000e+00,\n",
       "        5.5000e+00],\n",
       "       ...,\n",
       "       [5.6000e+01, 4.5500e+01, 3.1450e+02, ..., 5.4800e+02, 6.0650e+02,\n",
       "        5.6150e+02],\n",
       "       [0.0000e+00, 1.0000e+00, 4.0000e+00, ..., 3.6500e+01, 1.1900e+02,\n",
       "        6.9000e+01],\n",
       "       [2.7500e+01, 2.2000e+01, 5.3000e+01, ..., 7.3000e+01, 1.4350e+02,\n",
       "        5.7500e+01]])"
      ]
     },
     "execution_count": 16,
     "metadata": {},
     "output_type": "execute_result"
    }
   ],
   "source": [
    "Rc"
   ]
  },
  {
   "cell_type": "code",
   "execution_count": 22,
   "metadata": {},
   "outputs": [
    {
     "data": {
      "text/plain": [
       "(64, 45760)"
      ]
     },
     "execution_count": 22,
     "metadata": {},
     "output_type": "execute_result"
    }
   ],
   "source": [
    "np.shape(trimer_submatrices.sum(axis=2))"
   ]
  },
  {
   "cell_type": "code",
   "execution_count": null,
   "metadata": {},
   "outputs": [
    {
     "data": {
      "text/plain": [
       "(45760, 64)"
      ]
     },
     "execution_count": 53,
     "metadata": {},
     "output_type": "execute_result"
    }
   ],
   "source": [
    "np.shape(trimer_counts)"
   ]
  },
  {
   "cell_type": "code",
   "execution_count": null,
   "metadata": {},
   "outputs": [
    {
     "data": {
      "text/plain": [
       "array([[  0,   6,  23, ...,   8,   0,   7],\n",
       "       [  0,   1,  32, ...,   7,   0,   4],\n",
       "       [  1,   7,  12, ...,  18,   0,  12],\n",
       "       ...,\n",
       "       [ 21, 183,   8, ..., 143,   4,  15],\n",
       "       [ 28, 516,   0, ..., 142,  27,  24],\n",
       "       [ 13, 363,   0, ..., 142,  20,  19]])"
      ]
     },
     "execution_count": 50,
     "metadata": {},
     "output_type": "execute_result"
    }
   ],
   "source": [
    "tetramer_counts.transpose()"
   ]
  },
  {
   "cell_type": "code",
   "execution_count": null,
   "metadata": {},
   "outputs": [
    {
     "data": {
      "text/plain": [
       "array([[682676.5, 496432.5, 478740.5, 378977. ],\n",
       "       [388870. , 417620. , 359262. , 370778. ],\n",
       "       [451759.5, 312466.5, 448832. , 439990.5],\n",
       "       [370936. , 311990.5, 328812. , 349979. ],\n",
       "       [368426. , 369992. , 241186. , 248290. ],\n",
       "       [304601. , 500286.5, 375851.5, 355803. ],\n",
       "       [440870. , 297032.5, 451796.5, 416202.5],\n",
       "       [486436. , 370796.5, 498946.5, 440229.5],\n",
       "       [438403. , 368216.5, 266544. , 265049. ],\n",
       "       [217976. , 315941.5, 234833.5, 237484. ],\n",
       "       [431052.5, 371104. , 349238. , 473879. ],\n",
       "       [479611. , 406883.5, 478769. , 445233. ],\n",
       "       [332813. , 295542. , 307848. , 237812. ],\n",
       "       [155243. , 311534.5, 297170. , 235292.5],\n",
       "       [370039.5, 248564.5, 426837. , 393896.5],\n",
       "       [444555. , 368707.5, 522134.5, 334438.5],\n",
       "       [393992.5, 307587.5, 215574.5, 196255.5],\n",
       "       [257306. , 391054.5, 254685. , 327488. ],\n",
       "       [191871.5, 157619. , 165564. , 193060.5],\n",
       "       [223479.5, 216353.5, 218042.5, 281920. ],\n",
       "       [329162.5, 368889.5, 172168. , 240480.5],\n",
       "       [396916.5, 694991. , 446694.5, 523670. ],\n",
       "       [444906. , 340509. , 400241.5, 432839.5],\n",
       "       [465032.5, 443400. , 441684. , 499625. ],\n",
       "       [464966. , 488890.5, 310054.5, 355547.5],\n",
       "       [227451.5, 376153.5, 252291.5, 332233. ],\n",
       "       [488371. , 447852.5, 384349.5, 591792.5],\n",
       "       [386707. , 481978. , 461567. , 556826. ],\n",
       "       [440004. , 438387. , 396693.5, 338199. ],\n",
       "       [193701. , 458171.5, 364051. , 333416. ],\n",
       "       [499674.5, 374747.5, 534920. , 524783.5],\n",
       "       [490421.5, 435742. , 483196. , 379791. ],\n",
       "       [518459. , 357649.5, 546310.5, 412729. ],\n",
       "       [325269.5, 370967. , 561371.5, 536515.5],\n",
       "       [330306.5, 238438. , 446761.5, 472168.5],\n",
       "       [327862. , 236607.5, 502716. , 479159.5],\n",
       "       [243076. , 252848. , 220832. , 234235. ],\n",
       "       [197389. , 384627. , 378815. , 414709.5],\n",
       "       [336942. , 239874. , 447499. , 416823.5],\n",
       "       [356285. , 266609. , 527869.5, 404762.5],\n",
       "       [493658.5, 438818.5, 443749.5, 400431.5],\n",
       "       [283356. , 351121. , 560302. , 481551. ],\n",
       "       [378350. , 334240.5, 383897. , 581383.5],\n",
       "       [550554.5, 443215.5, 863107. , 750237.5],\n",
       "       [431043. , 416864.5, 613761.5, 413318. ],\n",
       "       [191727. , 443316. , 707035.5, 468857.5],\n",
       "       [523369.5, 397072.5, 787655.5, 810398.5],\n",
       "       [593251.5, 478550. , 964983.5, 588595.5],\n",
       "       [441677.5, 374870.5, 412425.5, 373730. ],\n",
       "       [256437.5, 356927. , 430560.5, 561629. ],\n",
       "       [364287.5, 297745.5, 564132.5, 705278.5],\n",
       "       [251713.5, 234283.5, 389765. , 558776. ],\n",
       "       [172776. , 238840.5,  73923.5, 216809. ],\n",
       "       [211764.5, 482335. , 417133.5, 555551.5],\n",
       "       [396724.5, 310704. , 612866.5, 621213.5],\n",
       "       [305504.5, 268558. , 465629.5, 444541. ],\n",
       "       [438137. , 498206. , 467348. , 525356.5],\n",
       "       [222191. , 332325. , 393731.5, 504260.5],\n",
       "       [478895. , 523128.5, 560369.5, 960009. ],\n",
       "       [458110. , 478833. , 715019.5, 873072. ],\n",
       "       [398869. , 454757.5, 613151. , 445213.5],\n",
       "       [161674.5, 453781. , 573244.5, 446645. ],\n",
       "       [535949.5, 432108.5, 772992.5, 795934. ],\n",
       "       [383790.5, 352371. , 566675. , 386087. ]])"
      ]
     },
     "execution_count": 80,
     "metadata": {},
     "output_type": "execute_result"
    }
   ],
   "source": [
    "np.array(trimer_submatrices).sum(axis=2)"
   ]
  },
  {
   "cell_type": "code",
   "execution_count": null,
   "metadata": {},
   "outputs": [
    {
     "data": {
      "text/plain": [
       "array([[ 738.5,  805.5,  808. ,  783. ],\n",
       "       [ 652.5,  647.5,  890. ,  998. ],\n",
       "       [ 766. ,  834.5,  716.5, 1118.5],\n",
       "       ...,\n",
       "       [ 454. ,  415.5,  492. ,  437.5],\n",
       "       [ 548. ,  502.5,  465. ,  449.5],\n",
       "       [ 540.5,  478.5,  413.5,  462.5]])"
      ]
     },
     "execution_count": 66,
     "metadata": {},
     "output_type": "execute_result"
    }
   ],
   "source": [
    "tetramer_counts.reshape(-1,4,64).sum(axis=2)"
   ]
  },
  {
   "cell_type": "code",
   "execution_count": null,
   "metadata": {},
   "outputs": [
    {
     "data": {
      "text/plain": [
       "array([[54. , 13.5, 59.5, ..., 18. , 62.5, 13.5],\n",
       "       [40. , 87. , 65. , ..., 26. , 20.5, 15. ],\n",
       "       [54.5, 85.5, 80. , ..., 45. ,  1.5, 94.5],\n",
       "       ...,\n",
       "       [13. , 20. , 24.5, ..., 13.5, 14. , 89. ],\n",
       "       [10. , 40. , 84. , ..., 18. , 22.5, 49. ],\n",
       "       [10.5, 14. , 33. , ..., 81. , 38.5, 35. ]])"
      ]
     },
     "execution_count": 72,
     "metadata": {},
     "output_type": "execute_result"
    }
   ],
   "source": [
    "tetramer_counts.reshape(-1,4,64).sum(axis=1)"
   ]
  },
  {
   "cell_type": "code",
   "execution_count": null,
   "metadata": {},
   "outputs": [
    {
     "data": {
      "text/plain": [
       "array([ 28.5,  30.5,  16.5,  22. ,  22.5,  34. ,  11.5,  14.5,  27. ,\n",
       "        22. ,  42. ,  37. ,  26.5,  28.5,  30.5,  44. ,  22. ,  38. ,\n",
       "        14. ,   9. ,  24. ,  39. ,  17. ,  24. ,  35. ,  21. ,  37.5,\n",
       "        25. ,  31.5,  31. ,  49.5,  54.5,  27. ,  29. ,  27. ,  37.5,\n",
       "        19. ,  33.5,  18. ,  27. ,  68. ,  66.5,  72. ,  71. ,  52.5,\n",
       "        55.5,  96.5,  76.5,  26.5,  32.5,  37.5,  55. ,  17. ,  34.5,\n",
       "        34. ,  31.5,  67. ,  56. , 108. , 113. ,  78. ,  71.5, 183.5,\n",
       "       111. ,  28.5,  25.5,   9.5,   7. ,  37.5,  34.5,  21.5,  19.5,\n",
       "        12.5,  13.5,  17. ,  13. ,  22. ,  20. ,  36.5,  34.5,  23.5,\n",
       "        45. ,  14.5,  14.5,  40. ,  45.5,  20. ,  27.5,  25. ,  18. ,\n",
       "        24.5,  16.5,  36. ,  40.5,  69.5,  54. ,  27.5,  39. ,  26. ,\n",
       "        50. ,  13. ,  33.5,  28.5,  52. ,  86.5,  90. ,  80.5, 113. ,\n",
       "        40.5,  89. , 103.5,  69.5,  36. ,  38. ,  33. ,  62. ,  26. ,\n",
       "        37.5,  29.5,  43. ,  72. ,  74. , 129.5, 120.5,  72.5,  82. ,\n",
       "       128. ,  91.5,  24.5,  13.5,  46.5,  61. ,  13. ,  16.5,  40. ,\n",
       "        66. ,  49.5,  39.5, 118. , 110. ,  57. ,  41. , 157.5, 163. ,\n",
       "        11. ,  11. ,  18. ,  40. ,  18. ,  18. ,  25. ,  79.5,  38. ,\n",
       "        48.5, 130. , 115.5,  58. ,  37.5, 151.5, 145. ,  46. ,  35. ,\n",
       "       120.5, 138. ,  26. ,  36. , 166. , 158. ,  83. ,  81. , 150.5,\n",
       "       232.5,  84. ,  70.5, 284.5, 299. ,  25.5,  31.5,  82. , 128. ,\n",
       "        22. ,  27.5, 163.5, 115.5, 103.5,  88. , 295. , 339.5, 112.5,\n",
       "       110. , 331.5, 263.5,  16. ,  13. ,  55.5,  39.5,  10. ,  19.5,\n",
       "        46. ,  66.5,  31.5,  22.5, 101. , 121. ,  45.5,  27.5, 119.5,\n",
       "       202.5,  14. ,  19. ,   9.5,  49.5,  15.5,  30.5,  22. ,  69. ,\n",
       "        44.5,  39.5, 178. , 145.5,  43. ,  27. , 125.5, 120.5,  45. ,\n",
       "        32.5, 143.5, 193. ,  22. ,  37. , 119.5, 155. , 102. , 148.5,\n",
       "       244. , 321.5,  90. , 113.5, 341.5, 372.5,  36. ,  40. , 123.5,\n",
       "       150. ,  27. ,  37.5, 180.5, 126. , 171.5, 115.5, 283.5, 344.5,\n",
       "        86.5, 107.5, 272. , 189.5])"
      ]
     },
     "execution_count": 75,
     "metadata": {},
     "output_type": "execute_result"
    }
   ],
   "source": [
    "tetramer_counts[:,0:4].sum(axis=1)"
   ]
  },
  {
   "cell_type": "code",
   "execution_count": null,
   "metadata": {},
   "outputs": [],
   "source": []
  }
 ],
 "metadata": {
  "kernelspec": {
   "display_name": "Python 3 (ipykernel)",
   "language": "python",
   "name": "python3"
  },
  "language_info": {
   "codemirror_mode": {
    "name": "ipython",
    "version": 3
   },
   "file_extension": ".py",
   "mimetype": "text/x-python",
   "name": "python",
   "nbconvert_exporter": "python",
   "pygments_lexer": "ipython3",
   "version": "3.8.10"
  },
  "vscode": {
   "interpreter": {
    "hash": "31f2aee4e71d21fbe5cf8b01ff0e069b9275f58929596ceb00d14d90e3e16cd6"
   }
  }
 },
 "nbformat": 4,
 "nbformat_minor": 2
}
