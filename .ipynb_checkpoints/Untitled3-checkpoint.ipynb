{
 "cells": [
  {
   "cell_type": "code",
   "execution_count": 9,
   "id": "6d4f264a",
   "metadata": {},
   "outputs": [],
   "source": [
    "import pandas as pd\n",
    "\n",
    "tmp_dir = \"/big/work/metadevol/benchmark_dataset1/\"\n",
    "\n",
    "contig_labels =  pd.read_csv(tmp_dir + 'contigs_umaplabel', sep='\\t', header=None)\n",
    "\n",
    "cluster_id_old = pd.read_csv(tmp_dir + 'bamfiles/tmp/cluster_members_old', sep=' ', header=None)\n",
    "cluster_id_new = pd.read_csv(tmp_dir + 'bamfiles/tmp/cluster_members_new', sep=' ', header=None)\n",
    "\n",
    "first_merge = contig_labels.merge(cluster_id_old, left_index=True, right_on=0)\n",
    "\n",
    "second_merge = first_merge.merge(cluster_id_new, left_on='key_0', right_on=0)"
   ]
  },
  {
   "cell_type": "code",
   "execution_count": 14,
   "id": "9d0c9bd4",
   "metadata": {},
   "outputs": [],
   "source": [
    "cluster_ids_mapped = second_merge[['key_0','0_x','1_x',2,3,4,5,'1_y',1]]\n",
    "\n",
    "cluster_ids_mapped.columns = ['index','cindex','contig','length','genome', 'cluster','bin','cid_old','cid_new']"
   ]
  },
  {
   "cell_type": "code",
   "execution_count": 26,
   "id": "d8587eeb",
   "metadata": {},
   "outputs": [],
   "source": [
    "cluster_ids_mapped[['genome','cid_old']].value_counts().to_csv(tmp_dir + \"bamfiles/tmp/cluster_oldidandgid\", header=None,sep=' ')\n",
    "cluster_ids_mapped[['genome','cid_new']].value_counts().to_csv(tmp_dir + \"bamfiles/tmp/cluster_newidandgid\", header=None,sep=' ')\n"
   ]
  },
  {
   "cell_type": "code",
   "execution_count": 27,
   "id": "90278efb",
   "metadata": {},
   "outputs": [],
   "source": []
  },
  {
   "cell_type": "code",
   "execution_count": null,
   "id": "563c4f4a",
   "metadata": {},
   "outputs": [],
   "source": []
  }
 ],
 "metadata": {
  "kernelspec": {
   "display_name": "Python 3 (ipykernel)",
   "language": "python",
   "name": "python3"
  },
  "language_info": {
   "codemirror_mode": {
    "name": "ipython",
    "version": 3
   },
   "file_extension": ".py",
   "mimetype": "text/x-python",
   "name": "python",
   "nbconvert_exporter": "python",
   "pygments_lexer": "ipython3",
   "version": "3.8.10"
  }
 },
 "nbformat": 4,
 "nbformat_minor": 5
}
