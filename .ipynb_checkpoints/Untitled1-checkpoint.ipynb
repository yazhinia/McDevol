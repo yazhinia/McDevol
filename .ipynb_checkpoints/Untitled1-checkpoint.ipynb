{
 "cells": [
  {
   "cell_type": "code",
   "execution_count": 1,
   "id": "cf3840f9",
   "metadata": {},
   "outputs": [],
   "source": [
    "%load_ext autoreload\n",
    "%autoreload 2\n",
    "# %debug magic\n",
    "\n",
    "import os\n",
    "import time\n",
    "import subprocess\n",
    "import gc\n",
    "import numpy as np\n",
    "import pandas as pd\n",
    "import optimize_parameters as opt\n",
    "from multiprocessing.pool import Pool\n",
    "from nmf_connected_components import nmf_connected_components\n",
    "import bam2counts"
   ]
  },
  {
   "cell_type": "code",
   "execution_count": 26,
   "id": "6d412d84",
   "metadata": {},
   "outputs": [
    {
     "name": "stdout",
     "output_type": "stream",
     "text": [
      "/big/work/metadevol/benchmark_dataset1/bamfiles/tmp/\n",
      "obtained alpha parameter for read counts 8.458754467078345 in 1.9746041297912598 seconds\n",
      "processing kmer frequencies\n"
     ]
    }
   ],
   "source": [
    "working_dir = '/big/work/metadevol/benchmark_dataset1/bamfiles/tmp/'\n",
    "s = time.time()\n",
    "print(working_dir)\n",
    "\n",
    "\n",
    "\"\"\" obtain read counts \"\"\"\n",
    "# calcreadcounts(input_dir, working_dir, args.minlength)\n",
    "\n",
    "\"\"\" clustering parameters (default) \"\"\"\n",
    "d0 = 1.0\n",
    "d1 = d0\n",
    "min_shared_contigs = 20\n",
    "\n",
    "\"\"\" load contig read counts \"\"\"\n",
    "contig_length = pd.read_csv(working_dir + '../../contigs_umap_hoverdata1', header=None, usecols=[3],sep=' ')\n",
    "contig_length = contig_length.to_numpy().ravel()\n",
    "fractional_counts = pd.read_csv(working_dir + \"total_count\", header=None,sep=' ', engine=\"pyarrow\")\n",
    "read_counts = fractional_counts.pivot_table(index = 1, columns = 0, values = 2)\n",
    "# read_counts = pd.read_pickle(working_dir + 'X_pickle')\n",
    "del(fractional_counts)\n",
    "\n",
    "\n",
    "read_counts = read_counts.to_numpy(dtype=np.float32).T\n",
    "total_contigs, n_size = np.shape(read_counts)\n",
    "\n",
    "# Rc_reads = np.sum(read_counts, axis=1, keepdims=True)\n",
    "\n",
    "R_max = 1e5\n",
    "# read_counts_scaled = np.multiply(read_counts, R_max/(R_max + Rc_reads))\n",
    "Rc_reads = read_counts.sum(axis=1)\n",
    "Rn_reads = read_counts.sum(axis=0)\n",
    "\n",
    "ss = time.time()\n",
    "dirichlet_prior = opt.optimize_alpha(read_counts, Rc_reads, Rn_reads, n_size)\n",
    "print('obtained alpha parameter for read counts', dirichlet_prior, 'in' ,time.time()-ss,'seconds')\n",
    "ss = time.time()\n",
    "dirichlet_prior_persamples  = dirichlet_prior * Rn_reads / Rn_reads.sum()\n",
    "\n",
    "\n",
    "\n",
    "kmer_counts = pd.read_csv(working_dir + \"kmer_counts\", header=None, engine=\"pyarrow\")\n",
    "kmer_counts = kmer_counts.to_numpy(np.float32)\n",
    "kmer_counts = kmer_counts.reshape(total_contigs, 256) # convert 1D array to a 2D array with {total_contigs, all 4-mers} shape  \n",
    "kmer_counts = (kmer_counts / 2)\n",
    "# kmer_counts = kmer_counts[fivesp_index]\n",
    "\n",
    "print(\"processing kmer frequencies\")\n",
    "\n",
    "GC_fractions = pd.read_csv(working_dir + \"GC_fractionof_contigs\", header=None)\n",
    "GC_fractions = GC_fractions.to_numpy()\n",
    "# GC_fractions = GC_fractions[fivesp_index]\n",
    "GC_tetramer = np.array([0, 0, 1, 1, 0, 0, 1, 1, 1, 1, 2, 2, 1, 1, 2, 2, 0, 0, 1, 1, 0, 0, 1, 1, 1, 1,\n",
    "                        2, 2, 1, 1, 2, 2, 1, 1, 2, 2, 1, 1, 2, 2, 2, 2, 3, 3, 2, 2, 3, 3, 1, 1, 2, 2,\n",
    "                        1, 1, 2, 2, 2, 2, 3, 3, 2, 2, 3, 3, 0, 0, 1, 1, 0, 0, 1, 1, 1, 1, 2, 2, 1, 1,\n",
    "                        2, 2, 0, 0, 1, 1, 0, 0, 1, 1, 1, 1, 2, 2, 1, 1, 2, 2, 1, 1, 2, 2, 1, 1, 2, 2,\n",
    "                        2, 2, 3, 3, 2, 2, 3, 3, 1, 1, 2, 2, 1, 1, 2, 2, 2, 2, 3, 3, 2, 2, 3, 3, 1, 1,\n",
    "                        2, 2, 1, 1, 2, 2, 2, 2, 3, 3, 2, 2, 3, 3, 1, 1, 2, 2, 1, 1, 2, 2, 2, 2, 3, 3,\n",
    "                        2, 2, 3, 3, 2, 2, 3, 3, 2, 2, 3, 3, 3, 3, 4, 4, 3, 3, 4, 4, 2, 2, 3, 3, 2, 2,\n",
    "                        3, 3, 3, 3, 4, 4, 3, 3, 4, 4, 1, 1, 2, 2, 1, 1, 2, 2, 2, 2, 3, 3, 2, 2, 3, 3,\n",
    "                        1, 1, 2, 2, 1, 1, 2, 2, 2, 2, 3, 3, 2, 2, 3, 3, 2, 2, 3, 3, 2, 2, 3, 3, 3, 3,\n",
    "                        4, 4, 3, 3, 4, 4, 2, 2, 3, 3, 2, 2, 3, 3, 3, 3, 4, 4, 3, 3, 4, 4])\n",
    "\n",
    "\"\"\" process repeat regions \"\"\"\n",
    "fGC_tGC = GC_fractions ** GC_tetramer\n",
    "fAT_tAT = (1 - GC_fractions) ** (4 - GC_tetramer)\n",
    "ekmer_counts = (np.tile((contig_length - 3)[:, None], (1,256)) * fAT_tAT * fGC_tGC)/16\n",
    "repeat_index = np.nonzero((kmer_counts / ekmer_counts)>3)\n",
    "setind_zero = np.vstack((np.repeat(repeat_index[0],4),\\\n",
    "    np.repeat(repeat_index[1] // 4  * 4, 4) + np.tile([0, 1, 2, 3], np.shape(repeat_index[1]))))\n",
    "kmer_counts[setind_zero[0],setind_zero[1]] = 0\n",
    "del(ekmer_counts, GC_fractions, setind_zero, repeat_index)"
   ]
  },
  {
   "cell_type": "code",
   "execution_count": 27,
   "id": "6093083d",
   "metadata": {},
   "outputs": [],
   "source": [
    "clusters_reads_sum = np.load(working_dir + 'cluster_centroids_read.npy')\n",
    "\n",
    "clusters_kmers_sum = np.load(working_dir + 'cluster_centroids_kmer.npy')"
   ]
  },
  {
   "cell_type": "code",
   "execution_count": 32,
   "id": "32f74f59",
   "metadata": {},
   "outputs": [
    {
     "data": {
      "text/plain": [
       "array([ 13873. ,  10438. ,  26131. ,  20714. ,   7952.5,   8882. ,\n",
       "        20653.5,  23257.5,  37446. ,  23237.5,  36220. ,  43879.5,\n",
       "        26740.5,  24772. ,  39386. ,  27784. ,   7928. ,   7611. ,\n",
       "        11423. ,  14074.5,   5900.5,  10479. ,  22312. ,  22051. ,\n",
       "        31496. ,  23688. ,  39988.5,  46939. ,  34810. ,  32776. ,\n",
       "        58443. ,  40368. ,  31579. ,  32920.5,  27307.5,  31492. ,\n",
       "        14652.5,  24783. ,  24361. ,  23991.5,  33260. ,  31891. ,\n",
       "        24837. ,  46438. ,  48267.5,  33636. ,  62054.5,  44601.5,\n",
       "        23931. ,  23754.5,  28097.5,  27533.5,   9141. ,  23354.5,\n",
       "        29544.5,  25749.5,  43673. ,  30360. ,  49360. ,  58801.5,\n",
       "        37020.5,  31891. ,  53236. ,  25886. ,   7489.5,   5900.5,\n",
       "        10384. ,  10051.5,   4137. ,   7952.5,  12826.5,  16118. ,\n",
       "        11520.5,   9141. ,   9735.5,  14961.5,  15454. ,  14652.5,\n",
       "        26540.5,  20538. ,   4752. ,   7928. ,   5841.5,  15291.5,\n",
       "         7468. ,  13864.5,  26021. ,  23770.5,  29438. ,  23918.5,\n",
       "        27977.5,  47766.5,  34880. ,  31551.5,  54070. ,  37340. ,\n",
       "        34825.5,  34877.5,  29714. ,  34002.5,  15450.5,  26740.5,\n",
       "        29905. ,  31226.5,  39821. ,  37020.5,  32667. ,  56957. ,\n",
       "        46829. ,  48137.5,  77707. ,  61043. ,  29357.5,  31477. ,\n",
       "        36247.5,  36391. ,  11444.5,  37446. ,  39630.5,  34042.5,\n",
       "        53991. ,  43078.5,  47290.5,  76384.5,  39821. ,  33260. ,\n",
       "        50763. ,  27973.5,  23478. ,  21715.5,  66786.5,  42616.5,\n",
       "        15770. ,  22752.5,  62179. ,  61611. ,  34278.5,  25749.5,\n",
       "        36153. ,  48546.5,  31242. ,  23991.5,  65661. ,  42370.5,\n",
       "        15291.5,  14074.5,  23269.5,  24534. ,  10021. ,  20737. ,\n",
       "        44175. ,  43363. ,  36512. ,  27542.5,  44043. ,  54034.5,\n",
       "        34139. ,  31536.5,  61990. ,  35589.5,  37415.5,  40594.5,\n",
       "        38219.5,  35589.5,  20538. ,  27793. ,  57325. ,  42370.5,\n",
       "        27973.5,  25886. ,  19908.5,  46349.5,  61233.5,  44625. ,\n",
       "        90691.5,  56422. ,  47725. ,  47015.5,  85554. ,  53989.5,\n",
       "        14955.5,  44137.5,  80906. ,  48512. ,  77459.5,  58801.5,\n",
       "        87896. , 100845. ,  56957. ,  46438. , 103235.5,  46349.5,\n",
       "        26079. ,  22272. ,  36290.5,  44168.5,  12741.5,  20516. ,\n",
       "        44336. ,  63152.5,  39826. ,  29516. ,  54002.5,  80906. ,\n",
       "        29916. ,  24361. ,  50597. ,  57325. ,   5842. ,  11423. ,\n",
       "         4817. ,  23272. ,  10222.5,  25799. ,  35531.5,  66786.5,\n",
       "        36303.5,  28066. ,  54183.5,  85554. ,  29825.5,  27347.5,\n",
       "        49347.5,  38219.5,  54081.5,  58660.5,  49224. ,  61834.5,\n",
       "        26540.5,  39403. ,  50597. ,  65661. ,  50763. ,  53236. ,\n",
       "        42708. , 103235.5,  77979.5,  62094. ,  94229. ,  90691.5,\n",
       "        27994. ,  40148. ,  54242.5,  44055. ,   9735.5,  36486. ,\n",
       "        54054. ,  36153. ,  47962.5,  49360. ,  64728. ,  87896. ,\n",
       "        32667. ,  24837. ,  42708. ,  19908.5], dtype=float32)"
      ]
     },
     "execution_count": 32,
     "metadata": {},
     "output_type": "execute_result"
    }
   ],
   "source": [
    "clusters_kmers_sum[0]"
   ]
  },
  {
   "cell_type": "code",
   "execution_count": 33,
   "id": "779dfeb8",
   "metadata": {},
   "outputs": [
    {
     "data": {
      "text/plain": [
       "array([ 13873. ,  10438. ,  26131. ,  20714. ,   7952.5,   8882. ,\n",
       "        20653.5,  23257.5,  37446. ,  23237.5,  36220. ,  43879.5,\n",
       "        26740.5,  24772. ,  39386. ,  27784. ,   7928. ,   7611. ,\n",
       "        11423. ,  14074.5,   5900.5,  10479. ,  22312. ,  22051. ,\n",
       "        31496. ,  23688. ,  39988.5,  46939. ,  34810. ,  32776. ,\n",
       "        58443. ,  40368. ,  31579. ,  32920.5,  27307.5,  31492. ,\n",
       "        14652.5,  24783. ,  24361. ,  23991.5,  33260. ,  31891. ,\n",
       "        24837. ,  46438. ,  48267.5,  33636. ,  62054.5,  44601.5,\n",
       "        23931. ,  23754.5,  28097.5,  27533.5,   9141. ,  23354.5,\n",
       "        29544.5,  25749.5,  43673. ,  30360. ,  49360. ,  58801.5,\n",
       "        37020.5,  31891. ,  53236. ,  25886. ,   7489.5,   5900.5,\n",
       "        10384. ,  10051.5,   4137. ,   7952.5,  12826.5,  16118. ,\n",
       "        11520.5,   9141. ,   9735.5,  14961.5,  15454. ,  14652.5,\n",
       "        26540.5,  20538. ,   4752. ,   7928. ,   5841.5,  15291.5,\n",
       "         7468. ,  13864.5,  26021. ,  23770.5,  29438. ,  23918.5,\n",
       "        27977.5,  47766.5,  34880. ,  31551.5,  54070. ,  37340. ,\n",
       "        34825.5,  34877.5,  29714. ,  34002.5,  15450.5,  26740.5,\n",
       "        29905. ,  31226.5,  39821. ,  37020.5,  32667. ,  56957. ,\n",
       "        46829. ,  48137.5,  77707. ,  61043. ,  29357.5,  31477. ,\n",
       "        36247.5,  36391. ,  11444.5,  37446. ,  39630.5,  34042.5,\n",
       "        53991. ,  43078.5,  47290.5,  76384.5,  39821. ,  33260. ,\n",
       "        50763. ,  27973.5,  23478. ,  21715.5,  66786.5,  42616.5,\n",
       "        15770. ,  22752.5,  62179. ,  61611. ,  34278.5,  25749.5,\n",
       "        36153. ,  48546.5,  31242. ,  23991.5,  65661. ,  42370.5,\n",
       "        15291.5,  14074.5,  23269.5,  24534. ,  10021. ,  20737. ,\n",
       "        44175. ,  43363. ,  36512. ,  27542.5,  44043. ,  54034.5,\n",
       "        34139. ,  31536.5,  61990. ,  35589.5,  37415.5,  40594.5,\n",
       "        38219.5,  35589.5,  20538. ,  27793. ,  57325. ,  42370.5,\n",
       "        27973.5,  25886. ,  19908.5,  46349.5,  61233.5,  44625. ,\n",
       "        90691.5,  56422. ,  47725. ,  47015.5,  85554. ,  53989.5,\n",
       "        14955.5,  44137.5,  80906. ,  48512. ,  77459.5,  58801.5,\n",
       "        87896. , 100845. ,  56957. ,  46438. , 103235.5,  46349.5,\n",
       "        26079. ,  22272. ,  36290.5,  44168.5,  12741.5,  20516. ,\n",
       "        44336. ,  63152.5,  39826. ,  29516. ,  54002.5,  80906. ,\n",
       "        29916. ,  24361. ,  50597. ,  57325. ,   5842. ,  11423. ,\n",
       "         4817. ,  23272. ,  10222.5,  25799. ,  35531.5,  66786.5,\n",
       "        36303.5,  28066. ,  54183.5,  85554. ,  29825.5,  27347.5,\n",
       "        49347.5,  38219.5,  54081.5,  58660.5,  49224. ,  61834.5,\n",
       "        26540.5,  39403. ,  50597. ,  65661. ,  50763. ,  53236. ,\n",
       "        42708. , 103235.5,  77979.5,  62094. ,  94229. ,  90691.5,\n",
       "        27994. ,  40148. ,  54242.5,  44055. ,   9735.5,  36486. ,\n",
       "        54054. ,  36153. ,  47962.5,  49360. ,  64728. ,  87896. ,\n",
       "        32667. ,  24837. ,  42708. ,  19908.5], dtype=float32)"
      ]
     },
     "execution_count": 33,
     "metadata": {},
     "output_type": "execute_result"
    }
   ],
   "source": [
    "cluster_members = pd.read_csv(working_dir + 'cluster_assigned_checkcc', header=None, sep=' ')\n",
    "\n",
    "kmer_counts[np.array(cluster_members[cluster_members[1]==0][0])].sum(axis=0)"
   ]
  },
  {
   "cell_type": "code",
   "execution_count": 23,
   "id": "1ea3fb5e",
   "metadata": {},
   "outputs": [
    {
     "data": {
      "text/plain": [
       "45759    3583\n",
       "Name: 0, dtype: int64"
      ]
     },
     "execution_count": 23,
     "metadata": {},
     "output_type": "execute_result"
    }
   ],
   "source": [
    "cluster_members[cluster_members[1]==36][0]"
   ]
  },
  {
   "cell_type": "code",
   "execution_count": 24,
   "id": "b225428f",
   "metadata": {},
   "outputs": [
    {
     "data": {
      "text/plain": [
       "0         0\n",
       "1         0\n",
       "2         0\n",
       "3         0\n",
       "4         0\n",
       "         ..\n",
       "45755    35\n",
       "45756    35\n",
       "45757    35\n",
       "45758    35\n",
       "45759    36\n",
       "Name: 1, Length: 45760, dtype: int64"
      ]
     },
     "execution_count": 24,
     "metadata": {},
     "output_type": "execute_result"
    }
   ],
   "source": [
    "cluster_members[1]"
   ]
  },
  {
   "cell_type": "code",
   "execution_count": 62,
   "id": "465e12b1",
   "metadata": {},
   "outputs": [],
   "source": [
    "import pandas as pd\n",
    "working_dir = \"/big/work/metadevol/cami2_datasets/marine/bowtie_bamfiles/tmp/\"\n",
    "a = pd.read_csv(working_dir + '20sp_check/bin_assignments_old_cc_m1', header=None, sep='\\t')"
   ]
  },
  {
   "cell_type": "code",
   "execution_count": 63,
   "id": "36b7d1b9",
   "metadata": {},
   "outputs": [],
   "source": [
    "labels = pd.read_csv(working_dir + '20sp_check/20spcontigs_labels', header=None, sep=' ')\n",
    "\n",
    "labels.merge(a,left_on = 3,right_on = 0)[[6,'1_y']].to_csv(working_dir + '20sp_check/20sp_bins_m1', header=None, sep='\\t')\n",
    "    "
   ]
  },
  {
   "cell_type": "code",
   "execution_count": 57,
   "id": "c623729f",
   "metadata": {},
   "outputs": [
    {
     "data": {
      "text/html": [
       "<div>\n",
       "<style scoped>\n",
       "    .dataframe tbody tr th:only-of-type {\n",
       "        vertical-align: middle;\n",
       "    }\n",
       "\n",
       "    .dataframe tbody tr th {\n",
       "        vertical-align: top;\n",
       "    }\n",
       "\n",
       "    .dataframe thead th {\n",
       "        text-align: right;\n",
       "    }\n",
       "</style>\n",
       "<table border=\"1\" class=\"dataframe\">\n",
       "  <thead>\n",
       "    <tr style=\"text-align: right;\">\n",
       "      <th></th>\n",
       "      <th>0_x</th>\n",
       "      <th>1_x</th>\n",
       "      <th>2</th>\n",
       "      <th>3</th>\n",
       "      <th>4</th>\n",
       "      <th>5</th>\n",
       "      <th>6</th>\n",
       "      <th>0_y</th>\n",
       "      <th>1_y</th>\n",
       "    </tr>\n",
       "  </thead>\n",
       "  <tbody>\n",
       "    <tr>\n",
       "      <th>526</th>\n",
       "      <td>8072</td>\n",
       "      <td>8072</td>\n",
       "      <td>181465</td>\n",
       "      <td>S0C181465</td>\n",
       "      <td>8072</td>\n",
       "      <td>3583</td>\n",
       "      <td>Otu30.0</td>\n",
       "      <td>S0C181465</td>\n",
       "      <td>12</td>\n",
       "    </tr>\n",
       "  </tbody>\n",
       "</table>\n",
       "</div>"
      ],
      "text/plain": [
       "      0_x   1_x       2          3     4     5        6        0_y  1_y\n",
       "526  8072  8072  181465  S0C181465  8072  3583  Otu30.0  S0C181465   12"
      ]
     },
     "execution_count": 57,
     "metadata": {},
     "output_type": "execute_result"
    }
   ],
   "source": [
    "intrmd_check = labels.merge(a, left_on=3, right_on=0)\n",
    "\n",
    "\n",
    "intrmd_check[(intrmd_check[6]=='Otu30.0')&(intrmd_check['1_y']==12)]"
   ]
  },
  {
   "cell_type": "code",
   "execution_count": 64,
   "id": "14b536c0",
   "metadata": {},
   "outputs": [],
   "source": [
    "contig_labels = pd.read_csv(working_dir + 'examine_cluster', header=None, sep = ' ')"
   ]
  },
  {
   "cell_type": "code",
   "execution_count": 74,
   "id": "1f8290ba",
   "metadata": {},
   "outputs": [],
   "source": [
    "sp10_labels = contig_labels[contig_labels[5].isin([\"RNODE_166_length_2298_cov_14.88049\",\"RNODE_279_length_3658_cov_27.56711\",\"Otu137.0\",\"Otu186.0\",\"Otu235.0\",\"Otu12.0\",\"Otu2.0\",\"Otu3.1\",\"Otu453\",\"Otu78\"])]\n",
    "\n",
    "\n",
    "\n"
   ]
  },
  {
   "cell_type": "code",
   "execution_count": 89,
   "id": "7459362e",
   "metadata": {},
   "outputs": [],
   "source": [
    "sp10_labels.to_csv(working_dir + '10sp_check/10spcontig_labels', header=None, index=False)"
   ]
  },
  {
   "cell_type": "code",
   "execution_count": 86,
   "id": "695dc475",
   "metadata": {},
   "outputs": [
    {
     "data": {
      "text/plain": [
       "6629"
      ]
     },
     "execution_count": 86,
     "metadata": {},
     "output_type": "execute_result"
    }
   ],
   "source": [
    "len(contig_labels[contig_labels[5]=='Otu78'])"
   ]
  },
  {
   "cell_type": "code",
   "execution_count": null,
   "id": "b39b162b",
   "metadata": {},
   "outputs": [],
   "source": []
  }
 ],
 "metadata": {
  "kernelspec": {
   "display_name": "Python 3 (ipykernel)",
   "language": "python",
   "name": "python3"
  },
  "language_info": {
   "codemirror_mode": {
    "name": "ipython",
    "version": 3
   },
   "file_extension": ".py",
   "mimetype": "text/x-python",
   "name": "python",
   "nbconvert_exporter": "python",
   "pygments_lexer": "ipython3",
   "version": "3.8.10"
  }
 },
 "nbformat": 4,
 "nbformat_minor": 5
}
