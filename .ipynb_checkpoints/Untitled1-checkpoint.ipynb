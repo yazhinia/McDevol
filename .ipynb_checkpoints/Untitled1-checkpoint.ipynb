{
 "cells": [
  {
   "cell_type": "code",
   "execution_count": 27,
   "id": "6de47975",
   "metadata": {},
   "outputs": [
    {
     "name": "stdout",
     "output_type": "stream",
     "text": [
      "The autoreload extension is already loaded. To reload it, use:\n",
      "  %reload_ext autoreload\n"
     ]
    }
   ],
   "source": [
    "%load_ext autoreload\n",
    "%autoreload 2"
   ]
  },
  {
   "cell_type": "code",
   "execution_count": 30,
   "id": "77842a07",
   "metadata": {},
   "outputs": [
    {
     "name": "stdout",
     "output_type": "stream",
     "text": [
      "obtained gamma parameters in 0.2241685390472412 seconds\n",
      "obtained alpha parameter in 0.8197908401489258 seconds\n",
      "computing cluster_by_connecting_centroids\n",
      "entering iterative distance_calculation\n",
      "[ 491.22998 3918.417    240.9895  ... 3496.1682   344.35776  888.63275]\n",
      "[ 858.8697 7608.098   403.5993 ... 6172.4277  709.7136 1600.7379]\n",
      "[ 647.2992  5933.977    336.65137 ... 4798.2153   532.217   1118.81   ]\n",
      "[ 525.0357   4164.3125    286.18814  ... 1575.8514    374.83936\n",
      "   92.499725]\n",
      "[ 423.58533 3596.9124   338.05542 ... 3030.2788   335.89124 1054.855  ]\n",
      "[ 547.4194  4342.551    156.46701 ... 3631.0842   454.8168  1318.0332 ]\n",
      "[ 511.21185 3310.192    245.61172 ... 2749.907    372.14484  900.7191 ]\n",
      "[ 244.54356  205.45839  180.72606 ... 2440.8936   107.05566  980.8401 ]\n",
      "[ 577.5475  2915.4841   286.33624 ... 2668.9038   500.8729  1027.8271 ]\n",
      "[ 582.26776 3360.1782   307.47028 ... 2084.235    433.80658 1118.2493 ]\n",
      "[ 607.9224  2848.871    323.89413 ... 2316.2202   455.11343  676.459  ]\n",
      "[ 522.8489   2988.6118    286.8191   ...   79.973076  434.95853\n",
      "  549.0176  ]\n",
      "[ 467.18604 2255.2026   223.151   ... 2744.15     309.35858  681.2889 ]\n",
      "[ 602.7799  2959.98     243.68721 ... 2351.3076   527.73206  951.8106 ]\n",
      "[ 365.6232   506.95242  453.89612 ... 1857.9604   240.63174  948.17944]\n",
      "[ 555.41504 1729.6769   222.81519 ... 1699.9329   392.2807   610.133  ]\n",
      "[ 364.5981   1577.1794     73.505905 ... 1736.6714    348.89355\n",
      "  727.8731  ]\n",
      "[ 537.2656  1671.4956   243.65796 ... 1649.245    417.6712   731.53503]\n",
      "[ 534.3469  1376.8662   293.34943 ... 1442.6699   443.51782  631.4723 ]\n",
      "[ 474.5879  1263.054    167.41965 ...  977.54486  321.4063   564.48145]\n",
      "[ 281.90826  180.32573  212.15375 ... 1190.5669   160.44493  621.20056]\n",
      "[ 572.9243  1466.4651   252.65012 ... 1352.8755   455.40616  899.3883 ]\n",
      "[ 497.42712 1396.7866   376.9255  ... 1638.0781   857.8698   808.06506]\n",
      "[ 437.58606 1129.7063   199.71985 ... 1117.9753   417.91183  681.81824]\n",
      "[ 445.7052   956.8943   252.54324 ... 1054.199    394.84302  637.7551 ]\n",
      "[ 577.19824 1059.9287   345.84317 ...  867.4615   455.49615  825.7836 ]\n",
      "[564.16376  185.82375  211.56522  ... 855.26514  121.712395 520.71594 ]\n",
      "[ 622.4259  1199.4968   323.22534 ... 1127.6322   414.47015  653.562  ]\n",
      "[418.35507 868.2051  227.52249 ... 699.2102  348.69238 644.69727]\n",
      "[610.8117  895.8969  307.4422  ... 895.9048  376.75308 516.5928 ]\n",
      "[336.12656 710.9519  182.65591 ... 893.57275 293.19202 529.6709 ]\n",
      "[465.0336  710.8769  296.85776 ... 794.30664 565.60596 492.6599 ]\n",
      "[ 667.6079  1012.45087  478.5949  ...  334.82993  682.2579   491.09503]\n",
      "[334.87234 425.54196 277.6201  ... 613.5939  188.31863 465.87604]\n",
      "[477.71533 669.5371  336.9178  ... 634.7577  338.5087  591.3039 ]\n",
      "[416.90128 666.51996 184.12921 ... 779.1864  394.75458 473.7721 ]\n",
      "[466.57666 747.15063 337.06137 ... 590.93677 495.5849  650.90674]\n",
      "[261.3973  409.7763  253.01297 ... 583.9785  222.82823 440.29245]\n",
      "[313.50842 576.27673 114.23723 ... 585.9369  243.04251 369.86127]\n",
      "[250.9476  230.03703 231.5715  ... 529.0209  171.12617 393.13312]\n",
      "[546.60754 553.10486 276.59674 ... 682.4036  320.18387 425.00824]\n",
      "[332.48038 531.0697  253.67278 ... 634.2143  295.62973 395.4391 ]\n",
      "[321.15503 542.5164  212.72443 ... 621.91724 315.64807 385.1136 ]\n",
      "[295.0758 425.7133 302.9309 ... 574.1482 298.3021 373.4568]\n",
      "[659.14374 660.95435 342.95023 ... 227.41873 326.46262 290.67538]\n",
      "[328.0914  553.35754 285.5218  ... 637.18396 399.6933  349.90045]\n",
      "Obtained 46 clusters from initial clustering\n",
      "Initial clustering took: 20.55962610244751 seconds\n",
      "distance calculation time: 20.56273365020752 seconds\n",
      "count_numbers_of_sharedcontigs took  14.94705057144165 seconds\n",
      "find_connected_components took  0.0010673999786376953 seconds\n",
      "number of connected components 1\n",
      "count_by_connecting_centroids took  35.51367402076721 seconds\n",
      "37.60613489151001 seconds\n"
     ]
    }
   ],
   "source": [
    "import time\n",
    "import numpy as np\n",
    "import pandas as pd\n",
    "import optimize_parameters as opt\n",
    "import distance_calculations as dist\n",
    "from multiprocessing.pool import Pool\n",
    "from scipy import special\n",
    "from contigs_clustering import cluster_by_connecting_centroids\n",
    "\n",
    "def optimize_prior_fortrimers(*argv):\n",
    "\n",
    "    with Pool() as pool:\n",
    "        awa_values = pool.starmap(opt.obtain_optimized_alphas, [(x, y) for x, y in zip(argv[0], argv[1])])\n",
    "    awa_values = np.array(awa_values)\n",
    "    alpha_values = awa_values.sum(axis=1)\n",
    "\n",
    "    return alpha_values, awa_values\n",
    "\n",
    "\n",
    "\n",
    "if __name__ == \"__main__\" :\n",
    "    \n",
    "    tmp_dir = \"/big/work/metadevol/benchmark_dataset1/\"\n",
    "    s = time.time()\n",
    "    \n",
    "    \"\"\" clustering parameters (default) \"\"\"\n",
    "    d0 = 1\n",
    "    min_shared_contigs = 5\n",
    "    \n",
    "    \"\"\" load contig read counts \"\"\"\n",
    "    read_counts = pd.read_pickle(tmp_dir + 'X_pickle')\n",
    "    contig_length = pd.read_csv(tmp_dir + 'contigs_umap_hoverdata1', header=None, usecols=[3],sep=' ')\n",
    "    contig_length = np.column_stack(contig_length.to_numpy())\n",
    "    read_counts = read_counts.to_numpy()\n",
    "    n_size, total_contigs = np.shape(read_counts)\n",
    "    Rc_reads = read_counts.sum(axis=0)\n",
    "    Rn_reads = read_counts.sum(axis=1)\n",
    "    \n",
    "    ss = time.time()\n",
    "    gamma_shape, gamma_scale = opt.optimize_gammaparameters(Rc_reads,contig_length, total_contigs)\n",
    "    print('obtained gamma parameters in', time.time()-ss,'seconds')\n",
    "    \n",
    "    ss = time.time()\n",
    "    dirichlet_prior = opt.optimize_alpha(read_counts, Rc_reads, Rn_reads, n_size)\n",
    "    print('obtained alpha parameter in', time.time()-ss,'seconds')\n",
    "    dirichlet_prior_persamples  = dirichlet_prior * Rn_reads / Rn_reads.sum()\n",
    "    dirichlet_prior_persamples = dirichlet_prior_persamples\n",
    "    \n",
    "    \"\"\" load kmer counts \"\"\"\n",
    "#     kmer_counts = pd.read_csv(tmp_dir + \"kmer_counts\", header=None)\n",
    "#     kmer_counts = kmer_counts.to_numpy()\n",
    "    dat = pd.read_csv(tmp_dir + \"kmer_counts\", header=None)\n",
    "    dat = dat.to_numpy()\n",
    "\n",
    "    tetramer_counts = dat.reshape(45760,256)\n",
    "    tetramer_counts = (tetramer_counts / 2).transpose()\n",
    "    trimercountsper_nt = np.split(tetramer_counts.sum(axis=1), 64)\n",
    "\n",
    "    trimer_submatrices = np.vsplit(tetramer_counts, 64)\n",
    "    ss = time.time()\n",
    "    awa_values = optimize_prior_fortrimers(trimer_submatrices, trimercountsper_nt)\n",
    "    dirichlet_prior_perkmers = awa_values[0]\n",
    "    dirichlet_prior_kmers = awa_values[1]\n",
    "#     print(dirichlet_prior_perkmers)\n",
    "#     cluster_parameters = list([read_counts, Rc_reads, contig_length, n_size, total_contigs, \\\n",
    "#                           dirichlet_prior, dirichlet_prior_persamples, gamma_shape, gamma_scale, \\\n",
    "#                           kmer_counts, Rc_kmers, dirichlet_prior_kmers, dirichlet_prior_perkmers, \\\n",
    "#                           d0, min_shared_contigs])\n",
    "    \n",
    "    clusters, numclust_incomponents = cluster_by_connecting_centroids(cluster_parameters)\n",
    "\n",
    "    \n",
    "    print(time.time()-ss,'seconds')"
   ]
  },
  {
   "cell_type": "code",
   "execution_count": null,
   "id": "6ea4030f",
   "metadata": {},
   "outputs": [],
   "source": [
    "a = numpy.ascontiguous((1024,1024,5))"
   ]
  },
  {
   "cell_type": "code",
   "execution_count": 15,
   "id": "982dc7e0",
   "metadata": {},
   "outputs": [
    {
     "data": {
      "text/plain": [
       "array([[1.73455597, 1.72745033, 1.73247135, 1.80395531],\n",
       "       [1.76207882, 1.68478761, 1.76814774, 1.78563456],\n",
       "       [1.86340203, 1.75492729, 1.73656529, 1.76823071],\n",
       "       [1.74253835, 1.69898486, 1.69893153, 1.78389677],\n",
       "       [1.82215512, 1.7466299 , 1.7188554 , 1.77000003],\n",
       "       [1.65710051, 1.87751495, 1.6718135 , 1.84420038],\n",
       "       [1.81392846, 1.80268165, 1.77321941, 1.80569182],\n",
       "       [1.78031858, 1.69784611, 1.74342559, 1.7828012 ],\n",
       "       [1.77974384, 1.76835523, 1.75043537, 1.70845876],\n",
       "       [1.82139175, 1.75517995, 1.71479821, 1.84436176],\n",
       "       [1.75049738, 1.75293616, 1.79409628, 1.7625124 ],\n",
       "       [1.69382886, 1.78677495, 1.71560862, 1.86101218],\n",
       "       [1.74222551, 1.68182518, 1.71707094, 1.77414329],\n",
       "       [1.82752458, 1.74490762, 1.74557745, 1.75073337],\n",
       "       [1.78405268, 1.76583534, 1.6786469 , 1.78579492],\n",
       "       [1.75835104, 1.79854267, 1.72540146, 1.71582605],\n",
       "       [1.67165822, 1.7757106 , 1.64759976, 1.83863696],\n",
       "       [1.7700738 , 1.80980622, 1.73334948, 1.74931723],\n",
       "       [1.77702989, 1.71987294, 1.8404238 , 1.78674303],\n",
       "       [1.7610994 , 1.79560041, 1.70304254, 1.73295513],\n",
       "       [1.76382174, 1.74204192, 1.75045803, 1.79326253],\n",
       "       [1.7331996 , 1.74226572, 1.82353332, 1.7619533 ],\n",
       "       [1.81041197, 1.82157264, 1.7819084 , 1.79517617],\n",
       "       [1.72170436, 1.73488501, 1.73552197, 1.74494885],\n",
       "       [1.79064482, 1.72360687, 1.80406862, 1.74726472],\n",
       "       [1.76322941, 1.77386578, 1.73364431, 1.79892544],\n",
       "       [1.82548622, 1.78652457, 1.71578036, 1.73186   ],\n",
       "       [1.71847262, 1.80155867, 1.77918558, 1.75911833],\n",
       "       [1.73803332, 1.79890051, 1.76769028, 1.68518389],\n",
       "       [1.75850804, 1.77598846, 1.80992203, 1.77990865],\n",
       "       [1.736491  , 1.71686262, 1.84220414, 1.74952695],\n",
       "       [1.77051872, 1.77507279, 1.71599393, 1.79875439],\n",
       "       [1.67894395, 1.73328429, 1.75388153, 1.68958832],\n",
       "       [1.78878011, 1.76829756, 1.78085355, 1.71811885],\n",
       "       [1.74814108, 1.74168415, 1.80395175, 1.77410212],\n",
       "       [1.7514754 , 1.71730896, 1.76796336, 1.73622988],\n",
       "       [1.71856017, 1.76850465, 1.71074555, 1.80599703],\n",
       "       [1.76939527, 1.78108679, 1.75085521, 1.82822698],\n",
       "       [1.76831253, 1.82337455, 1.78831588, 1.73826081],\n",
       "       [1.72444681, 1.77432571, 1.76958717, 1.71737508],\n",
       "       [1.70246863, 1.72616746, 1.7641004 , 1.80402767],\n",
       "       [1.73278553, 1.76092651, 1.86752898, 1.77445822],\n",
       "       [1.7411933 , 1.74894841, 1.7501611 , 1.91381137],\n",
       "       [1.6802006 , 1.75738777, 1.71211898, 1.84173142],\n",
       "       [1.76477378, 1.75739243, 1.81926018, 1.73316143],\n",
       "       [1.73068883, 1.73339154, 1.80338861, 1.80354206],\n",
       "       [1.76829116, 1.75711517, 1.73815538, 1.7315048 ],\n",
       "       [1.66258848, 1.76655985, 1.73466556, 1.84040406],\n",
       "       [1.71855351, 1.68439457, 1.73310776, 1.77135467],\n",
       "       [1.70572192, 1.76844332, 1.76317565, 1.8313897 ],\n",
       "       [1.76605298, 1.79883741, 1.79263341, 1.70908933],\n",
       "       [1.69278581, 1.69691845, 1.78598308, 1.83322844],\n",
       "       [1.69817679, 1.73284501, 1.80413579, 1.7674716 ],\n",
       "       [1.7946721 , 1.75057284, 1.78100996, 1.87817172],\n",
       "       [1.74547688, 1.69044613, 1.78597237, 1.85826841],\n",
       "       [1.7811457 , 1.71607756, 1.78314826, 1.73256837],\n",
       "       [1.75027916, 1.66723015, 1.79985163, 1.77044813],\n",
       "       [1.82185602, 1.72983392, 1.75313539, 1.7635535 ],\n",
       "       [1.71939255, 1.76564396, 1.73321713, 1.84190494],\n",
       "       [1.76085546, 1.71549256, 1.78109346, 1.74622901],\n",
       "       [1.71564143, 1.73107983, 1.72446079, 1.82349454],\n",
       "       [1.79100023, 1.7500588 , 1.77719372, 1.75050985],\n",
       "       [1.80386287, 1.72494866, 1.77990189, 1.76523631],\n",
       "       [1.75055528, 1.70019324, 1.77854729, 1.7523946 ]])"
      ]
     },
     "execution_count": 15,
     "metadata": {},
     "output_type": "execute_result"
    }
   ],
   "source": [
    "dirichlet_prior_perkmers"
   ]
  },
  {
   "cell_type": "code",
   "execution_count": 63,
   "id": "b118ef7a",
   "metadata": {},
   "outputs": [
    {
     "data": {
      "text/plain": [
       "(1, 20)"
      ]
     },
     "execution_count": 63,
     "metadata": {},
     "output_type": "execute_result"
    }
   ],
   "source": [
    "np.shape(dirichlet_prior_persamples.T)"
   ]
  },
  {
   "cell_type": "code",
   "execution_count": 62,
   "id": "9b140984",
   "metadata": {},
   "outputs": [],
   "source": [
    "kmer_counts = np.load(tmp_dir + \"kmer_counts.npy\")\n",
    "kmer_counts = kmer_counts\n",
    "kmer_counts = kmer_counts.reshape(total_contigs, 256)        # convert 1D array to a 2D array with {total_contigs, all 4-mers} shape  \n",
    "kmer_counts = kmer_counts / 2"
   ]
  },
  {
   "cell_type": "code",
   "execution_count": 68,
   "id": "462c5171",
   "metadata": {},
   "outputs": [
    {
     "data": {
      "text/plain": [
       "(256,)"
      ]
     },
     "execution_count": 68,
     "metadata": {},
     "output_type": "execute_result"
    }
   ],
   "source": [
    "np.shape(kmer_counts[0])"
   ]
  },
  {
   "cell_type": "code",
   "execution_count": 17,
   "id": "4d687745",
   "metadata": {},
   "outputs": [],
   "source": [
    "import os\n",
    "import scipy.special as sc\n",
    "import timeit\n",
    "cpus = os.cpu_count()"
   ]
  },
  {
   "cell_type": "code",
   "execution_count": 39,
   "id": "85ed7152",
   "metadata": {},
   "outputs": [
    {
     "name": "stdout",
     "output_type": "stream",
     "text": [
      "2.08 ms ± 122 µs per loop (mean ± std. dev. of 7 runs, 1,000 loops each)\n"
     ]
    }
   ],
   "source": [
    "tp = ThreadPool(cpus)\n",
    "\n",
    "%timeit np.concatenate(tp.map(sc.gammaln, np.array_split((Rc_reads[0] + Rc_reads + dirichlet_prior),cpus)))"
   ]
  },
  {
   "cell_type": "code",
   "execution_count": 77,
   "id": "cfd7872b",
   "metadata": {},
   "outputs": [
    {
     "data": {
      "text/plain": [
       "array([ 2564.4305539 , 22673.78950047,  1627.87859116, ...,\n",
       "       12327.80807743,  2321.14144908,  3547.64576089])"
      ]
     },
     "execution_count": 77,
     "metadata": {},
     "output_type": "execute_result"
    }
   ],
   "source": [
    "np.concatenate(tp.map(sc.gammaln, np.array_split((Rc_reads[0] + Rc_reads + dirichlet_prior),cpus)))"
   ]
  },
  {
   "cell_type": "code",
   "execution_count": 19,
   "id": "9385e8a1",
   "metadata": {},
   "outputs": [
    {
     "data": {
      "text/plain": [
       "array([ 242.5 , 2955.25,   87.  , ..., 1634.  ,  203.  ,  397.5 ])"
      ]
     },
     "execution_count": 19,
     "metadata": {},
     "output_type": "execute_result"
    }
   ],
   "source": [
    "np.ascontiguousarray(Rc_reads)"
   ]
  },
  {
   "cell_type": "code",
   "execution_count": 101,
   "id": "3322d07c",
   "metadata": {},
   "outputs": [
    {
     "ename": "ValueError",
     "evalue": "Arguemnt has to be a dense float32 numpy array",
     "output_type": "error",
     "traceback": [
      "\u001b[0;31m---------------------------------------------------------------------------\u001b[0m",
      "\u001b[0;31mValueError\u001b[0m                                Traceback (most recent call last)",
      "Input \u001b[0;32mIn [101]\u001b[0m, in \u001b[0;36m<cell line: 6>\u001b[0;34m()\u001b[0m\n\u001b[1;32m      1\u001b[0m \u001b[38;5;28;01mimport\u001b[39;00m \u001b[38;5;21;01msimdefy\u001b[39;00m\n\u001b[1;32m      3\u001b[0m simdefy\u001b[38;5;241m.\u001b[39minit()\n\u001b[0;32m----> 6\u001b[0m \u001b[43msimdefy\u001b[49m\u001b[38;5;241;43m.\u001b[39;49m\u001b[43mlog_gamma\u001b[49m\u001b[43m(\u001b[49m\u001b[43mxx\u001b[49m\u001b[43m)\u001b[49m\n",
      "\u001b[0;31mValueError\u001b[0m: Arguemnt has to be a dense float32 numpy array"
     ]
    }
   ],
   "source": [
    "import simdefy\n",
    "\n",
    "simdefy.init()\n",
    "\n",
    "\n",
    "simdefy.log_gamma(xx)"
   ]
  },
  {
   "cell_type": "code",
   "execution_count": 121,
   "id": "0594bd6f",
   "metadata": {},
   "outputs": [],
   "source": [
    "xx=Rc_kmers.astype(np.float32)\n",
    "xx = xx + dirichlet_prior_kmers"
   ]
  },
  {
   "cell_type": "code",
   "execution_count": 123,
   "id": "8a450540",
   "metadata": {},
   "outputs": [
    {
     "data": {
      "text/plain": [
       "(array([], dtype=int64), array([], dtype=int64))"
      ]
     },
     "execution_count": 123,
     "metadata": {},
     "output_type": "execute_result"
    }
   ],
   "source": [
    "np.nonzero(xx<np.exp(-5))"
   ]
  },
  {
   "cell_type": "code",
   "execution_count": 74,
   "id": "476c69a5",
   "metadata": {},
   "outputs": [
    {
     "data": {
      "text/plain": [
       "  C_CONTIGUOUS : False\n",
       "  F_CONTIGUOUS : False\n",
       "  OWNDATA : False\n",
       "  WRITEABLE : True\n",
       "  ALIGNED : True\n",
       "  WRITEBACKIFCOPY : False"
      ]
     },
     "execution_count": 74,
     "metadata": {},
     "output_type": "execute_result"
    }
   ],
   "source": [
    "Rc_kmers[:,0].flags"
   ]
  },
  {
   "cell_type": "code",
   "execution_count": 128,
   "id": "0ffb00cd",
   "metadata": {},
   "outputs": [
    {
     "data": {
      "text/plain": [
       "array([[ 0.   , 10.875, 13.75 ,  6.875],\n",
       "       [ 1.375,  6.625,  0.75 ,  4.25 ],\n",
       "       [38.125,  0.625,  4.625,  1.375],\n",
       "       ...,\n",
       "       [ 8.25 , 13.375,  9.875,  9.5  ],\n",
       "       [ 2.   , 18.375,  2.625,  2.25 ],\n",
       "       [ 2.125,  3.25 ,  3.375,  1.375]])"
      ]
     },
     "execution_count": 128,
     "metadata": {},
     "output_type": "execute_result"
    }
   ],
   "source": [
    "kmer_counts[:,0:4]"
   ]
  },
  {
   "cell_type": "code",
   "execution_count": 13,
   "id": "6c4f29f9",
   "metadata": {},
   "outputs": [
    {
     "data": {
      "text/plain": [
       "array([  0.   ,  10.875,  13.75 ,   6.875,  10.   ,   7.875,  11.125,\n",
       "         0.   ,  12.625,   3.375,   0.5  ,   0.   ,   5.25 ,   2.375,\n",
       "         8.875,   3.875,   0.875,   0.   ,   0.5  ,   5.5  ,   2.   ,\n",
       "         0.25 ,   0.75 ,   0.5  ,   0.25 ,   1.375,   5.375,   0.   ,\n",
       "         0.875,   0.   ,   1.125,   0.75 ,   1.375,   1.375,   0.   ,\n",
       "        11.375,   6.375,  18.25 ,   0.125,   0.   ,   0.   ,   3.625,\n",
       "         0.   ,   5.   ,   0.25 ,   4.875,   2.   ,  12.625,  16.25 ,\n",
       "         1.375, 121.   ,   0.875,   0.875,   3.375,   0.   ,   0.375,\n",
       "         0.5  ,   0.125,   1.75 ,   1.125,   2.625,   0.75 ,  15.875,\n",
       "         8.375,   6.25 ,   8.5  ,  11.5  ,   8.75 ,   5.5  ,   3.375,\n",
       "         5.125,   9.5  ,   6.875,   9.25 ,   5.625,  14.375,   1.875,\n",
       "         0.   ,   6.   ,   0.   ,   0.25 ,   0.375,   0.625,   0.5  ,\n",
       "         0.   ,   1.125,   0.   ,   0.625,   0.375,   0.75 ,  11.5  ,\n",
       "         0.   ,   3.   ,   2.375,  34.625,   0.   ,   7.875,   0.125,\n",
       "         0.375,   1.   ,  12.5  ,   7.   ,   1.25 ,   0.25 ,   2.125,\n",
       "         1.   ,   1.375,  90.625,   1.75 ,   4.375,  21.   ,   5.125,\n",
       "        14.125,   6.25 ,   0.5  ,   8.375,   2.875,   0.125,  10.   ,\n",
       "         0.5  ,   1.375,  24.125,  10.5  ,   8.75 ,   1.375,  12.75 ,\n",
       "         8.25 ,   1.125,   1.25 ,   0.25 ,   0.625,  16.125,   0.   ,\n",
       "         8.   ,  14.625,   8.5  ,  20.625,   6.75 ,   8.375,   0.375,\n",
       "         0.   ,   0.375,  24.75 ,   0.375,   8.5  ,  34.75 ,   0.   ,\n",
       "         0.   ,   3.5  ,   0.   ,   0.875,   2.75 ,   5.625,   6.25 ,\n",
       "        12.625,   1.875,   5.5  ,   0.375,   1.   ,   0.375,  39.125,\n",
       "         4.875,   4.75 ,   1.   ,   3.125,   4.125,   0.125,   0.75 ,\n",
       "         0.   ,   0.625,   0.   ,   5.25 ,   0.875,   0.   ,   0.   ,\n",
       "         3.875,   0.625,  11.   ,   2.125,   3.   ,   0.875,   0.125,\n",
       "         6.25 ,   3.375,   0.625,   0.25 ,   0.375,   0.75 ,   0.375,\n",
       "         3.   ,   0.   ,   3.5  ,   3.375,   1.875,   8.125,   2.   ,\n",
       "         9.875,  10.625,   1.125,   4.   ,   0.   ,   4.5  ,   1.5  ,\n",
       "         0.5  ,   2.25 ,   1.   ,   5.125,   1.375,   2.625,   0.25 ,\n",
       "         2.875,   0.625,   0.75 ,   0.   ,   9.625,   1.375,   0.125,\n",
       "         3.   ,   4.5  ,   1.75 ,   0.   ,   6.625,   4.625,   7.125,\n",
       "         3.875,   0.   ,   0.375,   0.   ,   3.875,   0.125,   0.   ,\n",
       "         0.   ,   0.   ,   0.   ,   0.   ,   0.125,   1.75 ,   1.5  ,\n",
       "         0.375,   2.875,   1.25 ,   5.25 ,   4.125,   9.   ,   5.375,\n",
       "         2.5  ,   0.625,   3.375,   1.5  ,   3.75 ,  90.25 ,   4.375,\n",
       "        11.875,   3.   ,   2.125,   6.75 ])"
      ]
     },
     "execution_count": 13,
     "metadata": {},
     "output_type": "execute_result"
    }
   ],
   "source": [
    "np.concatenate(np.split(kmer_counts[0],4))"
   ]
  },
  {
   "cell_type": "code",
   "execution_count": 17,
   "id": "328e0160",
   "metadata": {},
   "outputs": [
    {
     "data": {
      "text/plain": [
       "array([  0.   ,  10.875,  13.75 ,   6.875,  10.   ,   7.875,  11.125,\n",
       "         0.   ,  12.625,   3.375,   0.5  ,   0.   ,   5.25 ,   2.375,\n",
       "         8.875,   3.875,   0.875,   0.   ,   0.5  ,   5.5  ,   2.   ,\n",
       "         0.25 ,   0.75 ,   0.5  ,   0.25 ,   1.375,   5.375,   0.   ,\n",
       "         0.875,   0.   ,   1.125,   0.75 ,   1.375,   1.375,   0.   ,\n",
       "        11.375,   6.375,  18.25 ,   0.125,   0.   ,   0.   ,   3.625,\n",
       "         0.   ,   5.   ,   0.25 ,   4.875,   2.   ,  12.625,  16.25 ,\n",
       "         1.375, 121.   ,   0.875,   0.875,   3.375,   0.   ,   0.375,\n",
       "         0.5  ,   0.125,   1.75 ,   1.125,   2.625,   0.75 ,  15.875,\n",
       "         8.375,   6.25 ,   8.5  ,  11.5  ,   8.75 ,   5.5  ,   3.375,\n",
       "         5.125,   9.5  ,   6.875,   9.25 ,   5.625,  14.375,   1.875,\n",
       "         0.   ,   6.   ,   0.   ,   0.25 ,   0.375,   0.625,   0.5  ,\n",
       "         0.   ,   1.125,   0.   ,   0.625,   0.375,   0.75 ,  11.5  ,\n",
       "         0.   ,   3.   ,   2.375,  34.625,   0.   ,   7.875,   0.125,\n",
       "         0.375,   1.   ,  12.5  ,   7.   ,   1.25 ,   0.25 ,   2.125,\n",
       "         1.   ,   1.375,  90.625,   1.75 ,   4.375,  21.   ,   5.125,\n",
       "        14.125,   6.25 ,   0.5  ,   8.375,   2.875,   0.125,  10.   ,\n",
       "         0.5  ,   1.375,  24.125,  10.5  ,   8.75 ,   1.375,  12.75 ,\n",
       "         8.25 ,   1.125,   1.25 ,   0.25 ,   0.625,  16.125,   0.   ,\n",
       "         8.   ,  14.625,   8.5  ,  20.625,   6.75 ,   8.375,   0.375,\n",
       "         0.   ,   0.375,  24.75 ,   0.375,   8.5  ,  34.75 ,   0.   ,\n",
       "         0.   ,   3.5  ,   0.   ,   0.875,   2.75 ,   5.625,   6.25 ,\n",
       "        12.625,   1.875,   5.5  ,   0.375,   1.   ,   0.375,  39.125,\n",
       "         4.875,   4.75 ,   1.   ,   3.125,   4.125,   0.125,   0.75 ,\n",
       "         0.   ,   0.625,   0.   ,   5.25 ,   0.875,   0.   ,   0.   ,\n",
       "         3.875,   0.625,  11.   ,   2.125,   3.   ,   0.875,   0.125,\n",
       "         6.25 ,   3.375,   0.625,   0.25 ,   0.375,   0.75 ,   0.375,\n",
       "         3.   ,   0.   ,   3.5  ,   3.375,   1.875,   8.125,   2.   ,\n",
       "         9.875,  10.625,   1.125,   4.   ,   0.   ,   4.5  ,   1.5  ,\n",
       "         0.5  ,   2.25 ,   1.   ,   5.125,   1.375,   2.625,   0.25 ,\n",
       "         2.875,   0.625,   0.75 ,   0.   ,   9.625,   1.375,   0.125,\n",
       "         3.   ,   4.5  ,   1.75 ,   0.   ,   6.625,   4.625,   7.125,\n",
       "         3.875,   0.   ,   0.375,   0.   ,   3.875,   0.125,   0.   ,\n",
       "         0.   ,   0.   ,   0.   ,   0.   ,   0.125,   1.75 ,   1.5  ,\n",
       "         0.375,   2.875,   1.25 ,   5.25 ,   4.125,   9.   ,   5.375,\n",
       "         2.5  ,   0.625,   3.375,   1.5  ,   3.75 ,  90.25 ,   4.375,\n",
       "        11.875,   3.   ,   2.125,   6.75 ])"
      ]
     },
     "execution_count": 17,
     "metadata": {},
     "output_type": "execute_result"
    }
   ],
   "source": [
    "kmer_counts[0]"
   ]
  },
  {
   "cell_type": "code",
   "execution_count": null,
   "id": "2f99dacf",
   "metadata": {},
   "outputs": [],
   "source": []
  }
 ],
 "metadata": {
  "kernelspec": {
   "display_name": "Python 3 (ipykernel)",
   "language": "python",
   "name": "python3"
  },
  "language_info": {
   "codemirror_mode": {
    "name": "ipython",
    "version": 3
   },
   "file_extension": ".py",
   "mimetype": "text/x-python",
   "name": "python",
   "nbconvert_exporter": "python",
   "pygments_lexer": "ipython3",
   "version": "3.8.10"
  }
 },
 "nbformat": 4,
 "nbformat_minor": 5
}
