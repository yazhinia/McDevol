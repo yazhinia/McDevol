{
 "cells": [
  {
   "cell_type": "code",
   "execution_count": 43,
   "id": "9875280e",
   "metadata": {
    "scrolled": true
   },
   "outputs": [
    {
     "name": "stdout",
     "output_type": "stream",
     "text": [
      "clustering initiated\n",
      "\n",
      "alpha optimized is: 8.445274503124452 and took 0.8057141304016113 seconds\n",
      "\n",
      "Obtained 37 clusters from initial clustering\n",
      "Initial clustering took: 2.228487491607666 seconds\n",
      "count_numbers_of_sharedcontigs took  0.7347006797790527 seconds\n",
      "find_connected_components took  0.00018906593322753906 seconds\n",
      "number of connected components 22\n",
      "count_by_connecting_centroids took  3.7786166667938232 seconds\n",
      "overall time taken for new clustering is:  3.7830090522766113\n",
      "Function is converged\n"
     ]
    },
    {
     "name": "stderr",
     "output_type": "stream",
     "text": [
      "/home/yazhini/.local/lib/python3.8/site-packages/numpy/core/fromnumeric.py:2009: VisibleDeprecationWarning: Creating an ndarray from ragged nested sequences (which is a list-or-tuple of lists-or-tuples-or ndarrays with different lengths or shapes) is deprecated. If you meant to do this, you must specify 'dtype=object' when creating the ndarray.\n",
      "  result = asarray(a).shape\n"
     ]
    },
    {
     "name": "stdout",
     "output_type": "stream",
     "text": [
      "Function is converged\n",
      "Function is converged\n",
      "Function is converged\n",
      "Function is converged\n",
      "Function is converged\n",
      "1 number of bins\n"
     ]
    },
    {
     "name": "stderr",
     "output_type": "stream",
     "text": [
      "/tmp/ipykernel_158711/3016315734.py:242: RuntimeWarning: invalid value encountered in divide\n",
      "  pb_c  = Z_fullopt / Rc_c\n",
      "/tmp/ipykernel_158711/3016315734.py:243: RuntimeWarning: invalid value encountered in divide\n",
      "  cov_b = np.sum(Z_fullopt, axis=1) / np.sum((np.array(lc) * Z_fullopt) / Rc_c, axis=1)\n"
     ]
    }
   ],
   "source": [
    "import time\n",
    "import numpy as np\n",
    "import pandas as pd\n",
    "import tensorflow as tf\n",
    "import matplotlib.pyplot as plt\n",
    "from optimize_alpha import optimize_alpha\n",
    "from distance_calculations import distance\n",
    "from new_clustering_algorithm import cluster_by_connecting_centroids\n",
    "\n",
    "\n",
    "def np_relu(x):\n",
    "    \n",
    "    return np.maximum(0,x)\n",
    "\n",
    "\n",
    "def initialize_Z(W, dat):\n",
    "    \n",
    "    W_t = np.transpose(W)\n",
    "    lmda = 0.1\n",
    "    inverse_term = np.linalg.inv(np.eye(W.shape[0]) + (lmda ** -1) * np.matmul(W,W_t))\n",
    "    woodbury = (lmda ** -1) * np.eye(W.shape[1]) - np.matmul((lmda ** -2) * W_t , np.matmul(inverse_term, W))\n",
    "    \n",
    "    Z = np_relu(np.matmul(woodbury, np.matmul(W_t,dat)))\n",
    "    \n",
    "    return Z\n",
    "\n",
    "\n",
    "def maximize_function(w, z, x):\n",
    "    \n",
    "    mean = np.matmul(w, z)\n",
    "    mean = 1e-10 + np_relu(mean)\n",
    "    negative_log_likelihood = np.sum(- mean + np.multiply(x, np.log(mean)))\n",
    "\n",
    "    return negative_log_likelihood\n",
    "\n",
    "\n",
    "def calc_aic(w, z, x):\n",
    "\n",
    "    mean = np.matmul(w, z)\n",
    "    mean = 1e-10 + np_relu(mean)\n",
    "    log_likelihood = np.sum(- mean + np.multiply(x, np.log(mean)))\n",
    "    AIC = log_likelihood - np.count_nonzero(np_relu(w) > 1e-05) - np.count_nonzero(np_relu(z) > 1e-05)\n",
    "    \n",
    "    return AIC\n",
    "\n",
    "\n",
    "\"\"\" Multiplicative Updates \"\"\"\n",
    "\n",
    "def multiplicative_updates(W, Z, X, n, method):\n",
    "    \n",
    "    lw = 0.1\n",
    "    lz = 0.1\n",
    "    beta = 0.5\n",
    "    convergence_criteria = 0.00001\n",
    "    epsilon = 1e-05\n",
    "    loss_values = []\n",
    "    \n",
    "    global AIC\n",
    "    \n",
    "    if method == 0:\n",
    "        \n",
    "        for i in range(n):\n",
    "\n",
    "            mean = np.matmul(W, Z)\n",
    "            mean = 1e-10 + np_relu(mean)\n",
    "            X_by_mean = X / mean\n",
    "\n",
    "            W = np.multiply(W, np_relu(np.matmul(X_by_mean, np.transpose(Z))))\n",
    "            W = W / np.sum(W, axis = 0)\n",
    "            Z = np.multiply(Z, np_relu(np.matmul(np.transpose(W), X_by_mean)))\n",
    "\n",
    "            loss_values.append(maximize_function(W, Z, X))\n",
    "            \n",
    "            if len(loss_values) >= 10 :\n",
    "                \n",
    "                if ((loss_values[i] - loss_values[i-10]) / loss_values[i]) < convergence_criteria:\n",
    "                    AIC = calc_aic(W, Z, X)\n",
    "                    print(\"Function is converged\")\n",
    "                    break\n",
    "                    \n",
    "        return  W, Z, loss_values, AIC\n",
    "    \n",
    "    \n",
    "    if method == 1:\n",
    "        \n",
    "        for i in range(n):\n",
    "\n",
    "            mean = np.matmul(W, Z)\n",
    "            mean = 1e-10 + np_relu(mean)\n",
    "            X_by_mean = X / mean\n",
    "\n",
    "            Z_reg =  (lz * beta) / np.power(np.abs(Z+epsilon), 1-beta)\n",
    "            Z = np.multiply(Z, np_relu(np.matmul(np.transpose(W), X_by_mean) - Z_reg))\n",
    "            \n",
    "            loss_values.append(maximize_function(W, Z, X))\n",
    "\n",
    "            if len(loss_values) >= 10 :\n",
    "                if ((loss_values[i] - loss_values[i-10]) / loss_values[i]) < convergence_criteria:\n",
    "                    AIC = calc_aic(W, Z, X)\n",
    "                    print(\"Function is converged\")\n",
    "                    break\n",
    "                \n",
    "        return  Z, loss_values, AIC\n",
    "    \n",
    "    \n",
    "    if method == 2:\n",
    "        \n",
    "        for i in range(n):\n",
    "\n",
    "            mean = np.matmul(W, Z)\n",
    "            mean = 1e-10 + np_relu(mean)\n",
    "            X_by_mean = X / mean\n",
    "\n",
    "            W_reg =  (lw * beta) / np.power(np.abs(W+epsilon), 1-beta)\n",
    "            Z_reg =  (lz * beta) / np.power(np.abs(Z+epsilon), 1-beta)\n",
    "            W = np.multiply(W, np_relu(np.matmul(X_by_mean, np.transpose(Z))))\n",
    "            Z = np.multiply(Z, np_relu(np.matmul(np.transpose(W), X_by_mean) - Z_reg))\n",
    "\n",
    "            loss_values.append(maximize_function(W, Z, X))\n",
    "\n",
    "            if len(loss_values) >= 10 :\n",
    "                if ((loss_values[i] - loss_values[i-10]) / loss_values[i]) < convergence_criteria:\n",
    "                    AIC = calc_aic(W, Z, X)\n",
    "                    print(\"Function is converged\")\n",
    "                    break\n",
    "                \n",
    "        return  W, Z, loss_values, AIC\n",
    "\n",
    "    \n",
    "\"\"\" End multiplicative updates \"\"\"\n",
    "                               \n",
    "                                \n",
    "if __name__ == \"__main__\":\n",
    "    \n",
    "    s = time.time()\n",
    "    print(\"clustering initiated\"+'\\n')\n",
    "    tmp_dir = \"/big/work/metadevol/benchmark_dataset1/\"\n",
    "#     tmp_dir = \"/big/work/metadevol/scripts/bamtools_api/build/\"\n",
    "    dat = pd.read_pickle(tmp_dir + 'X_pickle')\n",
    "    d0 = 1\n",
    "    min_shared_contigs = 5\n",
    "    clusters, numclust_incomponents, an, alpha, N = cluster_by_connecting_centroids(dat, d0, min_shared_contigs)\n",
    "    print(\"overall time taken for new clustering is: \", time.time()-s)\n",
    "    \n",
    "    label = pd.read_csv(tmp_dir + 'contigs_ids_distindex', sep =' ', header = None)\n",
    "#     label = pd.read_csv(tmp_dir + 'contigs_refid_genomeid_withcrossmappeddata', sep =' ', header = None)\n",
    "    lc = label[3]\n",
    "    \n",
    "    dat = dat.to_numpy()\n",
    "   \n",
    "    num_iterations = 100\n",
    "    \n",
    "    W_full = []\n",
    "    \n",
    "    LL = []\n",
    "    \n",
    "    for k in np.arange(len(numclust_incomponents)):\n",
    "\n",
    "        if numclust_incomponents[k] > 6 :\n",
    "        \n",
    "            dat_s = dat[:, clusters[k]]\n",
    "\n",
    "            Rc_s = dat_s.sum(axis = 0)\n",
    "            \n",
    "            AIC_score = []\n",
    "            \n",
    "            optimized = {}\n",
    "            \n",
    "            \n",
    "            \n",
    "            for _ in range(4):\n",
    "                \n",
    "                trial_bval = _\n",
    "                \n",
    "                ind = []\n",
    "                \n",
    "                k_contigs = []\n",
    "                \n",
    "                for i in range(trial_bval+1):\n",
    "        \n",
    "                    if i == 0:\n",
    "\n",
    "                        c0_ind = np.argmax(dat_s.sum(axis=0))\n",
    "                        c0 = dat_s[:, [c0_ind]]\n",
    "                        dist = distance(c0, dat_s, Rc_s[c0_ind], Rc_s, N, an, alpha)\n",
    "                        c_ind = np.argsort(dist)[-1]\n",
    "                        c = dat_s[:, [c_ind]]\n",
    "                        k_contigs = c\n",
    "                        ind.append(c_ind)\n",
    "\n",
    "                    else:\n",
    "\n",
    "                        dist_sum = []\n",
    "\n",
    "                        for f in range(np.shape(k_contigs)[1]):\n",
    "                            dist_sum.append(distance(k_contigs[:,[f]], dat_s, Rc_s[ind[f]], Rc_s, N, an, alpha))\n",
    "                        \n",
    "                        f_ind = np.argmax(np.array(dist_sum).sum(axis=0))\n",
    "                        ind.append(f_ind)\n",
    "                        k_contigs = np.hstack((k_contigs, dat_s[:, [f_ind]]))\n",
    "                                       \n",
    "                W = np.array(k_contigs)\n",
    "                \n",
    "                W_norm = W / W.sum(axis = 0)\n",
    "               \n",
    "                if not np.shape(W)[0] == 0:\n",
    "\n",
    "                    Z = initialize_Z(W_norm, dat_s)\n",
    "                    \n",
    "                   \n",
    "                    \n",
    "                    W_opt, Z_opt, LL_values, AIC = multiplicative_updates(W_norm, Z, dat_s, num_iterations, 0)\n",
    "                    optimized[\"W\"+str(trial_bval)] = W_opt\n",
    "                    optimized[\"Z\"+str(trial_bval)] = Z_opt\n",
    "                    AIC_score.append(AIC)\n",
    "\n",
    "            bval = np.argmax(AIC_score)\n",
    "            W_full.append(optimized[\"W\"+str(bval)])\n",
    "        \n",
    "        else:\n",
    "\n",
    "            dat_s = dat[:, clusters[k]].sum(axis=1)\n",
    "            dat_s = dat_s.reshape(N,1)\n",
    "            dat_s = dat_s/dat_s.sum() # not resulting in 1.0 (eg., 0.9999999999999998, 1.0000000000000002)\n",
    "            W_full.append(dat_s)\n",
    "    \n",
    "    \n",
    "    W_full = np.concatenate(W_full, axis = 1)\n",
    "    Z = initialize_Z(W_full, dat)\n",
    "    \n",
    "#     LL.append(maximize_function(W_full, Z, dat))\n",
    "    Z_full, LL_values, AIC_score = multiplicative_updates(W_full, Z, dat, num_iterations, 1)\n",
    "#     LL.append(LL_values)\n",
    "    \n",
    "#     plt.plot(LL)\n",
    "    W_fullopt, Z_fullopt, LL_values, AIC_final = multiplicative_updates(W_full, Z_full, dat, num_iterations, 2)\n",
    "    \n",
    "    \n",
    "    \n",
    "    \"\"\" Assignment \"\"\"\n",
    "    Rc_c  = np.sum(Z_fullopt, axis=0)\n",
    "    pb_c  = Z_fullopt / Rc_c\n",
    "    cov_b = np.sum(Z_fullopt, axis=1) / np.sum((np.array(lc) * Z_fullopt) / Rc_c, axis=1)\n",
    "    pb_min = 0.8 * (cov_b.reshape(len(cov_b),1) * np.sum(np.square(pb_c), axis=0) \\\n",
    "                    / np.sum(cov_b.reshape(len(cov_b),1) * pb_c, axis=0))\n",
    "    pb_min[pb_min > 0.5] = 0.5\n",
    "    contig_assign0 = tf.argmax(pb_c/pb_min, axis=0).numpy()\n",
    "    \n",
    "    print(len(set(contig_assign0)), \"number of bins\")"
   ]
  },
  {
   "cell_type": "code",
   "execution_count": 130,
   "id": "79c26bf3",
   "metadata": {},
   "outputs": [
    {
     "data": {
      "text/plain": [
       "Text(0.5, 0, 'K value')"
      ]
     },
     "execution_count": 130,
     "metadata": {},
     "output_type": "execute_result"
    },
    {
     "data": {
      "image/png": "[encoded data removed]",
      "text/plain": [
       "<Figure size 432x288 with 1 Axes>"
      ]
     },
     "metadata": {
      "needs_background": "light"
     },
     "output_type": "display_data"
    }
   ],
   "source": [
    "import matplotlib.pyplot as plt\n",
    "\n",
    "plt.plot(AIC_score, marker='o', color=\"g\")\n",
    "plt.xticks(np.arange(0, 3.2, 1))\n",
    "plt.ylabel(\"AIC value\")\n",
    "plt.xlabel(\"K value\")\n",
    "# plt.savefig(\"/big/work/metadevol/benchmark_dataset1/AIC_cc7.png\", format='png', dpi=600, bbox_inches = \"tight\")"
   ]
  },
  {
   "cell_type": "code",
   "execution_count": 200,
   "id": "a484acd8",
   "metadata": {},
   "outputs": [
    {
     "data": {
      "text/plain": [
       "Text(0.5, 0, 'K value')"
      ]
     },
     "execution_count": 200,
     "metadata": {},
     "output_type": "execute_result"
    },
    {
     "data": {
      "image/png": "[encoded data removed]",
      "text/plain": [
       "<Figure size 432x288 with 1 Axes>"
      ]
     },
     "metadata": {
      "needs_background": "light"
     },
     "output_type": "display_data"
    }
   ],
   "source": [
    "import matplotlib.pyplot as plt\n",
    "\n",
    "plt.plot(AIC_final, marker='o', color=\"g\")\n",
    "plt.xticks(np.arange(0, 3.2, 1))\n",
    "plt.ylabel(\"AIC value\")\n",
    "plt.xlabel(\"K value\")"
   ]
  },
  {
   "cell_type": "code",
   "execution_count": 34,
   "id": "355f9223",
   "metadata": {},
   "outputs": [],
   "source": [
    "label = pd.read_csv(tmp_dir + 'contigs_refid_genomeid_withcrossmappeddata', sep =' ', header = None)\n",
    "\n",
    "lc = label[3]"
   ]
  },
  {
   "cell_type": "code",
   "execution_count": 41,
   "id": "81ca37c7",
   "metadata": {},
   "outputs": [
    {
     "data": {
      "text/plain": [
       "[53464931.489850916,\n",
       " 54086852.26245275,\n",
       " 54444753.27345066,\n",
       " 54655756.830266826,\n",
       " 54784680.1544932,\n",
       " 54866555.501981616,\n",
       " 54920510.95003373,\n",
       " 54957290.770785265,\n",
       " 54983131.46446887,\n",
       " 55001774.48231949]"
      ]
     },
     "execution_count": 41,
     "metadata": {},
     "output_type": "execute_result"
    },
    {
     "name": "stdout",
     "output_type": "stream",
     "text": [
      "ERROR! Session/line number was not unique in database. History logging moved to new session 298\n"
     ]
    }
   ],
   "source": [
    "LL_values"
   ]
  },
  {
   "cell_type": "code",
   "execution_count": 36,
   "id": "da6bb233",
   "metadata": {},
   "outputs": [
    {
     "data": {
      "text/plain": [
       "(6, 14699)"
      ]
     },
     "execution_count": 36,
     "metadata": {},
     "output_type": "execute_result"
    }
   ],
   "source": [
    "np.shape(Z_fullopt)"
   ]
  },
  {
   "cell_type": "code",
   "execution_count": 108,
   "id": "6e879ec7",
   "metadata": {},
   "outputs": [
    {
     "data": {
      "text/plain": [
       "4"
      ]
     },
     "execution_count": 108,
     "metadata": {},
     "output_type": "execute_result"
    }
   ],
   "source": [
    "def np_relu(r):\n",
    "    return np.maximum(0.5,r)\n",
    "\n",
    "np.count_nonzero(np.power(np.abs(np.arange(9.0).reshape(3,3) * -1), 0.5) > 2)"
   ]
  },
  {
   "cell_type": "code",
   "execution_count": 106,
   "id": "73a292bf",
   "metadata": {},
   "outputs": [
    {
     "data": {
      "text/plain": [
       "array([[0.        , 1.        , 1.41421356],\n",
       "       [1.73205081, 2.        , 2.23606798],\n",
       "       [2.44948974, 2.64575131, 2.82842712]])"
      ]
     },
     "execution_count": 106,
     "metadata": {},
     "output_type": "execute_result"
    }
   ],
   "source": [
    "np.power(np.abs(np.arange(9.0).reshape(3,3) * -1), 0.5)"
   ]
  },
  {
   "cell_type": "code",
   "execution_count": 112,
   "id": "480eaa91",
   "metadata": {},
   "outputs": [
    {
     "data": {
      "text/plain": [
       "1e-05"
      ]
     },
     "execution_count": 112,
     "metadata": {},
     "output_type": "execute_result"
    }
   ],
   "source": [
    "1E-5"
   ]
  },
  {
   "cell_type": "code",
   "execution_count": null,
   "id": "560f7132",
   "metadata": {},
   "outputs": [],
   "source": []
  }
 ],
 "metadata": {
  "kernelspec": {
   "display_name": "Python 3 (ipykernel)",
   "language": "python",
   "name": "python3"
  },
  "language_info": {
   "codemirror_mode": {
    "name": "ipython",
    "version": 3
   },
   "file_extension": ".py",
   "mimetype": "text/x-python",
   "name": "python",
   "nbconvert_exporter": "python",
   "pygments_lexer": "ipython3",
   "version": "3.8.10"
  }
 },
 "nbformat": 4,
 "nbformat_minor": 5
}
