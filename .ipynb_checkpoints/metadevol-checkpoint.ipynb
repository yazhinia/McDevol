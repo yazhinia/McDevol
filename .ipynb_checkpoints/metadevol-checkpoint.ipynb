{
 "cells": [
  {
   "cell_type": "code",
   "execution_count": 1,
   "metadata": {},
   "outputs": [],
   "source": [
    "%load_ext autoreload\n",
    "%autoreload 2\n",
    "# %debug magic\n",
    "\n",
    "import os\n",
    "import time\n",
    "import subprocess\n",
    "import gc\n",
    "import numpy as np\n",
    "import pandas as pd\n",
    "import optimize_parameters as opt\n",
    "from multiprocessing.pool import Pool\n",
    "from nmf_connected_components import nmf_connected_components\n",
    "import bam2counts\n"
   ]
  },
  {
   "cell_type": "code",
   "execution_count": 2,
   "metadata": {},
   "outputs": [],
   "source": [
    "import time\n",
    "import gc\n",
    "import numpy as np\n",
    "import distance_calculations as dist\n",
    "import metadevol_distance as calc_distance\n",
    "# from tqdm.auto import tqdm\n",
    "import click, sys\n",
    "\n",
    "def cluster_by_centroids(argv):\n",
    "    read_counts = argv[0]\n",
    "    Rc_reads = argv[1]\n",
    "    total_contigs = argv[2]\n",
    "    dirichlet_prior = argv[3]\n",
    "    dirichlet_prior_persamples = argv[4]\n",
    "    kmer_counts = argv[5]\n",
    "    Rc_kmers = argv[6]\n",
    "    dirichlet_prior_kmers = argv[7]\n",
    "    dirichlet_prior_perkmers = argv[8].flatten()\n",
    "    d0 = 5.0 #argv[9]\n",
    "    d1 = 5.0 #argv[10]\n",
    "    working_dir = argv[12]\n",
    "    read_counts_source = argv[13]\n",
    "    kmer_counts_source = argv[14]\n",
    "    members_temp = []\n",
    "    members = []\n",
    "    cluster_curr = 0\n",
    "    cluster_assigned = np.zeros(total_contigs, dtype=int) - 1\n",
    "    dist_to_assigned = np.zeros(total_contigs, dtype=float) + d0\n",
    "    \n",
    "    cluster_centroids_read = np.empty((0, n_size), dtype=np.float32)\n",
    "    cluster_centroids_kmer = np.empty((0, 256), dtype=np.float32)\n",
    "    \n",
    "    print(cluster_assigned.shape[0], \"contigs are being clustered\")\n",
    "    neighbors = np.empty((total_contigs, 0)).tolist()\n",
    "    s = time.time()\n",
    "    iterate_ind = np.argsort(Rc_reads)[::-1]\n",
    "    print(\"entering iterative distance_calculation\", flush=True)\n",
    "\n",
    "\n",
    "    for c in iterate_ind:\n",
    "        \n",
    "        if cluster_assigned[c] < 0 :\n",
    "            distance = calc_distance.compute_readcountdist(c, read_counts, Rc_reads, dirichlet_prior, dirichlet_prior_persamples)\n",
    "\n",
    "            inds = np.nonzero(distance < dist_to_assigned)[0] # \"there could be empty list \"\n",
    "            if distance[c] > d0:\n",
    "#                 print(np.min(distance), np.argmin(distance), c, \"contig index\", distance[c], cluster_assigned[c])\n",
    "                inds = np.append(inds, c)\n",
    "            if len(inds) > 0 :\n",
    "                dist_to_assigned[inds] = distance[inds]\n",
    "                members_temp.append(inds)\n",
    "                cluster_assigned[inds] = cluster_curr\n",
    "            else:\n",
    "                print(\"empty indices\")\n",
    "                dist_to_assigned[c] = distance[c]\n",
    "                members_temp.append([c])\n",
    "                cluster_assigned[c] = cluster_curr\n",
    "\n",
    "\n",
    "            for n in np.nonzero(distance < d1)[0]:\n",
    "                neighbors[n].append(cluster_curr)\n",
    "                \n",
    "            cluster_curr += 1    \n",
    "            \n",
    "    # new cluster steps starts\n",
    "    for k in range(len(members_temp)):\n",
    "        inds = np.intersect1d(members_temp[k],np.nonzero(cluster_assigned==k)[0])\n",
    "        if len(inds) > 0:\n",
    "            members.append(inds)\n",
    "            cluster_centroids_read = np.append(cluster_centroids_read, np.array([read_counts_source[inds].sum(axis=0)]), axis=0)\n",
    "\n",
    "    print(\"Obtained {} clusters from initial clustering\".format(len(members)))\n",
    "    print(\"Initial clustering took:\", time.time() - s,\"seconds\")\n",
    "    gc.collect()\n",
    "    return members, cluster_centroids_read, cluster_centroids_kmer\n",
    "\n",
    "\n",
    "def components_by_merging_clusters(cluster_parameters, members, cluster_centroids_read, cluster_centroids_kmer):\n",
    "    d0 = 5.0\n",
    "    dirichlet_prior = cluster_parameters[3]\n",
    "    dirichlet_prior_persamples = cluster_parameters[4]\n",
    "    dirichlet_prior_kmers = cluster_parameters[7]\n",
    "    dirichlet_prior_perkmers = cluster_parameters[8].flatten()\n",
    "    print(dirichlet_prior, \"dirichlet prior\")\n",
    "    print(dirichlet_prior_kmers, \"dirichlet prior kmers\")\n",
    "    print(dirichlet_prior_perkmers, \"dirichlet prior perkmers\")\n",
    "\n",
    "    Rc_reads = np.sum(cluster_centroids_read, axis=1, keepdims=True)\n",
    "    cluster_centroids_read_scaled = np.multiply(cluster_centroids_read, R_max/(R_max + Rc_reads)).astype(np.float32)\n",
    "    Rc_reads = cluster_centroids_read_scaled.sum(axis=1).astype(np.float32)\n",
    "    \n",
    "    scale_down_kmer = R_max / (R_max + cluster_centroids_kmer.reshape(-1,64,4).sum(axis=2))\n",
    "    cluster_centroids_kmer_scaled = np.multiply(cluster_centroids_kmer, np.repeat(scale_down_kmer, 4, axis=1))\n",
    "\n",
    "    Rc_kmers = cluster_centroids_kmer_scaled.reshape(-1,64,4).sum(axis=2)\n",
    "    K = len(members)\n",
    "    links = []\n",
    "    \n",
    "    for k in range(K):\n",
    "        \n",
    "        distance = calc_distance.compute_readcountdist(k, cluster_centroids_read_scaled, Rc_reads, dirichlet_prior, dirichlet_prior_persamples)\n",
    "        links.append(list(np.nonzero(distance<d0)[0]))\n",
    "    return links\n",
    "\n",
    "def find_connected_components(links):\n",
    "    s = time.time()\n",
    "    K = len(links)\n",
    "    components = np.zeros(K).astype(int) - 1\n",
    "    component_curr = 0\n",
    "    \n",
    "    for k in np.arange(K):\n",
    "\n",
    "        if components[k] < 0:\n",
    "\n",
    "            candidates = links[k]\n",
    "            components[k] = component_curr\n",
    "\n",
    "            while len(candidates) != 0:\n",
    "                l = candidates.pop(-1)\n",
    "\n",
    "                if components[l] < 0:\n",
    "                    components[l] = component_curr\n",
    "                    candidates.extend(links[l])\n",
    "\n",
    "            component_curr += 1\n",
    "\n",
    "\n",
    "    if (component_curr != len(set(components))):\n",
    "        raise Exception(\"problem with connected component calculations\")\n",
    "        exit(0)\n",
    "\n",
    "    print(\"find_connected_components took \", time.time()-s, \"seconds\")\n",
    "    num_components = component_curr\n",
    "    numclust_incomponents = np.unique(components, return_counts=True)[1]\n",
    "\n",
    "    return components, num_components, numclust_incomponents\n",
    "\n",
    "def merge_members_by_connnected_components(components, num_components, members):\n",
    "    K = len(components)\n",
    "    clusters = [[] for i in range(num_components)]\n",
    "\n",
    "    for k in np.arange(K):\n",
    "        clusters[components[k]].append(members[k])\n",
    " \n",
    "    for i in np.arange(num_components):\n",
    "        clusters[i] = np.unique(np.concatenate(clusters[i]).ravel())\n",
    "   \n",
    "    return clusters\n",
    "        \n",
    "def cluster_by_connecting_centroids(cluster_parameters):\n",
    "    print(\"computing cluster_by_connecting_centroids\", flush=True)\n",
    "    s = time.time()\n",
    "    argv = cluster_parameters\n",
    "    min_shared_contigs = argv[11]\n",
    "    working_dir = argv[12]\n",
    "    members, cluster_centroids_read, cluster_centroids_kmer = cluster_by_centroids(cluster_parameters)\n",
    "    links = components_by_merging_clusters(cluster_parameters, members, cluster_centroids_read, cluster_centroids_kmer)\n",
    "    components, num_components, numclust_incomponents = find_connected_components(links)\n",
    "    clusters = merge_members_by_connnected_components(components, num_components, members)\n",
    "    return clusters, numclust_incomponents"
   ]
  },
  {
   "cell_type": "code",
   "execution_count": 4,
   "metadata": {},
   "outputs": [
    {
     "name": "stdout",
     "output_type": "stream",
     "text": [
      "/big/work/metadevol/cami2_datasets/marine/bowtie_bamfiles/tmp/\n"
     ]
    },
    {
     "ename": "MemoryError",
     "evalue": "Unable to allocate 1.79 TiB for an array with shape (702030, 702030) and data type float32",
     "output_type": "error",
     "traceback": [
      "\u001b[0;31m---------------------------------------------------------------------------\u001b[0m",
      "\u001b[0;31mMemoryError\u001b[0m                               Traceback (most recent call last)",
      "Input \u001b[0;32mIn [4]\u001b[0m, in \u001b[0;36m<cell line: 51>\u001b[0;34m()\u001b[0m\n\u001b[1;32m     48\u001b[0m Rn_reads \u001b[38;5;241m=\u001b[39m read_counts\u001b[38;5;241m.\u001b[39msum(axis\u001b[38;5;241m=\u001b[39m\u001b[38;5;241m0\u001b[39m)\n\u001b[1;32m     50\u001b[0m ss \u001b[38;5;241m=\u001b[39m time\u001b[38;5;241m.\u001b[39mtime()\n\u001b[0;32m---> 51\u001b[0m dirichlet_prior \u001b[38;5;241m=\u001b[39m \u001b[43mopt\u001b[49m\u001b[38;5;241;43m.\u001b[39;49m\u001b[43moptimize_alpha\u001b[49m\u001b[43m(\u001b[49m\u001b[43mread_counts\u001b[49m\u001b[43m,\u001b[49m\u001b[43m \u001b[49m\u001b[43mRc_reads\u001b[49m\u001b[43m,\u001b[49m\u001b[43m \u001b[49m\u001b[43mRn_reads\u001b[49m\u001b[43m,\u001b[49m\u001b[43m \u001b[49m\u001b[43mn_size\u001b[49m\u001b[43m)\u001b[49m\n\u001b[1;32m     52\u001b[0m \u001b[38;5;28mprint\u001b[39m(\u001b[38;5;124m'\u001b[39m\u001b[38;5;124mobtained alpha parameter for read counts\u001b[39m\u001b[38;5;124m'\u001b[39m, dirichlet_prior, \u001b[38;5;124m'\u001b[39m\u001b[38;5;124min\u001b[39m\u001b[38;5;124m'\u001b[39m ,time\u001b[38;5;241m.\u001b[39mtime()\u001b[38;5;241m-\u001b[39mss,\u001b[38;5;124m'\u001b[39m\u001b[38;5;124mseconds\u001b[39m\u001b[38;5;124m'\u001b[39m)\n\u001b[1;32m     53\u001b[0m ss \u001b[38;5;241m=\u001b[39m time\u001b[38;5;241m.\u001b[39mtime()\n",
      "File \u001b[0;32m/big/work/metadevol/scripts/optimize_parameters.py:34\u001b[0m, in \u001b[0;36moptimize_alpha\u001b[0;34m(*argv)\u001b[0m\n\u001b[1;32m     32\u001b[0m \u001b[38;5;124;03m\"\"\" optimize alpha for dirichlet prior distribution using maximum likelihood estimation \"\"\"\u001b[39;00m\n\u001b[1;32m     33\u001b[0m fun \u001b[38;5;241m=\u001b[39m \u001b[38;5;28;01mlambda\u001b[39;00m a: train_alpha(a, \u001b[38;5;241m*\u001b[39margv)\n\u001b[0;32m---> 34\u001b[0m optimized_alpha \u001b[38;5;241m=\u001b[39m \u001b[43mminimize_scalar\u001b[49m\u001b[43m(\u001b[49m\u001b[43mfun\u001b[49m\u001b[43m,\u001b[49m\u001b[43m \u001b[49m\u001b[43mmethod\u001b[49m\u001b[43m \u001b[49m\u001b[38;5;241;43m=\u001b[39;49m\u001b[43m \u001b[49m\u001b[38;5;124;43m'\u001b[39;49m\u001b[38;5;124;43mbrent\u001b[39;49m\u001b[38;5;124;43m'\u001b[39;49m\u001b[43m)\u001b[49m\n\u001b[1;32m     35\u001b[0m \u001b[38;5;28;01mreturn\u001b[39;00m np\u001b[38;5;241m.\u001b[39mexp(optimized_alpha\u001b[38;5;241m.\u001b[39mx)\n",
      "File \u001b[0;32m~/.local/lib/python3.8/site-packages/scipy/optimize/_minimize.py:886\u001b[0m, in \u001b[0;36mminimize_scalar\u001b[0;34m(fun, bracket, bounds, args, method, tol, options)\u001b[0m\n\u001b[1;32m    884\u001b[0m     \u001b[38;5;28;01mreturn\u001b[39;00m method(fun, args\u001b[38;5;241m=\u001b[39margs, bracket\u001b[38;5;241m=\u001b[39mbracket, bounds\u001b[38;5;241m=\u001b[39mbounds, \u001b[38;5;241m*\u001b[39m\u001b[38;5;241m*\u001b[39moptions)\n\u001b[1;32m    885\u001b[0m \u001b[38;5;28;01melif\u001b[39;00m meth \u001b[38;5;241m==\u001b[39m \u001b[38;5;124m'\u001b[39m\u001b[38;5;124mbrent\u001b[39m\u001b[38;5;124m'\u001b[39m:\n\u001b[0;32m--> 886\u001b[0m     \u001b[38;5;28;01mreturn\u001b[39;00m \u001b[43m_minimize_scalar_brent\u001b[49m\u001b[43m(\u001b[49m\u001b[43mfun\u001b[49m\u001b[43m,\u001b[49m\u001b[43m \u001b[49m\u001b[43mbracket\u001b[49m\u001b[43m,\u001b[49m\u001b[43m \u001b[49m\u001b[43margs\u001b[49m\u001b[43m,\u001b[49m\u001b[43m \u001b[49m\u001b[38;5;241;43m*\u001b[39;49m\u001b[38;5;241;43m*\u001b[39;49m\u001b[43moptions\u001b[49m\u001b[43m)\u001b[49m\n\u001b[1;32m    887\u001b[0m \u001b[38;5;28;01melif\u001b[39;00m meth \u001b[38;5;241m==\u001b[39m \u001b[38;5;124m'\u001b[39m\u001b[38;5;124mbounded\u001b[39m\u001b[38;5;124m'\u001b[39m:\n\u001b[1;32m    888\u001b[0m     \u001b[38;5;28;01mif\u001b[39;00m bounds \u001b[38;5;129;01mis\u001b[39;00m \u001b[38;5;28;01mNone\u001b[39;00m:\n",
      "File \u001b[0;32m~/.local/lib/python3.8/site-packages/scipy/optimize/_optimize.py:2498\u001b[0m, in \u001b[0;36m_minimize_scalar_brent\u001b[0;34m(func, brack, args, xtol, maxiter, disp, **unknown_options)\u001b[0m\n\u001b[1;32m   2495\u001b[0m brent \u001b[38;5;241m=\u001b[39m Brent(func\u001b[38;5;241m=\u001b[39mfunc, args\u001b[38;5;241m=\u001b[39margs, tol\u001b[38;5;241m=\u001b[39mtol,\n\u001b[1;32m   2496\u001b[0m               full_output\u001b[38;5;241m=\u001b[39m\u001b[38;5;28;01mTrue\u001b[39;00m, maxiter\u001b[38;5;241m=\u001b[39mmaxiter, disp\u001b[38;5;241m=\u001b[39mdisp)\n\u001b[1;32m   2497\u001b[0m brent\u001b[38;5;241m.\u001b[39mset_bracket(brack)\n\u001b[0;32m-> 2498\u001b[0m \u001b[43mbrent\u001b[49m\u001b[38;5;241;43m.\u001b[39;49m\u001b[43moptimize\u001b[49m\u001b[43m(\u001b[49m\u001b[43m)\u001b[49m\n\u001b[1;32m   2499\u001b[0m x, fval, nit, nfev \u001b[38;5;241m=\u001b[39m brent\u001b[38;5;241m.\u001b[39mget_result(full_output\u001b[38;5;241m=\u001b[39m\u001b[38;5;28;01mTrue\u001b[39;00m)\n\u001b[1;32m   2501\u001b[0m success \u001b[38;5;241m=\u001b[39m nit \u001b[38;5;241m<\u001b[39m maxiter \u001b[38;5;129;01mand\u001b[39;00m \u001b[38;5;129;01mnot\u001b[39;00m (np\u001b[38;5;241m.\u001b[39misnan(x) \u001b[38;5;129;01mor\u001b[39;00m np\u001b[38;5;241m.\u001b[39misnan(fval))\n",
      "File \u001b[0;32m~/.local/lib/python3.8/site-packages/scipy/optimize/_optimize.py:2268\u001b[0m, in \u001b[0;36mBrent.optimize\u001b[0;34m(self)\u001b[0m\n\u001b[1;32m   2265\u001b[0m \u001b[38;5;28;01mdef\u001b[39;00m \u001b[38;5;21moptimize\u001b[39m(\u001b[38;5;28mself\u001b[39m):\n\u001b[1;32m   2266\u001b[0m     \u001b[38;5;66;03m# set up for optimization\u001b[39;00m\n\u001b[1;32m   2267\u001b[0m     func \u001b[38;5;241m=\u001b[39m \u001b[38;5;28mself\u001b[39m\u001b[38;5;241m.\u001b[39mfunc\n\u001b[0;32m-> 2268\u001b[0m     xa, xb, xc, fa, fb, fc, funcalls \u001b[38;5;241m=\u001b[39m \u001b[38;5;28;43mself\u001b[39;49m\u001b[38;5;241;43m.\u001b[39;49m\u001b[43mget_bracket_info\u001b[49m\u001b[43m(\u001b[49m\u001b[43m)\u001b[49m\n\u001b[1;32m   2269\u001b[0m     _mintol \u001b[38;5;241m=\u001b[39m \u001b[38;5;28mself\u001b[39m\u001b[38;5;241m.\u001b[39m_mintol\n\u001b[1;32m   2270\u001b[0m     _cg \u001b[38;5;241m=\u001b[39m \u001b[38;5;28mself\u001b[39m\u001b[38;5;241m.\u001b[39m_cg\n",
      "File \u001b[0;32m~/.local/lib/python3.8/site-packages/scipy/optimize/_optimize.py:2242\u001b[0m, in \u001b[0;36mBrent.get_bracket_info\u001b[0;34m(self)\u001b[0m\n\u001b[1;32m   2239\u001b[0m \u001b[38;5;66;03m### BEGIN core bracket_info code ###\u001b[39;00m\n\u001b[1;32m   2240\u001b[0m \u001b[38;5;66;03m### carefully DOCUMENT any CHANGES in core ##\u001b[39;00m\n\u001b[1;32m   2241\u001b[0m \u001b[38;5;28;01mif\u001b[39;00m brack \u001b[38;5;129;01mis\u001b[39;00m \u001b[38;5;28;01mNone\u001b[39;00m:\n\u001b[0;32m-> 2242\u001b[0m     xa, xb, xc, fa, fb, fc, funcalls \u001b[38;5;241m=\u001b[39m \u001b[43mbracket\u001b[49m\u001b[43m(\u001b[49m\u001b[43mfunc\u001b[49m\u001b[43m,\u001b[49m\u001b[43m \u001b[49m\u001b[43margs\u001b[49m\u001b[38;5;241;43m=\u001b[39;49m\u001b[43margs\u001b[49m\u001b[43m)\u001b[49m\n\u001b[1;32m   2243\u001b[0m \u001b[38;5;28;01melif\u001b[39;00m \u001b[38;5;28mlen\u001b[39m(brack) \u001b[38;5;241m==\u001b[39m \u001b[38;5;241m2\u001b[39m:\n\u001b[1;32m   2244\u001b[0m     xa, xb, xc, fa, fb, fc, funcalls \u001b[38;5;241m=\u001b[39m bracket(func, xa\u001b[38;5;241m=\u001b[39mbrack[\u001b[38;5;241m0\u001b[39m],\n\u001b[1;32m   2245\u001b[0m                                                xb\u001b[38;5;241m=\u001b[39mbrack[\u001b[38;5;241m1\u001b[39m], args\u001b[38;5;241m=\u001b[39margs)\n",
      "File \u001b[0;32m~/.local/lib/python3.8/site-packages/scipy/optimize/_optimize.py:2752\u001b[0m, in \u001b[0;36mbracket\u001b[0;34m(func, xa, xb, args, grow_limit, maxiter)\u001b[0m\n\u001b[1;32m   2750\u001b[0m _gold \u001b[38;5;241m=\u001b[39m \u001b[38;5;241m1.618034\u001b[39m  \u001b[38;5;66;03m# golden ratio: (1.0+sqrt(5.0))/2.0\u001b[39;00m\n\u001b[1;32m   2751\u001b[0m _verysmall_num \u001b[38;5;241m=\u001b[39m \u001b[38;5;241m1e-21\u001b[39m\n\u001b[0;32m-> 2752\u001b[0m fa \u001b[38;5;241m=\u001b[39m \u001b[43mfunc\u001b[49m\u001b[43m(\u001b[49m\u001b[38;5;241;43m*\u001b[39;49m\u001b[43m(\u001b[49m\u001b[43mxa\u001b[49m\u001b[43m,\u001b[49m\u001b[43m)\u001b[49m\u001b[43m \u001b[49m\u001b[38;5;241;43m+\u001b[39;49m\u001b[43m \u001b[49m\u001b[43margs\u001b[49m\u001b[43m)\u001b[49m\n\u001b[1;32m   2753\u001b[0m fb \u001b[38;5;241m=\u001b[39m func(\u001b[38;5;241m*\u001b[39m(xb,) \u001b[38;5;241m+\u001b[39m args)\n\u001b[1;32m   2754\u001b[0m \u001b[38;5;28;01mif\u001b[39;00m (fa \u001b[38;5;241m<\u001b[39m fb):                      \u001b[38;5;66;03m# Switch so fa > fb\u001b[39;00m\n",
      "File \u001b[0;32m/big/work/metadevol/scripts/optimize_parameters.py:33\u001b[0m, in \u001b[0;36moptimize_alpha.<locals>.<lambda>\u001b[0;34m(a)\u001b[0m\n\u001b[1;32m     31\u001b[0m \u001b[38;5;28;01mdef\u001b[39;00m \u001b[38;5;21moptimize_alpha\u001b[39m(\u001b[38;5;241m*\u001b[39margv):\n\u001b[1;32m     32\u001b[0m     \u001b[38;5;124;03m\"\"\" optimize alpha for dirichlet prior distribution using maximum likelihood estimation \"\"\"\u001b[39;00m\n\u001b[0;32m---> 33\u001b[0m     fun \u001b[38;5;241m=\u001b[39m \u001b[38;5;28;01mlambda\u001b[39;00m a: \u001b[43mtrain_alpha\u001b[49m\u001b[43m(\u001b[49m\u001b[43ma\u001b[49m\u001b[43m,\u001b[49m\u001b[43m \u001b[49m\u001b[38;5;241;43m*\u001b[39;49m\u001b[43margv\u001b[49m\u001b[43m)\u001b[49m\n\u001b[1;32m     34\u001b[0m     optimized_alpha \u001b[38;5;241m=\u001b[39m minimize_scalar(fun, method \u001b[38;5;241m=\u001b[39m \u001b[38;5;124m'\u001b[39m\u001b[38;5;124mbrent\u001b[39m\u001b[38;5;124m'\u001b[39m)\n\u001b[1;32m     35\u001b[0m     \u001b[38;5;28;01mreturn\u001b[39;00m np\u001b[38;5;241m.\u001b[39mexp(optimized_alpha\u001b[38;5;241m.\u001b[39mx)\n",
      "File \u001b[0;32m/big/work/metadevol/scripts/optimize_parameters.py:24\u001b[0m, in \u001b[0;36mtrain_alpha\u001b[0;34m(a, *argv)\u001b[0m\n\u001b[1;32m     22\u001b[0m Rc_factorial \u001b[38;5;241m=\u001b[39m factorial(argv[\u001b[38;5;241m1\u001b[39m])\n\u001b[1;32m     23\u001b[0m xn_factorial \u001b[38;5;241m=\u001b[39m factorial(argv[\u001b[38;5;241m0\u001b[39m])\u001b[38;5;241m.\u001b[39msum(axis\u001b[38;5;241m=\u001b[39m\u001b[38;5;241m1\u001b[39m)\n\u001b[0;32m---> 24\u001b[0m first_term \u001b[38;5;241m=\u001b[39m \u001b[43mRc_factorial\u001b[49m\u001b[43m \u001b[49m\u001b[38;5;241;43m-\u001b[39;49m\u001b[43m \u001b[49m\u001b[43mxn_factorial\u001b[49m\n\u001b[1;32m     25\u001b[0m an \u001b[38;5;241m=\u001b[39m np\u001b[38;5;241m.\u001b[39mexp(a) \u001b[38;5;241m*\u001b[39m argv[\u001b[38;5;241m2\u001b[39m] \u001b[38;5;241m/\u001b[39m argv[\u001b[38;5;241m2\u001b[39m]\u001b[38;5;241m.\u001b[39msum()\n\u001b[1;32m     26\u001b[0m second_term \u001b[38;5;241m=\u001b[39m log_gamma(an\u001b[38;5;241m.\u001b[39msum()) \u001b[38;5;241m-\u001b[39m log_gamma(an)\u001b[38;5;241m.\u001b[39msum()\n",
      "\u001b[0;31mMemoryError\u001b[0m: Unable to allocate 1.79 TiB for an array with shape (702030, 702030) and data type float32"
     ]
    }
   ],
   "source": [
    "\n",
    "def optimize_prior_fortrimers(kmer_counts, Rc_kmers, trimercountsper_nt):\n",
    "\n",
    "    with Pool() as pool:\n",
    "        awa_values = pool.starmap(opt.obtain_optimized_alphas, \\\n",
    "                                 [(np.take(kmer_counts,[c*4, (c*4)+1, (c*4)+2, (c*4)+3], axis=1),\\\n",
    "                                  np.take(Rc_kmers, c, axis=1), trimercountsper_nt[c]) for c in range(64)])\n",
    "    awa_values = np.array(awa_values)\n",
    "    alpha_values = awa_values.sum(axis=1)\n",
    "\n",
    "    return alpha_values, awa_values\n",
    "\n",
    "    \n",
    "input_dir = '/big/work/metadevol/cami2_datasets/marine/bowtie_bamfiles/tmp/'\n",
    "# input_dir = '/big/work/metadevol/benchmark_dataset1/bamfiles/tmp/'\n",
    "working_dir = input_dir\n",
    "s = time.time()\n",
    "print(working_dir)\n",
    "\n",
    "\n",
    "\"\"\" obtain read counts \"\"\"\n",
    "# calcreadcounts(input_dir, working_dir, args.minlength)\n",
    "\n",
    "\"\"\" clustering parameters (default) \"\"\"\n",
    "d0 = 1.0\n",
    "d1 = d0\n",
    "min_shared_contigs = 20\n",
    "\n",
    "\"\"\" load contig read counts \"\"\"\n",
    "contigs = pd.read_csv(working_dir + 'contigs_labels', header=None, sep=' ').to_numpy()\n",
    "contig_names = contigs[:,1]\n",
    "contig_length = contigs[:,2].astype(int)\n",
    "# contig_length = pd.read_csv(working_dir + '../../contigs_umap_hoverdata1', header=None, usecols=[3],sep=' ')\n",
    "# contig_length = contig_length.to_numpy().ravel()\n",
    "fractional_counts = pd.read_csv(working_dir + \"total_count\", header=None,sep=' ', engine=\"pyarrow\")\n",
    "read_counts = fractional_counts.pivot_table(index = 1, columns = 0, values = 2)\n",
    "# read_counts = pd.read_pickle(working_dir + 'X_pickle')\n",
    "del(fractional_counts)\n",
    "\n",
    "\n",
    "read_counts = read_counts.to_numpy(dtype=np.float32).T\n",
    "total_contigs, n_size = np.shape(read_counts)\n",
    "\n",
    "# Rc_reads = np.sum(read_counts, axis=1, keepdims=True)\n",
    "\n",
    "R_max = 1e5\n",
    "# read_counts_scaled = np.multiply(read_counts, R_max/(R_max + Rc_reads))\n",
    "Rc_reads = read_counts.sum(axis=1)\n",
    "Rn_reads = read_counts.sum(axis=0)\n",
    "\n",
    "ss = time.time()\n",
    "dirichlet_prior = opt.optimize_alpha(read_counts, Rc_reads, Rn_reads, n_size)\n",
    "print('obtained alpha parameter for read counts', dirichlet_prior, 'in' ,time.time()-ss,'seconds')\n",
    "ss = time.time()\n",
    "dirichlet_prior_persamples  = dirichlet_prior * Rn_reads / Rn_reads.sum()\n",
    "\n",
    "# # # \"\"\" generate gamma parameters for Bayes factor in distance calculation \"\"\"\n",
    "# # # #     ss = time.time()\n",
    "# # # #     rand_ind = np.random.randint(total_contigs, size=10000)\n",
    "# # # #     gamma_shape, gamma_scale = opt.optimize_gammaparameters(Rc_reads[rand_ind], contig_length[rand_ind], total_contigs)\n",
    "# # # # #     gamma_shape, gamma_scale = opt.optimize_gammaparameters(Rc_reads, contig_length, total_contigs)\n",
    "# # # #     print('obtained gamma parameters in', time.time()-ss,'seconds')\n",
    "\n",
    "\n",
    "# # \"\"\" load kmer counts \"\"\"\n",
    "kmer_counts = pd.read_csv(working_dir + \"kmer_counts\", header=None, engine=\"pyarrow\")\n",
    "kmer_counts = kmer_counts.to_numpy(np.float32)\n",
    "kmer_counts = kmer_counts.reshape(total_contigs, 256) # convert 1D array to a 2D array with {total_contigs, all 4-mers} shape  \n",
    "kmer_counts = (kmer_counts / 2)\n",
    "# kmer_counts = kmer_counts[fivesp_index]\n",
    "\n",
    "print(\"processing kmer frequencies\")\n",
    "\n",
    "GC_fractions = pd.read_csv(working_dir + \"GC_fractionof_contigs\", header=None)\n",
    "GC_fractions = GC_fractions.to_numpy()\n",
    "# GC_fractions = GC_fractions[fivesp_index]\n",
    "GC_tetramer = np.array([0, 0, 1, 1, 0, 0, 1, 1, 1, 1, 2, 2, 1, 1, 2, 2, 0, 0, 1, 1, 0, 0, 1, 1, 1, 1,\n",
    "                        2, 2, 1, 1, 2, 2, 1, 1, 2, 2, 1, 1, 2, 2, 2, 2, 3, 3, 2, 2, 3, 3, 1, 1, 2, 2,\n",
    "                        1, 1, 2, 2, 2, 2, 3, 3, 2, 2, 3, 3, 0, 0, 1, 1, 0, 0, 1, 1, 1, 1, 2, 2, 1, 1,\n",
    "                        2, 2, 0, 0, 1, 1, 0, 0, 1, 1, 1, 1, 2, 2, 1, 1, 2, 2, 1, 1, 2, 2, 1, 1, 2, 2,\n",
    "                        2, 2, 3, 3, 2, 2, 3, 3, 1, 1, 2, 2, 1, 1, 2, 2, 2, 2, 3, 3, 2, 2, 3, 3, 1, 1,\n",
    "                        2, 2, 1, 1, 2, 2, 2, 2, 3, 3, 2, 2, 3, 3, 1, 1, 2, 2, 1, 1, 2, 2, 2, 2, 3, 3,\n",
    "                        2, 2, 3, 3, 2, 2, 3, 3, 2, 2, 3, 3, 3, 3, 4, 4, 3, 3, 4, 4, 2, 2, 3, 3, 2, 2,\n",
    "                        3, 3, 3, 3, 4, 4, 3, 3, 4, 4, 1, 1, 2, 2, 1, 1, 2, 2, 2, 2, 3, 3, 2, 2, 3, 3,\n",
    "                        1, 1, 2, 2, 1, 1, 2, 2, 2, 2, 3, 3, 2, 2, 3, 3, 2, 2, 3, 3, 2, 2, 3, 3, 3, 3,\n",
    "                        4, 4, 3, 3, 4, 4, 2, 2, 3, 3, 2, 2, 3, 3, 3, 3, 4, 4, 3, 3, 4, 4])\n",
    "\n",
    "# \"\"\" process repeat regions \"\"\"\n",
    "# fGC_tGC = GC_fractions ** GC_tetramer\n",
    "# fAT_tAT = (1 - GC_fractions) ** (4 - GC_tetramer)\n",
    "# ekmer_counts = (np.tile((contig_length - 3)[:, None], (1,256)) * fAT_tAT * fGC_tGC)/16\n",
    "# repeat_index = np.nonzero((kmer_counts / ekmer_counts)>3)\n",
    "# setind_zero = np.vstack((np.repeat(repeat_index[0],4),\\\n",
    "#     np.repeat(repeat_index[1] // 4  * 4, 4) + np.tile([0, 1, 2, 3], np.shape(repeat_index[1]))))\n",
    "# kmer_counts[setind_zero[0],setind_zero[1]] = 0\n",
    "# del(ekmer_counts, GC_fractions, setind_zero, repeat_index)\n",
    "\n",
    "# scale_down_kmer = R_max / (R_max + kmer_counts.reshape(-1,64,4).sum(axis=2))\n",
    "# kmer_counts_scaled = np.multiply(kmer_counts, np.repeat(scale_down_kmer, 4, axis=1))\n",
    "\n",
    "# # \"\"\" apply condition on total kmer counts \"\"\"\n",
    "# # kmer_counts = kmer_counts[(np.nonzero(read_counts.sum(axis=1)>=abund_cutoff))]\n",
    "# # print(np.shape(kmer_counts))\n",
    "\n",
    "# trimercountsper_nt = kmer_counts_scaled.reshape(-1,64,4).sum(axis=0) # np.split(kmer_countsT.sum(axis=1), 64)\n",
    "# Rc_kmers = kmer_counts_scaled.reshape(-1,64,4).sum(axis=2) # np.array(trimer_submatrices).sum(axis=1) # kmer_counts.reshape(-1,64,4).sum(axis=2)\n",
    "\n",
    "# ss = time.time()\n",
    "# dirichlet_prior_kmers, dirichlet_prior_perkmers = optimize_prior_fortrimers(kmer_counts_scaled, Rc_kmers, trimercountsper_nt)\n",
    "# print('obtained alpha parameters for kmer counts in', time.time()-ss,'seconds')\n",
    "# del(trimercountsper_nt)\n",
    "# print(dirichlet_prior_kmers, dirichlet_prior_perkmers)\n",
    "# cluster_parameters = list([read_counts_scaled, Rc_reads, total_contigs, \\\n",
    "#                       dirichlet_prior, dirichlet_prior_persamples, kmer_counts_scaled, Rc_kmers, \\\n",
    "#                       dirichlet_prior_kmers, dirichlet_prior_perkmers.flatten(), \\\n",
    "#                       d0, d1, min_shared_contigs, working_dir, read_counts, kmer_counts])   \n",
    "# clusters, numclust_incomponents = cluster_by_connecting_centroids(cluster_parameters)\n",
    "# del(kmer_counts, cluster_parameters)\n",
    "\n",
    "# clusters, numclust_incomponents = cluster_by_connecting_centroids(cluster_parameters)\n",
    "# # # bins_ = nmf_connected_components(read_counts, contig_length, clusters, numclust_incomponents, dirichlet_prior_persamples, dirichlet_prior)\n",
    "# # # print(bins_)\n",
    "# # # np.savetxt(working_dir+\"bin_assignments\", np.stack((contig_names[bins_[0]], bins_[1])).T, fmt='%s,%d')\n",
    "# # # # subprocess.run([\"/big/work/metadevol/scripts/get_sequence_bybin \" + str(tmp_dir) + \"  bin_assignments\" + \" \" +str(args.contigs) + \" \" + str(args.output) + \" \" + str(args.outdir)], shell=True)\n",
    "# # # print('metagenome binning is completed in', time.time()-s,'seconds')\n",
    "# # # gc.collect()"
   ]
  },
  {
   "cell_type": "code",
   "execution_count": 5,
   "metadata": {},
   "outputs": [
    {
     "data": {
      "text/plain": [
       "array([12.,  8., 11., 13., 22.,  7.,  7., 27., 21., 22.], dtype=float32)"
      ]
     },
     "execution_count": 5,
     "metadata": {},
     "output_type": "execute_result"
    }
   ],
   "source": [
    "read_counts[0]"
   ]
  },
  {
   "cell_type": "code",
   "execution_count": 7,
   "metadata": {},
   "outputs": [
    {
     "ename": "NameError",
     "evalue": "name 'members' is not defined",
     "output_type": "error",
     "traceback": [
      "\u001b[0;31m---------------------------------------------------------------------------\u001b[0m",
      "\u001b[0;31mNameError\u001b[0m                                 Traceback (most recent call last)",
      "Input \u001b[0;32mIn [7]\u001b[0m, in \u001b[0;36m<cell line: 1>\u001b[0;34m()\u001b[0m\n\u001b[0;32m----> 1\u001b[0m np\u001b[38;5;241m.\u001b[39marray(\u001b[43mmembers\u001b[49m[\u001b[38;5;241m0\u001b[39m]\u001b[38;5;241m>\u001b[39m\u001b[38;5;241m2000\u001b[39m)\u001b[38;5;241m.\u001b[39mastype(\u001b[38;5;28mint\u001b[39m)\n",
      "\u001b[0;31mNameError\u001b[0m: name 'members' is not defined"
     ]
    }
   ],
   "source": [
    "numclus"
   ]
  },
  {
   "cell_type": "code",
   "execution_count": 58,
   "metadata": {},
   "outputs": [
    {
     "data": {
      "text/plain": [
       "381"
      ]
     },
     "execution_count": 58,
     "metadata": {},
     "output_type": "execute_result"
    }
   ],
   "source": [
    "np.sum(cluster_centroids_read, axis=1, keepdims=True).shape[0]"
   ]
  },
  {
   "cell_type": "code",
   "execution_count": 104,
   "metadata": {},
   "outputs": [
    {
     "data": {
      "text/plain": [
       "range(0, 11)"
      ]
     },
     "execution_count": 104,
     "metadata": {},
     "output_type": "execute_result"
    }
   ],
   "source": []
  },
  {
   "cell_type": "code",
   "execution_count": 21,
   "metadata": {},
   "outputs": [],
   "source": [
    "np.savetxt(\"/big/work/metadevol/cami2_datasets/marine/bowtie_bamfiles/tmp/lengt2000_indices\",np.nonzero(contig_length>2000)[0], fmt='%d')"
   ]
  },
  {
   "cell_type": "code",
   "execution_count": 43,
   "metadata": {},
   "outputs": [],
   "source": [
    "# Rc_reads = np.sum(read_counts, axis=1, keepdims=True)\n",
    "\n",
    "# R_max = 1e4\n",
    "# scale_downr = np.minimum(1, R_max/Rc_reads)\n",
    "# scale_downr\n",
    "\n",
    "fractional_counts = pd.read_csv(working_dir + \"total_count\", header=None,sep=' ', engine=\"pyarrow\")\n",
    "read_counts = fractional_counts.pivot_table(index = 1, columns = 0, values = 2)\n",
    "# read_counts = pd.read_pickle(working_dir + 'X_pickle')\n",
    "del(fractional_counts)\n",
    "\n",
    "\n",
    "read_counts = read_counts.to_numpy(dtype=np.float32).T\n",
    "Rc_reads = np.sum(read_counts, axis=1, keepdims=True)\n"
   ]
  },
  {
   "cell_type": "code",
   "execution_count": 35,
   "metadata": {},
   "outputs": [
    {
     "data": {
      "text/plain": [
       "440804.0"
      ]
     },
     "execution_count": 35,
     "metadata": {},
     "output_type": "execute_result"
    }
   ],
   "source": [
    "R_max = 1e4\n",
    "scale_downr = np.minimum(1, R_max/Rc_reads)\n",
    "read_counts = np.multiply(read_counts, scale_downr)\n",
    "np.max(read_counts.sum(axis=1))"
   ]
  },
  {
   "cell_type": "code",
   "execution_count": 46,
   "metadata": {},
   "outputs": [
    {
     "data": {
      "text/plain": [
       "9778.174"
      ]
     },
     "execution_count": 46,
     "metadata": {},
     "output_type": "execute_result"
    }
   ],
   "source": [
    "R_max = 1e4\n",
    "# scale_downr = np.minimum(1, R_max/Rc_reads)\n",
    "# read_counts = np.multiply(read_counts, scale_downr)\n",
    "# np.max(read_counts.sum(axis=1))\n",
    "\n",
    "np.max(np.multiply(read_counts,R_max/(R_max+Rc_reads)).sum(axis=1))"
   ]
  },
  {
   "cell_type": "code",
   "execution_count": 6,
   "metadata": {},
   "outputs": [
    {
     "data": {
      "text/plain": [
       "array([     0,      3,     10, ..., 702012, 702016, 702024])"
      ]
     },
     "execution_count": 6,
     "metadata": {},
     "output_type": "execute_result"
    }
   ],
   "source": [
    "import pandas as pd\n",
    "sel_inds = pd.read_csv('/big/work/metadevol/cami2_datasets/marine/bowtie_bamfiles/tmp/cluster97_allspselindex', header=None).to_numpy(dtype=int)\n",
    "\n",
    "sel_inds.ravel()"
   ]
  },
  {
   "cell_type": "code",
   "execution_count": 59,
   "metadata": {},
   "outputs": [],
   "source": [
    "# trimercountsper_nt = kmer_counts.reshape(-1,64,4).sum(axis=0) # np.split(kmer_countsT.sum(axis=1), 64)\n",
    "kmer_counts = pd.read_csv(working_dir + \"kmer_counts\", header=None, engine=\"pyarrow\")\n",
    "kmer_counts = kmer_counts.to_numpy(np.float32)\n",
    "kmer_counts = kmer_counts.reshape(total_contigs, 256) # convert 1D array to a 2D array with {total_contigs, all 4-mers} shape  \n",
    "kmer_counts = (kmer_counts / 2)\n",
    "\n",
    "GC_fractions = pd.read_csv(working_dir + \"GC_fractionof_contigs\", header=None)\n",
    "GC_fractions = GC_fractions.to_numpy()\n",
    "\n",
    "# GC_fractions = GC_fractions[longer_contig_inds]\n",
    "\n",
    "# GC_fractions = np.delete(GC_fractions, sel_index, axis=0)\n",
    "# print(np.shape(GC_fractions))\n",
    "GC_tetramer = np.array([0, 0, 1, 1, 0, 0, 1, 1, 1, 1, 2, 2, 1, 1, 2, 2, 0, 0, 1, 1, 0, 0, 1, 1, 1, 1,\n",
    "                        2, 2, 1, 1, 2, 2, 1, 1, 2, 2, 1, 1, 2, 2, 2, 2, 3, 3, 2, 2, 3, 3, 1, 1, 2, 2,\n",
    "                        1, 1, 2, 2, 2, 2, 3, 3, 2, 2, 3, 3, 0, 0, 1, 1, 0, 0, 1, 1, 1, 1, 2, 2, 1, 1,\n",
    "                        2, 2, 0, 0, 1, 1, 0, 0, 1, 1, 1, 1, 2, 2, 1, 1, 2, 2, 1, 1, 2, 2, 1, 1, 2, 2,\n",
    "                        2, 2, 3, 3, 2, 2, 3, 3, 1, 1, 2, 2, 1, 1, 2, 2, 2, 2, 3, 3, 2, 2, 3, 3, 1, 1,\n",
    "                        2, 2, 1, 1, 2, 2, 2, 2, 3, 3, 2, 2, 3, 3, 1, 1, 2, 2, 1, 1, 2, 2, 2, 2, 3, 3,\n",
    "                        2, 2, 3, 3, 2, 2, 3, 3, 2, 2, 3, 3, 3, 3, 4, 4, 3, 3, 4, 4, 2, 2, 3, 3, 2, 2,\n",
    "                        3, 3, 3, 3, 4, 4, 3, 3, 4, 4, 1, 1, 2, 2, 1, 1, 2, 2, 2, 2, 3, 3, 2, 2, 3, 3,\n",
    "                        1, 1, 2, 2, 1, 1, 2, 2, 2, 2, 3, 3, 2, 2, 3, 3, 2, 2, 3, 3, 2, 2, 3, 3, 3, 3,\n",
    "                        4, 4, 3, 3, 4, 4, 2, 2, 3, 3, 2, 2, 3, 3, 3, 3, 4, 4, 3, 3, 4, 4])\n",
    "\n",
    "\"\"\" process repeat regions \"\"\"\n",
    "fGC_tGC = GC_fractions ** GC_tetramer\n",
    "fAT_tAT = (1 - GC_fractions) ** (4 - GC_tetramer)\n",
    "ekmer_counts = (np.tile((contig_length - 3)[:, None], (1,256)) * fAT_tAT * fGC_tGC)/16\n",
    "repeat_index = np.nonzero((kmer_counts / ekmer_counts)>3)\n",
    "setind_zero = np.vstack((np.repeat(repeat_index[0],4),\\\n",
    "    np.repeat(repeat_index[1] // 4  * 4, 4) + np.tile([0, 1, 2, 3], np.shape(repeat_index[1]))))\n",
    "kmer_counts[setind_zero[0],setind_zero[1]] = 0\n",
    "del(ekmer_counts, GC_fractions, setind_zero, repeat_index)\n",
    "    \n",
    "# trimercountsper_nt = kmer_counts.reshape(-1,64,4)\n",
    "# kmer_counts1 = np.multiply(kmer_counts,(R_max/(R_max + trimercountsper_nt)).reshape(total_contigs,256))\n",
    "    "
   ]
  },
  {
   "cell_type": "code",
   "execution_count": 88,
   "metadata": {},
   "outputs": [
    {
     "data": {
      "text/plain": [
       "array([[0.9999    , 1.        , 0.9991507 , ..., 0.99512386, 0.9891197 ,\n",
       "        0.9928022 ],\n",
       "       [0.9977053 , 0.99850225, 0.98512465, ..., 0.9479122 , 0.8610669 ,\n",
       "        0.8996446 ],\n",
       "       [0.98848414, 0.9891197 , 0.994629  , ..., 0.9972078 , 0.9999    ,\n",
       "        0.9994503 ],\n",
       "       ...,\n",
       "       [0.9944312 , 0.9954706 , 0.96950895, ..., 0.9480021 , 0.9428181 ,\n",
       "        0.9468352 ],\n",
       "       [1.        , 0.9999    , 0.9996002 , ..., 0.9963633 , 0.98823994,\n",
       "        0.99314725],\n",
       "       [0.99725753, 0.9978048 , 0.99472797, ..., 0.9927529 , 0.985853  ,\n",
       "        0.9942829 ]], dtype=float32)"
      ]
     },
     "execution_count": 88,
     "metadata": {},
     "output_type": "execute_result"
    }
   ],
   "source": [
    "# kmer_counts1 = np.multiply(kmer_counts,(R_max/(R_max + trimercountsper_nt)).reshape(total_contigs,256))\n",
    "\n",
    "scale_down_kmer"
   ]
  },
  {
   "cell_type": "code",
   "execution_count": 89,
   "metadata": {},
   "outputs": [
    {
     "data": {
      "text/plain": [
       "(45760, 256)"
      ]
     },
     "execution_count": 89,
     "metadata": {},
     "output_type": "execute_result"
    }
   ],
   "source": [
    "np.shape(np.repeat(scale_down_kmer, 4, axis=1))\n",
    "\n"
   ]
  },
  {
   "cell_type": "code",
   "execution_count": 91,
   "metadata": {},
   "outputs": [
    {
     "data": {
      "text/plain": [
       "array([[  0.        ,   0.        ,   0.49995   , ...,  15.388434  ,\n",
       "         29.287664  ,  15.388434  ],\n",
       "       [  2.993116  ,   2.4942632 ,   6.4850845 , ..., 141.2442    ,\n",
       "        436.77747   , 290.5852    ],\n",
       "       [ 41.02209   ,  41.02209   ,  20.263926  , ...,   4.4975266 ,\n",
       "          0.49972516,   0.        ],\n",
       "       ...,\n",
       "       [  8.949881  ,   7.458234  ,  28.34129   , ..., 132.08351   ,\n",
       "        142.97212   , 136.34427   ],\n",
       "       [  0.        ,   0.        ,   0.        , ...,   8.4417515 ,\n",
       "         31.284138  ,  20.856092  ],\n",
       "       [  6.9808025 ,   4.487659  ,   9.972575  , ...,  13.919961  ,\n",
       "         18.394234  ,  13.919961  ]], dtype=float32)"
      ]
     },
     "execution_count": 91,
     "metadata": {},
     "output_type": "execute_result"
    }
   ],
   "source": [
    "scale_down_kmer = R_max / (R_max + kmer_counts.reshape(-1,64,4).sum(axis=2))\n",
    "\n",
    "\n",
    "np.multiply(kmer_counts, np.repeat(scale_down_kmer, 4, axis=1))"
   ]
  },
  {
   "cell_type": "code",
   "execution_count": 5,
   "metadata": {},
   "outputs": [],
   "source": [
    "working_dir = '/big/work/metadevol/cami2_datasets/marine/bowtie_bamfiles/tmp/'\n",
    "fractional_counts = pd.read_csv(working_dir + \"total_count\", header=None,sep=' ', engine=\"pyarrow\")\n",
    "read_counts = fractional_counts.pivot_table(index = 1, columns = 0, values = 2)\n",
    "read_counts = pd.read_pickle(working_dir + 'X_pickle')\n",
    "read_counts = read_counts.to_numpy().T\n",
    "# del(fractional_counts)"
   ]
  },
  {
   "cell_type": "code",
   "execution_count": 25,
   "metadata": {},
   "outputs": [
    {
     "data": {
      "text/plain": [
       "array([1697.09, 1993.68, 1884.34, 1660.09, 4509.65, 2690.41, 2368.25,\n",
       "       3199.4 , 2411.  , 3382.64])"
      ]
     },
     "execution_count": 25,
     "metadata": {},
     "output_type": "execute_result"
    }
   ],
   "source": [
    "read_counts[273994]"
   ]
  },
  {
   "cell_type": "code",
   "execution_count": 24,
   "metadata": {},
   "outputs": [
    {
     "data": {
      "text/plain": [
       "Text(0.5, 0, 'sample')"
      ]
     },
     "execution_count": 24,
     "metadata": {},
     "output_type": "execute_result"
    },
    {
     "data": {
      "image/png": "[encoded data removed]",
      "text/plain": [
       "<Figure size 432x288 with 1 Axes>"
      ]
     },
     "metadata": {
      "needs_background": "light"
     },
     "output_type": "display_data"
    }
   ],
   "source": [
    "import matplotlib.pyplot as plt \n",
    "\n",
    "# cluster id 97\n",
    "plt.plot(np.log(read_counts[273994].T))\n",
    "# plt.plot(np.log(read_counts[624135].T))\n",
    "plt.plot(np.log(read_counts[649089].T))\n",
    "plt.plot(np.log(read_counts[26161].T))\n",
    "plt.plot(np.log(read_counts[143039].T))\n",
    "plt.plot(np.log(read_counts[476045].T))\n",
    "\n",
    "plt.ylabel('read counts')\n",
    "plt.xlabel('sample')"
   ]
  },
  {
   "cell_type": "code",
   "execution_count": 22,
   "metadata": {},
   "outputs": [
    {
     "data": {
      "text/plain": [
       "Text(0.5, 0, 'sample')"
      ]
     },
     "execution_count": 22,
     "metadata": {},
     "output_type": "execute_result"
    },
    {
     "data": {
      "image/png": "[encoded data removed]",
      "text/plain": [
       "<Figure size 432x288 with 1 Axes>"
      ]
     },
     "metadata": {
      "needs_background": "light"
     },
     "output_type": "display_data"
    }
   ],
   "source": [
    "plt.plot(np.log(read_counts[38727].T)) # long\n",
    "plt.plot(np.log(read_counts[245768].T)) # long\n",
    "plt.plot(np.log(read_counts[178668].T)) # short\n",
    "plt.plot(np.log(read_counts[570597].T)) # short\n",
    "plt.plot(np.log(read_counts[187166].T)) # short\n",
    "plt.ylabel('read counts')\n",
    "plt.xlabel('sample')"
   ]
  },
  {
   "cell_type": "code",
   "execution_count": 12,
   "metadata": {},
   "outputs": [
    {
     "data": {
      "text/plain": [
       "[<matplotlib.lines.Line2D at 0x7f7228d52730>]"
      ]
     },
     "execution_count": 12,
     "metadata": {},
     "output_type": "execute_result"
    },
    {
     "data": {
      "image/png": "[encoded data removed]",
      "text/plain": [
       "<Figure size 432x288 with 1 Axes>"
      ]
     },
     "metadata": {
      "needs_background": "light"
     },
     "output_type": "display_data"
    }
   ],
   "source": [
    "# Rc_reads = np.sum(read_counts, axis=1, keepdims=True)\n",
    "\n",
    "# R_max = 1e5\n",
    "# scale_down = np.minimum(1, R_max/Rc_reads)\n",
    "# read_counts1 = np.multiply(read_counts, scale_down)\n",
    "\n",
    "import matplotlib.pyplot as plt \n",
    "\n",
    "\n",
    "plt.plot(np.log(read_counts1[273994].T))\n",
    "plt.plot(np.log(read_counts1[649089].T))\n",
    "plt.plot(np.log(read_counts1[26161].T))\n",
    "plt.plot(np.log(read_counts1[143039].T))\n"
   ]
  },
  {
   "cell_type": "code",
   "execution_count": null,
   "metadata": {},
   "outputs": [],
   "source": []
  },
  {
   "cell_type": "code",
   "execution_count": 32,
   "metadata": {},
   "outputs": [
    {
     "data": {
      "text/plain": [
       "14.939452114571111"
      ]
     },
     "execution_count": 32,
     "metadata": {},
     "output_type": "execute_result"
    }
   ],
   "source": [
    "import optimize_parameters_scipy as ops\n",
    "\n",
    "ops.optimize_alpha(read_counts, Rc_reads, Rn_reads, n_size)"
   ]
  },
  {
   "cell_type": "code",
   "execution_count": 33,
   "metadata": {},
   "outputs": [
    {
     "data": {
      "text/plain": [
       "14.939223599037547"
      ]
     },
     "execution_count": 33,
     "metadata": {},
     "output_type": "execute_result"
    }
   ],
   "source": [
    "import optimize_parameters_try as opa\n",
    "\n",
    "opa.optimize_alpha(read_counts, Rc_reads, Rn_reads, n_size)"
   ]
  },
  {
   "cell_type": "code",
   "execution_count": 7,
   "metadata": {},
   "outputs": [
    {
     "name": "stdout",
     "output_type": "stream",
     "text": [
      "obtained alpha parameter for read counts 14.96382013577135 in 17.689022064208984 seconds\n"
     ]
    }
   ],
   "source": [
    "import optimize_parameters as opt\n",
    "ss = time.time()\n",
    "dirichlet_prior = opt.optimize_alpha(read_counts, Rc_reads, Rn_reads, n_size)\n",
    "print('obtained alpha parameter for read counts', dirichlet_prior, 'in' ,time.time()-ss,'seconds')\n",
    "ss = time.time()"
   ]
  },
  {
   "cell_type": "code",
   "execution_count": 29,
   "metadata": {},
   "outputs": [
    {
     "data": {
      "text/plain": [
       "(array([671683]),)"
      ]
     },
     "execution_count": 29,
     "metadata": {},
     "output_type": "execute_result"
    }
   ],
   "source": [
    "read_counts[355536]\n",
    "\n",
    "iterate_ind = np.argsort(Rc_reads)[::-1]\n",
    "\n",
    "np.nonzero(iterate_ind==355536)"
   ]
  },
  {
   "cell_type": "code",
   "execution_count": 75,
   "metadata": {},
   "outputs": [],
   "source": [
    "import optimize_parameters as opt\n",
    "\n",
    "opt.optimize_alpha(read_co)\n"
   ]
  },
  {
   "cell_type": "code",
   "execution_count": 42,
   "metadata": {},
   "outputs": [
    {
     "data": {
      "text/plain": [
       "array([5., 3., 8., 9., 5., 3., 8., 1., 4., 4.], dtype=float32)"
      ]
     },
     "execution_count": 42,
     "metadata": {},
     "output_type": "execute_result"
    }
   ],
   "source": [
    "# xx = pd.read_csv(working_dir + \"total_count\", header=None,sep=' ', engine=\"pyarrow\")\n",
    "\n",
    "# xx = xx.pivot_table(index = 1, columns = 0, values = 2).to_numpy()\n",
    "read_counts[278322]"
   ]
  },
  {
   "cell_type": "code",
   "execution_count": 6,
   "metadata": {},
   "outputs": [
    {
     "ename": "NameError",
     "evalue": "name 'read_counts' is not defined",
     "output_type": "error",
     "traceback": [
      "\u001b[0;31m---------------------------------------------------------------------------\u001b[0m",
      "\u001b[0;31mNameError\u001b[0m                                 Traceback (most recent call last)",
      "Input \u001b[0;32mIn [6]\u001b[0m, in \u001b[0;36m<cell line: 1>\u001b[0;34m()\u001b[0m\n\u001b[0;32m----> 1\u001b[0m opt\u001b[38;5;241m.\u001b[39moptimize_alpha(\u001b[43mread_counts\u001b[49m, Rc_reads, Rn_reads, n_size)\n",
      "\u001b[0;31mNameError\u001b[0m: name 'read_counts' is not defined"
     ]
    }
   ],
   "source": [
    "opt.optimize_alpha(read_counts, Rc_reads, Rn_reads, n_size)"
   ]
  },
  {
   "cell_type": "code",
   "execution_count": 3,
   "metadata": {},
   "outputs": [
    {
     "data": {
      "text/plain": [
       "array([4.5994925], dtype=float32)"
      ]
     },
     "execution_count": 3,
     "metadata": {},
     "output_type": "execute_result"
    }
   ],
   "source": [
    "import simdefynewavx2\n",
    "\n",
    "simdefynewavx2.init()\n",
    "\n",
    "\n",
    "\n",
    "simdefynewavx2.log_gamma_avx2([0.01])"
   ]
  },
  {
   "cell_type": "code",
   "execution_count": 19,
   "metadata": {},
   "outputs": [],
   "source": [
    "import cProfile"
   ]
  },
  {
   "cell_type": "code",
   "execution_count": 20,
   "metadata": {},
   "outputs": [
    {
     "name": "stdout",
     "output_type": "stream",
     "text": [
      "         1388 function calls in 11.197 seconds\n",
      "\n",
      "   Ordered by: standard name\n",
      "\n",
      "   ncalls  tottime  percall  cumtime  percall filename:lineno(function)\n",
      "        1    0.000    0.000   11.196   11.196 <string>:1(<module>)\n",
      "      259    0.000    0.000    1.160    0.004 _methods.py:46(_sum)\n",
      "        1    0.000    0.000   11.196   11.196 _minimize.py:738(minimize_scalar)\n",
      "        1    0.000    0.000    0.000    0.000 _optimize.py:122(__getattr__)\n",
      "        1    0.000    0.000    0.000    0.000 _optimize.py:147(_check_unknown_options)\n",
      "        1    0.000    0.000    0.000    0.000 _optimize.py:2216(__init__)\n",
      "        1    0.000    0.000    0.000    0.000 _optimize.py:2231(set_bracket)\n",
      "        1    0.000    0.000    1.260    1.260 _optimize.py:2234(get_bracket_info)\n",
      "        1    0.001    0.001   11.196   11.196 _optimize.py:2265(optimize)\n",
      "        1    0.000    0.000    0.000    0.000 _optimize.py:2382(get_result)\n",
      "        1    0.000    0.000   11.196   11.196 _optimize.py:2468(_minimize_scalar_brent)\n",
      "        1    0.000    0.000    1.260    1.260 _optimize.py:2697(bracket)\n",
      "      222    0.001    0.000    9.437    0.043 optimize_parameters.py:14(log_gamma)\n",
      "       74    0.192    0.003    4.860    0.066 optimize_parameters.py:17(factorial)\n",
      "       37    0.404    0.011   11.195    0.303 optimize_parameters.py:20(train_alpha)\n",
      "        1    0.000    0.000   11.196   11.196 optimize_parameters.py:30(optimize_alpha)\n",
      "       37    0.000    0.000   11.195    0.303 optimize_parameters.py:32(<lambda>)\n",
      "        1    0.000    0.000    0.000    0.000 {built-in method builtins.callable}\n",
      "        1    0.000    0.000   11.197   11.197 {built-in method builtins.exec}\n",
      "        2    0.000    0.000    0.000    0.000 {built-in method builtins.isinstance}\n",
      "      222    9.436    0.043    9.436    0.043 {built-in method simdefy.log_gamma}\n",
      "        1    0.000    0.000    0.000    0.000 {method 'disable' of '_lsprof.Profiler' objects}\n",
      "        1    0.000    0.000    0.000    0.000 {method 'get' of 'dict' objects}\n",
      "        1    0.000    0.000    0.000    0.000 {method 'lower' of 'str' objects}\n",
      "      259    1.160    0.004    1.160    0.004 {method 'reduce' of 'numpy.ufunc' objects}\n",
      "      259    0.001    0.000    1.161    0.004 {method 'sum' of 'numpy.ndarray' objects}\n",
      "\n",
      "\n"
     ]
    }
   ],
   "source": [
    "cProfile.run('opt.optimize_alpha(read_counts, Rc_reads, Rn_reads, n_size)')"
   ]
  },
  {
   "cell_type": "code",
   "execution_count": 18,
   "metadata": {},
   "outputs": [
    {
     "name": "stdout",
     "output_type": "stream",
     "text": [
      "CPU times: user 11.2 s, sys: 19.5 ms, total: 11.2 s\n",
      "Wall time: 11.2 s\n"
     ]
    }
   ],
   "source": [
    "%%time\n",
    "dirichlet_prior_withscipy = opt.optimize_alpha(read_counts, Rc_reads, Rn_reads, n_size)"
   ]
  },
  {
   "cell_type": "code",
   "execution_count": 17,
   "metadata": {},
   "outputs": [
    {
     "data": {
      "text/plain": [
       "15.092711473962485"
      ]
     },
     "execution_count": 17,
     "metadata": {},
     "output_type": "execute_result"
    }
   ],
   "source": [
    "dirichlet_prior"
   ]
  },
  {
   "cell_type": "code",
   "execution_count": 6,
   "metadata": {},
   "outputs": [
    {
     "name": "stdout",
     "output_type": "stream",
     "text": [
      "[3 4 5 6 7 8 9] [ 3  4  5  6  7  8  9 11]\n"
     ]
    }
   ],
   "source": [
    "import numpy as np\n",
    "a =np.nonzero(np.arange(10)>2)[0]\n",
    "np.append(a,11)\n",
    "print(a,np.append(a,11))"
   ]
  },
  {
   "cell_type": "code",
   "execution_count": null,
   "metadata": {},
   "outputs": [],
   "source": [
    "dirichlet_prior_kmers, dirichlet_prior_perkmers = optimize_prior_fortrimers(kmer_counts, Rc_kmers, trimercountsper_nt)\n",
    "del(trimercountsper_nt)\n",
    "\n",
    "print('obtained alpha parameters for kmer counts in', time.time()-ss,'seconds')\n",
    "\n",
    "\n",
    "cluster_parameters = list([read_counts, Rc_reads, total_contigs, \\\n",
    "                      dirichlet_prior, dirichlet_prior_persamples, kmer_counts, Rc_kmers, \\\n",
    "                      dirichlet_prior_kmers, dirichlet_prior_perkmers.flatten(), \\\n",
    "                      d0, d1, min_shared_contigs, working_dir])   \n",
    "clusters, numclust_incomponents = cluster_by_connecting_centroids(cluster_parameters)\n",
    "del(kmer_counts, cluster_parameters)"
   ]
  },
  {
   "cell_type": "code",
   "execution_count": 3,
   "metadata": {},
   "outputs": [
    {
     "data": {
      "text/plain": [
       "array([145.6571  ,  73.22666 ,  82.27207 , 104.46012 , 135.63947 ,\n",
       "        69.56336 , 251.12263 ,  52.140522, 110.49308 ,  95.04273 ,\n",
       "        69.80039 ,  62.40862 , 181.33626 ,  68.76905 ,  90.56365 ,\n",
       "        61.284504, 128.82642 ,  73.12167 , 174.10072 ,  82.03963 ,\n",
       "       138.64247 ,  61.71857 , 155.06363 ,  41.27875 ,  96.434   ,\n",
       "        63.532387,  78.38393 ,  48.605442, 113.4784  ,  48.7775  ,\n",
       "        90.396065,  62.100544,  62.496586,  28.414692,  55.545994,\n",
       "        44.665546,  55.071476,  32.70484 , 123.19544 ,  39.127872,\n",
       "        56.18912 ,  30.468845,  67.84379 ,  34.76264 ,  78.370186,\n",
       "        30.663105,  72.62164 ,  45.95644 ,  68.75636 ,  31.045946,\n",
       "        54.206104,  37.927464,  31.643473,  33.828785,  70.52265 ,\n",
       "        23.105036,  64.910225,  38.977283,  68.65239 ,  43.17795 ,\n",
       "        40.77599 ,  30.668858,  53.72648 ,  47.734745], dtype=float32)"
      ]
     },
     "execution_count": 3,
     "metadata": {},
     "output_type": "execute_result"
    }
   ],
   "source": [
    "dirichlet_prior_kmers"
   ]
  },
  {
   "cell_type": "code",
   "execution_count": null,
   "metadata": {},
   "outputs": [],
   "source": [
    "fractional_counts = pd.read_csv(working_dir + \"bamfiles/total_count\", header=None,sep=' ')\n",
    "read_counts_new = fractional_counts.pivot_table(index = 1, columns = 0, values = 2)\n",
    "read_counts_new = read_counts_new.to_numpy(dtype=np.float32).T"
   ]
  },
  {
   "cell_type": "code",
   "execution_count": null,
   "metadata": {},
   "outputs": [],
   "source": [
    "header_label = pd.read_csv(working_dir + 'contigs_header', header=None, sep=' ')\n",
    "gsa_label=pd.read_csv(working_dir + 'contigs_gsa_mapping.tsv', sep='\\t', header=None)\n",
    "data_label = header_label.merge(gsa_label, left_on=1, right_on=0)[[1,'2_x','1_y']]\n",
    "data_label.to_csv(working_dir + 'contigs_labeldata', header=None, sep=' ')\n",
    "selected_contigs = pd.read_csv(working_dir + 'selected_contigs',sep=' ', header=None)\n",
    "selected_contigs_label = selected_contigs.merge(data_label, left_on=1, right_on=1)\n",
    "selected_contigs_label.to_csv(working_dir + 'selected_contigs_label', sep=' ', header=None)"
   ]
  },
  {
   "cell_type": "code",
   "execution_count": 51,
   "metadata": {},
   "outputs": [
    {
     "data": {
      "text/html": [
       "<div>\n",
       "<style scoped>\n",
       "    .dataframe tbody tr th:only-of-type {\n",
       "        vertical-align: middle;\n",
       "    }\n",
       "\n",
       "    .dataframe tbody tr th {\n",
       "        vertical-align: top;\n",
       "    }\n",
       "\n",
       "    .dataframe thead th {\n",
       "        text-align: right;\n",
       "    }\n",
       "</style>\n",
       "<table border=\"1\" class=\"dataframe\">\n",
       "  <thead>\n",
       "    <tr style=\"text-align: right;\">\n",
       "      <th></th>\n",
       "      <th>key_0</th>\n",
       "      <th>0_x</th>\n",
       "      <th>1</th>\n",
       "      <th>2</th>\n",
       "      <th>3</th>\n",
       "      <th>4</th>\n",
       "      <th>5</th>\n",
       "      <th>0_y</th>\n",
       "      <th>index</th>\n",
       "    </tr>\n",
       "  </thead>\n",
       "  <tbody>\n",
       "    <tr>\n",
       "      <th>0</th>\n",
       "      <td>0</td>\n",
       "      <td>0</td>\n",
       "      <td>12</td>\n",
       "      <td>S0C12</td>\n",
       "      <td>0</td>\n",
       "      <td>1620</td>\n",
       "      <td>Otu79.1</td>\n",
       "      <td>53</td>\n",
       "      <td>0</td>\n",
       "    </tr>\n",
       "    <tr>\n",
       "      <th>1</th>\n",
       "      <td>1</td>\n",
       "      <td>1</td>\n",
       "      <td>21</td>\n",
       "      <td>S0C21</td>\n",
       "      <td>1</td>\n",
       "      <td>4657</td>\n",
       "      <td>Otu846.0</td>\n",
       "      <td>577</td>\n",
       "      <td>1</td>\n",
       "    </tr>\n",
       "    <tr>\n",
       "      <th>2</th>\n",
       "      <td>2</td>\n",
       "      <td>2</td>\n",
       "      <td>46</td>\n",
       "      <td>S0C46</td>\n",
       "      <td>2</td>\n",
       "      <td>2281</td>\n",
       "      <td>Otu613</td>\n",
       "      <td>944</td>\n",
       "      <td>2</td>\n",
       "    </tr>\n",
       "    <tr>\n",
       "      <th>3</th>\n",
       "      <td>3</td>\n",
       "      <td>3</td>\n",
       "      <td>50</td>\n",
       "      <td>S0C50</td>\n",
       "      <td>3</td>\n",
       "      <td>1761</td>\n",
       "      <td>Otu152</td>\n",
       "      <td>283</td>\n",
       "      <td>3</td>\n",
       "    </tr>\n",
       "    <tr>\n",
       "      <th>4</th>\n",
       "      <td>4</td>\n",
       "      <td>4</td>\n",
       "      <td>120</td>\n",
       "      <td>S0C120</td>\n",
       "      <td>4</td>\n",
       "      <td>1868</td>\n",
       "      <td>RNODE_166_length_2298_cov_14.88049</td>\n",
       "      <td>609</td>\n",
       "      <td>4</td>\n",
       "    </tr>\n",
       "    <tr>\n",
       "      <th>...</th>\n",
       "      <td>...</td>\n",
       "      <td>...</td>\n",
       "      <td>...</td>\n",
       "      <td>...</td>\n",
       "      <td>...</td>\n",
       "      <td>...</td>\n",
       "      <td>...</td>\n",
       "      <td>...</td>\n",
       "      <td>...</td>\n",
       "    </tr>\n",
       "    <tr>\n",
       "      <th>702025</th>\n",
       "      <td>702025</td>\n",
       "      <td>702025</td>\n",
       "      <td>18057348</td>\n",
       "      <td>S9C1587578</td>\n",
       "      <td>702025</td>\n",
       "      <td>2572</td>\n",
       "      <td>Otu128</td>\n",
       "      <td>54</td>\n",
       "      <td>702025</td>\n",
       "    </tr>\n",
       "    <tr>\n",
       "      <th>702026</th>\n",
       "      <td>702026</td>\n",
       "      <td>702026</td>\n",
       "      <td>18057386</td>\n",
       "      <td>S9C1587616</td>\n",
       "      <td>702026</td>\n",
       "      <td>1596</td>\n",
       "      <td>Otu370.1</td>\n",
       "      <td>235</td>\n",
       "      <td>702026</td>\n",
       "    </tr>\n",
       "    <tr>\n",
       "      <th>702027</th>\n",
       "      <td>702027</td>\n",
       "      <td>702027</td>\n",
       "      <td>18057387</td>\n",
       "      <td>S9C1587617</td>\n",
       "      <td>702027</td>\n",
       "      <td>1656</td>\n",
       "      <td>Otu214.0</td>\n",
       "      <td>82</td>\n",
       "      <td>702027</td>\n",
       "    </tr>\n",
       "    <tr>\n",
       "      <th>702028</th>\n",
       "      <td>702028</td>\n",
       "      <td>702028</td>\n",
       "      <td>18057393</td>\n",
       "      <td>S9C1587623</td>\n",
       "      <td>702028</td>\n",
       "      <td>1564</td>\n",
       "      <td>Otu1337</td>\n",
       "      <td>26</td>\n",
       "      <td>702028</td>\n",
       "    </tr>\n",
       "    <tr>\n",
       "      <th>702029</th>\n",
       "      <td>702029</td>\n",
       "      <td>702029</td>\n",
       "      <td>18057415</td>\n",
       "      <td>S9C1587645</td>\n",
       "      <td>702029</td>\n",
       "      <td>2044</td>\n",
       "      <td>Otu1113</td>\n",
       "      <td>88</td>\n",
       "      <td>702029</td>\n",
       "    </tr>\n",
       "  </tbody>\n",
       "</table>\n",
       "<p>702030 rows × 9 columns</p>\n",
       "</div>"
      ],
      "text/plain": [
       "         key_0     0_x         1           2       3     4  \\\n",
       "0            0       0        12       S0C12       0  1620   \n",
       "1            1       1        21       S0C21       1  4657   \n",
       "2            2       2        46       S0C46       2  2281   \n",
       "3            3       3        50       S0C50       3  1761   \n",
       "4            4       4       120      S0C120       4  1868   \n",
       "...        ...     ...       ...         ...     ...   ...   \n",
       "702025  702025  702025  18057348  S9C1587578  702025  2572   \n",
       "702026  702026  702026  18057386  S9C1587616  702026  1596   \n",
       "702027  702027  702027  18057387  S9C1587617  702027  1656   \n",
       "702028  702028  702028  18057393  S9C1587623  702028  1564   \n",
       "702029  702029  702029  18057415  S9C1587645  702029  2044   \n",
       "\n",
       "                                         5  0_y   index  \n",
       "0                                  Otu79.1   53       0  \n",
       "1                                 Otu846.0  577       1  \n",
       "2                                   Otu613  944       2  \n",
       "3                                   Otu152  283       3  \n",
       "4       RNODE_166_length_2298_cov_14.88049  609       4  \n",
       "...                                    ...  ...     ...  \n",
       "702025                              Otu128   54  702025  \n",
       "702026                            Otu370.1  235  702026  \n",
       "702027                            Otu214.0   82  702027  \n",
       "702028                             Otu1337   26  702028  \n",
       "702029                             Otu1113   88  702029  \n",
       "\n",
       "[702030 rows x 9 columns]"
      ]
     },
     "execution_count": 51,
     "metadata": {},
     "output_type": "execute_result"
    }
   ],
   "source": [
    "import pandas as pd\n",
    "# input_dir = '/big/work/metadevol/cami2_datasets/marine/'\n",
    "# working_dir = input_dir\n",
    "selected_contigs_label = pd.read_csv(working_dir + 'selected_contigs_label', header=None, sep=' ')\n",
    "# # fivesp_index = np.loadtxt(working_dir + '5sp_index',dtype=int)\n",
    "# selected_contigs_label\n",
    "clusters = pd.read_csv(working_dir + 'bowtie_bamfiles/tmp/cluster_assigned', header=None)\n",
    "clusters['index'] = clusters.index\n",
    "selected_contigs_label_withcluster = selected_contigs_label.merge(clusters, left_on=0, right_on='index')\n",
    "\n",
    "selected_contigs_label_withcluster.to_csv(working_dir + 'bowtie_bamfiles/tmp/clusters_withgids', header=None)\n",
    "          \n",
    "selected_contigs_label_withcluster"
   ]
  },
  {
   "cell_type": "code",
   "execution_count": null,
   "metadata": {},
   "outputs": [],
   "source": [
    "g79_1 = selected_contigs_label[selected_contigs_label[5]=='Otu79.1'][0].to_numpy()\n",
    "g846_0 = selected_contigs_label[selected_contigs_label[5]=='Otu846.0'][0].to_numpy()\n",
    "g613_0 = selected_contigs_label[selected_contigs_label[5]=='Otu613'][0].to_numpy()\n",
    "g152_0 = selected_contigs_label[selected_contigs_label[5]=='Otu152'][0].to_numpy()\n",
    "plasmid = selected_contigs_label[selected_contigs_label[5]=='RNODE_166_length_2298_cov_14.88049'][0].to_numpy()\n",
    "# np.savetxt(working_dir+ '5sp_index',np.sort(np.concatenate((g79_1,g846_0,g613_0,g152_0,plasmid))),fmt='%d')\n",
    "# ind = np.random.choice(g79_1,20)\n",
    "# read_counts_g79_1 = read_counts[ind]\n",
    "# read_counts_g79_1_new = read_counts_new[ind]\n",
    "\n",
    "# fractional_counts = pd.read_csv(working_dir + \"bamfiles/total_count\", header=None,sep=' ')\n",
    "# read_counts_source = fractional_counts.pivot_table(index = 1, columns = 0, values = 2)\n",
    "# read_counts_source = read_counts_source.to_numpy().T\n",
    "# read_counts_g846_0 = read_counts_new[np.random.choice(g846_0,20)]\n",
    "\n",
    "\n",
    "import matplotlib.pyplot as plt\n",
    "\n",
    "plt.plot(read_counts[np.random.choice(g79_1,20)].T, 'r-')\n",
    "# plt.plot(read_counts[np.random.choice(g152_0,20)].T, 'g-')"
   ]
  },
  {
   "cell_type": "code",
   "execution_count": null,
   "metadata": {},
   "outputs": [],
   "source": [
    "# import numpy as np\n",
    "# kmer_counts = pd.read_csv(working_dir + \"kmer_counts\", header=None)\n",
    "# kmer_counts = kmer_counts.to_numpy(dtype=np.float32)\n",
    "# kmer_counts = kmer_counts.reshape(702030, 256) # convert 1D array to a 2D array with {total_contigs, all 4-mers} shape  \n",
    "# kmer_counts = (kmer_counts / 2)\n",
    "\n",
    "\n",
    "import matplotlib.pyplot as plt\n",
    "# \n",
    "# plt.plot(kmer_counts[np.random.choice(plasmid,5)].T, 'r-')\n",
    "# plt.plot(kmer_counts[np.random.choice(g152_0,5)].T, 'g-')\n"
   ]
  },
  {
   "cell_type": "code",
   "execution_count": null,
   "metadata": {},
   "outputs": [],
   "source": [
    "total_contigs, n_size = np.shape(read_counts_sel)\n",
    "Rc_reads = read_counts_sel.sum(axis=1)\n",
    "Rn_reads = read_counts_sel.sum(axis=0)\n",
    "\n",
    "\n",
    "ss = time.time()\n",
    "dirichlet_prior = opt.optimize_alpha(read_counts_sel, Rc_reads, Rn_reads, n_size)\n",
    "print('obtained alpha parameter for read counts', dirichlet_prior, 'in' ,time.time()-ss,'seconds')\n",
    "ss = time.time()\n",
    "dirichlet_prior_persamples  = dirichlet_prior * Rn_reads / Rn_reads.sum()"
   ]
  },
  {
   "cell_type": "code",
   "execution_count": 9,
   "metadata": {},
   "outputs": [
    {
     "data": {
      "text/plain": [
       "array([1.4979362, 1.3546163, 1.4891969, 1.4398972, 1.614836 , 1.5356987,\n",
       "       1.4745555, 1.5946519, 1.5023029, 1.5452569], dtype=float32)"
      ]
     },
     "execution_count": 9,
     "metadata": {},
     "output_type": "execute_result"
    }
   ],
   "source": [
    "dirichlet_prior_persamples"
   ]
  },
  {
   "cell_type": "code",
   "execution_count": 41,
   "metadata": {},
   "outputs": [
    {
     "name": "stdout",
     "output_type": "stream",
     "text": [
      "The autoreload extension is already loaded. To reload it, use:\n",
      "  %reload_ext autoreload\n"
     ]
    },
    {
     "data": {
      "text/plain": [
       "1.709112"
      ]
     },
     "execution_count": 41,
     "metadata": {},
     "output_type": "execute_result"
    }
   ],
   "source": [
    "%load_ext autoreload\n",
    "%autoreload 2\n",
    "import metadevol_distance as md\n",
    "\n",
    "import distance_calculations as dd\n",
    "\n",
    "import distance_calculations_source as ds\n",
    "\n",
    "# ind = 379714\n",
    "# dist_read = md.compute_readcountdist(ind, read_counts, Rc_reads, dirichlet_prior, dirichlet_prior_persamples)\n",
    "# dist_kmer = md.compute_kmercountdist(ind, kmer_counts, Rc_kmers, dirichlet_prior_kmers, dirichlet_prior_perkmers)\n",
    "\n",
    "# print(dist_read[ind], np.min(dist_read), np.argmin(dist_read))\n",
    "# print(dist_kmer[ind], np.min(dist_kmer),np.argmin(dist_kmer))\n",
    "\n",
    "# ind = 335660 # 674412\n",
    "# md.compute_dist(ind, read_counts, kmer_counts, Rc_reads, Rc_kmers, dirichlet_prior, dirichlet_prior_persamples, dirichlet_prior_kmers, dirichlet_prior_perkmers)[ind]\n",
    "\n",
    "\n",
    "ind = 355536\n",
    "md.compute_readcountdist(ind, read_counts, Rc_reads, dirichlet_prior, dirichlet_prior_persamples)[ind]\n"
   ]
  },
  {
   "cell_type": "code",
   "execution_count": 21,
   "metadata": {},
   "outputs": [
    {
     "name": "stdout",
     "output_type": "stream",
     "text": [
      "The autoreload extension is already loaded. To reload it, use:\n",
      "  %reload_ext autoreload\n",
      "R term 108.33612 -108.33614\n",
      "xn_alpha term -89.58084392547607 -1.1513021364808083\n"
     ]
    },
    {
     "data": {
      "text/plain": [
       "23.888084987786648"
      ]
     },
     "execution_count": 21,
     "metadata": {},
     "output_type": "execute_result"
    }
   ],
   "source": [
    "%load_ext autoreload\n",
    "%autoreload 2\n",
    "import distance_calculations as dd\n",
    "dd.distance(read_counts[0], read_counts[2], Rc_reads[0], Rc_reads[2], dirichlet_prior_persamples, dirichlet_prior, 0)\n",
    "# dd.distance(read_counts[674412], read_counts[674412], Rc_reads[674412], Rc_reads[674412], dirichlet_prior_persamples, dirichlet_prior, 0)\n",
    "# dd.distance(read_counts[335660], read_counts[335660], Rc_reads[335660], Rc_reads[335660], dirichlet_prior_persamples, dirichlet_prior, 0)\n",
    "# xn term from own code -7935046.0 vs -7935084.5 (from scipy)\n",
    "# Rn term from own code without gammaln(dirichlet) -7935088.0 vs -7935002.405288696 (from scipy)\n"
   ]
  },
  {
   "cell_type": "code",
   "execution_count": 5,
   "metadata": {},
   "outputs": [
    {
     "data": {
      "text/plain": [
       "array([2871.8372, 2871.8372], dtype=float32)"
      ]
     },
     "execution_count": 5,
     "metadata": {},
     "output_type": "execute_result"
    }
   ],
   "source": [
    "import metadevol_distance\n",
    "\n",
    "metadevol_distance.read([0.001])"
   ]
  },
  {
   "cell_type": "code",
   "execution_count": 4,
   "metadata": {},
   "outputs": [
    {
     "name": "stdout",
     "output_type": "stream",
     "text": [
      "[2.8719863e+03 1.5118099e+08] [2.8718372e+03 1.5118102e+08] [6.90717889e+00 1.51180949e+08]\n"
     ]
    }
   ],
   "source": [
    "# plt.plot(read_counts[0].T)\n",
    "import simdefy\n",
    "from scipy import special\n",
    "simdefy.init()\n",
    "\n",
    "\n",
    "print(simdefy.log_gamma_avx2([0.001,1e7]), simdefy.log_gamma([0.001,1e7]), special.gammaln([0.001,1e7]))\n"
   ]
  },
  {
   "cell_type": "code",
   "execution_count": null,
   "metadata": {},
   "outputs": [],
   "source": [
    "import numpy as np\n",
    "import matplotlib.pyplot as plt"
   ]
  },
  {
   "cell_type": "code",
   "execution_count": null,
   "metadata": {},
   "outputs": [],
   "source": [
    "ref = 0.01\n",
    "_lx = np.linspace(-4.5, 19.5, dtype=np.float32)\n",
    "_x = np.exp(_lx)\n",
    "_y_gt = special.gammaln(_x)\n",
    "_y_li1 = simdefy.log_gamma(_x)\n",
    "_y_li2 = simdefy.log_gamma_avx2(_x)\n",
    "\n",
    "plt.plot(_lx, (_y_li1 - _y_gt) / np.abs(_y_gt))\n",
    "plt.plot(_lx, (_y_li2 - _y_gt) / np.abs(_y_gt))\n",
    "plt.show()\n",
    "plt.plot(_lx, (_y_li1 - _y_gt))\n",
    "plt.plot(_lx, (_y_li2 - _y_gt))"
   ]
  },
  {
   "cell_type": "code",
   "execution_count": null,
   "metadata": {},
   "outputs": [],
   "source": [
    "ref = 0.01\n",
    "_lx = np.linspace(-4.5, 19.5, dtype=np.float32)\n",
    "_x = np.exp(_lx)\n",
    "_y_gt = special.gammaln(_x)\n",
    "_y_li = simdefy.log_gamma(_x)\n",
    "\n",
    "plt.plot(_lx, (_y_li - _y_gt) / np.abs(_y_gt))\n",
    "plt.show()\n",
    "plt.plot(_lx, (_y_li - _y_gt))"
   ]
  },
  {
   "cell_type": "code",
   "execution_count": null,
   "metadata": {},
   "outputs": [],
   "source": [
    "print(dist_read[ind], np.min(dist_read), np.argmin(dist_read))"
   ]
  },
  {
   "cell_type": "code",
   "execution_count": 15,
   "metadata": {},
   "outputs": [
    {
     "ename": "NameError",
     "evalue": "name 'special' is not defined",
     "output_type": "error",
     "traceback": [
      "\u001b[0;31m---------------------------------------------------------------------------\u001b[0m",
      "\u001b[0;31mNameError\u001b[0m                                 Traceback (most recent call last)",
      "Input \u001b[0;32mIn [15]\u001b[0m, in \u001b[0;36m<cell line: 4>\u001b[0;34m()\u001b[0m\n\u001b[1;32m      2\u001b[0m _lx \u001b[38;5;241m=\u001b[39m np\u001b[38;5;241m.\u001b[39mlinspace(\u001b[38;5;241m-\u001b[39m\u001b[38;5;241m4.5\u001b[39m, \u001b[38;5;241m19.5\u001b[39m, dtype\u001b[38;5;241m=\u001b[39mnp\u001b[38;5;241m.\u001b[39mfloat32)\n\u001b[1;32m      3\u001b[0m _x \u001b[38;5;241m=\u001b[39m np\u001b[38;5;241m.\u001b[39mexp(_lx)\n\u001b[0;32m----> 4\u001b[0m _y_gt \u001b[38;5;241m=\u001b[39m \u001b[43mspecial\u001b[49m\u001b[38;5;241m.\u001b[39mgammaln(_x)\n\u001b[1;32m      5\u001b[0m _y_li \u001b[38;5;241m=\u001b[39m simdefy\u001b[38;5;241m.\u001b[39mlog_gamma(_x)\n\u001b[1;32m      7\u001b[0m plt\u001b[38;5;241m.\u001b[39mplot(_lx, (_y_li \u001b[38;5;241m-\u001b[39m _y_gt) \u001b[38;5;241m/\u001b[39m np\u001b[38;5;241m.\u001b[39mabs(_y_gt))\n",
      "\u001b[0;31mNameError\u001b[0m: name 'special' is not defined"
     ]
    }
   ],
   "source": [
    "ref = 0.01\n",
    "_lx = np.linspace(-4.5, 19.5, dtype=np.float32)\n",
    "_x = np.exp(_lx)\n",
    "_y_gt = special.gammaln(_x)\n",
    "_y_li = simdefy.log_gamma(_x)\n",
    "\n",
    "plt.plot(_lx, (_y_li - _y_gt) / np.abs(_y_gt))\n",
    "plt.show()\n",
    "plt.plot(_lx, (_y_li - _y_gt))"
   ]
  },
  {
   "cell_type": "code",
   "execution_count": 11,
   "metadata": {},
   "outputs": [
    {
     "name": "stdout",
     "output_type": "stream",
     "text": [
      "alpha [[1.4979362]\n",
      " [1.3546163]\n",
      " [1.4891969]\n",
      " [1.4398972]\n",
      " [1.614836 ]\n",
      " [1.5356987]\n",
      " [1.4745555]\n",
      " [1.5946519]\n",
      " [1.5023029]\n",
      " [1.5452569]] [[-0.12085555]\n",
      " [-0.11575536]\n",
      " [-0.12112172]\n",
      " [-0.1212562 ]\n",
      " [-0.11062764]\n",
      " [-0.11889013]\n",
      " [-0.1214058 ]\n",
      " [-0.11325358]\n",
      " [-0.12069573]\n",
      " [-0.11818606]] [[-0.12085555]\n",
      " [-0.11575536]\n",
      " [-0.12112172]\n",
      " [-0.1212562 ]\n",
      " [-0.11062764]\n",
      " [-0.11889013]\n",
      " [-0.1214058 ]\n",
      " [-0.11325358]\n",
      " [-0.12069573]\n",
      " [-0.11818606]]\n",
      "R + R_prime + alpha [[5724202.5 5724287.5 5724126.5 ... 5724161.5 5724269.5 5724377.5]\n",
      " [5724202.5 5724287.5 5724126.5 ... 5724161.5 5724269.5 5724377.5]\n",
      " [5724202.5 5724287.5 5724126.5 ... 5724161.5 5724269.5 5724377.5]\n",
      " ...\n",
      " [5724202.5 5724287.5 5724126.5 ... 5724161.5 5724269.5 5724377.5]\n",
      " [5724202.5 5724287.5 5724126.5 ... 5724161.5 5724269.5 5724377.5]\n",
      " [5724202.5 5724287.5 5724126.5 ... 5724161.5 5724269.5 5724377.5]] [[83345608. 83346928. 83344424. ... 83344968. 83346648. 83348328.]\n",
      " [83345608. 83346928. 83344424. ... 83344968. 83346648. 83348328.]\n",
      " [83345608. 83346928. 83344424. ... 83344968. 83346648. 83348328.]\n",
      " ...\n",
      " [83345608. 83346928. 83344424. ... 83344968. 83346648. 83348328.]\n",
      " [83345608. 83346928. 83344424. ... 83344968. 83346648. 83348328.]\n",
      " [83345608. 83346928. 83344424. ... 83344968. 83346648. 83348328.]] [[83345608. 83346928. 83344424. ... 83344968. 83346648. 83348328.]\n",
      " [83345608. 83346928. 83344424. ... 83344968. 83346648. 83348328.]\n",
      " [83345608. 83346928. 83344424. ... 83344968. 83346648. 83348328.]\n",
      " ...\n",
      " [83345608. 83346928. 83344424. ... 83344968. 83346648. 83348328.]\n",
      " [83345608. 83346928. 83344424. ... 83344968. 83346648. 83348328.]\n",
      " [83345608. 83346928. 83344424. ... 83344968. 83346648. 83348328.]]\n",
      "R + alpha [[83343272.]\n",
      " [83343272.]\n",
      " [83343272.]\n",
      " [83343272.]\n",
      " [83343272.]\n",
      " [83343272.]\n",
      " [83343272.]\n",
      " [83343272.]\n",
      " [83343272.]\n",
      " [83343272.]] [[83343272.]\n",
      " [83343272.]\n",
      " [83343272.]\n",
      " [83343272.]\n",
      " [83343272.]\n",
      " [83343272.]\n",
      " [83343272.]\n",
      " [83343272.]\n",
      " [83343272.]\n",
      " [83343272.]]\n",
      "x + an 8149.049 65234.902 65234.902\n",
      "x_prime + an [27.04895 23.04895 26.04895 28.04895 37.04895 22.04895 22.04895 42.04895\n",
      " 36.04895 37.04895] [ 61.422165  48.623646  58.16219   64.71982   95.89582   45.53038\n",
      "  45.53038  114.21661   92.31094   95.89582 ] [ 61.422165  48.623646  58.16219   64.71982   95.89582   45.53038\n",
      "  45.53038  114.21661   92.31094   95.89582 ]\n"
     ]
    },
    {
     "ename": "IndexError",
     "evalue": "invalid index to scalar variable.",
     "output_type": "error",
     "traceback": [
      "\u001b[0;31m---------------------------------------------------------------------------\u001b[0m",
      "\u001b[0;31mIndexError\u001b[0m                                Traceback (most recent call last)",
      "Input \u001b[0;32mIn [11]\u001b[0m, in \u001b[0;36m<cell line: 1>\u001b[0;34m()\u001b[0m\n\u001b[0;32m----> 1\u001b[0m \u001b[43mdd\u001b[49m\u001b[38;5;241;43m.\u001b[39;49m\u001b[43mdistance\u001b[49m\u001b[43m(\u001b[49m\u001b[43mread_counts\u001b[49m\u001b[43m[\u001b[49m\u001b[38;5;241;43m335660\u001b[39;49m\u001b[43m]\u001b[49m\u001b[43m,\u001b[49m\u001b[43mread_counts\u001b[49m\u001b[43m,\u001b[49m\u001b[43m \u001b[49m\u001b[43mRc_reads\u001b[49m\u001b[43m[\u001b[49m\u001b[38;5;241;43m335660\u001b[39;49m\u001b[43m]\u001b[49m\u001b[43m,\u001b[49m\u001b[43m \u001b[49m\u001b[43mRc_reads\u001b[49m\u001b[43m,\u001b[49m\u001b[43m \u001b[49m\u001b[43mdirichlet_prior\u001b[49m\u001b[43m,\u001b[49m\u001b[43m \u001b[49m\u001b[43mdirichlet_prior_persamples\u001b[49m\u001b[38;5;241;43m.\u001b[39;49m\u001b[43mreshape\u001b[49m\u001b[43m(\u001b[49m\u001b[38;5;241;43m10\u001b[39;49m\u001b[43m,\u001b[49m\u001b[38;5;241;43m1\u001b[39;49m\u001b[43m)\u001b[49m\u001b[43m,\u001b[49m\u001b[43m \u001b[49m\u001b[38;5;241;43m0\u001b[39;49m\u001b[43m)\u001b[49m\n",
      "File \u001b[0;32m/big/work/metadevol/scripts/distance_calculations.py:86\u001b[0m, in \u001b[0;36mdistance\u001b[0;34m(*argv)\u001b[0m\n\u001b[1;32m     84\u001b[0m     dist \u001b[38;5;241m=\u001b[39m np\u001b[38;5;241m.\u001b[39mlogaddexp(np\u001b[38;5;241m.\u001b[39mlog(\u001b[38;5;241m1\u001b[39m), pq \u001b[38;5;241m+\u001b[39m R_and_Xnterm\u001b[38;5;241m.\u001b[39msum(axis\u001b[38;5;241m=\u001b[39m\u001b[38;5;241m1\u001b[39m))\n\u001b[1;32m     85\u001b[0m \u001b[38;5;28;01melse\u001b[39;00m:\n\u001b[0;32m---> 86\u001b[0m     R_and_Xnterm \u001b[38;5;241m=\u001b[39m R_alpha(Rc, Rc_p, alpha) \u001b[38;5;241m+\u001b[39m \u001b[43mxn_alpha\u001b[49m\u001b[43m(\u001b[49m\u001b[43mxc\u001b[49m\u001b[43m,\u001b[49m\u001b[43m \u001b[49m\u001b[43mxc_p\u001b[49m\u001b[43m,\u001b[49m\u001b[43m \u001b[49m\u001b[43man\u001b[49m\u001b[43m,\u001b[49m\u001b[43m \u001b[49m\u001b[43mflag\u001b[49m\u001b[43m)\u001b[49m\n\u001b[1;32m     87\u001b[0m     dist \u001b[38;5;241m=\u001b[39m np\u001b[38;5;241m.\u001b[39mlogaddexp(np\u001b[38;5;241m.\u001b[39mlog(\u001b[38;5;241m1\u001b[39m), pq \u001b[38;5;241m+\u001b[39m R_and_Xnterm)\n\u001b[1;32m     88\u001b[0m     \u001b[38;5;66;03m# dist = np.logaddexp(np.log(1), pq + R_and_Xnterm + argv[7]) # without Bayes factor not used\u001b[39;00m\n",
      "File \u001b[0;32m/big/work/metadevol/scripts/distance_calculations.py:36\u001b[0m, in \u001b[0;36mxn_alpha\u001b[0;34m(x, x_prime, an, flag)\u001b[0m\n\u001b[1;32m     34\u001b[0m \u001b[38;5;28mprint\u001b[39m(\u001b[38;5;124m\"\u001b[39m\u001b[38;5;124mx + an\u001b[39m\u001b[38;5;124m\"\u001b[39m, (x \u001b[38;5;241m+\u001b[39m an)[\u001b[38;5;241m0\u001b[39m], log_gamma(x \u001b[38;5;241m+\u001b[39m an)[\u001b[38;5;241m0\u001b[39m], special\u001b[38;5;241m.\u001b[39mgammaln(x \u001b[38;5;241m+\u001b[39m an)[\u001b[38;5;241m0\u001b[39m])\n\u001b[1;32m     35\u001b[0m \u001b[38;5;28mprint\u001b[39m(\u001b[38;5;124m\"\u001b[39m\u001b[38;5;124mx_prime + an\u001b[39m\u001b[38;5;124m\"\u001b[39m, (x_prime \u001b[38;5;241m+\u001b[39m an)[\u001b[38;5;241m0\u001b[39m], log_gamma(x_prime \u001b[38;5;241m+\u001b[39m an)[\u001b[38;5;241m0\u001b[39m], special\u001b[38;5;241m.\u001b[39mgammaln(x_prime \u001b[38;5;241m+\u001b[39m an)[\u001b[38;5;241m0\u001b[39m])\n\u001b[0;32m---> 36\u001b[0m \u001b[38;5;28mprint\u001b[39m(\u001b[38;5;124m\"\u001b[39m\u001b[38;5;124man\u001b[39m\u001b[38;5;124m\"\u001b[39m, an, \u001b[43mlog_gamma\u001b[49m\u001b[43m(\u001b[49m\u001b[43man\u001b[49m\u001b[43m)\u001b[49m\u001b[43m[\u001b[49m\u001b[38;5;241;43m0\u001b[39;49m\u001b[43m]\u001b[49m, special\u001b[38;5;241m.\u001b[39mgammaln(an)[\u001b[38;5;241m0\u001b[39m])\n\u001b[1;32m     37\u001b[0m \u001b[38;5;28mprint\u001b[39m(\u001b[38;5;124m\"\u001b[39m\u001b[38;5;124mx + x_prime + an\u001b[39m\u001b[38;5;124m\"\u001b[39m, (x \u001b[38;5;241m+\u001b[39m x_prime \u001b[38;5;241m+\u001b[39m an)[\u001b[38;5;241m0\u001b[39m], log_gamma(x \u001b[38;5;241m+\u001b[39m x_prime \u001b[38;5;241m+\u001b[39m an)[\u001b[38;5;241m0\u001b[39m], special\u001b[38;5;241m.\u001b[39mgammaln(x \u001b[38;5;241m+\u001b[39m x_prime \u001b[38;5;241m+\u001b[39m an)[\u001b[38;5;241m0\u001b[39m])\n\u001b[1;32m     39\u001b[0m \u001b[38;5;28;01mreturn\u001b[39;00m xn_alpha\n",
      "\u001b[0;31mIndexError\u001b[0m: invalid index to scalar variable."
     ]
    }
   ],
   "source": [
    "dd.distance(read_counts[335660],read_counts, Rc_reads[335660], Rc_reads, dirichlet_prior, dirichlet_prior_persamples.reshape(10,1), 0)"
   ]
  },
  {
   "cell_type": "code",
   "execution_count": null,
   "metadata": {},
   "outputs": [],
   "source": [
    "indices=np.random.choice(702030,10)\n",
    "\n",
    "dist_read = []\n",
    "dist_kmer = []\n",
    "distance = []\n",
    "\n",
    "for f in indices:\n",
    "    \n",
    "    test = dd.distance(read_counts[f], read_counts, Rc_reads[f], Rc_reads, dirichlet_prior_persamples, dirichlet_prior, 0)\n",
    "    test1 = md.compute_readcountdist(f, read_counts, Rc_reads, dirichlet_prior, dirichlet_prior_persamples)\n",
    "    print(np.min(test), f, np.argmin(test), test[f])\n",
    "    print(test1)\n",
    "#     dr = dd.distance(read_counts[f], read_counts[f], Rc_reads[f], Rc_reads[f], dirichlet_prior_persamples, dirichlet_prior, 0)\n",
    "    dk = dd.distance(kmer_counts[f], kmer_counts[f], Rc_kmers[f], Rc_kmers[f], dirichlet_prior_perkmers, dirichlet_prior_kmers, 1)\n",
    "    \n",
    "    dist_read.append(test[f])\n",
    "    dist_kmer.append(dk)\n",
    "    distance.append(test[f]+dk)\n",
    "\n",
    "print(dist_read)\n",
    "print(dist_kmer)\n",
    "print(distance)\n",
    "    \n",
    "    "
   ]
  },
  {
   "cell_type": "code",
   "execution_count": 28,
   "metadata": {},
   "outputs": [
    {
     "data": {
      "text/html": [
       "<div>\n",
       "<style scoped>\n",
       "    .dataframe tbody tr th:only-of-type {\n",
       "        vertical-align: middle;\n",
       "    }\n",
       "\n",
       "    .dataframe tbody tr th {\n",
       "        vertical-align: top;\n",
       "    }\n",
       "\n",
       "    .dataframe thead th {\n",
       "        text-align: right;\n",
       "    }\n",
       "</style>\n",
       "<table border=\"1\" class=\"dataframe\">\n",
       "  <thead>\n",
       "    <tr style=\"text-align: right;\">\n",
       "      <th></th>\n",
       "      <th>0</th>\n",
       "    </tr>\n",
       "  </thead>\n",
       "  <tbody>\n",
       "    <tr>\n",
       "      <th>0</th>\n",
       "      <td>53</td>\n",
       "    </tr>\n",
       "    <tr>\n",
       "      <th>1</th>\n",
       "      <td>577</td>\n",
       "    </tr>\n",
       "    <tr>\n",
       "      <th>2</th>\n",
       "      <td>944</td>\n",
       "    </tr>\n",
       "    <tr>\n",
       "      <th>3</th>\n",
       "      <td>283</td>\n",
       "    </tr>\n",
       "    <tr>\n",
       "      <th>4</th>\n",
       "      <td>609</td>\n",
       "    </tr>\n",
       "    <tr>\n",
       "      <th>...</th>\n",
       "      <td>...</td>\n",
       "    </tr>\n",
       "    <tr>\n",
       "      <th>702025</th>\n",
       "      <td>54</td>\n",
       "    </tr>\n",
       "    <tr>\n",
       "      <th>702026</th>\n",
       "      <td>235</td>\n",
       "    </tr>\n",
       "    <tr>\n",
       "      <th>702027</th>\n",
       "      <td>82</td>\n",
       "    </tr>\n",
       "    <tr>\n",
       "      <th>702028</th>\n",
       "      <td>26</td>\n",
       "    </tr>\n",
       "    <tr>\n",
       "      <th>702029</th>\n",
       "      <td>88</td>\n",
       "    </tr>\n",
       "  </tbody>\n",
       "</table>\n",
       "<p>702030 rows × 1 columns</p>\n",
       "</div>"
      ],
      "text/plain": [
       "          0\n",
       "0        53\n",
       "1       577\n",
       "2       944\n",
       "3       283\n",
       "4       609\n",
       "...     ...\n",
       "702025   54\n",
       "702026  235\n",
       "702027   82\n",
       "702028   26\n",
       "702029   88\n",
       "\n",
       "[702030 rows x 1 columns]"
      ]
     },
     "execution_count": 28,
     "metadata": {},
     "output_type": "execute_result"
    }
   ],
   "source": [
    "clusters = pd.read_csv(working_dir + 'cluster_assigned', header=None)\n",
    "\n"
   ]
  },
  {
   "cell_type": "code",
   "execution_count": null,
   "metadata": {},
   "outputs": [],
   "source": [
    "import time\n",
    "import numpy as np\n",
    "import pandas as pd\n",
    "import optimize_parameters as opt\n",
    "from multiprocessing.pool import Pool\n",
    "from distance_calculations import distance\n",
    "from contigs_clustering import cluster_by_connecting_centroids, cluster_by_centroids\n",
    "from nmf_connected_components import nmf_connected_components\n",
    "from bin_assignments import assignment\n",
    "import subprocess\n",
    "\n",
    "\n",
    "def optimize_prior_fortrimers(*argv):\n",
    "\n",
    "    with Pool() as pool:\n",
    "        awa_values = pool.starmap(opt.obtain_optimized_alphas, \\\n",
    "                                 [(np.take(kmer_counts,[c*4, (c*4)+1, (c*4)+2, (c*4)+3], axis=1),\\\n",
    "                                  np.take(Rc_kmers, c, axis=1), trimercountsper_nt[c]) for c in range(64)])\n",
    "    awa_values = np.array(awa_values)\n",
    "    alpha_values = awa_values.sum(axis=1)\n",
    "\n",
    "    return alpha_values, awa_values\n",
    "\n",
    "if __name__ == \"__main__\" :\n",
    "    \n",
    "    tmp_dir = \"/big/work/metadevol/benchmark_dataset1/\"\n",
    "    s = time.time()\n",
    "    \n",
    "    \"\"\" clustering parameters (default) \"\"\"\n",
    "    d0 = 1\n",
    "    d1 = d0\n",
    "    min_shared_contigs = 5\n",
    "    \n",
    "    \"\"\" load contig read counts \"\"\"\n",
    "    read_counts = pd.read_pickle(tmp_dir + 'X_pickle')\n",
    "    contigs = pd.read_csv(tmp_dir + 'contigs_umap_hoverdata1', header=None, usecols=[2,3],sep=' ').to_numpy()\n",
    "    contig_names = contigs[:,0]\n",
    "    contig_length = contigs[:,1]\n",
    "    read_counts = read_counts.to_numpy(dtype=np.float32).T\n",
    "    \n",
    "    Rc_reads = read_counts.sum(axis=1)\n",
    "#     read_counts = read_counts[np.nonzero(Rc_reads>100)]\n",
    "#     Rc_reads = Rc_reads[np.nonzero(Rc_reads>100)]\n",
    "    Rn_reads = read_counts.sum(axis=0)\n",
    "    total_contigs, n_size = np.shape(read_counts)\n",
    "#     contig_names = contig_names[np.nonzero(Rc_reads>100)]\n",
    "#     contig_length = contig_length[np.nonzero(Rc_reads>100)]\n",
    "    \n",
    "    ss = time.time()\n",
    "    dirichlet_prior = opt.optimize_alpha(read_counts, Rc_reads, Rn_reads, n_size)\n",
    "    print('obtained alpha parameter', dirichlet_prior, 'in' ,time.time()-ss,'seconds')\n",
    "    ss = time.time()\n",
    "    dirichlet_prior_persamples  = dirichlet_prior * Rn_reads / Rn_reads.sum()\n",
    "#     ss = time.time()\n",
    "#     rand_ind = np.random.randint(total_contigs, size=10000)\n",
    "#     gamma_shape, gamma_scale = opt.optimize_gammaparameters(Rc_reads[rand_ind], contig_length[rand_ind], total_contigs)\n",
    "# #     gamma_shape, gamma_scale = opt.optimize_gammaparameters(Rc_reads, contig_length, total_contigs)\n",
    "#     print('obtained gamma parameters in', time.time()-ss,'seconds')\n",
    "    \n",
    "    \"\"\" load kmer counts \"\"\"\n",
    "    kmer_counts = pd.read_csv(tmp_dir + \"kmer_counts\", header=None)\n",
    "    kmer_counts = kmer_counts.to_numpy(dtype=np.float32)\n",
    "    kmer_counts = kmer_counts.reshape(45760,256) # convert 1D array to a 2D array with {total_contigs, all 4-mers} shape  \n",
    "    kmer_counts = (kmer_counts / 2)\n",
    "    \n",
    "#     kmer_counts = kmer_counts[np.nonzero(Rc_reads>100)]\n",
    "    \n",
    "    GC_fractions = pd.read_csv(tmp_dir + \"GC_fractionof_contigs\", header=None)\n",
    "    GC_fractions = GC_fractions.to_numpy()\n",
    "    \n",
    "#     GC_fractions = GC_fractions[np.nonzero(Rc_reads>100)]\n",
    "    \n",
    "    GC_tetramer = np.array([0, 0, 1, 1, 0, 0, 1, 1, 1, 1, 2, 2, 1, 1, 2, 2, 0, 0, 1, 1, 0, 0, 1, 1, 1, 1,\n",
    "                            2, 2, 1, 1, 2, 2, 1, 1, 2, 2, 1, 1, 2, 2, 2, 2, 3, 3, 2, 2, 3, 3, 1, 1, 2, 2,\n",
    "                            1, 1, 2, 2, 2, 2, 3, 3, 2, 2, 3, 3, 0, 0, 1, 1, 0, 0, 1, 1, 1, 1, 2, 2, 1, 1,\n",
    "                            2, 2, 0, 0, 1, 1, 0, 0, 1, 1, 1, 1, 2, 2, 1, 1, 2, 2, 1, 1, 2, 2, 1, 1, 2, 2,\n",
    "                            2, 2, 3, 3, 2, 2, 3, 3, 1, 1, 2, 2, 1, 1, 2, 2, 2, 2, 3, 3, 2, 2, 3, 3, 1, 1, \n",
    "                            2, 2, 1, 1, 2, 2, 2, 2, 3, 3, 2, 2, 3, 3, 1, 1, 2, 2, 1, 1, 2, 2, 2, 2, 3, 3, \n",
    "                            2, 2, 3, 3, 2, 2, 3, 3, 2, 2, 3, 3, 3, 3, 4, 4, 3, 3, 4, 4, 2, 2, 3, 3, 2, 2,\n",
    "                            3, 3, 3, 3, 4, 4, 3, 3, 4, 4, 1, 1, 2, 2, 1, 1, 2, 2, 2, 2, 3, 3, 2, 2, 3, 3,\n",
    "                            1, 1, 2, 2, 1, 1, 2, 2, 2, 2, 3, 3, 2, 2, 3, 3, 2, 2, 3, 3, 2, 2, 3, 3, 3, 3,\n",
    "                            4, 4, 3, 3, 4, 4, 2, 2, 3, 3, 2, 2, 3, 3, 3, 3, 4, 4, 3, 3, 4, 4])\n",
    "    \n",
    "\n",
    "    fGC_tGC = GC_fractions ** GC_tetramer\n",
    "    fAT_tAT = (1 - GC_fractions) ** (4 - GC_tetramer)\n",
    "    ekmer_counts = (np.tile((contig_length - 3)[:, None], (1,256)) * fAT_tAT * fGC_tGC)/16\n",
    "#     Z_score = (kmer_counts - ekmer_counts) / np.sqrt(ekmer_counts)\n",
    "#     repeat_index = np.nonzero(Z_score > 4)\n",
    "    repeat_index = np.nonzero((kmer_counts / ekmer_counts)>3)\n",
    "    \n",
    "    setind_zero = np.vstack((np.repeat(repeat_index[0],4),\\\n",
    "          np.repeat(repeat_index[1] // 4  * 4, 4) + np.tile([0, 1, 2, 3], np.shape(repeat_index[1]))))\n",
    "    kmer_counts[setind_zero[0],setind_zero[1]] = 0\n",
    "#     rep_w = np.unique(np.stack((repeat_index[0], repeat_index[1] // 4)).T, axis=0)\n",
    "#     rep_w_matrix = np.zeros((total_contigs, 64))\n",
    "#     rep_w_matrix[rep_w[:,0], rep_w[:,1]] = 1\n",
    "    \n",
    "    trimercountsper_nt = kmer_counts.reshape(-1,64,4).sum(axis=0) # np.split(kmer_countsT.sum(axis=1), 64)\n",
    "    Rc_kmers = kmer_counts.reshape(-1,64,4).sum(axis=2) # np.array(trimer_submatrices).sum(axis=1) # kmer_counts.reshape(-1,64,4).sum(axis=2)\n",
    "    \n",
    "    ss = time.time()\n",
    "    dirichlet_prior_kmers, dirichlet_prior_perkmers = optimize_prior_fortrimers(kmer_counts, trimercountsper_nt)\n",
    "    print('obtained alpha parameters in', time.time()-ss,'seconds')\n",
    "    cluster_parameters = list([read_counts, Rc_reads, total_contigs, \\\n",
    "                          dirichlet_prior, dirichlet_prior_persamples, kmer_counts, Rc_kmers, \\\n",
    "                          dirichlet_prior_kmers, dirichlet_prior_perkmers,\\\n",
    "                          d0, d1, min_shared_contigs, n_size])   \n",
    "#     members, dists = cluster_by_centroids(cluster_parameters)\n",
    "#     print(members)\n",
    "    clusters, numclust_incomponents = cluster_by_connecting_centroids(cluster_parameters)\n",
    "    \n",
    "    bins_ = nmf_connected_components(read_counts, contig_length, clusters, numclust_incomponents, dirichlet_prior_persamples, dirichlet_prior)\n",
    "    \n",
    "#     Z_full, Z_fullW = nmf_connected_components(read_counts, contig_length, clusters, numclust_incomponents, dirichlet_prior_persamples, dirichlet_prior)\n",
    "    \n",
    "#     bins, bins_m = assignment(Z_full, contig_length, 0)\n",
    "# #     bins_fullW, bins_m = assignment(Z_fullW, contig_length, 0)\n",
    "    \n",
    "#     bins_1, bins_m1 = assignment(Z_full, contig_length, 1)\n",
    "# #     bins_fullW1, bins_m = assignment(Z_fullW, contig_length, 1)\n",
    "    \n",
    "#     np.savetxt(tmp_dir+\"onebin_assignment_Zfull\", np.vstack((contig_names, bins)).T, fmt=\"%s,%d\")\n",
    "# #     np.savetxt(tmp_dir+\"multibin_assignment_Zfull\", np.vstack((contig_names[bins_m[1]], bins_m[0])).T, fmt=\"%s,%d\")\n",
    "#     np.savetxt(tmp_dir+\"onebin_assignment_Zfull1\", np.vstack((contig_names, bins_1)).T, fmt=\"%s,%d\")\n",
    "#     np.savetxt(tmp_dir+\"multibin_assignment_Zfull1\", np.vstack((contig_names[bins_m1[1]], bins_m1[0])).T, fmt=\"%s,%d\")\n",
    "    \n",
    "#     np.savetxt(tmp_dir+\"mulbins_assignment\", np.stack((contig_names[bins_m[1]], bins_m[1], bins_m[0])).T, fmt='%s,%d,%d')\n",
    "#     subprocess.run(['/big/work/metadevol/scripts/get_sequence_bybin', tmp_dir, 'onebin_assignment', 'all_contigs.fasta'], shell=True)\n",
    "    print(time.time()-s,'seconds')"
   ]
  },
  {
   "cell_type": "code",
   "execution_count": null,
   "metadata": {},
   "outputs": [],
   "source": [
    "Rc_reads[17386181]"
   ]
  },
  {
   "cell_type": "code",
   "execution_count": null,
   "metadata": {},
   "outputs": [],
   "source": [
    "import distance_calculations as dd\n",
    "import scipy.special as sp\n",
    "\n",
    "print(- sp.gammaln(dirichlet_prior))\n",
    "dd.xn_alpha(read_counts[1].astype(np.float32), read_counts[1].astype(np.float32), dirichlet_prior_persamples.astype(np.float32), 0) #- sp.gammaln(dirichlet_prior)\n",
    "\n"
   ]
  },
  {
   "cell_type": "code",
   "execution_count": null,
   "metadata": {},
   "outputs": [],
   "source": [
    "working_dir = \"/big/work/metadevol/cami2_datasets/marine/\"\n",
    "fractional_counts = pd.read_csv(working_dir + \"total_count\", header=None,sep=' ')\n",
    "read_counts = fractional_counts.pivot_table(index = 1, columns = 0, values = 2)\n",
    "read_counts = read_counts.to_numpy(dtype=np.float32).T\n",
    "read_counts1 = read_counts[(np.nonzero(read_counts.sum(axis=1)>=15))]"
   ]
  },
  {
   "cell_type": "code",
   "execution_count": null,
   "metadata": {},
   "outputs": [],
   "source": [
    "read_counts1[645940].sum()"
   ]
  },
  {
   "cell_type": "code",
   "execution_count": null,
   "metadata": {},
   "outputs": [],
   "source": [
    "kmer_counts1[216115].sum()"
   ]
  },
  {
   "cell_type": "code",
   "execution_count": null,
   "metadata": {},
   "outputs": [],
   "source": [
    "kmer_counts = pd.read_csv(working_dir + \"kmer_counts\", header=None)\n",
    "kmer_counts = kmer_counts.to_numpy(dtype=np.float32)\n",
    "kmer_counts = kmer_counts.reshape(702030,256) # convert 1D array to a 2D array with {total_contigs, all 4-mers} shape  \n",
    "kmer_counts = (kmer_counts / 2)\n",
    "kmer_counts1 = kmer_counts[(np.nonzero(read_counts.sum(axis=1)>=15))]"
   ]
  },
  {
   "cell_type": "code",
   "execution_count": null,
   "metadata": {},
   "outputs": [],
   "source": [
    "prime_numbers = [2, 3, 5, 7]\n",
    "\n",
    "prime_numbers.pop(-1)"
   ]
  },
  {
   "cell_type": "code",
   "execution_count": null,
   "metadata": {},
   "outputs": [],
   "source": [
    "prime_numbers"
   ]
  },
  {
   "cell_type": "code",
   "execution_count": null,
   "metadata": {},
   "outputs": [],
   "source": [
    "\n",
    "(dist.R_alpha(Rc_kmers[0],Rc_kmers, dirichlet_prior_kmers)).sum(axis=1)"
   ]
  },
  {
   "cell_type": "code",
   "execution_count": null,
   "metadata": {},
   "outputs": [],
   "source": [
    "dist.xn_alpha(read_counts[0], kmer_counts, dirichlet_prior_perkmers.flatten(), 1)\n",
    "\n"
   ]
  },
  {
   "cell_type": "code",
   "execution_count": null,
   "metadata": {},
   "outputs": [],
   "source": [
    "ax = np.empty((10, 0)).tolist()\n",
    "\n",
    "ax[[1,2,3]].append(1)"
   ]
  },
  {
   "cell_type": "code",
   "execution_count": null,
   "metadata": {},
   "outputs": [],
   "source": [
    "data_label = pd.read_csv(tmp_dir + 'contigs_umap_hoverdata1', header=None, sep = ' ')\n",
    "\n",
    "b1 = pd.DataFrame(np.vstack((contig_names[bins_m[1]], bins_m[0])).T)\n",
    "c1 = b1.merge(data_label, left_on=0, right_on=2)[['0_y',2,3,4,'1_x']]\n",
    "c1.to_csv(tmp_dir + 'multibin_assignment_Zfull', header=False)\n",
    "\n",
    "b2 = pd.DataFrame(np.vstack((contig_names[bins_m1[1]], bins_m1[0])).T)\n",
    "c2 = b1.merge(data_label, left_on=0, right_on=2)[['0_y',2,3,4,'1_x']]\n",
    "c2.to_csv(tmp_dir + 'multibin_assignment_Zfull1', header=False)"
   ]
  },
  {
   "cell_type": "code",
   "execution_count": null,
   "metadata": {},
   "outputs": [],
   "source": [
    "Z_assign = Z_full\n",
    "Rc_c  = np.sum(Z_assign, axis=0)\n",
    "pb_c  = Z_assign / Rc_c\n",
    "cov_b = np.sum(Z_assign, axis=1) / np.sum( Z_assign / Rc_c, axis=1)\n",
    "pb_min = 0.8 * (cov_b.reshape(len(cov_b),1) * np.sum(np.square(pb_c), axis=0) \\\n",
    "                / np.sum(cov_b.reshape(len(cov_b),1) * pb_c, axis=0))\n",
    "pb_min[pb_min > 0.5] = 0.5\n",
    "contig_assign0 = np.argmax(pb_c/pb_min, axis=0)"
   ]
  },
  {
   "cell_type": "code",
   "execution_count": null,
   "metadata": {},
   "outputs": [],
   "source": [
    "with open(\"/big/work/metadevol/benchmark_dataset1/\" + \"connected_components_checknogc\", 'w+') as file:\n",
    "    for f, fi in zip(clusters, range(len(clusters))):\n",
    "        f = f.flatten()\n",
    "        for q in f:\n",
    "            file.write(str(q) + \" \" + str(fi) + '\\n')\n",
    "\n",
    "a = pd.read_csv(tmp_dir + \"contigs_umap_hoverdata1\", header=None, sep=\" \")\n",
    "b = pd.read_csv(tmp_dir + \"connected_components_checknogc\", header=None, sep=\" \")\n",
    "c = a.merge(b, left_on=0, right_on=0)[['1_x',2,3,4,'1_y']]\n",
    "c.to_csv(tmp_dir + \"contigs_umap_checknogc\",sep=\" \", header=False)"
   ]
  },
  {
   "cell_type": "code",
   "execution_count": null,
   "metadata": {},
   "outputs": [],
   "source": [
    "a = pd.read_csv(tmp_dir + \"contigs_umap_hoverdata1\", header=None, sep=\" \")\n",
    "b = pd.read_csv(tmp_dir + \"connected_components_checknogc\", header=None, sep=\" \")\n",
    "b1 = pd.DataFrame(np.vstack((contig_names, bins_1)).T)\n",
    "\n",
    "\n",
    "umap_label = a.merge(b, left_on=0, right_on=0).merge(b1, left_on=2, right_on=0)[['1_x',2,3,4,'1_y', 1]]"
   ]
  },
  {
   "cell_type": "code",
   "execution_count": null,
   "metadata": {},
   "outputs": [],
   "source": [
    "umap_label.to_csv(tmp_dir+'contigs_umaplabel', sep='\\t', index=False)"
   ]
  },
  {
   "cell_type": "code",
   "execution_count": null,
   "metadata": {},
   "outputs": [],
   "source": [
    "import distance_calculations as dist\n",
    "import numpy as np\n",
    "import time\n",
    "s = time.time()\n",
    "dists_combined = []\n",
    "dists_reads = []\n",
    "dists_kmers = []\n",
    "for c in np.arange(total_contigs):\n",
    "    distance_byreads = dist.distance(read_counts[c], read_counts[c], Rc_reads[c], Rc_reads[c], dirichlet_prior_persamples, dirichlet_prior, 0) #, Bayses_factor\n",
    "    dists_reads.append(distance_byreads)\n",
    "    distance_bykmers = dist.distance(kmer_counts[c], kmer_counts[c], Rc_kmers[c], Rc_kmers[c], dirichlet_prior_perkmers, dirichlet_prior_kmers, 1, rep_w_matrix[c])\n",
    "    dists_kmers.append(distance_bykmers)\n",
    "    distance = distance_byreads + distance_bykmers\n",
    "    dists_combined.append(distance)\n",
    "    \n",
    "e = time.time()\n",
    "dists_combined = np.array(dists_combined).ravel()\n",
    "dists_reads = np.array(dists_reads).ravel()\n",
    "dists_kmers = np.array(dists_kmers).ravel()\n",
    "print(e-s, \"seconds\")"
   ]
  },
  {
   "cell_type": "code",
   "execution_count": null,
   "metadata": {},
   "outputs": [],
   "source": [
    "import numpy as np\n",
    "from distance_calculations import distance\n",
    "import bin_assignments as assign\n",
    "\n",
    "def np_relu(x):\n",
    "    \n",
    "    return np.maximum(0,x)\n",
    "\n",
    "\n",
    "def initialize_Z(W, X):\n",
    "    \n",
    "    W_t = np.transpose(W)\n",
    "    lmda = 0.1\n",
    "    inverse_term = np.linalg.inv(np.eye(W.shape[1]) + (lmda ** -1) * np.matmul(W_t,W))\n",
    "    woodbury = (lmda ** -1) * np.eye(W.shape[0]) - np.matmul((lmda ** -2) * W , np.matmul(inverse_term, W_t))\n",
    "    # print(np.shape(woodbury), np.shape(np.matmul(woodbury, W)), np.shape(X.T), flush=True)\n",
    "    Z = np_relu(np.matmul(np.matmul(woodbury, W), X.T))\n",
    "    \n",
    "    return Z\n",
    "\n",
    "\n",
    "def maximize_function(w, z, x):\n",
    "    \n",
    "    mean = np.matmul(z.T, w)\n",
    "    mean = 1e-10 + np_relu(mean)\n",
    "    negative_log_likelihood = (- mean + np.multiply(x, np.log(mean))).sum()\n",
    "\n",
    "    return negative_log_likelihood\n",
    "\n",
    "\n",
    "def calc_aic(w, z, x):\n",
    "\n",
    "    mean = np.matmul(z.T, w)\n",
    "    mean = 1e-10 + np_relu(mean)\n",
    "    log_likelihood = (- mean + np.multiply(x, np.log(mean))).sum()\n",
    "    AIC = log_likelihood - np.count_nonzero(np_relu(w) > 1e-05) - np.count_nonzero(np_relu(z) > 1e-05)\n",
    "    \n",
    "    return AIC\n",
    "\n",
    "\n",
    "\"\"\" Multiplicative Updates \"\"\"\n",
    "\n",
    "def multiplicative_updates(W, Z, X, n, method):\n",
    "    \n",
    "    lw = 0.0\n",
    "    lz = 3\n",
    "    beta = 0.5\n",
    "    convergence_criteria = 0.0001\n",
    "    epsilon_reg = 1e-05\n",
    "    loss_values = []\n",
    "    \n",
    "    global AIC\n",
    "    \n",
    "    if method == 0:\n",
    "        \n",
    "        for i in range(n):\n",
    "            \n",
    "            mean = np.matmul(Z.T, W)\n",
    "            mean = 1e-10 + np_relu(mean)\n",
    "            X_by_mean = X / mean\n",
    "            \n",
    "            W = np.multiply(W, np_relu(np.matmul(Z, X_by_mean)))\n",
    "            W = W / np.array([W.sum(axis = 1)]).T\n",
    "            Z = np.multiply(Z, np_relu(np.matmul(W, X_by_mean.T)))\n",
    "\n",
    "            loss_values.append(maximize_function(W, Z, X))\n",
    "            \n",
    "            if len(loss_values) >= 10 :\n",
    "                \n",
    "                if ((loss_values[i] - loss_values[i-10]) / loss_values[i]) < convergence_criteria:\n",
    "                    AIC = calc_aic(W, Z, X)\n",
    "#                     print(\"Function is converged\")\n",
    "                    break\n",
    "        return  W, Z, loss_values, AIC\n",
    "    \n",
    "    \n",
    "    if method == 1:\n",
    "        \n",
    "        for i in range(n):\n",
    "\n",
    "            mean = np.matmul(Z.T, W)\n",
    "            mean = 1e-10 + np_relu(mean)\n",
    "            X_by_mean = X / mean\n",
    "\n",
    "            Z_reg =  (lz * beta) / np.abs(Z+epsilon_reg) ** (1-beta)\n",
    "            Z = np.multiply(Z, np_relu(np.matmul(W, X_by_mean.T) - Z_reg))\n",
    "            \n",
    "            loss_values.append(maximize_function(W, Z, X))\n",
    "\n",
    "            if len(loss_values) >= 10 :\n",
    "                if ((loss_values[i] - loss_values[i-10]) / loss_values[i]) < convergence_criteria:\n",
    "                    AIC = calc_aic(W, Z, X)\n",
    "#                     print(\"Function is converged\")\n",
    "                    break\n",
    "                \n",
    "        return  Z, loss_values, AIC    \n",
    "\n",
    "    if method == 2:\n",
    "            \n",
    "            for i in range(n):\n",
    "\n",
    "                mean = np.matmul(Z.T, W)\n",
    "                mean = 1e-10 + np_relu(mean)\n",
    "                X_by_mean = X / mean\n",
    "\n",
    "                W_reg =  (lw * beta) / np.abs(W+epsilon_reg) ** (1-beta)\n",
    "                Z_reg =  (lz * beta) / np.abs(Z+epsilon_reg) ** (1-beta)\n",
    "\n",
    "                W = np.multiply(W, np_relu(np.matmul(Z, X_by_mean) - W_reg))\n",
    "                W = W / np.array([W.sum(axis = 1) ]).T\n",
    "                Z = np.multiply(Z, np_relu(np.matmul(W, X_by_mean.T) - Z_reg))\n",
    "\n",
    "                loss_values.append(maximize_function(W, Z, X))\n",
    "\n",
    "                if len(loss_values) >= 10 :\n",
    "                    if ((loss_values[i] - loss_values[i-10]) / loss_values[i]) < convergence_criteria:\n",
    "                        AIC = calc_aic(W, Z, X)\n",
    "                        # print(\"Function is converged\")\n",
    "                        break\n",
    "                    \n",
    "            return  Z, loss_values, AIC\n",
    "\n",
    "\n",
    "def nmf_connected_components(read_counts, contig_length, clusters, numclust_incomponents, an, alpha, small_nmfassign_flag=1, mode = 0):\n",
    "    \n",
    "    num_iterations = 100\n",
    "    \n",
    "    W_full = []\n",
    "    epsilon = 1e-10\n",
    "    bin_index = 1\n",
    "    bin_assigned = []\n",
    "    for k in np.arange(len(numclust_incomponents)):\n",
    "\n",
    "        if numclust_incomponents[k] > 1 :\n",
    "            \n",
    "            dat_s = read_counts[clusters[k],:]\n",
    "            Rc_s = dat_s.sum(axis = 1)\n",
    "            AIC_score = []\n",
    "            \n",
    "            optimized = {}\n",
    "            \n",
    "            LL_values = {}\n",
    "            \n",
    "            \n",
    "            for trial_bval in range(3):\n",
    "                \n",
    "                if trial_bval == 0:\n",
    "                    \n",
    "                    k_contigs = np.array([dat_s.sum(axis=0) + epsilon])\n",
    "\n",
    "                else:\n",
    "                    \n",
    "                    if trial_bval + 1 <= numclust_incomponents[k]: \n",
    "\n",
    "                        ind = []\n",
    "                        k_contigs = []\n",
    "                        \n",
    "                        for i in range(trial_bval+1):\n",
    "\n",
    "                            if i == 0:\n",
    "                                c0_ind = np.argmax(dat_s.sum(axis=1))\n",
    "                                c0 = dat_s[c0_ind]\n",
    "                                dist = distance(c0, dat_s, Rc_s[c0_ind], Rc_s, an, alpha, 0)\n",
    "                                c_ind = np.argsort(dist)[-1]\n",
    "                                c = dat_s[c_ind]\n",
    "                                k_contigs = [c]\n",
    "                                ind.append(c_ind)\n",
    "\n",
    "                            else:\n",
    "\n",
    "                                dist_sum = []\n",
    "\n",
    "                                for f in range(len(np.array([k_contigs]))):\n",
    "                                    dist_sum.append(distance(k_contigs[f], dat_s, Rc_s[ind[f]], Rc_s, an, alpha, 0))\n",
    "                                f_inds = np.argsort(np.array(dist_sum).sum(axis=0))\n",
    "                                check_ind = np.append(ind,c0_ind)\n",
    "                                f_ind = np.setdiff1d(f_inds, check_ind)[-1]\n",
    "                                ind.append(f_ind)\n",
    "                                k_contigs.append(dat_s[f_ind])    \n",
    "\n",
    "                W = np.array(k_contigs)\n",
    "                W_norm = W / np.array([W.sum(axis = 1)]).T\n",
    "                \n",
    "                if not np.shape(W)[0] == 0:\n",
    "                    \n",
    "                    Z = initialize_Z(W_norm, dat_s)\n",
    "                    \n",
    "\n",
    "                    W_opt, Z_opt, LL, AIC = multiplicative_updates(W_norm, Z, dat_s, num_iterations, 0)\n",
    "                    optimized[\"W\"+str(trial_bval)] = W_opt\n",
    "                    optimized[\"Z\"+str(trial_bval)] = Z_opt\n",
    "                    AIC_score.append(AIC)\n",
    "                    LL_values[str(trial_bval)] = LL\n",
    "\n",
    "            # obtain best k using maximum AIC value    \n",
    "            bval = np.argmax(AIC_score)\n",
    "            W_full.append(optimized[\"W\"+str(bval)])\n",
    "            \n",
    "            if small_nmfassign_flag == 1:\n",
    "                if bval == 0:\n",
    "                    bin_assigned.append(np.vstack((clusters[k], [bin_index] * len(clusters[k]))))\n",
    "                else:\n",
    "                    Z_opt = optimized[\"Z\"+str(bval)]\n",
    "                    bin_indices, bin_mindices = assign.assignment(Z_opt, contig_length[clusters[k]],1)\n",
    "                    bin_indices += bin_index\n",
    "                    bin_mindices_ = bin_mindices[0] + bin_index\n",
    "                    if mode == 0:\n",
    "                        bin_assigned.append(np.vstack((clusters[k][bin_mindices[1]], bin_mindices_)))\n",
    "                    else:\n",
    "                        bin_assigned.append(np.vstack((clusters[k], bin_indices)))\n",
    "                bin_index += bval+1\n",
    "        else:\n",
    "            if contig_length[clusters[k]].sum() >= 10000:\n",
    "                dat_s = np.array([read_counts[clusters[k]].sum(axis=0) + epsilon])\n",
    "                dat_s = dat_s / dat_s.sum()\n",
    "                W_full.append(dat_s)\n",
    "                bin_assigned.append(np.vstack((clusters[k], [bin_index] * len(clusters[k]))))\n",
    "                bin_index += 1\n",
    "    bin_assigned = np.concatenate(bin_assigned, axis=1)\n",
    "    print(bin_assigned, np.shape(bin_assigned))\n",
    "    return bin_assigned\n",
    "        \n",
    "bins_ = nmf_connected_components(read_counts, contig_length, clusters, \\\n",
    "                         numclust_incomponents, dirichlet_prior_persamples, dirichlet_prior)\n"
   ]
  },
  {
   "cell_type": "code",
   "execution_count": null,
   "metadata": {},
   "outputs": [],
   "source": [
    "np.savetxt(tmp_dir + \"check\", bins_.T, fmt='%d,%d')"
   ]
  },
  {
   "cell_type": "code",
   "execution_count": null,
   "metadata": {},
   "outputs": [],
   "source": [
    "labels = pd.read_csv(\"/big/work/metadevol/cami2_datasets/marine/contigs_labels\", header=None,sep=' ').to_numpy()\n",
    "labels[:,2].astype(int)"
   ]
  },
  {
   "cell_type": "code",
   "execution_count": null,
   "metadata": {},
   "outputs": [],
   "source": [
    "contigs = pd.read_csv('/big/work/metadevol/cami2_datasets/marine/contigs_labels', header=None, sep=' ').to_numpy()\n",
    "contig_names = contigs[:,1]\n",
    "contig_length = contigs[:,2].astype(int)\n",
    "\n",
    "kmer_counts = pd.read_csv(tmp_dir + \"kmer_counts\", header=None)\n",
    "kmer_counts = kmer_counts.to_numpy()\n",
    "kmer_counts = kmer_counts.reshape(total_contigs,256) # convert 1D array to a 2D array with {total_contigs, all 4-mers} shape  \n",
    "kmer_counts = (kmer_counts / 2)\n",
    "print(\"processing kmer frequencies\")\n",
    "GC_fractions = pd.read_csv('/big/work/metadevol/cami2_datasets/marine/GC_fractionof_contigs', header=None)\n",
    "GC_fractions = GC_fractions.to_numpy()\n",
    "GC_tetramer = np.array([0, 0, 1, 1, 0, 0, 1, 1, 1, 1, 2, 2, 1, 1, 2, 2, 0, 0, 1, 1, 0, 0, 1, 1, 1, 1,\n",
    "                        2, 2, 1, 1, 2, 2, 1, 1, 2, 2, 1, 1, 2, 2, 2, 2, 3, 3, 2, 2, 3, 3, 1, 1, 2, 2,\n",
    "                        1, 1, 2, 2, 2, 2, 3, 3, 2, 2, 3, 3, 0, 0, 1, 1, 0, 0, 1, 1, 1, 1, 2, 2, 1, 1,\n",
    "                        2, 2, 0, 0, 1, 1, 0, 0, 1, 1, 1, 1, 2, 2, 1, 1, 2, 2, 1, 1, 2, 2, 1, 1, 2, 2,\n",
    "                        2, 2, 3, 3, 2, 2, 3, 3, 1, 1, 2, 2, 1, 1, 2, 2, 2, 2, 3, 3, 2, 2, 3, 3, 1, 1, \n",
    "                        2, 2, 1, 1, 2, 2, 2, 2, 3, 3, 2, 2, 3, 3, 1, 1, 2, 2, 1, 1, 2, 2, 2, 2, 3, 3, \n",
    "                        2, 2, 3, 3, 2, 2, 3, 3, 2, 2, 3, 3, 3, 3, 4, 4, 3, 3, 4, 4, 2, 2, 3, 3, 2, 2,\n",
    "                        3, 3, 3, 3, 4, 4, 3, 3, 4, 4, 1, 1, 2, 2, 1, 1, 2, 2, 2, 2, 3, 3, 2, 2, 3, 3,\n",
    "                        1, 1, 2, 2, 1, 1, 2, 2, 2, 2, 3, 3, 2, 2, 3, 3, 2, 2, 3, 3, 2, 2, 3, 3, 3, 3,\n",
    "                        4, 4, 3, 3, 4, 4, 2, 2, 3, 3, 2, 2, 3, 3, 3, 3, 4, 4, 3, 3, 4, 4])\n",
    "\n",
    "\n",
    "fGC_tGC = GC_fractions ** GC_tetramer\n",
    "fAT_tAT = (1 - GC_fractions) ** (4 - GC_tetramer)\n",
    "\n",
    "# ekmer_counts = (np.tile((contig_length - 3)[:, None], (1,256)) * fAT_tAT * fGC_tGC)/16"
   ]
  },
  {
   "cell_type": "code",
   "execution_count": null,
   "metadata": {},
   "outputs": [],
   "source": [
    "np.shape((np.tile((contig_length - 3)[:, None], (1,256)) * fAT_tAT * fGC_tGC)/16)"
   ]
  },
  {
   "cell_type": "code",
   "execution_count": null,
   "metadata": {},
   "outputs": [],
   "source": [
    "count_matrix"
   ]
  },
  {
   "cell_type": "code",
   "execution_count": null,
   "metadata": {},
   "outputs": [],
   "source": [
    "for f, fi in zip(clusters, range(len(clusters))):\n",
    "    f = f.flatten()\n",
    "    with open(\"/big/work/metadevol/benchmark_dataset1/\" + \"connected_components_checknogc\", 'w') as file:\n",
    "        for q in f:\n",
    "            file.write(str(q) + \" \" + str(fi) + '\\n')\n",
    "    \n",
    "a = pd.read_csv(\"/big/work/metadevol/benchmark_dataset1/contigs_umap_hoverdata1\", header=None, sep=\" \")\n",
    "b = pd.read_csv(\"/big/work/metadevol/benchmark_dataset1/connected_components_checknogc\", header=None, sep=\" \")\n",
    "c = a.merge(b, left_on=0, right_on=0)[['1_x',2,3,4,'1_y']]\n",
    "c.to_csv(\"/big/work/metadevol/benchmark_dataset1/contigs_umap_checknogc\",sep=\" \", header=False)"
   ]
  }
 ],
 "metadata": {
  "kernelspec": {
   "display_name": "Python 3 (ipykernel)",
   "language": "python",
   "name": "python3"
  },
  "language_info": {
   "codemirror_mode": {
    "name": "ipython",
    "version": 3
   },
   "file_extension": ".py",
   "mimetype": "text/x-python",
   "name": "python",
   "nbconvert_exporter": "python",
   "pygments_lexer": "ipython3",
   "version": "3.8.10"
  },
  "vscode": {
   "interpreter": {
    "hash": "31f2aee4e71d21fbe5cf8b01ff0e069b9275f58929596ceb00d14d90e3e16cd6"
   }
  }
 },
 "nbformat": 4,
 "nbformat_minor": 2
}
