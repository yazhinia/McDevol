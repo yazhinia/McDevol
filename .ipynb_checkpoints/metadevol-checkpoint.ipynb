{
 "cells": [
  {
   "cell_type": "code",
   "execution_count": 1,
   "metadata": {},
   "outputs": [],
   "source": [
    "%load_ext autoreload\n",
    "%autoreload 2\n",
    "# %debug magic\n",
    "\n",
    "import os\n",
    "import time\n",
    "import subprocess\n",
    "import gc\n",
    "import numpy as np\n",
    "import pandas as pd\n",
    "import optimize_parameters as opt\n",
    "from multiprocessing.pool import Pool\n",
    "import bam2counts\n",
    "import contigs_clustering_modified as ccm\n",
    "from contigs_clustering import cluster_by_connecting_centroids"
   ]
  },
  {
   "cell_type": "code",
   "execution_count": 2,
   "metadata": {},
   "outputs": [
    {
     "name": "stdout",
     "output_type": "stream",
     "text": [
      "/big/work/metadevol/cami2_datasets/marine/bowtie_bamfiles/tmp/\n",
      "obtained alpha parameter for read counts 17.696683761938658 in 0.4465456008911133 seconds\n",
      "dirichlet_prior_persamples [1.77417099 1.52123651 1.57004106 1.46923825 1.78121749 2.02644641\n",
      " 1.6624796  1.9367352  1.85315873 2.10195953] in 0.00012111663818359375 seconds\n",
      "computing cluster_by_connecting_centroids\n",
      "36913 contigs are being clustered\n",
      "entering iterative distance_calculation\n",
      "[16186 26398 21327 ...  4327 31432 25776]\n",
      "contigs processed [========================================] 36913/36913 [100%] in 0.4s (82827.55/s) \n",
      "(184, 10) (184,)\n",
      "Obtained 184 clusters from initial clustering\n",
      "Initial clustering took: 0.6248626708984375 seconds\n",
      "distance calculation time: 0.7379934787750244 seconds\n",
      "184\n",
      "K\n",
      "count_numbers_of_sharedcontigs took  2.1827914714813232 seconds\n",
      "find_connected_components took  0.0012140274047851562 seconds\n",
      "number of connected components 24\n",
      "count_by_connecting_centroids took  2.956733465194702 seconds\n"
     ]
    }
   ],
   "source": [
    "def optimize_prior_fortrimers(kmer_counts, Rc_kmers, trimercountsper_nt):\n",
    "\n",
    "    with Pool() as pool:\n",
    "        awa_values = pool.starmap(opt.obtain_optimized_alphas, \\\n",
    "                                 [(np.take(kmer_counts,[c*4, (c*4)+1, (c*4)+2, (c*4)+3], axis=1),\\\n",
    "                                  np.take(Rc_kmers, c, axis=1), trimercountsper_nt[c]) for c in range(64)])\n",
    "    awa_values = np.array(awa_values)\n",
    "    alpha_values = awa_values.sum(axis=1)\n",
    "\n",
    "    return alpha_values, awa_values\n",
    "\n",
    "    \n",
    "input_dir = '/big/work/metadevol/cami2_datasets/marine/bowtie_bamfiles/tmp/'\n",
    "# input_dir = '/big/work/metadevol/benchmark_dataset1/bamfiles/tmp/'\n",
    "working_dir = input_dir\n",
    "s = time.time()\n",
    "print(working_dir)\n",
    "\n",
    "\n",
    "\"\"\" obtain read counts \"\"\"\n",
    "# calcreadcounts(input_dir, working_dir, args.minlength)\n",
    "\n",
    "\"\"\" clustering parameters (default) \"\"\"\n",
    "d0 = 1.0\n",
    "d1 = d0\n",
    "min_shared_contigs = 20\n",
    "\n",
    "\"\"\" load contig read counts \"\"\"\n",
    "contigs = pd.read_csv(working_dir + 'contigs_labels', header=None, sep=' ').to_numpy()\n",
    "contig_names = contigs[:,1]\n",
    "contig_length = contigs[:,2].astype(int)\n",
    "# contig_length = pd.read_csv(working_dir + '../../contigs_umap_hoverdata1', header=None, usecols=[3],sep=' ')\n",
    "# contig_length = contig_length.to_numpy().ravel()\n",
    "fractional_counts = pd.read_csv(working_dir + \"total_count\", header=None,sep=' ', engine=\"pyarrow\")\n",
    "read_counts = fractional_counts.pivot_table(index = 1, columns = 0, values = 2)\n",
    "# read_counts = pd.read_pickle(working_dir + 'X_pickle')\n",
    "del(fractional_counts)\n",
    "\n",
    "\n",
    "read_counts = read_counts.to_numpy().T\n",
    "\n",
    "sp20_inds = np.loadtxt(working_dir + '20sp_check/20sp_inds', dtype=int)\n",
    "read_counts = read_counts[sp20_inds]\n",
    "\n",
    "total_contigs, n_size = np.shape(read_counts)\n",
    "\n",
    "# Rc_reads = np.sum(read_counts, axis=1, keepdims=True)\n",
    "\n",
    "R_max = 1e5\n",
    "# read_counts_scaled = np.multiply(read_counts, R_max/(R_max + Rc_reads))\n",
    "Rc_reads = read_counts.sum(axis=1)\n",
    "Rn_reads = read_counts.sum(axis=0)\n",
    "\n",
    "ss = time.time()\n",
    "dirichlet_prior = opt.optimize_alpha(read_counts, Rc_reads, Rn_reads, n_size)\n",
    "print('obtained alpha parameter for read counts', dirichlet_prior, 'in' ,time.time()-ss,'seconds')\n",
    "ss = time.time()\n",
    "dirichlet_prior_persamples  = dirichlet_prior * Rn_reads / Rn_reads.sum()\n",
    "print('dirichlet_prior_persamples', dirichlet_prior_persamples, 'in' ,time.time()-ss,'seconds')\n",
    "\n",
    "# # # \"\"\" generate gamma parameters for Bayes factor in distance calculation \"\"\"\n",
    "# # # #     ss = time.time()\n",
    "# # # #     rand_ind = np.random.randint(total_contigs, size=10000)\n",
    "# # # #     gamma_shape, gamma_scale = opt.optimize_gammaparameters(Rc_reads[rand_ind], contig_length[rand_ind], total_contigs)\n",
    "# # # # #     gamma_shape, gamma_scale = opt.optimize_gammaparameters(Rc_reads, contig_length, total_contigs)\n",
    "# # # #     print('obtained gamma parameters in', time.time()-ss,'seconds')\n",
    "\n",
    "\n",
    "# # \"\"\" load kmer counts \"\"\"\n",
    "# kmer_counts = pd.read_csv(working_dir + \"kmer_counts\", header=None, engine=\"pyarrow\")\n",
    "# kmer_counts = kmer_counts.to_numpy(np.float32)\n",
    "# kmer_counts = kmer_counts.reshape(total_contigs, 256) # convert 1D array to a 2D array with {total_contigs, all 4-mers} shape  \n",
    "# kmer_counts = (kmer_counts / 2)\n",
    "# # kmer_counts = kmer_counts[fivesp_index]\n",
    "\n",
    "# print(\"processing kmer frequencies\")\n",
    "\n",
    "# GC_fractions = pd.read_csv(working_dir + \"GC_fractionof_contigs\", header=None)\n",
    "# GC_fractions = GC_fractions.to_numpy()\n",
    "# # GC_fractions = GC_fractions[fivesp_index]\n",
    "# GC_tetramer = np.array([0, 0, 1, 1, 0, 0, 1, 1, 1, 1, 2, 2, 1, 1, 2, 2, 0, 0, 1, 1, 0, 0, 1, 1, 1, 1,\n",
    "#                         2, 2, 1, 1, 2, 2, 1, 1, 2, 2, 1, 1, 2, 2, 2, 2, 3, 3, 2, 2, 3, 3, 1, 1, 2, 2,\n",
    "#                         1, 1, 2, 2, 2, 2, 3, 3, 2, 2, 3, 3, 0, 0, 1, 1, 0, 0, 1, 1, 1, 1, 2, 2, 1, 1,\n",
    "#                         2, 2, 0, 0, 1, 1, 0, 0, 1, 1, 1, 1, 2, 2, 1, 1, 2, 2, 1, 1, 2, 2, 1, 1, 2, 2,\n",
    "#                         2, 2, 3, 3, 2, 2, 3, 3, 1, 1, 2, 2, 1, 1, 2, 2, 2, 2, 3, 3, 2, 2, 3, 3, 1, 1,\n",
    "#                         2, 2, 1, 1, 2, 2, 2, 2, 3, 3, 2, 2, 3, 3, 1, 1, 2, 2, 1, 1, 2, 2, 2, 2, 3, 3,\n",
    "#                         2, 2, 3, 3, 2, 2, 3, 3, 2, 2, 3, 3, 3, 3, 4, 4, 3, 3, 4, 4, 2, 2, 3, 3, 2, 2,\n",
    "#                         3, 3, 3, 3, 4, 4, 3, 3, 4, 4, 1, 1, 2, 2, 1, 1, 2, 2, 2, 2, 3, 3, 2, 2, 3, 3,\n",
    "#                         1, 1, 2, 2, 1, 1, 2, 2, 2, 2, 3, 3, 2, 2, 3, 3, 2, 2, 3, 3, 2, 2, 3, 3, 3, 3,\n",
    "#                         4, 4, 3, 3, 4, 4, 2, 2, 3, 3, 2, 2, 3, 3, 3, 3, 4, 4, 3, 3, 4, 4])\n",
    "\n",
    "# \"\"\" process repeat regions \"\"\"\n",
    "# fGC_tGC = GC_fractions ** GC_tetramer\n",
    "# fAT_tAT = (1 - GC_fractions) ** (4 - GC_tetramer)\n",
    "# ekmer_counts = (np.tile((contig_length - 3)[:, None], (1,256)) * fAT_tAT * fGC_tGC)/16\n",
    "# repeat_index = np.nonzero((kmer_counts / ekmer_counts)>3)\n",
    "# setind_zero = np.vstack((np.repeat(repeat_index[0],4),\\\n",
    "#     np.repeat(repeat_index[1] // 4  * 4, 4) + np.tile([0, 1, 2, 3], np.shape(repeat_index[1]))))\n",
    "# kmer_counts[setind_zero[0],setind_zero[1]] = 0\n",
    "# del(ekmer_counts, GC_fractions, setind_zero, repeat_index)\n",
    "\n",
    "# scale_down_kmer = R_max / (R_max + kmer_counts.reshape(-1,64,4).sum(axis=2))\n",
    "# kmer_counts_scaled = np.multiply(kmer_counts, np.repeat(scale_down_kmer, 4, axis=1))\n",
    "\n",
    "# # \"\"\" apply condition on total kmer counts \"\"\"\n",
    "# # kmer_counts = kmer_counts[(np.nonzero(read_counts.sum(axis=1)>=abund_cutoff))]\n",
    "# # print(np.shape(kmer_counts))\n",
    "\n",
    "# trimercountsper_nt = kmer_counts_scaled.reshape(-1,64,4).sum(axis=0) # np.split(kmer_countsT.sum(axis=1), 64)\n",
    "# Rc_kmers = kmer_counts_scaled.reshape(-1,64,4).sum(axis=2) # np.array(trimer_submatrices).sum(axis=1) # kmer_counts.reshape(-1,64,4).sum(axis=2)\n",
    "\n",
    "# ss = time.time()\n",
    "# dirichlet_prior_kmers, dirichlet_prior_perkmers = optimize_prior_fortrimers(kmer_counts_scaled, Rc_kmers, trimercountsper_nt)\n",
    "# print('obtained alpha parameters for kmer counts in', time.time()-ss,'seconds')\n",
    "# del(trimercountsper_nt)\n",
    "# print(dirichlet_prior_kmers, dirichlet_prior_perkmers)\n",
    "\n",
    "\n",
    "kmer_counts =1\n",
    "Rc_kmers = 1\n",
    "kmer_counts_source = 1\n",
    "dirichlet_prior_kmers = 1\n",
    "dirichlet_prior_perkmers = np.zeros(10)\n",
    "\n",
    "# # \"\"\" end \"\"\"\n",
    "\n",
    "cluster_parameters = list([read_counts, Rc_reads, total_contigs, \\\n",
    "                      dirichlet_prior, dirichlet_prior_persamples, kmer_counts, Rc_kmers, \\\n",
    "                      dirichlet_prior_kmers, dirichlet_prior_perkmers.flatten(), \\\n",
    "                      d0, d1, min_shared_contigs, working_dir, read_counts, kmer_counts_source, R_max])   \n",
    "clusters, numclust_incomponents = cluster_by_connecting_centroids(cluster_parameters)\n",
    "# ccm.cluster_by_connecting_centroids(cluster_parameters)\n",
    "# clusters, numclust_incomponents = ccm.cluster_by_connecting_centroids(cluster_parameters)\n",
    "del(kmer_counts, cluster_parameters)\n",
    "\n",
    "# bins_ = nmf_connected_components(read_counts, contig_length, clusters, numclust_incomponents, dirichlet_prior_persamples, dirichlet_prior)\n",
    "# print(len(np.unique(bins_[1])), \"bins obtained in total\")\n",
    "# print(bins_[1])\n",
    "# np.savetxt(args.outdir + \"/tmp/try/bin_assignments_summedcounts\", np.stack((contig_names[bins_[0]], bins_[1])).T, fmt='%s\\t%d')\n",
    "# # subprocess.run([\"/big/work/metadevol/scripts/get_sequence_bybin \" + str(working_dir) + \"  ../bin_assignments_newalgo\" + \" \" +str(args.contigs) + \" \" + str(args.output) + \" \" + str(args.outdir)], shell=True)\n",
    "# print('metagenome binning is completed in', time.time()-s,'seconds')\n",
    "# gc.collect()\n",
    "\n",
    "\n",
    "# cluster_parameters = list([read_counts_scaled, Rc_reads, total_contigs, \\\n",
    "#                       dirichlet_prior, dirichlet_prior_persamples, kmer_counts_scaled, Rc_kmers, \\\n",
    "#                       dirichlet_prior_kmers, dirichlet_prior_perkmers.flatten(), \\\n",
    "#                       d0, d1, min_shared_contigs, working_dir, read_counts, kmer_counts])   \n",
    "# clusters, numclust_incomponents = cluster_by_connecting_centroids(cluster_parameters)\n",
    "# del(kmer_counts, cluster_parameters)\n",
    "\n",
    "# clusters, numclust_incomponents = cluster_by_connecting_centroids(cluster_parameters)\n",
    "# # # bins_ = nmf_connected_components(read_counts, contig_length, clusters, numclust_incomponents, dirichlet_prior_persamples, dirichlet_prior)\n",
    "# # # print(bins_)\n",
    "# # # np.savetxt(working_dir+\"bin_assignments\", np.stack((contig_names[bins_[0]], bins_[1])).T, fmt='%s,%d')\n",
    "# # # # subprocess.run([\"/big/work/metadevol/scripts/get_sequence_bybin \" + str(tmp_dir) + \"  bin_assignments\" + \" \" +str(args.contigs) + \" \" + str(args.output) + \" \" + str(args.outdir)], shell=True)\n",
    "# # # print('metagenome binning is completed in', time.time()-s,'seconds')\n",
    "# # # gc.collect()"
   ]
  },
  {
   "cell_type": "code",
   "execution_count": 8,
   "metadata": {},
   "outputs": [],
   "source": [
    "np.savetxt('/big/work/metadevol/cami2_datasets/marine/bowtie_bamfiles/tmp/contigs2500_inds', np.nonzero(contig_length >= 2500)[0], fmt='%d')"
   ]
  },
  {
   "cell_type": "code",
   "execution_count": 5,
   "metadata": {},
   "outputs": [],
   "source": [
    "distance = np.load('/big/work/metadevol/cami2_datasets/marine/bowtie_bamfiles/tmp/try/distance_centroidlist.npy')\n"
   ]
  },
  {
   "cell_type": "code",
   "execution_count": null,
   "metadata": {},
   "outputs": [],
   "source": [
    "81540 1850769 S1C374797 81540 1625 Otu3.0\t17244\n",
    "268951 6263245 S3C1215085 268951 2342 Otu3.0\t17244\n",
    "116370 2659856 S1C1183884 116370 1630 Otu3.0\t17244\n",
    "\n",
    "\n",
    "324281 7882581 S4C618370 324281 11649 Otu3.0\t2\n",
    "324029 7874600 S4C610389 324029 8044 Otu3.0\t2\n",
    "324024 7874438 S4C610227 324024 5960 Otu3.0\t2\n",
    "323797 7867920 S4C603709 323797 5862 Otu3.0\t2\n",
    "\n",
    "\n",
    "\n",
    "85751 1947777 S1C471805 85751 3176231 Otu3.1\t2 first cluster centroid"
   ]
  },
  {
   "cell_type": "code",
   "execution_count": 6,
   "metadata": {},
   "outputs": [],
   "source": [
    "import metadevol_distance as md \n",
    "\n",
    "import distance_calculations as dd\n",
    "\n"
   ]
  },
  {
   "cell_type": "code",
   "execution_count": 22,
   "metadata": {},
   "outputs": [],
   "source": [
    "md_dist = md.compute_readcountdist(172014, read_counts, Rc_reads, dirichlet_prior, dirichlet_prior_persamples)\n",
    "\n",
    "md_dist1 = md.compute_connectedcomponentdist(457915, read_counts, Rc_reads, dirichlet_prior, dirichlet_prior_persamples)\n",
    "\n",
    "\n",
    "md_distc = md.compute_readcountdist(525172, read_counts, Rc_reads, dirichlet_prior, dirichlet_prior_persamples)\n",
    "\n",
    "md_distc1 = md.compute_connectedcomponentdist(651393, read_counts, Rc_reads, dirichlet_prior, dirichlet_prior_persamples)\n",
    "\n"
   ]
  },
  {
   "cell_type": "code",
   "execution_count": 23,
   "metadata": {},
   "outputs": [
    {
     "name": "stdout",
     "output_type": "stream",
     "text": [
      "[0.04500921 0.15607976 0.29882051 0.00562292] [0.29882051 0.59219844 0.0025501  0.09675749] [7.61197653e-04 4.22352005e-03 1.36264014e-02 4.08324707e-10]\n"
     ]
    }
   ],
   "source": [
    "print(md_dist[[172014,457915,525172,651393]],md_distc[[172014,457915,525172,651393]],md_distc1[[172014,457915,525172,651393]])\n",
    "\n"
   ]
  },
  {
   "cell_type": "code",
   "execution_count": 27,
   "metadata": {},
   "outputs": [
    {
     "data": {
      "text/plain": [
       "array([0.02255545, 0.00275855, 0.10355869, 0.00422352])"
      ]
     },
     "execution_count": 27,
     "metadata": {},
     "output_type": "execute_result"
    }
   ],
   "source": [
    "md_dist1[[172014,457915,525172,651393]]"
   ]
  },
  {
   "cell_type": "markdown",
   "metadata": {},
   "source": [
    "# Check distance of cluster centroids with all other contigs \n",
    "\n",
    "\n",
    "\n"
   ]
  },
  {
   "cell_type": "code",
   "execution_count": 110,
   "metadata": {},
   "outputs": [
    {
     "name": "stdout",
     "output_type": "stream",
     "text": [
      "[13.029634 48.280853 41.93228  ... 45.559845 41.107178 19.08432 ]\n"
     ]
    }
   ],
   "source": [
    "import distance_calculations as dist\n",
    "\n",
    "\n",
    "# c1_dist = dist.distance(read_counts[centroid_dist[0]], read_counts, Rc_reads[centroid_dist[0]], Rc_reads, dirichlet_prior_persamples, dirichlet_prior,0)\n",
    "\n",
    "otu1000_dist = dist.distance(read_counts[215370], read_counts, Rc_reads[215370], Rc_reads, dirichlet_prior_persamples, dirichlet_prior,0)\n",
    "\n",
    "\n",
    "print(otu1000_dist)\n",
    "\n",
    "\n",
    "\n"
   ]
  },
  {
   "cell_type": "code",
   "execution_count": 253,
   "metadata": {},
   "outputs": [
    {
     "data": {
      "text/html": [
       "<div>\n",
       "<style scoped>\n",
       "    .dataframe tbody tr th:only-of-type {\n",
       "        vertical-align: middle;\n",
       "    }\n",
       "\n",
       "    .dataframe tbody tr th {\n",
       "        vertical-align: top;\n",
       "    }\n",
       "\n",
       "    .dataframe thead th {\n",
       "        text-align: right;\n",
       "    }\n",
       "</style>\n",
       "<table border=\"1\" class=\"dataframe\">\n",
       "  <thead>\n",
       "    <tr style=\"text-align: right;\">\n",
       "      <th></th>\n",
       "      <th>0</th>\n",
       "      <th>1</th>\n",
       "      <th>2</th>\n",
       "      <th>3</th>\n",
       "      <th>4</th>\n",
       "      <th>5</th>\n",
       "    </tr>\n",
       "  </thead>\n",
       "  <tbody>\n",
       "    <tr>\n",
       "      <th>140774</th>\n",
       "      <td>140774</td>\n",
       "      <td>3226113</td>\n",
       "      <td>S1C1750141</td>\n",
       "      <td>140774</td>\n",
       "      <td>1500</td>\n",
       "      <td>Otu1065</td>\n",
       "    </tr>\n",
       "    <tr>\n",
       "      <th>56739</th>\n",
       "      <td>56739</td>\n",
       "      <td>1274932</td>\n",
       "      <td>S0C1274932</td>\n",
       "      <td>56739</td>\n",
       "      <td>1501</td>\n",
       "      <td>Otu1065</td>\n",
       "    </tr>\n",
       "    <tr>\n",
       "      <th>66413</th>\n",
       "      <td>66413</td>\n",
       "      <td>1498223</td>\n",
       "      <td>S1C22251</td>\n",
       "      <td>66413</td>\n",
       "      <td>1501</td>\n",
       "      <td>Otu1065</td>\n",
       "    </tr>\n",
       "    <tr>\n",
       "      <th>49065</th>\n",
       "      <td>49065</td>\n",
       "      <td>1100862</td>\n",
       "      <td>S0C1100862</td>\n",
       "      <td>49065</td>\n",
       "      <td>1501</td>\n",
       "      <td>Otu1065</td>\n",
       "    </tr>\n",
       "    <tr>\n",
       "      <th>27337</th>\n",
       "      <td>27337</td>\n",
       "      <td>616614</td>\n",
       "      <td>S0C616614</td>\n",
       "      <td>27337</td>\n",
       "      <td>1504</td>\n",
       "      <td>Otu1065</td>\n",
       "    </tr>\n",
       "    <tr>\n",
       "      <th>...</th>\n",
       "      <td>...</td>\n",
       "      <td>...</td>\n",
       "      <td>...</td>\n",
       "      <td>...</td>\n",
       "      <td>...</td>\n",
       "      <td>...</td>\n",
       "    </tr>\n",
       "    <tr>\n",
       "      <th>142047</th>\n",
       "      <td>142047</td>\n",
       "      <td>3254922</td>\n",
       "      <td>S1C1778950</td>\n",
       "      <td>142047</td>\n",
       "      <td>4810</td>\n",
       "      <td>Otu1065</td>\n",
       "    </tr>\n",
       "    <tr>\n",
       "      <th>94237</th>\n",
       "      <td>94237</td>\n",
       "      <td>2145929</td>\n",
       "      <td>S1C669957</td>\n",
       "      <td>94237</td>\n",
       "      <td>5210</td>\n",
       "      <td>Otu1065</td>\n",
       "    </tr>\n",
       "    <tr>\n",
       "      <th>67337</th>\n",
       "      <td>67337</td>\n",
       "      <td>1520141</td>\n",
       "      <td>S1C44169</td>\n",
       "      <td>67337</td>\n",
       "      <td>5239</td>\n",
       "      <td>Otu1065</td>\n",
       "    </tr>\n",
       "    <tr>\n",
       "      <th>124489</th>\n",
       "      <td>124489</td>\n",
       "      <td>2847971</td>\n",
       "      <td>S1C1371999</td>\n",
       "      <td>124489</td>\n",
       "      <td>5267</td>\n",
       "      <td>Otu1065</td>\n",
       "    </tr>\n",
       "    <tr>\n",
       "      <th>71824</th>\n",
       "      <td>71824</td>\n",
       "      <td>1625235</td>\n",
       "      <td>S1C149263</td>\n",
       "      <td>71824</td>\n",
       "      <td>6101</td>\n",
       "      <td>Otu1065</td>\n",
       "    </tr>\n",
       "  </tbody>\n",
       "</table>\n",
       "<p>899 rows × 6 columns</p>\n",
       "</div>"
      ],
      "text/plain": [
       "             0        1           2       3     4        5\n",
       "140774  140774  3226113  S1C1750141  140774  1500  Otu1065\n",
       "56739    56739  1274932  S0C1274932   56739  1501  Otu1065\n",
       "66413    66413  1498223    S1C22251   66413  1501  Otu1065\n",
       "49065    49065  1100862  S0C1100862   49065  1501  Otu1065\n",
       "27337    27337   616614   S0C616614   27337  1504  Otu1065\n",
       "...        ...      ...         ...     ...   ...      ...\n",
       "142047  142047  3254922  S1C1778950  142047  4810  Otu1065\n",
       "94237    94237  2145929   S1C669957   94237  5210  Otu1065\n",
       "67337    67337  1520141    S1C44169   67337  5239  Otu1065\n",
       "124489  124489  2847971  S1C1371999  124489  5267  Otu1065\n",
       "71824    71824  1625235   S1C149263   71824  6101  Otu1065\n",
       "\n",
       "[899 rows x 6 columns]"
      ]
     },
     "execution_count": 253,
     "metadata": {},
     "output_type": "execute_result"
    }
   ],
   "source": [
    "contig_labels[contig_labels[5]=='Otu1065'].sort_values(4)"
   ]
  },
  {
   "cell_type": "code",
   "execution_count": 1,
   "metadata": {},
   "outputs": [
    {
     "ename": "NameError",
     "evalue": "name 'pd' is not defined",
     "output_type": "error",
     "traceback": [
      "\u001b[0;31m---------------------------------------------------------------------------\u001b[0m",
      "\u001b[0;31mNameError\u001b[0m                                 Traceback (most recent call last)",
      "Input \u001b[0;32mIn [1]\u001b[0m, in \u001b[0;36m<cell line: 1>\u001b[0;34m()\u001b[0m\n\u001b[0;32m----> 1\u001b[0m contig_labels \u001b[38;5;241m=\u001b[39m \u001b[43mpd\u001b[49m\u001b[38;5;241m.\u001b[39mread_csv(working_dir \u001b[38;5;241m+\u001b[39m \u001b[38;5;124m'\u001b[39m\u001b[38;5;124mexamine_cluster\u001b[39m\u001b[38;5;124m'\u001b[39m, header\u001b[38;5;241m=\u001b[39m\u001b[38;5;28;01mNone\u001b[39;00m, sep\u001b[38;5;241m=\u001b[39m\u001b[38;5;124m'\u001b[39m\u001b[38;5;124m \u001b[39m\u001b[38;5;124m'\u001b[39m)\n",
      "\u001b[0;31mNameError\u001b[0m: name 'pd' is not defined"
     ]
    }
   ],
   "source": [
    "contig_labels = pd.read_csv(working_dir + 'examine_cluster', header=None, sep=' ')\n",
    "# contig_cluster_id = pd.read_csv(working_dir + 'cluster_assigned_2scpreads_nocap', header=None)\n",
    "# labels_ofcentroids = contig_labels.iloc[centroid_list]\n",
    "# contig_cluster_id\n",
    "\n",
    "# labels_ofcentroids.groupby(5).size().to_csv(working_dir + 'centroids_spcounts', header=None, sep='\\t')"
   ]
  },
  {
   "cell_type": "code",
   "execution_count": 226,
   "metadata": {},
   "outputs": [],
   "source": [
    "##### merge_1 = contig_labels.merge(contig_cluster_id, left_index=True, right_index=True)\n",
    "\n",
    "merge_2 = merge_1.merge(pd.DataFrame(Rc_reads), left_index=True, right_index=True)\n",
    "centroids_cumulative_lnRc = merge_2.groupby('0_y').sum(0)[[4,5,0]]\n",
    "# merge_2.groupby('0_y').sum(0)[[4,5,0]].to_csv(working_dir + 'centroids_cumulative_lnRc', header=None, sep=' ')"
   ]
  },
  {
   "cell_type": "code",
   "execution_count": 255,
   "metadata": {},
   "outputs": [
    {
     "data": {
      "text/html": [
       "<div>\n",
       "<style scoped>\n",
       "    .dataframe tbody tr th:only-of-type {\n",
       "        vertical-align: middle;\n",
       "    }\n",
       "\n",
       "    .dataframe tbody tr th {\n",
       "        vertical-align: top;\n",
       "    }\n",
       "\n",
       "    .dataframe thead th {\n",
       "        text-align: right;\n",
       "    }\n",
       "</style>\n",
       "<table border=\"1\" class=\"dataframe\">\n",
       "  <thead>\n",
       "    <tr style=\"text-align: right;\">\n",
       "      <th></th>\n",
       "      <th>0_x</th>\n",
       "      <th>1</th>\n",
       "      <th>2</th>\n",
       "      <th>3</th>\n",
       "      <th>4</th>\n",
       "      <th>5</th>\n",
       "      <th>0_y</th>\n",
       "      <th>0</th>\n",
       "    </tr>\n",
       "  </thead>\n",
       "  <tbody>\n",
       "    <tr>\n",
       "      <th>41</th>\n",
       "      <td>41</td>\n",
       "      <td>912</td>\n",
       "      <td>S0C912</td>\n",
       "      <td>41</td>\n",
       "      <td>2045</td>\n",
       "      <td>Otu1065</td>\n",
       "      <td>893</td>\n",
       "      <td>39.0</td>\n",
       "    </tr>\n",
       "    <tr>\n",
       "      <th>141</th>\n",
       "      <td>141</td>\n",
       "      <td>3048</td>\n",
       "      <td>S0C3048</td>\n",
       "      <td>141</td>\n",
       "      <td>1692</td>\n",
       "      <td>Otu1065</td>\n",
       "      <td>3376</td>\n",
       "      <td>85.0</td>\n",
       "    </tr>\n",
       "    <tr>\n",
       "      <th>233</th>\n",
       "      <td>233</td>\n",
       "      <td>4994</td>\n",
       "      <td>S0C4994</td>\n",
       "      <td>233</td>\n",
       "      <td>2005</td>\n",
       "      <td>Otu1065</td>\n",
       "      <td>3376</td>\n",
       "      <td>57.0</td>\n",
       "    </tr>\n",
       "    <tr>\n",
       "      <th>244</th>\n",
       "      <td>244</td>\n",
       "      <td>5353</td>\n",
       "      <td>S0C5353</td>\n",
       "      <td>244</td>\n",
       "      <td>1550</td>\n",
       "      <td>Otu1065</td>\n",
       "      <td>3376</td>\n",
       "      <td>35.0</td>\n",
       "    </tr>\n",
       "    <tr>\n",
       "      <th>379</th>\n",
       "      <td>379</td>\n",
       "      <td>8059</td>\n",
       "      <td>S0C8059</td>\n",
       "      <td>379</td>\n",
       "      <td>2090</td>\n",
       "      <td>Otu1065</td>\n",
       "      <td>3376</td>\n",
       "      <td>44.0</td>\n",
       "    </tr>\n",
       "    <tr>\n",
       "      <th>...</th>\n",
       "      <td>...</td>\n",
       "      <td>...</td>\n",
       "      <td>...</td>\n",
       "      <td>...</td>\n",
       "      <td>...</td>\n",
       "      <td>...</td>\n",
       "      <td>...</td>\n",
       "      <td>...</td>\n",
       "    </tr>\n",
       "    <tr>\n",
       "      <th>274521</th>\n",
       "      <td>274521</td>\n",
       "      <td>6421723</td>\n",
       "      <td>S3C1373563</td>\n",
       "      <td>274521</td>\n",
       "      <td>1505</td>\n",
       "      <td>Otu1065</td>\n",
       "      <td>2737</td>\n",
       "      <td>39.0</td>\n",
       "    </tr>\n",
       "    <tr>\n",
       "      <th>276601</th>\n",
       "      <td>276601</td>\n",
       "      <td>6479753</td>\n",
       "      <td>S3C1431593</td>\n",
       "      <td>276601</td>\n",
       "      <td>1685</td>\n",
       "      <td>Otu1065</td>\n",
       "      <td>3376</td>\n",
       "      <td>43.0</td>\n",
       "    </tr>\n",
       "    <tr>\n",
       "      <th>280434</th>\n",
       "      <td>280434</td>\n",
       "      <td>6588608</td>\n",
       "      <td>S3C1540448</td>\n",
       "      <td>280434</td>\n",
       "      <td>2103</td>\n",
       "      <td>Otu1065</td>\n",
       "      <td>3376</td>\n",
       "      <td>49.0</td>\n",
       "    </tr>\n",
       "    <tr>\n",
       "      <th>284629</th>\n",
       "      <td>284629</td>\n",
       "      <td>6705873</td>\n",
       "      <td>S3C1657713</td>\n",
       "      <td>284629</td>\n",
       "      <td>1506</td>\n",
       "      <td>Otu1065</td>\n",
       "      <td>509</td>\n",
       "      <td>33.0</td>\n",
       "    </tr>\n",
       "    <tr>\n",
       "      <th>291901</th>\n",
       "      <td>291901</td>\n",
       "      <td>6911066</td>\n",
       "      <td>S3C1862906</td>\n",
       "      <td>291901</td>\n",
       "      <td>1554</td>\n",
       "      <td>Otu1065</td>\n",
       "      <td>509</td>\n",
       "      <td>30.0</td>\n",
       "    </tr>\n",
       "  </tbody>\n",
       "</table>\n",
       "<p>899 rows × 8 columns</p>\n",
       "</div>"
      ],
      "text/plain": [
       "           0_x        1           2       3     4        5   0_y     0\n",
       "41          41      912      S0C912      41  2045  Otu1065   893  39.0\n",
       "141        141     3048     S0C3048     141  1692  Otu1065  3376  85.0\n",
       "233        233     4994     S0C4994     233  2005  Otu1065  3376  57.0\n",
       "244        244     5353     S0C5353     244  1550  Otu1065  3376  35.0\n",
       "379        379     8059     S0C8059     379  2090  Otu1065  3376  44.0\n",
       "...        ...      ...         ...     ...   ...      ...   ...   ...\n",
       "274521  274521  6421723  S3C1373563  274521  1505  Otu1065  2737  39.0\n",
       "276601  276601  6479753  S3C1431593  276601  1685  Otu1065  3376  43.0\n",
       "280434  280434  6588608  S3C1540448  280434  2103  Otu1065  3376  49.0\n",
       "284629  284629  6705873  S3C1657713  284629  1506  Otu1065   509  33.0\n",
       "291901  291901  6911066  S3C1862906  291901  1554  Otu1065   509  30.0\n",
       "\n",
       "[899 rows x 8 columns]"
      ]
     },
     "execution_count": 255,
     "metadata": {},
     "output_type": "execute_result"
    }
   ],
   "source": [
    "merge_2[merge_2[5]=='Otu1065']"
   ]
  },
  {
   "cell_type": "code",
   "execution_count": 232,
   "metadata": {},
   "outputs": [],
   "source": [
    "centroids_cumulative_lnRc_withnumberofgenomesincluster = centroids_cumulative_lnRc.merge(merge_2.groupby('0_y')[5].nunique(), left_index=True, right_index=True)\n",
    "\n",
    "\n",
    "\n"
   ]
  },
  {
   "cell_type": "code",
   "execution_count": 234,
   "metadata": {},
   "outputs": [],
   "source": [
    "centroids_cumulative_lnRc_withnumberofgenomesincluster.to_csv(working_dir + 'centroids_cumulative_lnRc_withnumberofgenomesincluster', header=None, sep=' ')"
   ]
  },
  {
   "cell_type": "code",
   "execution_count": 259,
   "metadata": {},
   "outputs": [
    {
     "data": {
      "text/html": [
       "<div>\n",
       "<style scoped>\n",
       "    .dataframe tbody tr th:only-of-type {\n",
       "        vertical-align: middle;\n",
       "    }\n",
       "\n",
       "    .dataframe tbody tr th {\n",
       "        vertical-align: top;\n",
       "    }\n",
       "\n",
       "    .dataframe thead th {\n",
       "        text-align: right;\n",
       "    }\n",
       "</style>\n",
       "<table border=\"1\" class=\"dataframe\">\n",
       "  <thead>\n",
       "    <tr style=\"text-align: right;\">\n",
       "      <th></th>\n",
       "      <th>4</th>\n",
       "      <th>5_x</th>\n",
       "      <th>0</th>\n",
       "      <th>5_y</th>\n",
       "    </tr>\n",
       "    <tr>\n",
       "      <th>0_y</th>\n",
       "      <th></th>\n",
       "      <th></th>\n",
       "      <th></th>\n",
       "      <th></th>\n",
       "    </tr>\n",
       "  </thead>\n",
       "  <tbody>\n",
       "    <tr>\n",
       "      <th>48</th>\n",
       "      <td>6623251</td>\n",
       "      <td>Otu23Otu23Otu23Otu23Otu23Otu23Otu23Otu23Otu23O...</td>\n",
       "      <td>2.397352e+06</td>\n",
       "      <td>1</td>\n",
       "    </tr>\n",
       "    <tr>\n",
       "      <th>63</th>\n",
       "      <td>28483315</td>\n",
       "      <td>Otu189Otu189Otu189Otu189Otu189Otu189Otu189Otu1...</td>\n",
       "      <td>4.425592e+06</td>\n",
       "      <td>1</td>\n",
       "    </tr>\n",
       "    <tr>\n",
       "      <th>74</th>\n",
       "      <td>558172</td>\n",
       "      <td>RNODE_146_length_5606_cov_4.42067RNODE_146_len...</td>\n",
       "      <td>5.038534e+06</td>\n",
       "      <td>1</td>\n",
       "    </tr>\n",
       "    <tr>\n",
       "      <th>231</th>\n",
       "      <td>1297131</td>\n",
       "      <td>Otu239.0Otu239.0Otu239.0Otu239.0Otu239.0Otu239...</td>\n",
       "      <td>1.498347e+05</td>\n",
       "      <td>1</td>\n",
       "    </tr>\n",
       "    <tr>\n",
       "      <th>269</th>\n",
       "      <td>4314915</td>\n",
       "      <td>Otu250Otu250Otu250Otu250Otu250Otu250Otu250Otu2...</td>\n",
       "      <td>4.941229e+05</td>\n",
       "      <td>1</td>\n",
       "    </tr>\n",
       "    <tr>\n",
       "      <th>...</th>\n",
       "      <td>...</td>\n",
       "      <td>...</td>\n",
       "      <td>...</td>\n",
       "      <td>...</td>\n",
       "    </tr>\n",
       "    <tr>\n",
       "      <th>19517</th>\n",
       "      <td>1630</td>\n",
       "      <td>Otu133.1</td>\n",
       "      <td>1.550000e+01</td>\n",
       "      <td>1</td>\n",
       "    </tr>\n",
       "    <tr>\n",
       "      <th>19518</th>\n",
       "      <td>1514</td>\n",
       "      <td>Otu980</td>\n",
       "      <td>9.300000e+01</td>\n",
       "      <td>1</td>\n",
       "    </tr>\n",
       "    <tr>\n",
       "      <th>19519</th>\n",
       "      <td>1531</td>\n",
       "      <td>Otu648.0</td>\n",
       "      <td>5.400000e+01</td>\n",
       "      <td>1</td>\n",
       "    </tr>\n",
       "    <tr>\n",
       "      <th>19520</th>\n",
       "      <td>1582</td>\n",
       "      <td>Otu608</td>\n",
       "      <td>5.400000e+01</td>\n",
       "      <td>1</td>\n",
       "    </tr>\n",
       "    <tr>\n",
       "      <th>19521</th>\n",
       "      <td>1637</td>\n",
       "      <td>Otu338</td>\n",
       "      <td>6.300000e+01</td>\n",
       "      <td>1</td>\n",
       "    </tr>\n",
       "  </tbody>\n",
       "</table>\n",
       "<p>13889 rows × 4 columns</p>\n",
       "</div>"
      ],
      "text/plain": [
       "              4                                                5_x  \\\n",
       "0_y                                                                  \n",
       "48      6623251  Otu23Otu23Otu23Otu23Otu23Otu23Otu23Otu23Otu23O...   \n",
       "63     28483315  Otu189Otu189Otu189Otu189Otu189Otu189Otu189Otu1...   \n",
       "74       558172  RNODE_146_length_5606_cov_4.42067RNODE_146_len...   \n",
       "231     1297131  Otu239.0Otu239.0Otu239.0Otu239.0Otu239.0Otu239...   \n",
       "269     4314915  Otu250Otu250Otu250Otu250Otu250Otu250Otu250Otu2...   \n",
       "...         ...                                                ...   \n",
       "19517      1630                                           Otu133.1   \n",
       "19518      1514                                             Otu980   \n",
       "19519      1531                                           Otu648.0   \n",
       "19520      1582                                             Otu608   \n",
       "19521      1637                                             Otu338   \n",
       "\n",
       "                  0  5_y  \n",
       "0_y                       \n",
       "48     2.397352e+06    1  \n",
       "63     4.425592e+06    1  \n",
       "74     5.038534e+06    1  \n",
       "231    1.498347e+05    1  \n",
       "269    4.941229e+05    1  \n",
       "...             ...  ...  \n",
       "19517  1.550000e+01    1  \n",
       "19518  9.300000e+01    1  \n",
       "19519  5.400000e+01    1  \n",
       "19520  5.400000e+01    1  \n",
       "19521  6.300000e+01    1  \n",
       "\n",
       "[13889 rows x 4 columns]"
      ]
     },
     "execution_count": 259,
     "metadata": {},
     "output_type": "execute_result"
    }
   ],
   "source": [
    "pure_cluster = centroids_cumulative_lnRc_withnumberofgenomesincluster[centroids_cumulative_lnRc_withnumberofgenomesincluster['5_y']==1]\n",
    "\n",
    "impure_cluster = centroids_cumulative_lnRc_withnumberofgenomesincluster[centroids_cumulative_lnRc_withnumberofgenomesincluster['5_y']>1]\n",
    "\n",
    "\n",
    "pure_cluster"
   ]
  },
  {
   "cell_type": "code",
   "execution_count": null,
   "metadata": {},
   "outputs": [],
   "source": [
    "import scipy stats\n",
    "# np.corrcoef(impure_cluster[4],impure_cluster[0])\n",
    "ss."
   ]
  },
  {
   "cell_type": "code",
   "execution_count": 257,
   "metadata": {},
   "outputs": [
    {
     "data": {
      "text/plain": [
       "<matplotlib.collections.PathCollection at 0x7fee0a8287f0>"
      ]
     },
     "execution_count": 257,
     "metadata": {},
     "output_type": "execute_result"
    },
    {
     "data": {
      "image/png": "[encoded data removed]",
      "text/plain": [
       "<Figure size 432x288 with 1 Axes>"
      ]
     },
     "metadata": {
      "needs_background": "light"
     },
     "output_type": "display_data"
    }
   ],
   "source": [
    "import matplotlib.pyplot as plt\n",
    "\n",
    "plt.scatter(pure_cluster[4],pure_cluster[0])\n",
    "\n",
    "\n"
   ]
  },
  {
   "cell_type": "code",
   "execution_count": 57,
   "metadata": {},
   "outputs": [
    {
     "name": "stdout",
     "output_type": "stream",
     "text": [
      "138077028.3419695 R alhpa term\n",
      "-138077097.79197305\n"
     ]
    },
    {
     "data": {
      "text/plain": [
       "2.7729097222199808e-28"
      ]
     },
     "execution_count": 57,
     "metadata": {},
     "output_type": "execute_result"
    }
   ],
   "source": [
    "a = np.array([2431,2962,5421,6123,9095,11438,12189,13710,16186,16674,21327,22784,23151,26398,26709,29876,32479,35126,36038,36250])\n",
    "\n",
    "# sp20_inds = np.loadtxt(working_dir + '20sp_check/20sp_inds', dtype=int)\n",
    "# # # sp20_inds = sp20_inds[0:10001]\n",
    "# read_counts = read_counts[sp20_inds]\n",
    "\n",
    "from distance_calculations import distance\n",
    "distance(read_counts[a].sum(axis=0),read_counts[a].sum(axis=0), sum(read_counts[a].sum(axis=0)), sum(read_counts[a].sum(axis=0)), dirichlet_prior_persamples, dirichlet_prior, 0)\n"
   ]
  },
  {
   "cell_type": "code",
   "execution_count": 55,
   "metadata": {},
   "outputs": [
    {
     "data": {
      "text/plain": [
       "99609920.0"
      ]
     },
     "execution_count": 55,
     "metadata": {},
     "output_type": "execute_result"
    }
   ],
   "source": [
    "138077028.3419695 R alhpa term\n",
    "-138077097.79197305"
   ]
  },
  {
   "cell_type": "code",
   "execution_count": 51,
   "metadata": {},
   "outputs": [
    {
     "name": "stdout",
     "output_type": "stream",
     "text": [
      "[ 3089.      6608.       839.0156 ... 23447.     15616.       217.    ] 9802424.0 63.0\n"
     ]
    }
   ],
   "source": [
    "print(Rc_reads, np.max(Rc_reads), np.min(Rc_reads))"
   ]
  },
  {
   "cell_type": "code",
   "execution_count": 75,
   "metadata": {},
   "outputs": [],
   "source": [
    "check_dist = labels_ofcentroids.loc[labels_ofcentroids[5].str.contains(\"Otu2.0\", case=False)][0]"
   ]
  },
  {
   "cell_type": "code",
   "execution_count": 163,
   "metadata": {},
   "outputs": [],
   "source": [
    "centroidotu79_0_ind = labels_ofcentroids.loc[labels_ofcentroids[5]==\"Otu79.0\"][0]"
   ]
  },
  {
   "cell_type": "code",
   "execution_count": 63,
   "metadata": {},
   "outputs": [
    {
     "data": {
      "text/plain": [
       "99609915"
      ]
     },
     "execution_count": 63,
     "metadata": {},
     "output_type": "execute_result"
    }
   ],
   "source": [
    "np.array([19592240,11347230,13769411,10296519,3443718,4875977,5218591,10452499,14331139,6282591]).sum()"
   ]
  },
  {
   "cell_type": "code",
   "execution_count": 53,
   "metadata": {},
   "outputs": [
    {
     "data": {
      "image/png": "[encoded data removed]",
      "text/plain": [
       "<Figure size 432x288 with 1 Axes>"
      ]
     },
     "metadata": {
      "needs_background": "light"
     },
     "output_type": "display_data"
    }
   ],
   "source": [
    "import numpy as np\n",
    "import matplotlib.pyplot as plt \n",
    "\n",
    "# working_dir = \"/big/work/metadevol/cami2_datasets/marine/bowtie_bamfiles/tmp/\"\n",
    "# dist_check = np.load(working_dir + 'X_readdist_clustercentroids.npy')\n",
    "\n",
    "# plt.plot(dist_check[0])\n",
    "# plt.ylim(0,25)\n",
    "\n",
    "# len(set(dist_check[0]))\n",
    "# len(np.where( dist_check[0] >= 0.0)[0])\n",
    "plt.plot(np.unique(dist_check[1000], return_counts=True)[1], color='orange')\n",
    "plt.savefig(working_dir + 'distance_distforfloat2.png', format='png', dpi=600)\n",
    "# plt.xlim(0,200)\n",
    "# dist_check[0]"
   ]
  },
  {
   "cell_type": "code",
   "execution_count": 61,
   "metadata": {},
   "outputs": [],
   "source": [
    "import pandas as pd\n",
    "bins = pd.read_csv(working_dir + 'try/bin_assignments_old_cc', header=None, sep='\\t')\n",
    "contig_labels = pd.read_csv(working_dir + 'try/examine_cluster_subset', header=None,sep=' ')\n",
    "\n",
    "merged = bins.merge(contig_labels, left_on=0, right_on=2)[['1_x','0_y','1_y',2,3,4,5]]\n",
    "\n",
    "merged.to_csv(working_dir + 'try/bins_label', sep=' ', header=None)"
   ]
  },
  {
   "cell_type": "code",
   "execution_count": 68,
   "metadata": {},
   "outputs": [
    {
     "name": "stdout",
     "output_type": "stream",
     "text": [
      "6.3412162128240345e-49 4.251696716994047\n"
     ]
    }
   ],
   "source": [
    "centroid_selfdist = []\n",
    "\n",
    "for f in centroid_list:\n",
    "    \n",
    "    centroid_selfdist.append(dist.distance(read_counts[f], read_counts[f], Rc_reads[f], Rc_reads[f], dirichlet_prior_persamples, dirichlet_prior,0))\n",
    "\n",
    "\n",
    "print(np.min(centroid_selfdist), np.max(centroid_selfdist))\n"
   ]
  },
  {
   "cell_type": "code",
   "execution_count": 107,
   "metadata": {},
   "outputs": [
    {
     "data": {
      "text/plain": [
       "0.00018316509206648331"
      ]
     },
     "execution_count": 107,
     "metadata": {},
     "output_type": "execute_result"
    }
   ],
   "source": [
    "np.min(np.array(centroid_selfdist)[np.where(np.in1d(centroid_list, centroidotu1000_ind))[0]])"
   ]
  },
  {
   "cell_type": "code",
   "execution_count": 75,
   "metadata": {},
   "outputs": [
    {
     "name": "stdout",
     "output_type": "stream",
     "text": [
      "[1 1 2 4 4 4 4] [[1 0]\n",
      " [2 1]\n",
      " [4 2]]\n"
     ]
    }
   ],
   "source": [
    "a = np.array([1,1,2,4,4,4,4])\n",
    "b = np.vstack([np.unique([1,1,2,4,4,4,4]),np.arange(len(np.unique([1,1,2,4,4,4,4])))]).T\n",
    "\n",
    "print(a, b)"
   ]
  },
  {
   "cell_type": "code",
   "execution_count": 21,
   "metadata": {},
   "outputs": [],
   "source": [
    "np.savetxt(\"/big/work/metadevol/cami2_datasets/marine/bowtie_bamfiles/tmp/lengt2000_indices\",np.nonzero(contig_length>2000)[0], fmt='%d')"
   ]
  },
  {
   "cell_type": "code",
   "execution_count": 43,
   "metadata": {},
   "outputs": [],
   "source": [
    "# Rc_reads = np.sum(read_counts, axis=1, keepdims=True)\n",
    "\n",
    "# R_max = 1e4\n",
    "# scale_downr = np.minimum(1, R_max/Rc_reads)\n",
    "# scale_downr\n",
    "\n",
    "fractional_counts = pd.read_csv(working_dir + \"total_count\", header=None,sep=' ', engine=\"pyarrow\")\n",
    "read_counts = fractional_counts.pivot_table(index = 1, columns = 0, values = 2)\n",
    "# read_counts = pd.read_pickle(working_dir + 'X_pickle')\n",
    "del(fractional_counts)\n",
    "\n",
    "\n",
    "read_counts = read_counts.to_numpy(dtype=np.float32).T\n",
    "Rc_reads = np.sum(read_counts, axis=1, keepdims=True)\n"
   ]
  },
  {
   "cell_type": "code",
   "execution_count": 35,
   "metadata": {},
   "outputs": [
    {
     "data": {
      "text/plain": [
       "440804.0"
      ]
     },
     "execution_count": 35,
     "metadata": {},
     "output_type": "execute_result"
    }
   ],
   "source": [
    "R_max = 1e4\n",
    "scale_downr = np.minimum(1, R_max/Rc_reads)\n",
    "read_counts = np.multiply(read_counts, scale_downr)\n",
    "np.max(read_counts.sum(axis=1))"
   ]
  },
  {
   "cell_type": "code",
   "execution_count": 5,
   "metadata": {},
   "outputs": [],
   "source": [
    "working_dir = '/big/work/metadevol/cami2_datasets/marine/bowtie_bamfiles/tmp/'\n",
    "fractional_counts = pd.read_csv(working_dir + \"total_count\", header=None,sep=' ', engine=\"pyarrow\")\n",
    "read_counts = fractional_counts.pivot_table(index = 1, columns = 0, values = 2)\n",
    "read_counts = pd.read_pickle(working_dir + 'X_pickle')\n",
    "read_counts = read_counts.to_numpy().T\n",
    "# del(fractional_counts)"
   ]
  },
  {
   "cell_type": "code",
   "execution_count": 24,
   "metadata": {},
   "outputs": [
    {
     "data": {
      "text/plain": [
       "Text(0.5, 0, 'sample')"
      ]
     },
     "execution_count": 24,
     "metadata": {},
     "output_type": "execute_result"
    },
    {
     "data": {
      "image/png": "[encoded data removed]",
      "text/plain": [
       "<Figure size 432x288 with 1 Axes>"
      ]
     },
     "metadata": {
      "needs_background": "light"
     },
     "output_type": "display_data"
    }
   ],
   "source": [
    "import matplotlib.pyplot as plt \n",
    "\n",
    "# cluster id 97\n",
    "plt.plot(np.log(read_counts[273994].T))\n",
    "# plt.plot(np.log(read_counts[624135].T))\n",
    "plt.plot(np.log(read_counts[649089].T))\n",
    "plt.plot(np.log(read_counts[26161].T))\n",
    "plt.plot(np.log(read_counts[143039].T))\n",
    "plt.plot(np.log(read_counts[476045].T))\n",
    "\n",
    "plt.ylabel('read counts')\n",
    "plt.xlabel('sample')"
   ]
  },
  {
   "cell_type": "code",
   "execution_count": 22,
   "metadata": {},
   "outputs": [
    {
     "data": {
      "text/plain": [
       "Text(0.5, 0, 'sample')"
      ]
     },
     "execution_count": 22,
     "metadata": {},
     "output_type": "execute_result"
    },
    {
     "data": {
      "image/png": "[encoded data removed]",
      "text/plain": [
       "<Figure size 432x288 with 1 Axes>"
      ]
     },
     "metadata": {
      "needs_background": "light"
     },
     "output_type": "display_data"
    }
   ],
   "source": [
    "plt.plot(np.log(read_counts[38727].T)) # long\n",
    "plt.plot(np.log(read_counts[245768].T)) # long\n",
    "plt.plot(np.log(read_counts[178668].T)) # short\n",
    "plt.plot(np.log(read_counts[570597].T)) # short\n",
    "plt.plot(np.log(read_counts[187166].T)) # short\n",
    "plt.ylabel('read counts')\n",
    "plt.xlabel('sample')"
   ]
  },
  {
   "cell_type": "code",
   "execution_count": 12,
   "metadata": {},
   "outputs": [
    {
     "data": {
      "text/plain": [
       "[<matplotlib.lines.Line2D at 0x7f7228d52730>]"
      ]
     },
     "execution_count": 12,
     "metadata": {},
     "output_type": "execute_result"
    },
    {
     "data": {
      "image/png": "[encoded data removed]",
      "text/plain": [
       "<Figure size 432x288 with 1 Axes>"
      ]
     },
     "metadata": {
      "needs_background": "light"
     },
     "output_type": "display_data"
    }
   ],
   "source": [
    "# Rc_reads = np.sum(read_counts, axis=1, keepdims=True)\n",
    "\n",
    "# R_max = 1e5\n",
    "# scale_down = np.minimum(1, R_max/Rc_reads)\n",
    "# read_counts1 = np.multiply(read_counts, scale_down)\n",
    "\n",
    "import matplotlib.pyplot as plt \n",
    "\n",
    "\n",
    "plt.plot(np.log(read_counts1[273994].T))\n",
    "plt.plot(np.log(read_counts1[649089].T))\n",
    "plt.plot(np.log(read_counts1[26161].T))\n",
    "plt.plot(np.log(read_counts1[143039].T))\n"
   ]
  },
  {
   "cell_type": "code",
   "execution_count": null,
   "metadata": {},
   "outputs": [],
   "source": []
  },
  {
   "cell_type": "code",
   "execution_count": 32,
   "metadata": {},
   "outputs": [
    {
     "data": {
      "text/plain": [
       "14.939452114571111"
      ]
     },
     "execution_count": 32,
     "metadata": {},
     "output_type": "execute_result"
    }
   ],
   "source": [
    "import optimize_parameters_scipy as ops\n",
    "\n",
    "ops.optimize_alpha(read_counts, Rc_reads, Rn_reads, n_size)"
   ]
  },
  {
   "cell_type": "code",
   "execution_count": 33,
   "metadata": {},
   "outputs": [
    {
     "data": {
      "text/plain": [
       "14.939223599037547"
      ]
     },
     "execution_count": 33,
     "metadata": {},
     "output_type": "execute_result"
    }
   ],
   "source": [
    "import optimize_parameters_try as opa\n",
    "\n",
    "opa.optimize_alpha(read_counts, Rc_reads, Rn_reads, n_size)"
   ]
  },
  {
   "cell_type": "code",
   "execution_count": 7,
   "metadata": {},
   "outputs": [
    {
     "name": "stdout",
     "output_type": "stream",
     "text": [
      "obtained alpha parameter for read counts 14.96382013577135 in 17.689022064208984 seconds\n"
     ]
    }
   ],
   "source": [
    "import optimize_parameters as opt\n",
    "ss = time.time()\n",
    "dirichlet_prior = opt.optimize_alpha(read_counts, Rc_reads, Rn_reads, n_size)\n",
    "print('obtained alpha parameter for read counts', dirichlet_prior, 'in' ,time.time()-ss,'seconds')\n",
    "ss = time.time()"
   ]
  },
  {
   "cell_type": "code",
   "execution_count": 29,
   "metadata": {},
   "outputs": [
    {
     "data": {
      "text/plain": [
       "(array([671683]),)"
      ]
     },
     "execution_count": 29,
     "metadata": {},
     "output_type": "execute_result"
    }
   ],
   "source": [
    "read_counts[355536]\n",
    "\n",
    "iterate_ind = np.argsort(Rc_reads)[::-1]\n",
    "\n",
    "np.nonzero(iterate_ind==355536)"
   ]
  },
  {
   "cell_type": "code",
   "execution_count": 75,
   "metadata": {},
   "outputs": [],
   "source": [
    "import optimize_parameters as opt\n",
    "\n",
    "opt.optimize_alpha(read_co)\n"
   ]
  },
  {
   "cell_type": "code",
   "execution_count": 42,
   "metadata": {},
   "outputs": [
    {
     "data": {
      "text/plain": [
       "array([5., 3., 8., 9., 5., 3., 8., 1., 4., 4.], dtype=float32)"
      ]
     },
     "execution_count": 42,
     "metadata": {},
     "output_type": "execute_result"
    }
   ],
   "source": [
    "# xx = pd.read_csv(working_dir + \"total_count\", header=None,sep=' ', engine=\"pyarrow\")\n",
    "\n",
    "# xx = xx.pivot_table(index = 1, columns = 0, values = 2).to_numpy()\n",
    "read_counts[278322]"
   ]
  },
  {
   "cell_type": "code",
   "execution_count": 6,
   "metadata": {},
   "outputs": [
    {
     "ename": "NameError",
     "evalue": "name 'read_counts' is not defined",
     "output_type": "error",
     "traceback": [
      "\u001b[0;31m---------------------------------------------------------------------------\u001b[0m",
      "\u001b[0;31mNameError\u001b[0m                                 Traceback (most recent call last)",
      "Input \u001b[0;32mIn [6]\u001b[0m, in \u001b[0;36m<cell line: 1>\u001b[0;34m()\u001b[0m\n\u001b[0;32m----> 1\u001b[0m opt\u001b[38;5;241m.\u001b[39moptimize_alpha(\u001b[43mread_counts\u001b[49m, Rc_reads, Rn_reads, n_size)\n",
      "\u001b[0;31mNameError\u001b[0m: name 'read_counts' is not defined"
     ]
    }
   ],
   "source": [
    "opt.optimize_alpha(read_counts, Rc_reads, Rn_reads, n_size)"
   ]
  },
  {
   "cell_type": "code",
   "execution_count": 3,
   "metadata": {},
   "outputs": [
    {
     "data": {
      "text/plain": [
       "array([4.5994925], dtype=float32)"
      ]
     },
     "execution_count": 3,
     "metadata": {},
     "output_type": "execute_result"
    }
   ],
   "source": [
    "import simdefynewavx2\n",
    "\n",
    "simdefynewavx2.init()\n",
    "\n",
    "\n",
    "\n",
    "simdefynewavx2.log_gamma_avx2([0.01])"
   ]
  },
  {
   "cell_type": "code",
   "execution_count": 19,
   "metadata": {},
   "outputs": [],
   "source": [
    "import cProfile"
   ]
  },
  {
   "cell_type": "code",
   "execution_count": 20,
   "metadata": {
    "scrolled": true
   },
   "outputs": [
    {
     "name": "stdout",
     "output_type": "stream",
     "text": [
      "         1388 function calls in 11.197 seconds\n",
      "\n",
      "   Ordered by: standard name\n",
      "\n",
      "   ncalls  tottime  percall  cumtime  percall filename:lineno(function)\n",
      "        1    0.000    0.000   11.196   11.196 <string>:1(<module>)\n",
      "      259    0.000    0.000    1.160    0.004 _methods.py:46(_sum)\n",
      "        1    0.000    0.000   11.196   11.196 _minimize.py:738(minimize_scalar)\n",
      "        1    0.000    0.000    0.000    0.000 _optimize.py:122(__getattr__)\n",
      "        1    0.000    0.000    0.000    0.000 _optimize.py:147(_check_unknown_options)\n",
      "        1    0.000    0.000    0.000    0.000 _optimize.py:2216(__init__)\n",
      "        1    0.000    0.000    0.000    0.000 _optimize.py:2231(set_bracket)\n",
      "        1    0.000    0.000    1.260    1.260 _optimize.py:2234(get_bracket_info)\n",
      "        1    0.001    0.001   11.196   11.196 _optimize.py:2265(optimize)\n",
      "        1    0.000    0.000    0.000    0.000 _optimize.py:2382(get_result)\n",
      "        1    0.000    0.000   11.196   11.196 _optimize.py:2468(_minimize_scalar_brent)\n",
      "        1    0.000    0.000    1.260    1.260 _optimize.py:2697(bracket)\n",
      "      222    0.001    0.000    9.437    0.043 optimize_parameters.py:14(log_gamma)\n",
      "       74    0.192    0.003    4.860    0.066 optimize_parameters.py:17(factorial)\n",
      "       37    0.404    0.011   11.195    0.303 optimize_parameters.py:20(train_alpha)\n",
      "        1    0.000    0.000   11.196   11.196 optimize_parameters.py:30(optimize_alpha)\n",
      "       37    0.000    0.000   11.195    0.303 optimize_parameters.py:32(<lambda>)\n",
      "        1    0.000    0.000    0.000    0.000 {built-in method builtins.callable}\n",
      "        1    0.000    0.000   11.197   11.197 {built-in method builtins.exec}\n",
      "        2    0.000    0.000    0.000    0.000 {built-in method builtins.isinstance}\n",
      "      222    9.436    0.043    9.436    0.043 {built-in method simdefy.log_gamma}\n",
      "        1    0.000    0.000    0.000    0.000 {method 'disable' of '_lsprof.Profiler' objects}\n",
      "        1    0.000    0.000    0.000    0.000 {method 'get' of 'dict' objects}\n",
      "        1    0.000    0.000    0.000    0.000 {method 'lower' of 'str' objects}\n",
      "      259    1.160    0.004    1.160    0.004 {method 'reduce' of 'numpy.ufunc' objects}\n",
      "      259    0.001    0.000    1.161    0.004 {method 'sum' of 'numpy.ndarray' objects}\n",
      "\n",
      "\n"
     ]
    }
   ],
   "source": [
    "cProfile.run('opt.optimize_alpha(read_counts, Rc_reads, Rn_reads, n_size)')"
   ]
  },
  {
   "cell_type": "code",
   "execution_count": 118,
   "metadata": {},
   "outputs": [],
   "source": [
    "import numpy as np\n",
    "import distance_calculations as dist\n",
    "import bin_assignments as assign\n",
    "from multiprocessing.pool import Pool\n",
    "from os import getpid\n",
    "import logging\n",
    "\n",
    "def np_relu(x):\n",
    "    \n",
    "    return np.maximum(0,x)\n",
    "\n",
    "\n",
    "def initialize_Z(W, X):\n",
    "    \n",
    "    W_t = np.transpose(W)\n",
    "    lmda = 0.1\n",
    "    inverse_term = np.linalg.inv(np.eye(W.shape[1]) + (lmda ** -1) * np.matmul(W_t,W))\n",
    "    woodbury = (lmda ** -1) * np.eye(W.shape[0]) - np.matmul((lmda ** -2) * W , np.matmul(inverse_term, W_t))\n",
    "    # print(np.shape(woodbury), np.shape(np.matmul(woodbury, W)), np.shape(X.T), flush=True)\n",
    "    Z = np_relu(np.matmul(np.matmul(woodbury, W), X.T))\n",
    "    \n",
    "    return Z\n",
    "\n",
    "\n",
    "def maximize_function(w, z, x):\n",
    "    \n",
    "    mean = np.matmul(z.T, w)\n",
    "    mean = 1e-10 + np_relu(mean)\n",
    "    negative_log_likelihood = (- mean + np.multiply(x, np.log(mean))).sum()\n",
    "\n",
    "    return negative_log_likelihood\n",
    "\n",
    "\n",
    "def calc_aic(w, z, x):\n",
    "\n",
    "    mean = np.matmul(z.T, w)\n",
    "    mean = 1e-10 + np_relu(mean)\n",
    "    log_likelihood = (- mean + np.multiply(x, np.log(mean))).sum()\n",
    "    AIC = log_likelihood - np.count_nonzero(np_relu(w) > 1e-05) - np.count_nonzero(np_relu(z) > 1e-05)\n",
    "    \n",
    "    return AIC\n",
    "\n",
    "\n",
    "\"\"\" Multiplicative Updates \"\"\"\n",
    "\n",
    "def multiplicative_updates(W, Z, X, n, method):\n",
    "    \n",
    "    lw = 0.0\n",
    "    lz = 0.8\n",
    "    beta = 0.5\n",
    "    convergence_criteria = 0.0001\n",
    "    epsilon_reg = 1e-05\n",
    "    loss_values = []\n",
    "    \n",
    "    global AIC\n",
    "    \n",
    "    if method == 0:\n",
    "        \n",
    "        for i in range(n):\n",
    "            \n",
    "            mean = np.matmul(Z.T, W)\n",
    "            mean = 1e-10 + np_relu(mean)\n",
    "            X_by_mean = X / mean\n",
    "            \n",
    "            W = np.multiply(W, np_relu(np.matmul(Z, X_by_mean)))\n",
    "            W = W / np.array([W.sum(axis = 1)]).T\n",
    "            Z = np.multiply(Z, np_relu(np.matmul(W, X_by_mean.T)))\n",
    "\n",
    "            loss_values.append(maximize_function(W, Z, X))\n",
    "            \n",
    "            if len(loss_values) >= 10 :\n",
    "                \n",
    "                if ((loss_values[i] - loss_values[i-10]) / loss_values[i]) < convergence_criteria:\n",
    "                    AIC = calc_aic(W, Z, X)\n",
    "#                     print(\"Function is converged\")\n",
    "                    break\n",
    "\n",
    "        return  Z\n",
    "    \n",
    "    \n",
    "    if method == 1:\n",
    "        \n",
    "        for i in range(n):\n",
    "\n",
    "            mean = np.matmul(Z.T, W)\n",
    "            mean = 1e-10 + np_relu(mean)\n",
    "            X_by_mean = X / mean\n",
    "\n",
    "            Z_reg =  (lz * beta) / np.abs(Z+epsilon_reg) ** (1-beta)\n",
    "            Z = np.multiply(Z, np_relu(np.matmul(W, X_by_mean.T) - Z_reg))\n",
    "            \n",
    "            loss_values.append(maximize_function(W, Z, X))\n",
    "\n",
    "            if len(loss_values) >= 10 :\n",
    "                if ((loss_values[i] - loss_values[i-10]) / loss_values[i]) < convergence_criteria:\n",
    "                    AIC = calc_aic(W, Z, X)\n",
    "#                     print(\"Function is converged\")\n",
    "                    break\n",
    "                \n",
    "        return  Z, loss_values, AIC    \n",
    "\n",
    "    if method == 2:\n",
    "            \n",
    "            for i in range(n):\n",
    "\n",
    "                mean = np.matmul(Z.T, W)\n",
    "                mean = 1e-10 + np_relu(mean)\n",
    "                X_by_mean = X / mean\n",
    "\n",
    "                W_reg =  (lw * beta) / np.abs(W+epsilon_reg) ** (1-beta)\n",
    "                Z_reg =  (lz * beta) / np.abs(Z+epsilon_reg) ** (1-beta)\n",
    "\n",
    "                W = np.multiply(W, np_relu(np.matmul(Z, X_by_mean) - W_reg))\n",
    "                W = W / np.array([W.sum(axis = 1) ]).T\n",
    "                Z = np.multiply(Z, np_relu(np.matmul(W, X_by_mean.T) - Z_reg))\n",
    "\n",
    "                loss_values.append(maximize_function(W, Z, X))\n",
    "\n",
    "                if len(loss_values) >= 10 :\n",
    "                    if ((loss_values[i] - loss_values[i-10]) / loss_values[i]) < convergence_criteria:\n",
    "                        AIC = calc_aic(W, Z, X)\n",
    "                        # print(\"Function is converged\")\n",
    "                        break\n",
    "                    \n",
    "            return  W, Z, loss_values, AIC\n",
    "\n",
    "\n",
    "def obtain_best_noofbins(argv):\n",
    "    \n",
    "    dat_s = argv[0]\n",
    "    epsilon = argv[1]\n",
    "    Rc_s = argv[2]\n",
    "    an = argv[3]\n",
    "    alpha = argv[4]\n",
    "    num_iterations = argv[5]\n",
    "    AIC_score = argv[6]\n",
    "    optimized = argv[7]\n",
    "    LL_values = argv[8]\n",
    "    trial_bval = argv[9]\n",
    "    \n",
    "    if trial_bval == 0:\n",
    "\n",
    "        k_contigs = np.array([dat_s.sum(axis=0) + epsilon])\n",
    "\n",
    "    else:\n",
    "\n",
    "        k_contigs = []\n",
    "        ind = []\n",
    "\n",
    "        c0_ind = np.argmax(dat_s.sum(axis=1))\n",
    "        c0 = dat_s[c0_ind]\n",
    "\n",
    "        for i in range(trial_bval+1):\n",
    "\n",
    "            if i == 0:\n",
    "                distance = dist.distance(c0, dat_s, Rc_s[c0_ind], Rc_s, alpha, an, 0)\n",
    "                c_ind = np.argsort(distance)[-1]\n",
    "                c = dat_s[c_ind]\n",
    "                k_contigs = [c]\n",
    "                ind.append(c_ind)\n",
    "\n",
    "            else:\n",
    "\n",
    "                dist_sum = []\n",
    "\n",
    "                for f in range(len(np.array([k_contigs]))):\n",
    "                    dist_sum.append(dist.distance(k_contigs[f], dat_s, Rc_s[ind[f]], Rc_s, alpha, an, 0))\n",
    "\n",
    "                f_inds = np.argsort(np.array(dist_sum).sum(axis=0))\n",
    "                check_ind = np.append(ind, c0_ind)\n",
    "                if len(np.setdiff1d(f_inds, check_ind)) > 0:\n",
    "                    f_ind = np.setdiff1d(f_inds, check_ind)[-1]\n",
    "                    ind.append(f_ind)\n",
    "                    k_contigs.append(dat_s[f_ind])   \n",
    "    \n",
    "    W = np.array(k_contigs)\n",
    "    W_norm = W / np.array([W.sum(axis = 1)]).T\n",
    "\n",
    "    if not np.shape(W)[0] == 0:\n",
    "\n",
    "        Z = initialize_Z(W_norm, dat_s)\n",
    "\n",
    "        Z_opt = multiplicative_updates(W_norm, Z, dat_s, num_iterations, 0)\n",
    "\n",
    "        optimized[\"Z\"+str(trial_bval)] = Z_opt\n",
    "        AIC_score.append(AIC)\n",
    "\n",
    "\n",
    "    return AIC_score, optimized\n",
    "\n",
    "# def test():\n",
    "#     with Pool() as pool:\n",
    "#         results = pool.map(obtain_best_noofbins, [k for k in range(10)])\n",
    "#     print(results)\n",
    "\n",
    "\n",
    "def nmf_connected_components(read_counts, contig_length, clusters, numclust_incomponents, an, alpha, small_nmfassign_flag=1, mode = 0):\n",
    "    \n",
    "    num_iterations = 100\n",
    "    \n",
    "    W_full = []\n",
    "    epsilon = 1e-10\n",
    "    bin_index = 1\n",
    "    bin_assigned = []\n",
    "    k_contigs = []\n",
    "    \n",
    "    for k in np.arange(len(numclust_incomponents)):\n",
    "               \n",
    "        if numclust_incomponents[k] > 1 :\n",
    "\n",
    "            dat_s = read_counts[clusters[k],:]\n",
    "            Rc_s = dat_s.sum(axis = 1)\n",
    "\n",
    "            AIC_score = []\n",
    "\n",
    "            optimized = {}\n",
    "\n",
    "            LL_values = {}\n",
    "\n",
    "            _params = [(dat_s, epsilon, Rc_s, an, alpha, num_iterations, \\\n",
    "                        AIC_score, optimized, LL_values, trial_bval) \\\n",
    "                       for trial_bval in range(3) if trial_bval <= numclust_incomponents[k]]\n",
    "\n",
    "        #         for k in _params:\n",
    "\n",
    "        # #             print(k[1], k[-1])\n",
    "        #             results = obtain_best_noofbins(k)\n",
    "        #         print(results)\n",
    "        #             print(results)\n",
    "        # #             print(_params)\n",
    "            with Pool() as pool:\n",
    "                results = pool.map(obtain_best_noofbins, _params)\n",
    "\n",
    "            bval = np.argmax(np.array([x[0] for x in results]))\n",
    "            Z_opt = [x[1]['Z'+str(bval)] for x in results if 'Z'+str(bval) in x[1]][0]\n",
    "\n",
    "            print(k, bval)\n",
    "            if small_nmfassign_flag == 1:\n",
    "\n",
    "                if bval == 0:\n",
    "\n",
    "                    bin_assigned.append(np.vstack((clusters[k], np.array([bin_index] * len(clusters[k])))))\n",
    "\n",
    "                    bin_index += 1\n",
    "\n",
    "                else:\n",
    "                    print(k, bval, numclust_incomponents[k], bin_index)\n",
    "\n",
    "                    bin_indices, bin_mindices = assign.assignment(Z_opt, contig_length[clusters[k]], 0)\n",
    "                    bin_indices += bin_index\n",
    "\n",
    "                    bin_mindices_ = bin_mindices[0] + bin_index\n",
    "\n",
    "                    if mode == 1:\n",
    "                        bin_assigned.append(np.vstack((clusters[k][bin_mindices[1]], bin_mindices_)))\n",
    "                    else:\n",
    "                        bin_assigned.append(np.vstack((clusters[k], bin_indices)))\n",
    "\n",
    "                    bin_index += len(set(bin_indices))\n",
    "\n",
    "        else:\n",
    "            print(k, \"only one cluster\")\n",
    "            if len(clusters[k]) == 0:\n",
    "                print(\"warning\")\n",
    "            if contig_length[clusters[k]].sum() >= 10000:\n",
    "                dat_s = np.array([read_counts[clusters[k]].sum(axis=0) + epsilon])\n",
    "                dat_s = dat_s / dat_s.sum()\n",
    "                # W_full.append(dat_s)\n",
    "                bin_assigned.append(np.vstack((clusters[k], np.array([bin_index] * len(clusters[k])))))\n",
    "                bin_index += 1\n",
    "\n",
    "    bin_assigned = np.concatenate(bin_assigned, axis=1)\n",
    "    \n",
    "    return bin_assigned\n",
    "    \n",
    "\n",
    "if __name__ == \"__main__\" :\n",
    "    \n",
    "    pass\n",
    "#     nmf_connected_components(read_counts, contig_length, clusters, numclust_incomponents, dirichlet_prior_persamples, dirichlet_prior)\n"
   ]
  },
  {
   "cell_type": "code",
   "execution_count": 119,
   "metadata": {},
   "outputs": [
    {
     "name": "stdout",
     "output_type": "stream",
     "text": [
      "0 only one cluster\n",
      "1 only one cluster\n",
      "2 only one cluster\n",
      "3 0\n",
      "4 2\n",
      "4 2 68 5\n",
      "5 2\n",
      "5 2 11 7\n",
      "6 only one cluster\n",
      "7 0\n",
      "8 0\n",
      "9 0\n",
      "10 0\n",
      "11 only one cluster\n",
      "12 0\n",
      "13 only one cluster\n",
      "14 0\n",
      "15 0\n",
      "16 0\n",
      "17 only one cluster\n",
      "18 only one cluster\n",
      "19 only one cluster\n",
      "20 only one cluster\n",
      "21 only one cluster\n",
      "22 only one cluster\n",
      "23 only one cluster\n"
     ]
    },
    {
     "data": {
      "text/plain": [
       "array([[ 2431,  2962,  5421, ..., 22883, 27138, 36222],\n",
       "       [    1,     1,     1, ...,    23,    24,    24]])"
      ]
     },
     "execution_count": 119,
     "metadata": {},
     "output_type": "execute_result"
    }
   ],
   "source": [
    "# nmf_connected_components(read_counts, contig_length, clusters, numclust_incomponents, dirichlet_prior_persamples, dirichlet_prior)\n",
    "nmf_connected_components(read_counts, contig_length, clusters, numclust_incomponents, dirichlet_prior_persamples, dirichlet_prior)\n"
   ]
  },
  {
   "cell_type": "code",
   "execution_count": 76,
   "metadata": {},
   "outputs": [],
   "source": [
    "import numpy as np\n",
    "\n",
    "a = np.arange(10)"
   ]
  },
  {
   "cell_type": "code",
   "execution_count": 8,
   "metadata": {},
   "outputs": [
    {
     "data": {
      "text/plain": [
       "(array([ 11,  38,  43,  52,  56,  66,  89,  95, 127, 142]),)"
      ]
     },
     "execution_count": 8,
     "metadata": {},
     "output_type": "execute_result"
    }
   ],
   "source": [
    "resu"
   ]
  },
  {
   "cell_type": "code",
   "execution_count": 1,
   "metadata": {},
   "outputs": [],
   "source": [
    "from multiprocessing.pool import Pool\n",
    "import logging\n",
    "from os import getpid"
   ]
  },
  {
   "cell_type": "code",
   "execution_count": 9,
   "metadata": {},
   "outputs": [
    {
     "name": "stdout",
     "output_type": "stream",
     "text": [
      "[[0], [1], [2], [3], [4], [5], [6], [7], [8], [9]]\n"
     ]
    }
   ],
   "source": [
    "def test_mpi(argv):\n",
    "#     logging.log(\"test\")\n",
    "    ls = argv[0]\n",
    "    ls.append(argv[1])\n",
    "    return ls\n",
    "    \n",
    "if __name__ == \"__main__\":\n",
    "    ls = []\n",
    "    with Pool() as pool:\n",
    "        result = pool.map(test_mpi,[(ls,i) for i in range(10)])\n",
    "    print(result)    \n",
    "        "
   ]
  },
  {
   "cell_type": "code",
   "execution_count": 7,
   "metadata": {},
   "outputs": [
    {
     "data": {
      "text/plain": [
       "[]"
      ]
     },
     "execution_count": 7,
     "metadata": {},
     "output_type": "execute_result"
    }
   ],
   "source": [
    "ls"
   ]
  },
  {
   "cell_type": "code",
   "execution_count": 1,
   "metadata": {},
   "outputs": [
    {
     "name": "stdout",
     "output_type": "stream",
     "text": [
      "I'm processI'm processI'm process I'm processI'm processI'm processI'm processI'm processI'm processI'm process   99295     99296  99297993009930199304992989929999302 99303  \n",
      "      \n",
      "\n",
      "\n",
      "\n",
      "\n",
      "\n",
      "\n",
      "\n",
      "\n",
      "\n",
      "\n",
      "\n",
      "\n",
      "\n",
      "\n",
      "\n",
      "\n",
      "\n",
      "\n",
      "[5, 6, 7, 8, 9, 10, 11, 12, 13, 14]\n"
     ]
    }
   ],
   "source": [
    "from multiprocessing import Pool\n",
    "from os import getpid\n",
    "\n",
    "def double(argv):\n",
    "    print(\"I'm process\", getpid(),'\\n')\n",
    "    return argv[0]+ argv[1]\n",
    "\n",
    "if __name__ == '__main__':\n",
    "    \n",
    "    with Pool() as pool:\n",
    "        \n",
    "        result = pool.map(double, [(c,5) for c in range(10)])\n",
    "        \n",
    "        print(result)"
   ]
  },
  {
   "cell_type": "code",
   "execution_count": 59,
   "metadata": {},
   "outputs": [
    {
     "name": "stdout",
     "output_type": "stream",
     "text": [
      "('a', 'b', 0)\n",
      "('a', 'b', 1)\n",
      "('a', 'b', 2)\n",
      "('a', 'b', 3)\n",
      "('a', 'b', 4)\n",
      "('a', 'b', 5)\n",
      "('a', 'b', 6)\n",
      "('a', 'b', 7)\n",
      "('a', 'b', 8)\n",
      "('a', 'b', 9)\n"
     ]
    }
   ],
   "source": [
    "c = [('a', 'b', c) for c in range(10)]\n",
    "\n",
    "for f in c:\n",
    "    print(f)"
   ]
  },
  {
   "cell_type": "code",
   "execution_count": 5,
   "metadata": {},
   "outputs": [
    {
     "data": {
      "text/plain": [
       "[(2, 3), (4, 4), (6, 5), (8, 6), (10, 7)]"
      ]
     },
     "execution_count": 5,
     "metadata": {},
     "output_type": "execute_result"
    },
    {
     "name": "stdout",
     "output_type": "stream",
     "text": [
      "ERROR! Session/line number was not unique in database. History logging moved to new session 261\n"
     ]
    }
   ],
   "source": [
    "result"
   ]
  },
  {
   "cell_type": "code",
   "execution_count": null,
   "metadata": {},
   "outputs": [],
   "source": []
  }
 ],
 "metadata": {
  "kernelspec": {
   "display_name": "Python 3 (ipykernel)",
   "language": "python",
   "name": "python3"
  },
  "language_info": {
   "codemirror_mode": {
    "name": "ipython",
    "version": 3
   },
   "file_extension": ".py",
   "mimetype": "text/x-python",
   "name": "python",
   "nbconvert_exporter": "python",
   "pygments_lexer": "ipython3",
   "version": "3.8.10"
  },
  "vscode": {
   "interpreter": {
    "hash": "31f2aee4e71d21fbe5cf8b01ff0e069b9275f58929596ceb00d14d90e3e16cd6"
   }
  }
 },
 "nbformat": 4,
 "nbformat_minor": 2
}
