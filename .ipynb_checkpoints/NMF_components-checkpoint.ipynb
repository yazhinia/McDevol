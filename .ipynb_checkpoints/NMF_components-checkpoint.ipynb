{
 "cells": [
  {
   "cell_type": "code",
   "execution_count": 41,
   "metadata": {},
   "outputs": [
    {
     "name": "stdout",
     "output_type": "stream",
     "text": [
      "clustering initiated\n",
      "\n",
      "overall time taken for new clustering is:  0.006327390670776367\n",
      "alpha optimized is: 8.445274503124452 and took 0.80010986328125 seconds\n",
      "\n",
      "Obtained 28 clusters\n",
      "\n",
      "clustering took: 4.247779130935669 seconds\n",
      "\n",
      "Initializing W and Z matrices took: 0.01129293441772461 seconds\n",
      "\n"
     ]
    }
   ],
   "source": [
    "import time\n",
    "import numpy as np\n",
    "import pandas as pd\n",
    "import tensorflow as tf\n",
    "from optimize_alpha import optimize_alpha\n",
    "from distance_calculations import distance\n",
    "from new_clustering_algorithm import cluster_by_connecting_centroids\n",
    "\n",
    "def initialize_Z(W_t, dat):\n",
    "    \n",
    "    W = np.transpose(W_t)\n",
    "    lmda = 0.1\n",
    "    inverse_term = np.linalg.inv(np.eye(W.shape[0]) + (lmda ** -1) * np.matmul(W,W_t))\n",
    "    woodbury = (lmda ** -1) * np.eye(W.shape[1]) - np.matmul((lmda ** -2) * W_t , np.matmul(inverse_term, W))\n",
    "    return np.matmul(woodbury, np.matmul(W_t,dat))\n",
    "\n",
    "\n",
    "def maximize_function(w, z, x, qt):\n",
    "    \n",
    "    mean = tf.matmul(w, z)\n",
    "    mean = tf.math.maximum(0.1 * qt * x, 1e-20 + tf.nn.relu(mean))\n",
    "    negative_log_likelihood = - (tf.reduce_sum(- mean + tf.multiply(x, tf.math.log(mean))))\n",
    "    # print(negative_log_likelihood)     \n",
    "    return negative_log_likelihood\n",
    "\n",
    "\n",
    "def maximize_regularizedfunction(w, z, x, qt):\n",
    "    mean = tf.matmul(w, z)\n",
    "    mean = tf.math.maximum(0.1 * qt * x, 1e-20 + tf.nn.relu(mean))\n",
    "    \n",
    "    \"\"\" L1 norm \"\"\"\n",
    "    W_term = Lw * tf.reduce_sum(tf.abs(w))\n",
    "    Rc = tf.reduce_sum(z, axis=0)\n",
    "    Z_term = Lz * tf.reduce_sum(tf.abs(z)/Rc)\n",
    "\n",
    "    \"\"\" block penalty \"\"\"\n",
    "    W_bterm = Lwp * tf.reduce_sum(tf.norm(w, axis=0))\n",
    "    Z_bterm = Lzp * tf.reduce_sum(tf.norm(z/Rc, axis=1))\n",
    "    R = - W_term - Z_term - W_bterm - Z_bterm\n",
    "\n",
    "    negative_log_likelihood = - (tf.reduce_sum(- mean + tf.multiply(x, tf.math.log(mean))) + R)\n",
    "    # print(negative_log_likelihood)    \n",
    "    return negative_log_likelihood\n",
    "\n",
    "\n",
    "def optimize_wz(W, Z, X, qt, opt):\n",
    "    with tf.GradientTape() as tape:\n",
    "        loss = maximize_regularizedfunction(W, Z, X, qt)\n",
    "        LL1.append(loss)\n",
    "    optimized = opt.minimize(loss, [W, Z], tape = tape)\n",
    "    \n",
    "    return optimized\n",
    "\n",
    "\n",
    "def calc_aic(w, z, x, qt):\n",
    "\n",
    "    mean = tf.matmul(w, z)\n",
    "    mean = tf.math.maximum(0.1 * qt * x, 1e-20 + tf.nn.relu(mean))\n",
    "    log_likelihood = tf.reduce_sum(- mean + tf.multiply(x, tf.math.log(mean)))\n",
    "    AIC = log_likelihood - tf.math.count_nonzero(tf.nn.relu(w), dtype=\"float64\") - tf.math.count_nonzero(tf.nn.relu(z), dtype=\"float64\")\n",
    "    \n",
    "    return AIC\n",
    "\n",
    "\n",
    "\n",
    "# def nmf_with_adam(W, Z, X):\n",
    "\n",
    "#         AIC_check_value = 0.0\n",
    "\n",
    "#         convergence_criterion = 0.01\n",
    "        \n",
    "#         revert_flag = 0\n",
    "\n",
    "#         num_iterations = 500\n",
    "#         W_nzcount = []\n",
    "#         Z_nzcount = []\n",
    "        \n",
    "        \n",
    "#         opt = tf.keras.optimizers.Adam(learning_rate=0.001, beta_1=0.9, beta_2=0.999, epsilon=1e-07)\n",
    "#         X = tf.convert_to_tensor(X)\n",
    "#         X = tf.Variable(X, trainable = False)\n",
    "#         W = tf.Variable(W, trainable = True)\n",
    "#         Z = tf.Variable(Z, trainable = True)\n",
    "#         W_prebest = tf.Variable(W, trainable = False)\n",
    "#         Z_prebest = tf.Variable(Z, trainable = False)\n",
    "        \n",
    "#         revert_flag = 0\n",
    "\n",
    "#         for i in range(num_iterations):\n",
    "#             qt = np.exp(-i/10)\n",
    "#             optimize = optimize_wz(W, Z, X, qt, opt, LL1)\n",
    "#             AIC_score.append(calc_aic(W, Z, X, qt))\n",
    "            # if len(LL1) >= 100:\n",
    "            #     if abs((LL1[-1] - LL1[-50])/ LL1[-1]) < convergence_criterion and abs((LL1[-50] - LL1[-100])/ LL1[-50]) < convergence_criterion and revert_flag == 0:\n",
    "            #         if AIC_score[-1] > AIC_check_value:\n",
    "            #             # opt = tf.keras.optimizers.Adam(learning_rate=0.1, beta_1=0.9, beta_2=0.999, epsilon=1e-07)\n",
    "            #             print(AIC_score, \"new AIC is higher than the old one\", AIC_check_value, i+1)\n",
    "            #             Lz = 2 * Lz\n",
    "            #             Lzp = 2 * Lzp\n",
    "            #             W_prebest.assign(W)\n",
    "            #             Z_prebest.assign(Z)\n",
    "            #             AIC_check_value = AIC_score\n",
    "            #             print(W_prebest[0][0], W[0][0], \" is set at\",  i+1)\n",
    "            #             print(Z_prebest[0][0], Z[0][0], \" is set at\",  i+1)\n",
    "            #             revert_flag = 0\n",
    "\n",
    "            #         else:\n",
    "            #             W.assign(W_prebest)\n",
    "            #             print(\"else condition\", i)\n",
    "            # #             print(W_prebest[0][0], W[0][0], \"iteration \", i)\n",
    "            # #             print(Z_prebest[0][0], Z[0][0], \"iteration before correction\", i)\n",
    "            #             # Z.assign(tf.Variable(initialize_Z(tf.transpose(W), X)))\n",
    "            # #             # print(Z[0][0], \"iteration after correction\", i)\n",
    "            # #             # print(initialize_Z(tf.transpose(W), X))\n",
    "            #             Z.assign(Z_prebest)\n",
    "            #             Lz = Lz / 2\n",
    "            #             Lzp = Lzp / 2\n",
    "            #             revert_flag = 1\n",
    "\n",
    "            #     if revert_flag == 1:\n",
    "            #         if abs((LL1[-1] - LL1[-50])/ LL1[-1]) < convergence_criterion and abs((LL1[-50] - LL1[-100])/ LL1[-50]) < convergence_criterion * 0.01:\n",
    "            #             break\n",
    "\n",
    "        #     W.assign(tf.nn.relu(W))\n",
    "        #     W.assign(W / tf.reduce_sum(W, axis = 0))\n",
    "        #     Z.assign(tf.nn.relu(Z))\n",
    "        #     W_nzcount.append(tf.math.count_nonzero(W>0.01))\n",
    "        #     Z_nzcount.append(tf.math.count_nonzero(Z>0.01))\n",
    "\n",
    "        # return W, Z, W_nzcount, Z_nzcount\n",
    "\n",
    "\n",
    "if __name__ == \"__main__\":\n",
    "    s = time.time()\n",
    "    print(\"clustering initiated\"+'\\n')\n",
    "    tmp_dir = \"/big/work/metadevol/benchmark_dataset1/\"\n",
    "#     tmp_dir = \"/big/work/metadevol/scripts/bamtools_api/build/\"\n",
    "    dat = pd.read_pickle(tmp_dir + 'X_pickle')\n",
    "    d0 = 1\n",
    "    min_shared_contigs = 5\n",
    "    # clusters, numclust_incomponents = cluster_by_connecting_centroids(dat, d0, min_shared_contigs)\n",
    "    print(\"overall time taken for new clustering is: \", time.time()-s)\n",
    "\n",
    "    # print(clusters)\n",
    "    dat = dat.to_numpy()\n",
    "    # opt = tf.keras.optimizers.Adam(learning_rate=0.1, beta_1=0.9, beta_2=0.999, epsilon=1e-07)\n",
    "\n",
    "    Lw = Lz = 1.0\n",
    "    Lwp = 2 * Lw\n",
    "    Lzp = 2 * Lw\n",
    "\n",
    "    # for k in np.arange(len(numclust_incomponents)):\n",
    "    #     AIC_score = []\n",
    "    #     LL1 = []\n",
    "    #     connected_component_count = []\n",
    "    #     if numclust_incomponents[k] > 6 :\n",
    "    #         dat_s = dat[:, clusters[k]]\n",
    "    #         trial_b = 2\n",
    "    #         select_contigs = np.random.choice(np.shape(dat_s)[1], trial_b)\n",
    "    #         print(select_contigs)\n",
    "    #         W = dat_s[:, select_contigs]\n",
    "    #         Z = initialize_Z(W, dat_s)\n",
    "    #         W_opt, Z_opt, W_nzcount, Z_nzcount = nmf_with_adam(W, Z, dat_s)\n",
    "    #         break\n",
    "            # print(np.shape(dat_s), dat_s)\n",
    "        #         connected_component_count.append(dat_s.sum(axis=1))\n",
    "\n",
    "        # if connected_component_count:\n",
    "        #     print(len(np.array(connected_component_count)), k)\n",
    "        #     print(np.array(connected_component_count))\n",
    "            # W_t = cluster_members_count/cluster_members_count.sum(axis=1,keepdims=1)\n",
    "            # Z_matrix = initialize_Z(W_t, dat)\n",
    "            # print(\"Initializing W and Z matrices took:\",time.time()-s1,'seconds\\n')\n",
    "\n",
    "            # print(\"Optimizing W and Z matrices\"+'\\n')\n",
    "\n",
    "            # s1 = time.time()\n",
    "\n",
    "\n",
    "    N, C = np.shape(dat)\n",
    "\n",
    "    Rc    = dat.sum(axis=0)\n",
    "    Rn    = dat.sum(axis=1)\n",
    "\n",
    "    cluster_centers = np.empty((0,N))\n",
    "    cluster_members = []\n",
    "    cluster_members_count = []\n",
    "\n",
    "    s1 = time.time()\n",
    "    a     = optimize_alpha(dat, Rc, Rn, N)\n",
    "    an    = a * Rn / Rn.sum()\n",
    "    alpha = an.sum()\n",
    "\n",
    "    print(\"alpha optimized is:\", a, \"and took\", time.time() - s1, \"seconds\\n\")\n",
    "\n",
    "    s1 = time.time()\n",
    "\n",
    "    for c in np.arange(C):\n",
    "\n",
    "        best_k = -1\n",
    "\n",
    "        if cluster_centers.size > 0 :\n",
    "\n",
    "            dist = distance(dat[:,c], cluster_centers.T, Rc[c], cluster_centers.sum(axis=1), N, an, alpha)\n",
    "            if (np.min(dist) < 5):\n",
    "                best_k = np.argmin(dist)\n",
    "\n",
    "        if best_k == -1:\n",
    "\n",
    "            cluster_centers = np.vstack((cluster_centers, dat[:,c]))\n",
    "            cluster_members.append([dat[:,c]])\n",
    "            cluster_members_count.append(dat[:,c])\n",
    "\n",
    "        else:\n",
    "\n",
    "            cluster_members[best_k].append(dat[:,c])\n",
    "            cluster_members_count[best_k] = np.add(cluster_members_count[best_k], dat[:,c])\n",
    "    cluster_members_count = np.array(cluster_members_count)\n",
    "    print(\"Obtained {} clusters\".format(len(cluster_centers))+'\\n')\n",
    "    print(\"clustering took:\", time.time()-s1,\"seconds\"+'\\n')\n",
    "\n",
    "    s1 = time.time()\n",
    "    W_t = cluster_members_count/cluster_members_count.sum(axis=1,keepdims=1)\n",
    "\n",
    "    Z_matrix = initialize_Z(W_t, dat)\n",
    "    print(\"Initializing W and Z matrices took:\",time.time()-s1,'seconds\\n')\n",
    "\n",
    "    num_iterations = 5000\n",
    "    LL1 = []\n",
    "    W_nzcount = []\n",
    "    Z_nzcount = []\n",
    "    AIC = []\n",
    "    def nmf_with_adam(W, Z, X, n):\n",
    "        opt = tf.keras.optimizers.Adam(learning_rate=0.01, beta_1=0.9, beta_2=0.999, epsilon=1e-07)\n",
    "        X = tf.convert_to_tensor(X)\n",
    "        X = tf.Variable(X, trainable = False)\n",
    "        W = tf.Variable(W, trainable = True)\n",
    "        Z = tf.Variable(Z, trainable = True)\n",
    "        W_prebest = tf.Variable(W, trainable = False)\n",
    "        Z_prebest = tf.Variable(Z, trainable = False)\n",
    "\n",
    "        for i in range(n):\n",
    "            qt = np.exp(-i/10)\n",
    "            optimize = optimize_wz(W, Z, X, qt, opt)\n",
    "            AIC.append(calc_aic(W, Z, X, qt))\n",
    "            W.assign(tf.nn.relu(W))\n",
    "            W.assign(W / tf.reduce_sum(W, axis = 0))\n",
    "            Z.assign(tf.nn.relu(Z))\n",
    "\n",
    "            W_nzcount.append(tf.math.count_nonzero(W>0.01))\n",
    "            Z_nzcount.append(tf.math.count_nonzero(Z>0.01))\n",
    "\n",
    "        return W, Z\n",
    "\n",
    "    W1, Z1 = nmf_with_adam(np.transpose(W_t), Z_matrix, dat, num_iterations)\n"
   ]
  },
  {
   "cell_type": "code",
   "execution_count": null,
   "metadata": {},
   "outputs": [],
   "source": []
  },
  {
   "cell_type": "code",
   "execution_count": 42,
   "metadata": {},
   "outputs": [
    {
     "data": {
      "text/plain": [
       "[<matplotlib.lines.Line2D at 0x7f422c867e50>]"
      ]
     },
     "execution_count": 42,
     "metadata": {},
     "output_type": "execute_result"
    },
    {
     "data": {
      "image/png": "[encoded data removed]",
      "text/plain": [
       "<Figure size 432x288 with 1 Axes>"
      ]
     },
     "metadata": {
      "needs_background": "light"
     },
     "output_type": "display_data"
    }
   ],
   "source": [
    "import matplotlib.pyplot as plt\n",
    "plt.plot(LL1)"
   ]
  },
  {
   "cell_type": "code",
   "execution_count": 35,
   "metadata": {},
   "outputs": [
    {
     "data": {
      "text/plain": [
       "[<matplotlib.lines.Line2D at 0x7f422cc8a9d0>]"
      ]
     },
     "execution_count": 35,
     "metadata": {},
     "output_type": "execute_result"
    },
    {
     "data": {
      "image/png": "[encoded data removed]",
      "text/plain": [
       "<Figure size 432x288 with 1 Axes>"
      ]
     },
     "metadata": {
      "needs_background": "light"
     },
     "output_type": "display_data"
    }
   ],
   "source": [
    "import matplotlib.pyplot as plt\n",
    "plt.plot(AIC)"
   ]
  },
  {
   "cell_type": "code",
   "execution_count": 36,
   "metadata": {},
   "outputs": [
    {
     "data": {
      "text/plain": [
       "[<matplotlib.lines.Line2D at 0x7f422cc658b0>]"
      ]
     },
     "execution_count": 36,
     "metadata": {},
     "output_type": "execute_result"
    },
    {
     "data": {
      "image/png": "[encoded data removed]",
      "text/plain": [
       "<Figure size 432x288 with 1 Axes>"
      ]
     },
     "metadata": {
      "needs_background": "light"
     },
     "output_type": "display_data"
    }
   ],
   "source": [
    "plt.plot(W_nzcount)"
   ]
  },
  {
   "cell_type": "code",
   "execution_count": null,
   "metadata": {},
   "outputs": [],
   "source": []
  }
 ],
 "metadata": {
  "kernelspec": {
   "display_name": "Python 3 (ipykernel)",
   "language": "python",
   "name": "python3"
  },
  "language_info": {
   "codemirror_mode": {
    "name": "ipython",
    "version": 3
   },
   "file_extension": ".py",
   "mimetype": "text/x-python",
   "name": "python",
   "nbconvert_exporter": "python",
   "pygments_lexer": "ipython3",
   "version": "3.8.10"
  },
  "vscode": {
   "interpreter": {
    "hash": "31f2aee4e71d21fbe5cf8b01ff0e069b9275f58929596ceb00d14d90e3e16cd6"
   }
  }
 },
 "nbformat": 4,
 "nbformat_minor": 2
}
